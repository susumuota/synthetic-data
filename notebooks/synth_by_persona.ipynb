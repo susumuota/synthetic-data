{
 "cells": [
  {
   "cell_type": "markdown",
   "metadata": {},
   "source": [
    "# Persona-Hub による SFT データ合成\n",
    "\n",
    "Susumu Ota  2025-02-02"
   ]
  },
  {
   "cell_type": "markdown",
   "metadata": {},
   "source": [
    "## 背景: 合成データの重要性\n",
    "\n",
    "TODO: 以前の講演資料から抜粋"
   ]
  },
  {
   "cell_type": "markdown",
   "metadata": {},
   "source": [
    "## 背景: 合成データ作成の難しさ\n",
    "\n",
    "TODO: 以前の講演資料から抜粋"
   ]
  },
  {
   "cell_type": "markdown",
   "metadata": {},
   "source": [
    "## 目的\n",
    "\n",
    "TODO: 以前の講演資料から抜粋"
   ]
  },
  {
   "cell_type": "markdown",
   "metadata": {},
   "source": [
    "## モジュールのインストール\n",
    "\n",
    "`litellm` と `datasets` をインストールしてください。ローカルのGPUを使って推論する場合は `vllm` もインストールしてください。API だけを使う場合はインストール不要です。"
   ]
  },
  {
   "cell_type": "code",
   "execution_count": 1,
   "metadata": {},
   "outputs": [],
   "source": [
    "# %pip install litellm\n",
    "# %pip install datasets\n",
    "\n",
    "# %pip install vllm"
   ]
  },
  {
   "cell_type": "markdown",
   "metadata": {},
   "source": [
    "## モジュールのインポート"
   ]
  },
  {
   "cell_type": "code",
   "execution_count": 2,
   "metadata": {},
   "outputs": [
    {
     "name": "stderr",
     "output_type": "stream",
     "text": [
      "/Users/ota/Documents/python/synthetic-data/.venv/lib/python3.11/site-packages/tqdm/auto.py:21: TqdmWarning: IProgress not found. Please update jupyter and ipywidgets. See https://ipywidgets.readthedocs.io/en/stable/user_install.html\n",
      "  from .autonotebook import tqdm as notebook_tqdm\n",
      "/Users/ota/Documents/python/synthetic-data/.venv/lib/python3.11/site-packages/pydantic/_internal/_config.py:345: UserWarning: Valid config keys have changed in V2:\n",
      "* 'fields' has been removed\n",
      "  warnings.warn(message, UserWarning)\n"
     ]
    },
    {
     "name": "stdout",
     "output_type": "stream",
     "text": [
      "No vllm module found. You can only use the LiteLLM.\n"
     ]
    }
   ],
   "source": [
    "from abc import ABC, abstractmethod\n",
    "import json\n",
    "from logging import DEBUG, INFO, StreamHandler, getLogger  # noqa: F401\n",
    "import pprint\n",
    "import random\n",
    "import re\n",
    "\n",
    "\n",
    "from datasets import load_dataset\n",
    "from litellm import batch_completion\n",
    "\n",
    "try:\n",
    "    from vllm import LLM, SamplingParams  # type: ignore\n",
    "except ImportError:\n",
    "    print(\"No vllm module found. You can only use the LiteLLM.\")"
   ]
  },
  {
   "cell_type": "markdown",
   "metadata": {},
   "source": [
    "## ログの設定"
   ]
  },
  {
   "cell_type": "code",
   "execution_count": 3,
   "metadata": {},
   "outputs": [],
   "source": [
    "logging_level = DEBUG\n",
    "# logging_level = INFO\n",
    "logger = getLogger(__name__)\n",
    "logger.setLevel(logging_level)\n",
    "handler = StreamHandler()\n",
    "handler.setLevel(logging_level)\n",
    "logger.addHandler(handler)\n",
    "\n",
    "pp = pprint.PrettyPrinter(width=119)"
   ]
  },
  {
   "cell_type": "markdown",
   "metadata": {},
   "source": [
    "## 言語モデルの設定\n",
    "\n",
    "OpenAI 等の API とローカル GPU を使った vLLM で統一してコードを書くために、`LanguageModel` という抽象クラスを作り、サブクラスで個別の処理を実装します。\n",
    "\n",
    "- `__init__`: 言語モデルの初期化。推論用のパラメータ(`temperature`等)も設定。\n",
    "- `__call__`: 推論の実行。入力は OpenAI messages 形式 (e.g. `[{\"role\": \"user\", \"content\": \"Hello!\"}]`) のリスト。出力は文字列のリスト。"
   ]
  },
  {
   "cell_type": "code",
   "execution_count": 4,
   "metadata": {},
   "outputs": [],
   "source": [
    "class LanguageModel(ABC):\n",
    "    def __init__(self, model: str, temperature=1.0, max_tokens=16, seed=None):\n",
    "        self.model = model\n",
    "        self.temperature = temperature\n",
    "        self.max_tokens = max_tokens\n",
    "        self.seed = seed\n",
    "        logger.debug(f\"model: {model}, temperature: {temperature}, max_tokens: {max_tokens}, seed: {seed}\")\n",
    "\n",
    "    @abstractmethod\n",
    "    def __call__(self, messages_batch: list[list[dict[str, str]]]) -> list[str]:\n",
    "        pass\n",
    "\n",
    "\n",
    "class LiteLLMModel(LanguageModel):\n",
    "    def __init__(self, model: str, temperature=1.0, max_tokens=16, seed=None):\n",
    "        super().__init__(model, temperature, max_tokens, seed)\n",
    "\n",
    "    def __call__(self, messages_batch: list[list[dict[str, str]]]) -> list[str]:\n",
    "        contents = [\n",
    "            response.choices[0].message.content or \"\"\n",
    "            for response in batch_completion(\n",
    "                model=self.model,\n",
    "                messages=messages_batch,\n",
    "                temperature=self.temperature,\n",
    "                max_tokens=self.max_tokens,\n",
    "                seed=self.seed,\n",
    "            )\n",
    "        ]\n",
    "        assert len(contents) == len(messages_batch)\n",
    "        return contents\n",
    "\n",
    "\n",
    "class VLLMModel(LanguageModel):\n",
    "    def __init__(self, model: str, temperature=1.0, max_tokens=16, seed=None, dtype=\"auto\", stop=None):\n",
    "        super().__init__(model, temperature, max_tokens, seed)\n",
    "        self.stop = stop\n",
    "        self.vllm = LLM(model, dtype=dtype)\n",
    "        self.tokenizer = self.vllm.get_tokenizer()\n",
    "\n",
    "    def __call__(self, messages_batch: list[list[dict[str, str]]]) -> list[str]:\n",
    "        sampling_params = SamplingParams(\n",
    "            temperature=self.temperature, max_tokens=self.max_tokens, seed=self.seed, stop=self.stop\n",
    "        )\n",
    "        prompts = [\n",
    "            self.tokenizer.apply_chat_template(messages, tokenize=False, add_generation_prompt=True)\n",
    "            for messages in messages_batch\n",
    "        ]\n",
    "        outputs = self.vllm.generate(prompts, sampling_params=sampling_params, use_tqdm=False)\n",
    "        contents = [o.outputs[0].text for o in outputs]\n",
    "        assert len(contents) == len(messages_batch)\n",
    "        return contents"
   ]
  },
  {
   "cell_type": "markdown",
   "metadata": {},
   "source": [
    "## 言語モデルの初期化\n",
    "\n",
    "以下のどれかのコメントを外して言語モデルを初期化します。API の場合は環境変数やシークレットマネージャーで API キーを設定してください。環境変数名やモデル名は、[LiteLLM の Providers ページ](https://docs.litellm.ai/docs/providers)を参照してください。\n",
    "\n",
    "一般に API の推論速度は遅いので、予備実験を API で行い、本実験は vLLM で処理するという使い方が現実的かもしれません。\n",
    "\n",
    "API で大量のデータを生成する場合は、バッチ処理のオプションが用意されていればそれを利用することと、利用制限(rate limit等)の範囲内でリクエストの並列化を検討してください。LiteLLM は内部でマルチスレッドでリクエストを並列で送るので、バッチサイズ大きめで使うと rate limit を超える可能性があります。"
   ]
  },
  {
   "cell_type": "code",
   "execution_count": 5,
   "metadata": {},
   "outputs": [
    {
     "name": "stderr",
     "output_type": "stream",
     "text": [
      "model: gpt-4o-mini, temperature: 0.7, max_tokens: 512, seed: 0\n"
     ]
    },
    {
     "data": {
      "text/plain": [
       "<__main__.LiteLLMModel at 0x10e621ad0>"
      ]
     },
     "execution_count": 5,
     "metadata": {},
     "output_type": "execute_result"
    }
   ],
   "source": [
    "llm = LiteLLMModel(\"gpt-4o-mini\", temperature=0.7, max_tokens=512, seed=0)  # OPENAI_API_KEY\n",
    "# llm = LiteLLMModel(\"nvidia_nim/nvidia/llama-3.1-nemotron-70b-instruct\", temperature=0.7, max_tokens=512, seed=0)  # NVIDIA_NIM_API_KEY\n",
    "# llm = LiteLLMModel(\"nvidia_nim/nvidia/nemotron-4-340b-instruct\", temperature=0.7, max_tokens=512, seed=0)  # NVIDIA_NIM_API_KEY\n",
    "# llm = LiteLLMModel(\"deepinfra/nvidia/Llama-3.1-Nemotron-70B-Instruct\", temperature=0.7, max_tokens=512, seed=0)  # DEEPINFRA_API_KEY\n",
    "# llm = VLLMModel(\"hpprc/gemma-2-2b-jpn-it\", temperature=0.7, max_tokens=512, seed=0, stop=[\"<end_of_turn>\"], dtype=\"half\")  # ローカル T4\n",
    "\n",
    "llm"
   ]
  },
  {
   "cell_type": "markdown",
   "metadata": {},
   "source": [
    "## 言語モデルの動作確認\n",
    "\n",
    "ここまで設定できれば以下の推論が動作するはずです。もしエラーが出る場合は、言語モデルの初期化の設定を見直してください。"
   ]
  },
  {
   "cell_type": "code",
   "execution_count": 6,
   "metadata": {},
   "outputs": [
    {
     "data": {
      "text/plain": [
       "['Hello! How can I assist you today?']"
      ]
     },
     "execution_count": 6,
     "metadata": {},
     "output_type": "execute_result"
    }
   ],
   "source": [
    "llm([[{\"role\": \"user\", \"content\": \"Hello?\"}]])"
   ]
  },
  {
   "cell_type": "markdown",
   "metadata": {},
   "source": [
    "## ペルソナとは\n",
    "\n",
    "https://huggingface.co/datasets/argilla/FinePersonas-v0.1 より引用\n",
    "\n",
    "> - 個人の特徴、背景、目標を詳細に記述したもので、多様なアイデンティティと経験を反映するようにデザインされている\n",
    "> - ペルソナの例\n",
    ">   - A network engineer with a focus on routing protocols and preparing for Cisco certification exams, particularly CCNA.\n",
    ">   - ルーティング・プロトコルに興味があり、シスコの認定試験(特に CCNA)の準備をしているネットワーク・エンジニア\n",
    "> - 生成するコンテンツに、特定の専門知識・キャリアパス・個人的な興味を導入し、より繊細でターゲットを絞ったコンテンツが生成可能"
   ]
  },
  {
   "cell_type": "markdown",
   "metadata": {},
   "source": [
    "## Persona-Hub とは\n",
    "\n",
    "<img src=\"https://github.com/tencent-ailab/persona-hub/blob/main/assets/persona_overview.png?raw=true\" width=\"800px\">\n",
    "\n",
    "- Tencent AI Lab が提案したペルソナ駆動型データ合成手法で、大規模言語モデル内の様々な視点を活用して多様な合成データを作成\n",
    "- 背景: 既存の合成データ⽣成⼿法(インスタンス駆動・キーポイント駆動)では合成データの多様さをスケールアップすることが困難\n",
    "- 目的: ⼤規模なペルソナコレクションを作成し、それを使ってスケーラブルな合成データを⽣成する(ペルソナ駆動)\n",
    "- 方法\n",
    "  - Web データからペルソナを抽出\n",
    "    - Text-to-Persona\n",
    "    - Persona-to-Persona\n",
    "  - ペルソナを使って合成データを生成\n",
    "    - Create **a math problem** with **a moving company driver**\n",
    "    - Create **a math problem** with **a chemical kinetics researcher**\n",
    "    - Create **a math problem** with **a musician interested in audio processing**\n",
    "- テクニカルレポート: https://arxiv.org/abs/2406.20094"
   ]
  },
  {
   "cell_type": "markdown",
   "metadata": {},
   "source": [
    "## ペルソナの抽出\n",
    "\n",
    "ここで実際に FineWeb-Edu データセットからペルソナを抽出します。まずデータセットを読み込みます。"
   ]
  },
  {
   "cell_type": "code",
   "execution_count": 7,
   "metadata": {},
   "outputs": [
    {
     "data": {
      "text/plain": [
       "IterableDataset({\n",
       "    features: ['text', 'id', 'dump', 'url', 'date', 'file_path', 'language', 'language_score', 'token_count', 'score', 'int_score'],\n",
       "    num_shards: 50\n",
       "})"
      ]
     },
     "execution_count": 7,
     "metadata": {},
     "output_type": "execute_result"
    }
   ],
   "source": [
    "fineweb_edu = load_dataset(\"HuggingFaceFW/fineweb-edu\", name=\"CC-MAIN-2024-51\", split=\"train\", streaming=True)\n",
    "fineweb_edu"
   ]
  },
  {
   "cell_type": "markdown",
   "metadata": {},
   "source": [
    "今回は実験のため、FineWeb-Edu データセットの先頭の10件を取り出します。"
   ]
  },
  {
   "cell_type": "code",
   "execution_count": 8,
   "metadata": {},
   "outputs": [
    {
     "data": {
      "text/plain": [
       "[\"This project is solving the Asteroid Watchers challenge. Description\\nAROs are essentially created by combining a telescope with a smartphone. If the telescope has drive motors can be controlled via a standard protocol, it is controlled by the SkyWatch app on the smartphone. Telescopes with no drive motors of their own need to have these and a controlling Arduino added. We plan to create or adopt a small reference / demo model of this an a open source hardware and software sub-project, where the smartphone controls the Arduino to operate this telescope's stepper motors.\\nAll AROs, their location and capabilities are registered in the Global ARO Co-Ordinator (GAROC) database.\\nBasic Variant: This version allows the ARO owner to build the hardware and get it up and running and connected into the SkyWatch network. The focus here is to get various simple, low-power home-built and commonly sourced telescopes into the network, for maximum global participation. The system caters for telescopes that are driven with standard controller protocols, and also simple telescopes that have stepper motors driving it via an Arduino. We will create or adopt a reference model of this latter type.\\nThe basic ARO receives messages in via an app running on a smartphone which controls the telescope. this is a one-way communications system: the ARO does not communication back out. This allows for manual (ie eyeball) observation only. The ARO owner is separately messaged via email and SMS that their ARO is activated. The ARO emits a warning sound and flashes for the time that it is tracking, as directed by the GAROC.\\nOnce owners have got these basic AROs up and running, many might decide to extend their capability.\\nExtended Capability Variants: An ARO can be upgraded to more advanced variants. All these variants are capable of two way communication between them and the GAROC (the Global ARO Controller). As each extra sensor is added to an ARO and its Arduino is reprogrammed to control its additional capability, the relevant configuration information is sent out to the GAROC. The ARO modules give the ARO the extended capabilities, such as to return image data, to operate in a very remote location, and to send back its own position, a zone map to show its zone of capture, and its current visibility in real-time. This results in smarter AROs, and images of the sky can be transmitted from them. The modules providing the additional capabilities are ...\\nCamera module: Takes snapshots or motion video and transmits these back to an image server.\\nSkyZone module: ARO reports its viewable zone, ie reducing what it can see due to hills, trees, buildings etc\\nImageQuality module: ARO reports realtime visibility. An image map/snapshot is taken by a camera mounted to look through the telescope. The pixels of the image are read, in a similar way to how our TechSpace webcams work out the brightness of our camera images. This module will need the addition of a more powerful processing node, eg a PC, Raspberry Pi, or BeagleBone etc to perform the processing.\\nRemote ARO: Communicates via SMS, wifi, RF etc, and is especially suited for power via solar/batteries. This allows the ARO to be located remotely, eg out in the country, for city-dwelling owners of AROs.\\nLocal grid module: subnetwork of AROC, each controlling a grid of AROs. These AROCs will provide staged storage of volumes of image data. The nodes could be the same PC, Raspberry Pi, or BeagleBone (the likely preferred open-source option) as above, as per the owner's preference, but all running Linux.\\nAll hardware and software components of this system will be open source.\\nLicense: GNU General Public License version 3.0 (GPL-3.0)\\nSource Code/Project URL: http://github.com/gctechspace/SkyWatch\",\n",
       " 'Life of a Sand Grain\\nTHE LIFE OF A SAND GRAIN by Carl Bowser (Sept. 2018)\\nThey surround you almost anywhere you are in Arizona. They cling to your shoes, they end up in pockets and pant cuffs, they provide a little crunch to that clam chowder you made, they color the water of streams tumbling through mountain canyons, and they wash back and forth in the waves on the shore of an ocean or lake. They are found most anywhere, and are very common. Yes, it’s the common sand grain. Scientifically defined as mineral grains that range in size from 4.8 mm (very coarse) to 0.4mm (very fine grained), sand grains not only vary greatly in size and shape, but they also vary greatly in their mineral composition. But the queen of sand grains is made up of common quartz (SiO2). If each, single grain of sand could talk, oh what a story it could tell!\\nOver the years, geologists have learned to read some quartz grain’s stories, but they are really stories of aggregates of grains, not individuals. Some general rules guide the shape, size, and variety of quartz grains (and other less common ones that we will talk about later). Typically, coarser sands are more angular in shape and tend to have more different neighbors (different minerals such as feldspar or iron/magnesium minerals like amphibole). As the sand makes it way to the sea, be it from a glacier, a sand storm, or more likely by river, it gets more rounded by abrasion against other grains and in the process, gets smaller and smaller. The wind and rivers are excellent sorting media and as each grain works its way to the sea, they not only become smaller and more rounded, but grains of similar size tend to sort together. Just like the grains of sand settling in a glass of water, the coarser (and heavier) grains sink faster than the smaller, lighter ones. (Try it yourself, using some sandy soil from your yard).\\nThus, heterogeneity becomes a measure of the age of accumulated sand grains. Young accumulations of sand are coarser, more angular, and less well sorted, and as the grains “age” they get smaller, more rounded, and much better sorted. We describe the age of sand accumulations by their maturity, that is, how long the grains have been subject to the processes of grain erosion, transport distance, and current (or wind) sorting. The next time you are near a river pick up a handful of sand and examine it carefully. If you have one, use a hand lens or jeweler’s loupe to look closer at the grains and notice their size, rounding, and how many different kinds there are. Put some in a small plastic bag to save for later. The next time you are at the beach, get a sample from the shoreline, and another sample from the wind-blown dunes that lie higher and inland from the beach. Compare all three samples and pay special attention to the differences within and among the samples. Heck, why stop there? Do as I have, and book travel around the world to collect sand samples from the sand dunes of Namibia, Egypt, Australia, and the western U.S. and all the exotic, vacation worthy beaches of the world. I guarantee that no two samples will be the same, be they river, beach, or dune sands.\\nSo where do these quartz grains come from? The answer comes from the very beginning of our planet’s history well over four billion years ago. Water on the early planet gathered at its surface to form its first oceans. These oceans presumably covered a large portion of the planet. Deeper, below the planet’s solidified crust lies molten material that would later solidify to become rocks as they cooled nearer the earth’s surface. These early rocks crystallized to form rocks low in silica content and higher in iron, magnesium, and aluminum, but gradually, through continued melting, re-solidifying and remelting, quartz would begin to appear in some of these rocks as products of igneous differentiation. As they evolved to form more silica rich, lower-density rocks, these, quartz-bearing rocks, then formed higher standing (floating) masses that then, ultimately emerged above the ocean’s surface to form dry land (islands, and later, continents). From these less dense highlands the first grains of quartz appeared, but still locked within the rocks. Upon exposure to crashing waves, rain, and ever present tectonic movements these rocks were broken down into their constituent minerals, and, thus, the first, sedimentary quartz grains were born. Along with their birth, the quartz fragments were joined by other rock grains composed of dark minerals (principally pyroxenes and amphibole), K-feldspar, and plagioclase were also freed, and these, main “characters” began the long and storied histories in their race to the sea to form the first (perhaps of many) sand accumulations (sedimentary rocks).\\nBut these other minerals have a disadvantage compared to quartz, and it would have consequences. Amphiboles, plagioclase and K-feldspar grains are much more chemically active and suffer from a property that quartz doesn’t, they have easy parting zones (cleavage). Thus, as they travel the path to the sea they are not only rounded and diminished in size like quartz, but they break into smaller sized particles when they split and cleave. Poor amphibole degrades so rapidly that it’s of little consequence to all but the most immature of sand deposits. Of the two feldspars, plagioclase is the most vulnerable, and quickly diminishes in size and abundance or is weathered into other minerals. Consequently, the quartz to plagioclase ratio of sediments increase as the sands mature (age). Eventually, the K-feldspar succumbs to these processes as well, so the more evolved sediment is characterized by higher quartz to plagioclase AND K-feldspar ratios. In the world of sedimentary rocks, you might consider quartz to be the teflon of the minerals, at least relative to its other mineral companions. Today we find these mature sands (sand dunes and beach sands) mostly as quartz rich, well rounded, and better sorted. Of course, there are exceptions, but that is another story I’ll have to save for a later time.\\nOn our dynamic earth these unconsolidated sands ultimately become hardened with burial and increased temperature and turn into sandstones, or even their metamorphic equivalent, quartzite, and so began the long, slow process of burial, uplift and re-exposure to the elements of weathering and erosion as these rocks follow the rock cycle and, again, appear at the earth’s surface. Sadly, the quartz grain, comfortably embedded with its neighboring sand grains in what it thought was its final resting place, again finds itself freed, and involved in the process of moving, again, down a stream or carried by the wind. Thus, is born a multi-cycled grain, rounded and sorted, and with even fewer other contaminant minerals, a nearly pure quartz sand. From here the story gets muddled as it is currently impossible to count the number of times a given quartz grain has made this trip. My former colleague, Bob Dott, (memorialized in last month’s blog) once addressed the problem, but, at the time, the available tools were crude, and definitive conclusions were hard to make. On rare occasions, a quartz grain remained welded to it former companion from an earlier cycle, and we might be able to conclude that it is a two-cycle grain, but recognizing cycles beyond two remains a challenge. Single, or wedded, these grains don’t reveal their histories easily, but if only they could, what stories each could tell!\\nFortunately, there may be tools on the horizon to help answer the question of grain “cyclicity”. Another of these Teflon-like (resistant) minerals, zircon (ZrO2), is also highly resistant to weathering, perhaps even more than quartz, but much lower in abundance. It’s presence in sediments is important, but it requires more exacting techniques to separate them for analysis. Internally these zircons show rings, onion-skin like, and reveal the growth history of each grain. Even better these grains carry trace amounts of uranium and lead isotopes that enable us to determine its geologic age. By implication each zircon reveals its source age and history, and, thus, the ages of the rocks eroding to form these sedimentary rocks, river sands, etc. Sediments typically contains many zircon grains of different ages, and a plot of their abundance looks like a histogram with many peaks, each with different heights (abundance) and age. Careful geologic mapping, zircon dating and rock examination can tell us more about the life of these sand grains. Pioneering work on the ages of zircons in sediments is being done here at the University of Arizona Geosciences, in the lab of Dr. George Gehrels and his colleagues.\\nIn the meantime, individual quartz grains continue their trips to the sea and back, taking their own, sweet time, some faster, some slower, and sadly, each grain is unable to remember its specific paths to the sea (and back). These nearly indestructible grains grow older and older, keeping their secrets until the next advance in science helps crack their narrative. “All right, you guys! Which one of you is the oldest? Which of you has made this trip before?. [Silence].\\nHopefully you remembered about the sand grains I asked you to collect earlier. If you did, take them out and look at them again, this time even more carefully. They may have a much more interesting story to tell than you ever imagined. Earth’s clocks, but without hands.\\nFigure 1: Colorado River sand near Lees Ferry. Note the mix of different angularities, including some very well rounded grains (probably from eroded sandstones that have a wind-blown source, and likely from nearby sands like the Navajo sandstone.\\nFigure 2. Nanny Goat Beach, Sapelo Island, Georgia. Very fine grained, nearly pure quartz sands transported along the beaches from Connecticut to Georgia. Despite their long transport distance the grains are still highly angular, but also free of feldspars. Mineralogically more mature, but texturally still very immature.\\nFigure 3. St. Peter sandstone (Ordovician age), Dane County, Wisconsin. A very well sorted sand both texturally and mineralogically. My best candidate for a “polycyclic” sandstone.\\nFigure 4. Wisconsin River near its confluence with the Mississippi River. A heterogeneous mix of mature and immature sands both mineralogically and texturally. The very well rounded grains are unmistakably derived from the Ordovician, St. Peter sandstone, along with a mix of less mature grains derived from Pleistocene glacial material, derived miles upstream.',\n",
       " 'The internet of things, a system of interrelated computing devices and machines that can transfer data over a network without human interaction, has been used to enable new features, better functionality, and real-time status monitoring for consumers. Combining this with ever-developing AI advancements is allowing organizations to predict changes and optimize their devices. AIoT allows an algorithm to improve communication and apply predictive capabilities to give companies advantages over their competition.\\nIoT devices share the sensor data they collect by connecting to an IoT gateway or other edge device where data is either sent to the cloud to be analyzed or analyzed locally. Sometimes, these devices communicate with other related devices and act on the information they get from one another. The devices do most of the work without human intervention, although people can interact with the devices — for instance, to set them up, give them instructions or access the data.\\nAn IoT ecosystem consists of web-enabled smart devices that use embedded systems, such as processors, sensors and communication hardware, to collect, send and act on data they acquire from their environments.\\nThe connectivity, networking and communication protocols used with these web-enabled devices largely depend on the specific IoT applications deployed.\\nIoT can also make use of artificial intelligence (AI) and machine learning to aid in making data collecting processes easier and more dynamic.',\n",
       " 'An archive photo of an Egyptian mummy - Reuters\\nBy Tom Perry\\nCAIRO, Jan 15 (Reuters) - Archaeologists in Egypt believe they have discovered the remains of a previously unknown pharaoh who reigned more than 3,600 years ago.\\nThe skeleton of King Senebkay were uncovered at South Abydos in Sohag province, about 500 km (300 miles) south of Cairo, by a University of Pennsylvania expedition working with the government, the Egyptian antiquities ministry said.\\nNever before heard of in ancient Egyptian history, King Senebkay\\'s name was found inscribed in hieroglyphics written inside a royal cartouche - an oval with a horizontal line at one end signalling a royal name, the ministry said in a statement.\\nPhotographs released with the statement showed what appeared to be a heavily damaged sarcophagus in a burial chamber with no roof. Its stone walls were decorated with painted images.\\nThe photos also showed the pharaoh\\'s skeleton laid out on a white sheet. \"He was originally mummified but his body was pulled apart by ancient tomb robbers,\" said the caption.\\n\"No funerary furniture was found in the tomb, confirming it had been robbed in the ancient pharaonic ages,\" the statement said, quoting Ali al-Asfar, an antiquities ministry official.\\nIn the statement written in Arabic, Joseph Wegner, head of the expedition, added: \"The modesty of the size of the tomb points to the decline of economic conditions in this period\".\\nThe statement dates King Senebkay\\'s rule to 1650 BC during a time known as the second intermediate period when central authority collapsed and small kingdoms sprung up between the end of the Middle Kingdom and the start of the New Kingdom. (Editing by Andrew Heavens)',\n",
       " 'The faith of the Christ-God is a living paradox in the Asiatic world. Christianity has long survived in Asia’s periphery, especially in the Near East and to a lesser extent in India, but it has never thrived in Asia’s heart, the Orient.\\nGenerally speaking , the farther east one moves across the Eurasian continent away from Constantinople to Beijing, the more mystical and relative philosophy and theology become. The absolute and ridged dynamics of evil versus good and the rationality of the Abrahamic religions fade away in the face of subjective, Vedic traditions. Christianity, Zoroastrianism, and Islam naturally then fit as oil to Vedic water.\\nWhen Christianity comes to the Vedic world, it presents a monotheistic, good-evil dichotomy that is completely foreign to the natives of the Orient. Therefore when many Buddhists, Hindus, Taoists, Shintoists, and Confucianists are confronted by Jesus, He does not fit into their historical paradigms.\\nRegardless of the temporary irrelevance of Christianity in the East, other than as a means of American political elites to con conservatives into supporting a third invasion of Iraq, the coming future of Christianity is to move eastward and take root in Beijing, instead of Rome. Twenty-first-century Christianity will be dominated by the Oriental peoples, with China serving as its political sword, much like France under Charlemagne. With the demographic time bomb inevitably going to burst in Europe at present course, the demographic time bomb of Christianity bursting to take over China is also inevitable—curiously enough, almost at the same time in the mid-late twenty-first century.\\nPresenting Christianity to the Oriental peoples has always been a very difficult issue, given that the Christian faith has been carried by the standards of European powers. Christianity has always had a long presence in the Orient, especially China, since the mid-600s. But in the late 900s, Emperor Wuzong, in a spirit of what could be considered hyper-Chinese nativism, expelled Buddhist, Christian, and Zoroastrian teachings and initiated a massive persecution of Christians that nearly exterminated Christianity altogether in the East. Under the Mongols, interestingly enough, Christianity returned to China and much of the rest of the Orient though the free-moving economic zone of the Mongol Empire.\\nChristianity has always had a difficult presence in East Asia, especially China and Japan. In China, the difficulty came in Christ’s Gospel’s clashing with the words of Confucius, whose philosophy was similar to Christianity in that man worships the God of the heavens. The only problem is that for the Chinese, heaven was transcendent to earth, whereas heaven and earth are two separate entities in Christian teaching. Therefore the message of Christ turned into a force of insurrection against the Mandate of Heaven that guided the state, since Christ was the King of all kings. A similar story is true in Japan, where the Shogunates were always suspicious of Christianity because it undermined the supremacy of Shogun rule by divine authority.\\nIn the modern age, now that Maoism has decimated China’s ancient identity and traditions with atheism, Christianity is making a new stunning emergence in the nation that has historically rejected it, as the Gospel of Jesus Christ brings deeper meaning and faith to a people perhaps even more wed to materialistic philosophy than the Americans.\\nIn South Korea, Christianity is exploding and is now the single largest religion in the Republic of Korea. Much of this conversion came after the Second World War, when the United States sacrificed its blood to protect the Republic from the communists of the north. The United States then needed a powerful force on the Korean peninsula loyal to its interests and consequently, after fifty years of economic support coupled with intense missionary activity, South Korea is now Asia’s leading Christian country.\\nA tragically opposite story exists in Japan. After the war, the Japanese mythology of the god-emperor was over and the Japanese were searching for something new to believe in. Rather than following the advice and model of General MacArthur to convert the Japanese to Christianity, America instead gave them a different god to worship: capitalism. Granted, it helped Japan rapidly modernize so Sony, Toshiba, Honda, and Toyota could own the American economy, but Christianity has been utterly stagnant in a nation that worships the god-dollar rather than the god-emperor or the one true God.\\nIf current conversion rates continue, the center of Christianity in the twenty-second century is going be Beijing and Seoul, rather than Rome or Westminster, with perhaps a sort of interregnum period where Moscow serves as the Third Rome. Japan’s future is uncertain, but if what happened to Rome happens to China and South Korea, a Christian Orient is quite likely. So if the West cannot resolve the Islamic question in the twenty-first century, imagine what an empowered, militarized Christian China could accomplish.\\nAccording to Sacred Tradition, Christianity was introduced to India by St. Thomas the Apostle in 52 AD in Kerala; hence they are now known as St. Thomas Christians. India was already partially Christianized before Scandinavia, Russia, and the British Isles ever had significant populations of Christians.\\nChrist from an Indian perspective must be viewed though the Hindu worldview. According to Hindu thought, every human being possesses some element of the divine inside of him. Some people learn to manifest it more, but some do not, and it is not necessarily the duty of an ecclesiastical body or school of thought to claim a monopoly on the exact means and path to moksha (enlightenment).\\nTherefore, for Christians to arrive in India and claim that Jesus Christ is the one true God-Man stands in stark contrast to the pantheistic views of Hindu society. This presets a conundrum of how Hindus view Jesus. For when a Christian emerges to declare that Jesus Christ is God, the Hindu is inclined to say, “Well yes, of course.” This is a very similar dilemma that Christians encountered in their interactions with Roman and Nordic pagans, where worshiping the Christ-God was allowed next to the worship of the old gods.\\nTo the Hindus, however, the teachings of Jesus Christ can and do resonate with Indian society. The tempered notions of Jesus as an enlightened teacher automatically give Indians an inclined ear, given the history and prevalence of many different enlightened teachers who have populated India’s historical landscape. Remember, it was India which produced the Buddha and which in turn gave us the Dali Lama. This legacy of producing deep religious figures is a major part of India’s identity.\\nThe presence of Hinduism presents a difficult conundrum for Christian evangelization in India. By presenting Christ as God to the Hindus, the Christian is already affirming the reality of Hinduism. Only by establishing the supremacy of Christ as a chosen prophet can the Hindu come to reject Hinduism and become a Christian. However, despite these challenges and centuries where Christianity has occupied a low position in Indian society, India is becoming one of the fastest-converting Christian nations.\\nTo be an Arab Christian is to be condemned as a persecuted minority, yet such Christians are a gateway to the past. Many mainstream Arabs are Christian, and Christians have historically been in many elite positions of power, most notably in Ba’athist regimes. Yet, amongst the commoners, many still find themselves on the periphery of society, due to their loyalty to ancient historical groups. Most noteworthy of these are the Copts of Egypt, the Assyrians of Iraq and Syria, the Kurds, and the Maronites of Lebanon.\\nArabs were some of the first peoples to encounter Jesus, see His miracles, and even watch Him crucified and resurrected from the dead. The growth of Christianity in the Arab world was perhaps one of the most organic growths of the Faith. There were not many great expeditions of evangelism inside the Arab world, as the Faith took off very naturally. The violent arrival of Islam onto the Arab scene has dealt a very damaging blow to the Christian identity of Arabs, but yet, to this day, many Christian Arabs are direct descendants from the first generation of Christians who walked with Christ Himself.\\nTo many of these Arab and even non-Arab groups, often times being a Christian is a way to keep the ancient folkish traditions alive in the face of jihadist Islam, which seeks to undermine folkish traditions and blend all peoples into a universalist identity of the ummah. The sad reality regarding Arab Christianity is that it is on the verge of extermination. In 1948, the Holy Land was 18% Christian, and now it is only 2%. The dual problem of a rising jihadist Islam and hostile Israeli policies forces Arab Christians to either depart or stay and be persecuted. Without a vibrant Christian Europe or United States to stand as a bulwark against a rising Islamism or force the hand of Israel to be more tolerant, Christianity’s future in its home region looks bleak.\\nNotwithstanding Jesus’s fulfillment of their own prophecy, Christ for the Hebrews has been one of the most difficult encounters in the Christian faith. To an extent it has already been decided, when in Matthew 27:24-25 the Jewish mob declared, “His blood be on us and on our children!” The Jews had then rejected their promised Messiah and therefore condemned themselves to spiritual exile. That being said, this does not render it impossible for Jews to become Christians.\\nFor the Jew that becomes a Christian, he is meeting the fulfillment of the God of his ancestors that was never fully revealed to him. The prophets gave the Jews glimpses, but even the patriarchs and prophets in the Old Testament did not clearly know the Messiah, but rather believed on the promise of the Messiah. So the Hebrew that comes to Christ is receiving the fulfillment of his patrimony.\\nSadly, most Hebrews stand in fulfillment of the Jewish mob’s pledge and take great pride in scorning Jesus. To the majority of Jews, Jesus is a renegade, the most dangerous false Messiah to ever curse the Jewish people. By rejecting the divinity of Jesus Christ, the breach with Christianity is complete.\\nWhen the Hebrews were exiled and began to live amongst Christians in Christian lands, the Talmud was constructed in order to provide Jews with the ways and means to be Jewish while not being in the Holy Land. This required Jews to develop a coherent doctrine regarding Jesus Christ and the Christians. The Babylonian Talmud provides this, cursing Jesus as a practitioner of witchcraft, reviling Mary as a fornicatress and whore. Though it affirms Jesus’s crucifixion, it asserts that He deserved it as a criminal who is now burning in hell in His own excrement. There is no other religion where Jesus is treated with such hostility. Though Islam does not treat Christians with much dignity, it does regard Jesus Christ as a prophet, and the Koran pays great honor to the Virgin Mother.\\nJesus to the Hebrews, then, is either the greatest fulfillment of history or their greatest enemy, because Jesus Christ presently, just as He did in His era, poses the greatest threat to Jewish earthly power. The Jews have turned their history, symbols, heritage, and so forth into such an idol that they cannot and could not recognize Jesus when He came to them. Therefore Christianity becomes the most heinous of all enemies to the Jews, because it is the perversion of their faith and must consequently be treated with the greatest resistance.\\nUnlike European paganism, in which the paradigms of Christianity made it much easier to present the Christ as a fulfillment of Greek philosophical thought or a stronger chieftain than Odin, the Jesus of the Orient is much more confrontational. To an extent He is yet to resonate with Oriental thought patterns and folkways. He is an outside figure with an outside message, mainly identified with the political power of the white-man. This notwithstanding, in due time we can await a Christianized Orient as the Gospel goes forth.',\n",
       " 'Power wound resistance is a two terminal electronic component made of\\nresistance material, which has a certain structure and can limit the\\ncurrent passing through the circuit. A fixed resistor is one whose\\nresistance cannot be changed. Variable resistance is called\\npotentiometer or variable resistor. The ideal resistor is linear, that\\nis, the instantaneous current passing through the resistor is\\nproportional to the applied instantaneous voltage. Some special\\nresistors, such as thermistors, varistors and sensitive elements, have\\nnonlinear relationship between voltage and current.\\n电阻器是电子电路中应用数锈钢铸件 螺杆式启闭机 保定搬家 电缆挂钩 冲压机 防撞护栏模具量最多的元件，通常按功率和阻值形成不同系列，供电路设计者选用。电阻器在电路中主要用来调节和稳定电流与电压，可作为分流器和分压器，也可作电路匹配负载。\\nResistor is the most widely used component in electronic circuit. It\\nusually forms different series according to power and resistance value\\nfor circuit designer to choose. The resistor is mainly used to regulate\\nand stabilize the current and voltage in the circuit. It can be used as a\\nshunt and voltage divider, or as a circuit matching load.',\n",
       " 'Pravda No. 50, March 1, 1913 |\\nPublished according to |\\nFrom V. I. Lenin, Collected Works, 4th English Edition,\\nProgress Publishers, Moscow, 1968\\nFirst printing 1963\\nSecond printing 1968\\nTranslated from the Russian by Stepan Apresyan\\nEdited by Clemens Dutt\\n562 | |\\nThe chief thing in the doctrine of Marx is that it brings out the historic role of the proletariat as the builder of socialist society. Has the course of events all over the world confirmed this doctrine since it was expounded by Marx?\\nMarx first advanced it in 1844. The Communist Manifesto of Marx and Engels, published in 1848, gave an integral and systematic exposition of this doctrine, an exposition which has remained the best to this day. Since then world history has clearly been divided into three main periods: (1) from the revolution of 1848 to the Paris Commune (1871); (2) from the Paris Commune to the Russian revolution (1905); (3) since the Russian revolution. Let us see what has been the destiny of Marx\\'s doctrine in each of these periods.\\nAt the beginning of the first period Marx\\'s doctrine by no means dominated. It was only one of the very numerous groups or trends of socialism. The forms of socialism that did dominate were in the main akin to our Narodism: in comprehension of the materialist basis of historical movement, inability to single out the role and significance of each class in capitalist society, concealment of the bourgeois nature of democratic reforms under diverse, quasi-socialist phrases about the \"people\", \"justice\", \"right\", and so on.\\nThe revolution of 1848 struck a deadly blow at all these vociferous, motley and ostentatious forms of pre-Marxian\\nsocialism. In all countries, the revolution revealed the various classes of society in action. The shooting of the workers by the republican bourgeoisie in Paris in the June days of 1848 finally revealed that the proletariat alone was socialist by nature. The liberal bourgeoisie dreaded the independence of this class a hundred times more than it did any kind of reaction. The craven liberals grovelled before reaction. The peasantry were content with the abolition of the survivals of feudalism and joined the supporters of order, wavering but occasionally between workers\\' democracy and bourgeois liberalism. All doctrines of non-cIass socialism and non-class politics proved to be sheer nonsense.\\nThe Paris Commune (1871) completed this development of bourgeois changes; the republic, i.e., the form of political organisation in which class relations appear in their most unconcealed form, owed its consolidation solely to the heroism of the proletariat.\\nIn all the other European countries, a more tangled and less complete development led to the same result -- a bourgeois society that had taken definite shape. Towards the end of the first period (1848-71), a period of storms and revolutions, pre-Marxian socialism was dead. Independent proletarian parties came into being: the First International (1864-72) and the German Social-Democratic Party.\\nThe second period (1872-1904) was distinguished from the first by its \"peaceful\" character, by the absence of revolutions. The West had finished with bourgeois revolutions. The East had not yet risen to them.\\nThe West entered a phase of \"peaceful\" preparations for the changes to come. Socialist parties, basically proletarian, were formed everywhere, and learned to use bourgeois parliamentarism and to found their own daily press, their educational institutions, their trade unions and their co-operative societies. Marx\\'s doctrine gained a complete victory and began to spread. The selection and mustering of the forces of the proletariat and its preparation for the coming battles made slow but steady progress.\\nThe dialectics of history were such that the theoretical victory of Marxism compelled its enemies to disguise themselves as Marxists. Liberalism, rotten within, tried to revive itself in the form of socialist opportunism. They interpreted the period of preparing the forces for great battles as renunciation of these battles. Improvement of the conditions of the slaves to fight against wage slavery they took to mean the sale by the slaves of their right to liberty for a few pence. They cravenly preached \"social peace\" (i.e., peace with the slave-owners), renunciation of the class struggle, etc. They had very many adherents among socialist members of parliament, various officials of the working-class movement, and the \"sympathising\" intelligentsia.\\nHowever, the opportunists had scarcely congratulated themselves on \"social peace\" and on the non-necessity of storms under \"democracy \" when a new source of great world storms opened up in Asia. The Russian revolution was followed by revolutions in Turkey, Persia and China. It is in this era of storms and their \"repercussions\" in Europe that we are now living. No matter what the fate of the great Chinese republic, against which various \"civilised\" hyenas are now whetting their teeth, no power on earth can restore the old serfdom in Asia or wipe out the heroic democracy of the masses in the Asiatic and semi-Asiatic countries.\\nCertain people who were inattentive to the conditions for preparing and developing the mass struggle were driven to despair and to anarchism by the lengthy delays in the decisive struggle against capitalism in Europe. We can now see how short-sighted and faint-hearted this anarchist despair is.\\nThe fact that Asia, with its population of eight hundred million, has been drawn into the struggle for these same European ideals should inspire us with optimism and not despair.\\nThe Asiatic revolutions have again shown us the spinelessness and baseness of liberalism, the exceptional\\nimportance of the independence of the democratic masses, and the pronounced demarcation between the proletariat and the bourgeoisie of all kinds. After the experience both of Europe and Asia, anyone who speaks of non-class politics and non-class socialism, ought simply to be put in a cage and exhibited alongside the Australian kangaroo or something like that.\\nAfter Asia, Europe has also begun to stir, although not in the Asiatic way. The \"peaceful\" period of 1872-1904 has passed, never to return. The high cost of living and the tyranny of the trusts are leading to an unprecedented sharpening of the economic struggle, which has set into movement even the British workers who have been most corrupted by liberalism. We see a political crisis brewing even in the most \"diehard\", bourgeois-Junker country, Germany. The frenzied arming and the policy of imperialism are turning modern Europe into a \"social peace\" which is more like a gunpowder barrel. Meanwhile the decay of all the bourgeois parties and the maturing of the proletariat are making steady progress.\\nSince the appearance of Marxism, each of the three great periods of world history has brought Marxism new confirmation and new triumphs. But a still greater triumph awaits Marxism, as the doctrine of the proletariat, in the coming period of history.\\nOF THE DOCTRINE OF KARL MARX',\n",
       " '1. 03. Friend B: I look washed out. Publications Publications such as books, magazines, newspapers, blogs and research papers. Required material - includes print material selected by staff, that must be used by the teacher to develop the objectives of a specific planned course. With copy like. Media simply refers to a vehicle or means of message delivery system to carry an ad message to a targeted audience. This type of news media used to be the only way of delivering information to the public. Media simply refers to a vehicle or means of message delivery system to carry an ad message to a targeted audience. The US print media had a 30% decline in income from online and off-line distribution and advertisement between 2007 and 2009. A Beatle takes the place of Uncle Sam in this ad for a rock radio station . Digital media is a broad term for any media delivered to an electronic device such as a mobile phone. The main task of media planners is to select the most appropriate media channels that can effectively communicate . While going face-to-camera can be intimidating for some, stepping in front of the camera has a powerful way to elicit trust, humanize your product, and put a face to your name. The use of Advil\\'s signature yellow type reinforces the brand\\'s equity. EDEKA Weihnachtsclip - #heimkommen. For example, use the sports section of a newspaper for a math lesson. Ecommerce Resources. a book contains the same information throughout its life. Watch on. Students can . 10. That\\'s a great use case, but this next example is different. People relied on newspapers and magazines to learn everything, from recipes and entertainment news to important information about the country or the world. Learn From 6 Top National and Local Print Marketing Collateral Examples. These are the forms of advertising that have been around for years, and many have had success with traditional media campaigns. Electronic media is any electronic device, infrastructure or software that is used to communicate. Media brand and broadcaster Vice, known for covering often controversial and NSFW topics, curated a number of experiences for Airbnb inspired by some of its most successful content. The Power of Media #1. 9. 1. This ad to promote a rock radio station is the work of Sao Paolo agency Lua Propaganda (opens in new tab), with illustration by 2020 Studios.It smartly updates James Montgomery Flagg\\'s 1917 \"I Want You\" Poster for the American war effort, swapping Uncle Sam for John Lennon. As for electronic media, although it has a much wider reach and allows for greater flexibility, its results still do not compare to the quality customer relationships you can gain from using a print media strategy. From 2015 to 2019, U.S. companies spent an average of $25 billion annually on print advertising. So, here are 10 examples of fantastic marketing creative from IKEA. It is a more advanced form of media. Different types of newspapers cater to various audiences, and one can select the particular category accordingly. Vehicle advertising is also an interesting . Electronic media does allow businesses and retailers to use . 6 - Chupa Chups: Sugar-Free Lollipops Chupa Chups is a famous brand, while lollipops remain their most important product. Radio Television Print Physically printed media that has its own audience. Starting from woodblock printing in 200 CE to digital printing that is currently in use, printing has definitely come a long way. Media like TV, Radio, Print, Outdoor and Internet are instruments to convey an advertising message to the public. It is slower than electronic media as printing . Media-induced muck-ups and outrages are virtually preordained as due diligence and restraint fall to the wayside in pursuit of being the first to break a story. So, those who run the newspapers and magazines will be extra careful while publishing the news or articles. It is one of the earliest forms of media. 2. You soak the ad in water, wrap it around the bottle, and put it in the freezer. One is super excited, whereas the other isn\\'t so sure.) While many non-physical marketing materials are useful for a single purpose, the benefits of print media extend farther than most people think. Fortify: Ventilator Part Mold. Copy from Hiut Denim\\'s homepage. Difference Between Print Media and Broadcast Media. Examples of print resources include, but are not limited to: textbooks, workbooks, reference books, newspapers, journals and magazines. 2. Why we like it: We love this job ad because it perfectly targets its ideal candidates - experienced bartenders. News by definition is a report of the latest and most recent events. Example: My uncle is as blind as a bat without his spectacles. Print Media. These items can stay in offices or homes for months or even years after they are received. Media like TV, Radio, Print, Outdoor and Internet are instruments to convey an advertising message to the public. Publications, brochures, posters and other types of printed materials are physical items. print: [noun] a mark made by pressure : impression. Straightforward meets brand personality (Hiut Denim) Copy from a previous version of Hiut Denim\\'s homepage. It provides the coordination of sound, sight, motion and immediacy that no other medium provides. Alternative media can be print, digital, audio, video . Unfortunately to see page breaks you\\'ll need to print to PDF manually each time. Print media is the earlier form of media. 1. Print media is communication based on printed materials that have a physical presence. S olutions to screen display issues may cause problems in the print-out of the page. This allows for precise targeting of advertising and promotion. 2. It is the latest and novel method of advertising. a) a blog b) a newspaper c) a magazine\\'s website d) all of the above ******* #2. Examples of Traditional Media. They can enhance lessons in all subject areas. This often creates your client\\'s first impression of you. To go through print media one should be literate as it needs to read the information. H&M\\'s Close the Loop. Electronic media is the advanced form of media. User Experience and Usability. Ads are printed in hard copy across different types of publications such as newspapers, magazines, brochures, or direct mail. In print media Live show, Live discussion, and Live reporting is not possible it is based on the interval update method. Copy from Hiut Denim\\'s homepage. We recently wrote about why women are talking about H&M\\'s latest campaign, but its \\'Close the Loop\\' ad is another example of the brand\\'s innovative marketing. 02. For the launch of a new anti-wrinkle product aimed at men, the brand\\'s agency pulled out some advertising magic. The print media covers comparatively lesser areas and genres of content because the type of information it can display is very limited. Social Media For instance, the smartphone uses print media such as e-books and news apps to deliver text based technology. The following are common types of media. 10 Glaring Examples Of News Reporting Gone Wrong. The job ad: Bartender. You can also use the sed command to replace a word only if a given match is found in the line. For example, to replace the word a with an if the word orange is present in the line: sed -e \\'/orange/ s/a/an/g\\' textfile.txt. Billboards (Static, Digital and Mobile ), Banners, Point of sale advertising, Wall writings, Building wraps, Bus shelter posters, are some of the examples of Outdoor media. 01:38. This groundbreaking ad directed by award-winning documentarian Lauren Greenfield and a predominantly female team, on . With copy like. people can edit information, videos, songs, texts and then send to other viewers. For the generations of the 80s and 90s, print media was the only media of entertain. The length of news differs significantly in both print and broadcast media. planned course information. It is one of the earliest forms of media. 2. Electronic media can be edited, e.g. Electronic media has many uses including journalism, news, marketing, education, engineering, digital art, virtual reality, entertainment, transportation and military purposes. In May of 2020, haircare brand L\\'Oreal teamed with soap opera actor and . Making false, exaggerated, or unverified claims. The term digital media mostly refers to media from the perspective of users while electronic media refers to media technologies. something impressed with a print or formed in a mold. In fact, they learned everything from newspapers or magazines: recipes, celebrity lives, weather, business, politics, and more. 5. a book contains the same information throughout its life. Originally Answered: What are some examples of print media? Thus, it covers more areas, genres, and topics pretty conveniently and generously. This type of media used to be the only way to convey information to the public. In a newspaper for example, journalists can write into great details . It only publishes info in a printed form (hard copy) and then releases it to its users to make it more reader-friendly than the electronic media. It recognizes the heart of human emotion. This Google Creative Lab and Anyways Creative projects brought phone advertising to life. 2. These items can stay in offices or homes for months or even years after they are received. Google Creative Lab\\'s collaboration with Anyways Creative puts a fresh spin on phone advertising, using animation to put a more human face on a field filled with shiny gadget porn. 6. Print media includes: tampons was abruptly taken off the shelves after supply . Since 1911, Nivea has been a leader in the skincare industry. Print is Tangible. Moble Apps Example #4: Humorous job ad. Perhaps one of the best ways to apologize is to sing it. 2. Examples of print text include anything we see in writing, like poems and letters. 6. 2. The publications are less crowded . You look sooo good! Edeka. 1. Here are fifty print ads that are creatively brilliant. To do this in Chrome on Mac, open developer tools, then use the command-shift-P shortcut for \"Run Command\" and search for \"Emulate CSS print media type\". For the generations of the 80s and 90s, print media was the only medium of entertainment. Format for Print: @media, @page. (Alshaali & Varshney, 2005) Less Print Ads - With more and more businesses relying solely on the Internet for their advertising needs, the decline of print publication can actually be used as a marketing advantage. In a desperate bid to compel potential and existing customers to buy their products or services, some marketers use false statements, exaggerated benefits, or make unverifiable claims about their offers. The most popular example of media convergence is the Smartphone.\\n04. iPhone people talking Pixel 2. This one is a tear-jerker and wins full points for its sensitive depiction of the harsh reality of the modern world. Which of the following is an example of a public service announcement, or PSA? Face-to-camera video. 2. Some forms of the print media have huge and trusted followers. Straightforward meets brand personality (Hiut Denim) Copy from a previous version of Hiut Denim\\'s homepage. In 2010, a line of O.B. Related: Top 10 Importance of Advertising to Consumers. Electronic Media: Electronic Media is a form of mass media as the name suggests the news or information is shared through electronic medium. You can use two special style sections, @media print and @page. Print media such as newspapers and magazines are like living text. Print media is always a good method of showcasing your brand, including your: logo, mission statement, and location. The rapid free-flow of information is a curse-pocked blessing. Anderson Cooper fakes Syria war footage by dubbing in sound effects and playing chaotic video next to a Syrian . 12/07/2016 soyang Leave a comment Magazines, newspapers, flyers, newsletters, scholarly journals and other materials that are physically printed on paper are examples of print media. The earliest it can report a story is one day ahead due to printing and delivery. Nivea Men: Because Life Makes Wrinkles. Whereas in digital media, we can modify or delete the contents. There are various types of print media which help advertisers to target a particular segment of consumers. However, when Chupa Chups decided to follow the growing market trend and create a sugar-free lollipop, they needed an excellent print ad to spread the word about it. \"#LikeAGirl\". The woman\\'s demonstration of strength despite her age is memorable and gets you to stop on the page. Newspapers, magazine production, novels, graphic arts and illustrating, A n y thing cocerning Font, Lettering, Formatting, and the use of the printed form of language to convey information and ideas can be termed thusly. Print media knows how to appreciate the value of memories. You can easily showcase your logo, business name, address, phone number, website, and any social media links. Print media is an easy medium to spread awareness or advertise to any particular geographical area. Radio Traditional radio and digital equivalents such as podcasts. Take for example the much respected but not often read newspaper. Hubba Bubba. Non-print text is the use of photos, graphics, or other images to communicate ideas. Business owners no longer needed Yellow Pages or ad placements to get exposure. This is definitely a great boost to attract readership. Television Advertising. They are generally delivered at home, or are available at newsstands, and it is the most inexpensive way to reach a huge mass of people quickly. The print ad was made with salt particles, which reduce the . It is a process of using ink on paper to show us images and text by using a printing press. Amazon. The use of colour has a great range of depth and the focus of the lips is well executed, as they still look real.',\n",
       " 'Aerospace & Electronic Techniques Society\\nUntil 1950, this field was called “radio expertise” as a end result of its principal application was the design and principle of radio transmitters, receivers, and vacuum tubes. Electronics includes the physics, engineering, know-how and functions that cope with the emission, flow and management of electrons in vacuum and matter. It uses energetic gadgets to manage electron flow by amplification and rectification, which distinguishes it from classical electrical engineering which makes use of passive effects corresponding to resistance, capacitance and inductance to regulate current flow. The electronic reporting necessities are based mostly on the business classification of the institution, not the business classification of the firm. The EHR also has the power to help different care-related actions instantly or not directly through various interfaces, including evidence-based choice assist, high quality administration, and outcomes reporting. HHS recognizes that covered entities range from the smallest supplier to the biggest, multi-state well being plan.\\n- Provides an overview of key features, features and operational tips.\\n- Noise may be electromagnetically or thermally generated, which can be decreased by lowering the working temperature of the circuit.\\n- When you increase a e-book, the closed book icon is replaced by an open e-book icon.\\nAn electronic system has transistors and silicon chips which control and change the electric present passing by way of it. Airlines seem to be giving up on the battle to make passengers swap off their electronic units throughout takeoff and landing. Now we must show that our electronic gadgets will charge up before we’re allowed on flights.\\nVisit Business Electronics and Chemical Disposal for extra data. IPC has developed a collection of on-line, instructor-led courses from schematic seize to advanced packaging and extra, all taught by IPC-certified business specialists. IPC’s month-to-month economic stories provide a data snapshot on the economy, industrial production, capacity utilization, PCB demand, and trade employment. Available as self-driven or CIT-led, this course explains the concepts, instruments, materials and processes crucial to success for electronics meeting operators.\\nElectrical and electronics engineers work intently with other engineers and technicians. They should be succesful of explain their designs and reasoning clearly and to relay instructions during product improvement and production. They also might have to elucidate complicated points to prospects who’ve little or no technical expertise. Electrical and electronics engineers must apply their information to new duties in every project they undertake.\\nThat’s why we wish to discover and assist artists that may provide the good for your gaming experience. Artists that give you all of the chills, all of the feels and all the HYPE! Artificial Intelligence and administration consultants from the University of Southampton have partnered with Spearfish Security to boost digital instruments supporting several massive UK foreign assist programmes across the world.\\nTo be taught more, please visit By offering your personal info, you comply with the phrases and situations of thisPrivacy Statement. Electricians Electricians install, maintain, and repair electrical power, communications, lighting, and management methods. This table exhibits a listing of occupations with job duties that are much like these of electrical and electronics engineers. Electrical and electronic engineers may advance to supervisory positions by which they lead a group of engineers and technicians.\\nProducts & Options\\nIs it greater than your smallest variety of workers in a pay period? Is it smaller than your greatest number of staff in a pay period? If the reply to any of these questions is “no,” then the calculation may be incorrect. If your variety of workers goes up and down throughout the year, then you need to use the formulation. For example, if your business is seasonal and you have extra workers in the course of the summer or before Christmas, or in case your institution grew or shrank through the yr, you need to use the formulation.\\nIf you have questions about importing a selected tobacco product, please contact the FDA district into which your product might be imported. If you sell ENDS, e-liquids, or their elements or parts made or derived from tobacco, please read this abstract of federal guidelines that retailers must comply with. Standex is a most popular supplier to the world’s main manufacturers of electrical power distribution and management methods. Explore real-world functions of engineering and see the skillsets and information elements wanted in our free online course.\\nBy using the Co-Browse feature, you’re agreeing to allow a help consultant from Digi-Key to view your browser remotely. When the Co-Browse window opens, give the session ID that is positioned in the toolbar to the consultant. Electronic music is a shape-shifting genre—the steady, heady pulse of techno is worlds faraway from the hyperactive pop-and-snap of drum ‘n’ bass or the woozy heave of storage. But that very tendency toward mutation has made electronic music home to a few of the most exciting music of the final five years.',\n",
       " 'The Dawn of the Artificial Kidney\\nArtificial kidneys may sound like something from a science fiction movie, but these ground-breaking new treatments are currently being designed and tested across the globe.\\nThese scientific advances offer patients with kidney failure the hope of more prompt or less burdensome treatments in the future, but can they become a reality?\\nToday, patients with kidney failure have two main options: a kidney transplant or dialysis. Either treatment can replace some lost kidney function and prolong life, but each comes with drawbacks. People opting for a transplant may face long waiting times due to donor organ shortages and will need lifelong treatment to dampen their immune system (known as immunosuppression).\\nThose receiving dialysis can begin treatment more promptly. However, they often feel tied down by the demands of regular dialysis sessions and restrictions on food and drink.\\nMeet the innovative dialysis and transplant technologies being developed for the future…\\nThe wearable (or portable) artificial kidney\\nThese backpack-sized dialysis devices could potentially allow a person to do blood-filtering dialysis (haemodialysis) any time and any place. This would mean more frequent removal of waste and fluid and the ability to do dialysis ‘on the go’ or away from home. This could improve people’s quality of life.\\nThe devices will be quite lightweight (5–10 kg) and rely on long-lasting batteries, advances in miniaturisation (the art of making things tiny), and new filtering membranes.\\nTwo of the best-known lightweight dialysis devices in development are:\\n- The Ambulatory Kidney to Improve Vitality (AKTIV), being developed at the University of Washington, USA.\\n- The Neokidney, being developed by the Dutch Kidney Foundation in partnership with several companies.\\nBoth teams hope to start clinical testing on 2022–2023.\\nThe bioartifical or ‘cyborg’ implantable kidney\\nA bioartificial kidney is being developed that consists of a blood filtration unit (called the haemofilter) and human kidney cells (called the bioreactor). The live cells could theoretically perform other important functions of a real kidney, such as releasing hormones to control blood pressure.\\nThe idea is that the device would be implanted by surgery similar to a transplant operation. It would then stay in the body for many years. The cells used in the device would be grown from the patient’s own cells and kept in a special compartment away from the person’s bloodstream. This means the patient probably won’t need to take drugs to dampen their immune system (immunosuppressants), unlike a traditional transplant.\\nThe best-known bioartificial kidney is being developed by The Kidney Project, at the University of California, San Francisco.\\nThe team is in the process of testing the two components of the device. If the haemofilter works safely in animals, then clinical trials in humans could begin in or after 2022. Technical challenges include keeping the device working long-term.\\nLaboratory-grown living kidneys\\nSeveral researchers around the world are attempting to grow a complete human kidney using kidney cells from embryos, stem cells from adults or cloned tissue. Stem cells are early cells that usually lie dormant in the body. They can develop into many different cell types when needed. Cloned tissue is made by taking the DNA out of the cell you want to copy and putting it into a new cell, which multiplies.\\nA team from Manchester University is the first in the world to have grown the parts of the kidney that filter blood (nephrons) in a laboratory dish using human stem cells. The laboratory-grown nephrons were then implanted into a mouse. They were able to filter the animal’s blood and produce urine, similarly to how a normal kidney works.\\nWith healthy kidneys having an estimated 1 million nephrons each, the process would need scaling up to grow whole organs ready for transplantation. The beauty of using a patient’s own stem cells is that this could help to avoid their body rejecting the laboratory-grown kidney (which can happen with today’s kidney transplants).\\nThe ability to grow nephrons in the lab is an exciting development. However, this research is in the early days. A lot more work is needed before lab-grown whole kidneys become available to patients.\\n- Hits: 60640']"
      ]
     },
     "execution_count": 8,
     "metadata": {},
     "output_type": "execute_result"
    }
   ],
   "source": [
    "web_pages = [d[\"text\"] for d in fineweb_edu.take(10)]\n",
    "web_pages"
   ]
  },
  {
   "cell_type": "markdown",
   "metadata": {},
   "source": [
    "上記のように教育分野の比較的品質の高い Web ページを集めたデータセットで、科学技術分野のペルソナを抽出できると期待されます。"
   ]
  },
  {
   "cell_type": "markdown",
   "metadata": {},
   "source": [
    "### Text-to-Persona\n",
    "\n",
    "テキストからペルソナを抽出するには以下のようなプロンプトを実行します。日本語で出力するように指示していますが、品質が低い場合は `Note:` 以下を削除して英語で出力してください。"
   ]
  },
  {
   "cell_type": "code",
   "execution_count": 9,
   "metadata": {},
   "outputs": [],
   "source": [
    "def text_to_persona(llm: LanguageModel, text: str) -> str:\n",
    "    SYSTEM_PROMPT = \"\"\"\\\n",
    "You are an expert in analyzing the text content and assigning finding the general type of persona that could be associated with such a way of expressing. Please use one or two sentences for the definition, but try to make it as fine-grained if input texts involve many detailed elements. The persona definition must go straight to the point, be assertive. The following are starts of persona definitions:\n",
    "A machine learning researcher...\n",
    "A pedriatric nurse whose...\n",
    "An urban planner focused on...\n",
    "\"\"\"\n",
    "\n",
    "    USER_PROMPT = \"\"\"\\\n",
    "What is the likely profession, interest, or role of the person who would write or be interested in this text?\n",
    "\n",
    "## Text\n",
    "{text}\n",
    "\n",
    "Note:\n",
    "1. Your response should always start with \"ペルソナ:\".\n",
    "2. 日本語で回答してください。\n",
    "\"\"\"\n",
    "    persona = llm([[\n",
    "        {\"role\": \"system\", \"content\": SYSTEM_PROMPT},\n",
    "        {\"role\": \"user\", \"content\": USER_PROMPT.format(text=text)},\n",
    "    ]])[0]\n",
    "\n",
    "    return re.sub(r\"^ペルソナ:\", \"\", persona).strip()"
   ]
  },
  {
   "cell_type": "markdown",
   "metadata": {},
   "source": [
    "FineWeb-Edu データからペルソナを抽出します。"
   ]
  },
  {
   "cell_type": "code",
   "execution_count": 10,
   "metadata": {},
   "outputs": [
    {
     "name": "stdout",
     "output_type": "stream",
     "text": [
      "{'persona': 'IoTおよびAI技術に精通したエンジニアで、データ分析やシステムの最適化に関心を持つ、技術革新を推進する専門家。',\n",
      " 'text': 'The internet of things, a system of interrelated computing devices and machines that can transfer data over '\n",
      "         'a network without human interaction, has been used to enable new features, better functionality, and '\n",
      "         'real-time status monitoring for consumers. Combining this with ever-developing AI advancements is allowing '\n",
      "         'organizations to predict changes and optimize their devices. AIoT allows an algorithm to improve '\n",
      "         'communication and apply predictive capabilities to give companies advantages over their competition.\\n'\n",
      "         'IoT devices share the sensor data they collect by connecting to an IoT gateway or other edge device where '\n",
      "         'data is either sent to the cloud to be analyzed or analyzed locally. Sometimes, these devices communicate '\n",
      "         'with other related devices and act on the information they get from one another. The devices do most of the '\n",
      "         'work without human intervention, although people can interact with the devices — for instance, to set them '\n",
      "         'up, give them instructions or access the data.\\n'\n",
      "         'An IoT ecosystem consists of web-enabled smart devices that use embedded systems, such as processors, '\n",
      "         'sensors and communication hardware, to collect, send and act on data they acquire from their environments.\\n'\n",
      "         'The connectivity, networking and communication protocols used with these web-enabled devices largely depend '\n",
      "         'on the specific IoT applications deployed.\\n'\n",
      "         'IoT can also make use of artificial intelligence (AI) and machine learning to aid in making data collecting '\n",
      "         'processes easier and more dynamic.'}\n"
     ]
    }
   ],
   "source": [
    "persona = text_to_persona(llm, web_pages[2])\n",
    "pp.pprint({\"persona\": persona, \"text\": web_pages[2]})"
   ]
  },
  {
   "cell_type": "markdown",
   "metadata": {},
   "source": [
    "### Persona-to-Persona\n",
    "\n",
    "Web ページに出現する頻度が低いペルソナを見つけるために、得られたペルソナから関連するペルソナを生成します。"
   ]
  },
  {
   "cell_type": "code",
   "execution_count": 11,
   "metadata": {},
   "outputs": [],
   "source": [
    "def persona_to_personas(llm: LanguageModel, persona: str) -> list[str]:\n",
    "    SYSTEM_PROMPT = \"\"\"\\\n",
    "You are an AI assistant expert in finding relationships between people. Answer directly with the the new related persona definition, don't enumerate them.\n",
    "\"\"\"\n",
    "\n",
    "    USER_PROMPT = \"\"\"\\\n",
    "Who is in close relationship with the given persona? Write just 3, each one in a different line:\n",
    "{persona}\n",
    "\n",
    "Note:\n",
    "1. Your response should always start with \"ペルソナ:\".\n",
    "2. 日本語で回答してください。\n",
    "\"\"\"\n",
    "\n",
    "    persona = llm([[\n",
    "        {\"role\": \"system\", \"content\": SYSTEM_PROMPT},\n",
    "        {\"role\": \"user\", \"content\": USER_PROMPT.format(persona=persona)},\n",
    "    ]])[0]\n",
    "\n",
    "    return [p.strip() for p in re.sub(r\"^ペルソナ:\", \"\", persona).strip().split(\"\\n\")]"
   ]
  },
  {
   "cell_type": "code",
   "execution_count": 12,
   "metadata": {},
   "outputs": [
    {
     "name": "stdout",
     "output_type": "stream",
     "text": [
      "{'new_personas': ['技術革新を推進するスタートアップのCEO', 'データサイエンティストとして働く同僚', 'IoT関連のプロジェクトマネージャー'],\n",
      " 'org_persona': 'IoTおよびAI技術に精通したエンジニアで、データ分析やシステムの最適化に関心を持つ、技術革新を推進する専門家。'}\n"
     ]
    }
   ],
   "source": [
    "new_personas = persona_to_personas(llm, persona)\n",
    "pp.pprint({\"org_persona\": persona, \"new_personas\": new_personas})"
   ]
  },
  {
   "cell_type": "markdown",
   "metadata": {},
   "source": [
    "## ペルソナを使って合成データを生成\n",
    "\n",
    "ここでは、ペルソナを使ってユーザが質問しそうなプロンプト(インストラクション)を生成します。"
   ]
  },
  {
   "cell_type": "code",
   "execution_count": 13,
   "metadata": {},
   "outputs": [],
   "source": [
    "def generate_instruction(llm: LanguageModel, persona: str) -> dict[str, str]:\n",
    "    SYSTEM_PROMPT = \"You are an AI assistant expert at simulating user interactions.\"\n",
    "\n",
    "    USER_PROMPT = \"\"\"\\\n",
    "Generate a prompt the persona below might ask to an AI assistant:\n",
    "\n",
    "{persona}\n",
    "\n",
    "Note:\n",
    "1. Your response should always start with \"プロンプト:\".\n",
    "2. 簡潔に日本語で回答してください。\n",
    "\"\"\"\n",
    "\n",
    "    instruction = llm([[\n",
    "        {\"role\": \"system\", \"content\": SYSTEM_PROMPT},\n",
    "        {\"role\": \"user\", \"content\": USER_PROMPT.format(persona=persona)},\n",
    "    ]])[0]\n",
    "\n",
    "    return re.sub(r\"^プロンプト:\", \"\", instruction).strip()"
   ]
  },
  {
   "cell_type": "code",
   "execution_count": 14,
   "metadata": {},
   "outputs": [
    {
     "name": "stdout",
     "output_type": "stream",
     "text": [
      "{'instruction': 'IoTデバイスから収集したデータを最適に分析するためのアルゴリズムやツールについて教えてください。',\n",
      " 'persona': 'IoTおよびAI技術に精通したエンジニアで、データ分析やシステムの最適化に関心を持つ、技術革新を推進する専門家。'}\n"
     ]
    }
   ],
   "source": [
    "instruction = generate_instruction(llm, persona)\n",
    "pp.pprint({\"persona\": persona, \"instruction\": instruction})"
   ]
  },
  {
   "cell_type": "markdown",
   "metadata": {},
   "source": [
    "次に、ペルソナを使ってブログデータを生成します。"
   ]
  },
  {
   "cell_type": "code",
   "execution_count": 15,
   "metadata": {},
   "outputs": [],
   "source": [
    "def generate_quora_post(llm: LanguageModel, persona: str) -> str:\n",
    "    SYSTEM_PROMPT = \"You are an AI assistant specialized in writing posts for social media.\"\n",
    "\n",
    "    USER_PROMPT = \"\"\"\\\n",
    "Write a Quora post in the language, style, and personality of the following persona:\n",
    "\n",
    "{persona}\n",
    "\n",
    "Note:\n",
    "1. Your response should always start with \"タイトル:\".\n",
    "2. 簡潔に日本語で回答してください。\n",
    "\"\"\"\n",
    "\n",
    "    post = llm([[\n",
    "        {\"role\": \"system\", \"content\": SYSTEM_PROMPT},\n",
    "        {\"role\": \"user\", \"content\": USER_PROMPT.format(persona=persona)},\n",
    "    ]])[0]\n",
    "\n",
    "    return re.sub(r\"^タイトル:\", \"\", post).strip()"
   ]
  },
  {
   "cell_type": "code",
   "execution_count": 16,
   "metadata": {},
   "outputs": [
    {
     "name": "stdout",
     "output_type": "stream",
     "text": [
      "{'persona': 'IoTおよびAI技術に精通したエンジニアで、データ分析やシステムの最適化に関心を持つ、技術革新を推進する専門家。',\n",
      " 'post': 'IoTとAIがもたらすデータ分析の未来\\n'\n",
      "         '\\n'\n",
      "         'IoT（モノのインターネット）とAI（人工知能）の融合は、データ分析の世界に革命をもたらしています。これにより、リアルタイムでのデータ収集と解析が可能になり、企業は迅速な意思決定を行えるようになりました。\\n'\n",
      "         '\\n'\n",
      "         '例えば、スマートシティにおけるIoTデバイスは、交通状況やエネルギー消費を監視し、AIを使って最適なリソース配分を実現します。これにより、効率的な運用が可能となり、環境への負荷も軽減されるのです。\\n'\n",
      "         '\\n'\n",
      "         'さらに、製造業においても、IoTセンサーが機械の状態を常時監視し、AIが故障予測を行うことで、メンテナンスコストの削減と稼働率の向上が期待できます。\\n'\n",
      "         '\\n'\n",
      "         'このように、IoTとAIはデータ分析の可能性を広げ、さまざまな分野でのイノベーションを加速させています。今後もこのトレンドは続くでしょう。皆さんは、どのような分野でこの技術を活用していくべきだと考えますか？'}\n"
     ]
    }
   ],
   "source": [
    "post = generate_quora_post(llm, persona)\n",
    "pp.pprint({\"persona\": persona, \"post\": post})"
   ]
  },
  {
   "cell_type": "markdown",
   "metadata": {},
   "source": [
    "最後に、ペルソナを使って数学の問題を生成します。"
   ]
  },
  {
   "cell_type": "code",
   "execution_count": 17,
   "metadata": {},
   "outputs": [],
   "source": [
    "def generate_math_problem(llm: LanguageModel, persona: str) -> str:\n",
    "    SYSTEM_PROMPT = \"You are an AI assistant specialized in creating diverse but specific math problems. Just answer with your problem.\"\n",
    "\n",
    "    USER_PROMPT = \"\"\"\\\n",
    "Create a challenging math problem with the following persona:\n",
    "\n",
    "{persona}\n",
    "\n",
    "Note:\n",
    "1. Your response should always start with \"問題:\".\n",
    "2. 簡潔に日本語で回答してください。\n",
    "\"\"\"\n",
    "\n",
    "    problem = llm([[\n",
    "        {\"role\": \"system\", \"content\": SYSTEM_PROMPT},\n",
    "        {\"role\": \"user\", \"content\": USER_PROMPT.format(persona=persona)},\n",
    "    ]])[0]\n",
    "\n",
    "    return re.sub(r\"^問題:\", \"\", problem).strip()"
   ]
  },
  {
   "cell_type": "code",
   "execution_count": 18,
   "metadata": {},
   "outputs": [
    {
     "name": "stdout",
     "output_type": "stream",
     "text": [
      "{'persona': 'IoTおよびAI技術に精通したエンジニアで、データ分析やシステムの最適化に関心を持つ、技術革新を推進する専門家。',\n",
      " 'problem': 'あるIoTシステムが、センサーから1日に1000件のデータを収集します。このデータは、温度、湿度、圧力の3つの異なるパラメータで構成されています。システムは、これらのデータをリアルタイムで分析し、異常値を検知します。もし、異常値の検出率が85%で、誤検出率が10%である場合、1日のデータに対して異常と判断される件数は何件になりますか？また、実際に異常であったデータ件数が50件の場合、真陽性、偽陽性、真陰性、偽陰性の件数を求めてください。'}\n"
     ]
    }
   ],
   "source": [
    "problem = generate_math_problem(llm, persona)\n",
    "pp.pprint({\"persona\": persona, \"problem\": problem})"
   ]
  },
  {
   "cell_type": "markdown",
   "metadata": {},
   "source": [
    "## FinePersonas とは\n",
    "\n",
    "<img src=\"https://cdn-uploads.huggingface.co/production/uploads/6435d564a4bd75c62cc03701/5wTHwgijTUKFI5B-N7gEg.png\" width=\"800px\">\n",
    "\n",
    "- Argilla が2024年9月にリリースされた合成テキスト生成のための2100万人の詳細なペルソナのオープンデータセット\n",
    "- 合成データの豊富さ・多様性・特異性を高めることが可能\n",
    "- FineWeb-Edu(教育関連Webページのデータセット)から Persona-Hub 手法でペルソナを抽出\n",
    "- ライセンス: Llama 3.1 Community License Agreement\n",
    "- https://huggingface.co/datasets/argilla/FinePersonas-v0.1"
   ]
  },
  {
   "cell_type": "markdown",
   "metadata": {},
   "source": [
    "## ペルソナデータセットの読み込み\n",
    "\n",
    "ここからは実際のペルソナデータを読み込んで、数学の問題と解答を合成します。`argilla/FinePersonas-v0.1` データセットを利用します。\n",
    "\n",
    "FinePersonas データセットは巨大なデータセットですので、今回は一部分だけをダウンロードして利用します。読み込む際に `streaming=True` を必ずつけてください。"
   ]
  },
  {
   "cell_type": "code",
   "execution_count": 19,
   "metadata": {},
   "outputs": [
    {
     "data": {
      "text/plain": [
       "IterableDataset({\n",
       "    features: ['id', 'persona', 'labels'],\n",
       "    num_shards: 12\n",
       "})"
      ]
     },
     "execution_count": 19,
     "metadata": {},
     "output_type": "execute_result"
    }
   ],
   "source": [
    "dataset = load_dataset(\"argilla/FinePersonas-v0.1\", split=\"train\", cache_dir=\"cache\", streaming=True)\n",
    "dataset"
   ]
  },
  {
   "cell_type": "markdown",
   "metadata": {},
   "source": [
    "今回は先頭の100件を使って生成します。"
   ]
  },
  {
   "cell_type": "code",
   "execution_count": 20,
   "metadata": {},
   "outputs": [
    {
     "name": "stdout",
     "output_type": "stream",
     "text": [
      "['A professional R programmer or researcher, likely a data analyst or statistician, familiar with the intricacies of '\n",
      " 'the R language and its debugging tools.',\n",
      " 'A mental health professional, likely a licensed therapist or psychologist, with expertise in anxiety disorders and '\n",
      " 'cognitive-behavioral therapy, whose work involves diagnosing and treating patients with various types of phobias, '\n",
      " 'including specific phobia, social phobia, and agoraphobia.',\n",
      " 'A space roboticist or aerospace engineer at a research institution focused on robotic space exploration.',\n",
      " 'A Hebrew language scholar or instructor with a focus on biblical Hebrew and Jewish studies.',\n",
      " 'A pediatrician or healthcare professional focused on educating parents about early childhood health, or a '\n",
      " 'parent-to-be who is interested in learning about vaccinations for their unborn or newborn child.',\n",
      " 'A Montessori elementary school teacher or an education administrator responsible for curriculum development and '\n",
      " 'classroom management in a Montessori school setting.',\n",
      " 'An aerospace materials engineer focused on advanced ceramic coatings and plasma deposition techniques for '\n",
      " 'high-temperature applications.',\n",
      " 'An astrophysicist specializing in the study of planetary magnetism and aurora phenomena, likely with a focus on '\n",
      " 'exoplanetary systems and space exploration.',\n",
      " 'An elementary school teacher or educator focused on creating and compiling educational content for young students, '\n",
      " 'likely in a science, reading, or early childhood development curriculum.',\n",
      " 'A forester or park ranger concerned with forest health and pest management in the western United States, likely '\n",
      " 'working in or near national parks.',\n",
      " 'A concerned parent and education blogger with teaching experience and an educational background, possibly a child '\n",
      " 'advocate, who is critical of the education system.',\n",
      " 'A botanical researcher or conservationist specializing in the flora of the New Jersey Pine Barrens ecosystem.',\n",
      " 'An A-level English teacher or instructor who has experience with national examination systems and curriculum '\n",
      " 'development, likely possessing a deep understanding of assessment objectives and educational standards.',\n",
      " 'A logician or philosopher of mathematics who specializes in the study of formal logic, semantics, and mathematical '\n",
      " 'notation.',\n",
      " 'A law student or an attorney specializing in property law or constitutional law, particularly in the context of '\n",
      " 'government authority and rights of private property owners.',\n",
      " 'A herpetologist specializing in crocodile biology, behavior, and conservation.',\n",
      " 'A computer graphics engineer or researcher with a strong background in linear algebra and 3D transformations, '\n",
      " 'specifically focused on OpenGL and matrix calculations for 3D projection and rendering.',\n",
      " 'An SAT instructor or tutor focused on the Writing section, with expertise in developing strategic approaches to '\n",
      " 'answering Improving Sentences questions.',\n",
      " 'A historian or researcher specializing in World War II and the Cold War, possibly with a focus on espionage and the '\n",
      " 'Abwehr or the diplomatic relations between major powers of that era.',\n",
      " 'An instructional designer or educator focused on cognitive learning theory and strategies.',\n",
      " 'A hydrologist or an environmental educator focused on water resource management.',\n",
      " 'A public health professional with a focus on infectious diseases and epidemiology or a tropical medicine '\n",
      " 'specialist, likely working in a region with high Dengue fever prevalence.',\n",
      " 'A medical professional specializing in the field of sexually transmitted diseases or a health educator focused on '\n",
      " 'providing information and resources about genital herpes.',\n",
      " 'A wildlife enthusiast or a science educator focused on natural wonders and animal migrations, likely with an '\n",
      " 'interest in conveying complex phenomena in an accessible and awe-inspiring manner to a general audience, possibly '\n",
      " 'children.',\n",
      " 'A seasoned music educator or a professional musician interested in stringed instruments, likely with a focus on the '\n",
      " 'double bass, who is passionate about sharing detailed information about various aspects of the electric double '\n",
      " 'bass.',\n",
      " 'A medical professional, specifically an allergist or immunologist, who has in-depth knowledge of anaphylaxis, its '\n",
      " 'causes, symptoms, diagnosis, and treatment.',\n",
      " 'A biblical scholar specializing in ancient Hebrew language and linguistics, particularly interested in the history '\n",
      " 'and correct pronunciation of the Tetragrammaton and the divine names in the Hebrew Bible.',\n",
      " 'A wildlife conservation biologist specializing in endangered species and herpetology.',\n",
      " 'An American history professor whose academic focus is on the United States Constitution, the history of its '\n",
      " 'national symbols, and civic education, or a government official responsible for national heritage and patriotism '\n",
      " 'initiatives.',\n",
      " 'A graduate student in international relations whose interests lie at the intersection of ethics, politics, and '\n",
      " 'conflict studies, or a young academic researcher focused on the philosophy of war and its implications for global '\n",
      " 'governance.',\n",
      " 'A science writer or editor, likely with a physics or astronomy background, whose articles cover a wide range of '\n",
      " 'topics in space exploration, cosmology, and the search for extraterrestrial life, often using engaging narratives '\n",
      " 'and accessible analogies to explain complex scientific concepts to a broad audience.',\n",
      " 'An amateur astronomer and science educator with a focus on celestial events and a flair for sharing complex '\n",
      " 'information with a general audience.',\n",
      " 'An elementary school teacher specializing in digital media and animation, likely with a focus on encouraging '\n",
      " 'student creativity and developing technical skills in a classroom setting.',\n",
      " 'An educational assessment specialist or a school administrator concerned with academic ethics and test validation, '\n",
      " 'likely working in the state of Iowa or with a specific interest in its educational policies.',\n",
      " 'A philosopher or logician specializing in modal logic, counterfactuals, and philosophical semantics.',\n",
      " 'A fluid dynamics engineer or researcher with a specific interest in free surface phenomena.',\n",
      " 'An environmental policy analyst with a focus on international conservation agreements and wetland management.',\n",
      " 'A computer science or electrical engineering researcher focused on coding theory and error correction techniques.',\n",
      " 'A biologist or entomologist with a strong religious inclination, likely a Muslim, who is passionate about '\n",
      " 'highlighting the intricate designs in nature as evidence of divine creation and intelligent design.',\n",
      " 'A high school biology teacher or an amateur mycologist (mushroom enthusiast) with a focus on education and clear '\n",
      " 'communication of scientific concepts to a broad audience.',\n",
      " 'A textile historian or conservator specializing in medieval Middle Eastern embroidery, likely with expertise in '\n",
      " 'historical techniques, materials, and cultural influences.',\n",
      " 'A sustainability-focused agricultural journalist or environmental writer who advocates for organic farming methods '\n",
      " 'and bee conservation practices.',\n",
      " 'A climate scientist or researcher concerned with Arctic ice cap dynamics and the impacts of global warming.',\n",
      " 'A middle school English teacher focused on creative writing, literature, and critical thinking, likely working in '\n",
      " 'an urban or suburban setting with an interest in incorporating popular culture into the curriculum to engage '\n",
      " 'students.',\n",
      " 'A veterinarian focused on zoonotic diseases and preventative pet care, likely with a strong interest in public '\n",
      " 'health and education.',\n",
      " 'A calculus or mathematics student, likely in high school or early college, struggling with optimization problems '\n",
      " 'and seeking help with specific calculations and graphing.',\n",
      " 'A biomedical researcher or medical scientist focused on regenerative medicine and tissue engineering, specifically '\n",
      " 'interested in developing new treatments for lung diseases and organ transplantation.',\n",
      " 'An astrophysicist or cosmologist researching galaxy astronomy, who is also open to interdisciplinary comparisons '\n",
      " 'and philosophical reflections on the nature of scientific knowledge and discovery.',\n",
      " 'A marine biologist studying the spatial distribution of food sources in ocean ecosystems and its impact on marine '\n",
      " 'animal behavior and population dynamics.',\n",
      " 'A person interested in this text is likely an academic researcher or student, specifically in the field of '\n",
      " 'psychology or a related social science, with an interest in statistical analysis of research data and measurement '\n",
      " 'theory.',\n",
      " 'A science educator who creates interactive experiments for elementary school students.',\n",
      " 'A materials scientist researching nano-scale materials and liquid crystal technology, likely with a focus on '\n",
      " 'computational modeling and simulations.',\n",
      " 'A high-energy physicist focused on cosmic ray research and its applications in understanding the universe, likely '\n",
      " 'with an interest in the history of physics and the latest advancements in gamma ray and neutrino astronomy.',\n",
      " 'A physics professor teaching introductory electromagnetism classes, familiar with condensed matter physics and '\n",
      " 'having experience in explaining complex concepts to first-year students.',\n",
      " 'A social justice activist and blogger focused on anti-colonialism, anti-racism, and media representation, '\n",
      " 'particularly within the context of intersectional people of color experiences.',\n",
      " \"A Wyoming state government official or a historian whose primary interests include archiving the state's history, \"\n",
      " 'geography, and cultural symbols.',\n",
      " 'A scientist or researcher in the field of meteorology or atmospheric science interested in the application of '\n",
      " 'computer simulations to understand historical events, or a biblical scholar who seeks to interpret and understand '\n",
      " 'the scientific basis for events described in the Bible.',\n",
      " 'An ophthalmologist or veterinary ophthalmologist, likely with a focus on clinical practice and teaching, whose '\n",
      " 'expertise involves a deep understanding of ocular anatomy and physiology.',\n",
      " 'A marine biologist specializing in coral reefs and climate change research.',\n",
      " 'A hydrologist concerned with water resource management, particularly in arid regions and transboundary river '\n",
      " 'systems.',\n",
      " 'An aviation historian specializing in World War II aircraft, likely with a focus on British bombers and their '\n",
      " 'technical specifications, operational history, and combat performance.',\n",
      " 'An IT professional with a strong online presence or a cybersecurity enthusiast familiar with the early days of the '\n",
      " 'internet and online communication.',\n",
      " 'A child development researcher focused on traffic safety and risk-taking behavior in children.',\n",
      " 'A physics historian focused on documenting and promoting the development of major scientific discoveries and the '\n",
      " 'lives of influential physicists.',\n",
      " 'A computer science professional or programming language researcher focused on theoretical foundations and technical '\n",
      " 'details of programming languages, possibly with an interest in numerical computation or artificial intelligence.',\n",
      " 'A veterinary researcher specializing in foreign animal diseases and countermeasure development for high-consequence '\n",
      " 'diseases.',\n",
      " 'A high school biology teacher or instructor focused on integrating the scientific method and evolution into their '\n",
      " 'curriculum, likely with an emphasis on creating engaging lesson plans and educational materials.',\n",
      " 'An early childhood education specialist interested in child development theories and the benefits of play-based '\n",
      " 'learning.',\n",
      " 'A parent educator or a pediatric health specialist focused on substance abuse prevention, particularly in the '\n",
      " 'context of adolescent development and family relationships.',\n",
      " 'An arachnology enthusiast or a paleontology student interested in prehistoric arthropods, likely with a background '\n",
      " 'in biology or a related field.',\n",
      " 'A remote sensing specialist or Earth observation scientist focused on oceanography and environmental monitoring.',\n",
      " 'An elementary school teacher or a parent educator focused on developing good study habits in young children.',\n",
      " 'A pediatrician specializing in developmental and behavioral disorders, particularly autism spectrum disorders, who '\n",
      " 'is well-informed about the latest research and medical guidelines.',\n",
      " 'An astronomy enthusiast or professional who actively observes and tracks celestial objects, possibly an amateur '\n",
      " 'astronomer or a student of astronomy.',\n",
      " 'A climate change researcher or scientist whose work focuses on greenhouse gas emissions, atmospheric measurements, '\n",
      " 'and carbon accounting, possibly affiliated with an institution such as the CSIRO or the Intergovernmental Panel on '\n",
      " 'Climate Change.',\n",
      " 'A foreign affairs analyst with a focus on international relations, geopolitics, and the diplomatic history of the '\n",
      " \"People's Republic of China.\",\n",
      " 'An agricultural specialist or extension agent focused on livestock forage and pasture management, likely with '\n",
      " 'expertise in tall fescue and endophyte mitigation.',\n",
      " 'A wildlife biologist or an ornithologist specializing in bird species and their behavior.',\n",
      " 'An obstetrician or healthcare provider focused on prenatal care and patient education, or a pregnant individual or '\n",
      " 'expectant parent seeking comprehensive information on pregnancy and childbirth.',\n",
      " 'A social studies or history teacher focused on Native American studies, cultural diversity, and the history of '\n",
      " 'North Carolina, likely for elementary to high school levels, and possibly involved in curriculum development or '\n",
      " 'educational resource curation.',\n",
      " 'A park ranger or wildlife biologist working in conservation and management of natural protected areas, particularly '\n",
      " 'those with interests in geology and bird conservation.',\n",
      " 'A scouting leader or youth organization educator who creates and assigns elective activities for Cub Scouts, likely '\n",
      " 'with experience in outdoor education, youth development, and project-based learning.',\n",
      " 'A science historian or a chemistry teacher focused on the history of scientific discoveries.',\n",
      " 'A psychiatrist, possibly sub-specializing in mood disorders.',\n",
      " 'A paleoclimatologist or oceanographer with a focus on mass extinctions and marine ecosystems, possibly affiliated '\n",
      " 'with an academic or research institution.',\n",
      " 'An ecologist or conservation biologist working on species distribution modeling and climate change research, '\n",
      " 'particularly focused on developing and refining predictive models using environmental indices and GIS tools.',\n",
      " 'An elementary school teacher or educator seeking to improve classroom management skills.',\n",
      " 'An invasive species ecologist focused on non-native grasses in subtropical regions, particularly in Southeast Asia '\n",
      " 'and the southeastern United States.',\n",
      " 'A veterinarian specializing in infectious diseases of companion animals.',\n",
      " 'An agricultural historian studying the development of crop resistance or an agronomist researching '\n",
      " 'disease-resistant cotton varieties.',\n",
      " 'A wildlife biologist or zoologist focused on equine or African fauna, with a strong interest in taxonomy and '\n",
      " 'conservation status of zebra species.',\n",
      " 'A neuroscientist or biologist studying circadian rhythms and their impact on behavioral development.',\n",
      " 'A medical historian or curator focused on the history of medical devices, particularly those used in cardiovascular '\n",
      " 'diagnosis.',\n",
      " 'A biomedical research scientist focused on stem cell imaging and tracking, likely with specialization in molecular '\n",
      " 'biology, genetics, and non-invasive imaging techniques.',\n",
      " 'A public health specialist with an epidemiology background, whose expertise encompasses the study of infectious '\n",
      " 'diseases and their prevention and control, likely wrote or would be interested in this text.',\n",
      " 'A psychologist specializing in developmental disorders or a pediatric neurologist with a focus on autism spectrum '\n",
      " 'disorders.',\n",
      " 'A virologist researching antiviral drugs and disease mechanisms, likely in an academic or research institution '\n",
      " 'setting.',\n",
      " 'A historian or educator specializing in 20th-century Latin American history and US-Cuba relations.',\n",
      " 'An environmental anthropologist or a cultural conservationist working closely with indigenous communities to '\n",
      " 'document and preserve traditional ecological knowledge.',\n",
      " 'A language teacher or linguist focused on grammar explanation and pedagogy.']\n"
     ]
    }
   ],
   "source": [
    "personas = [data[\"persona\"] for data in dataset.take(100)]\n",
    "pp.pprint(personas)"
   ]
  },
  {
   "cell_type": "markdown",
   "metadata": {},
   "source": [
    "## FinePersonas によるマルチターン SFT データ合成\n",
    "\n",
    "ここではマルチターンの対話データを生成します。具体的には、\n",
    "\n",
    "- 質問1 (`Q1`): ユーザが質問をする (この部分を Persona-Hub 手法で生成)\n",
    "- 解答1 (`A1`): アシスタントが解答する\n",
    "- 質問2 (`Q2`): ユーザが追加質問をする\n",
    "- 解答2 (`A2`): アシスタントが追加質問に解答する\n",
    "\n",
    "という4つの対話データを生成します。このうち `Q1` の生成に Persona-Hub 手法を適用します。それ以降の対話データは、若干の工夫をしますが基本的に言語モデルの生成に任せます。"
   ]
  },
  {
   "cell_type": "markdown",
   "metadata": {},
   "source": [
    "## Q1 の生成\n",
    "\n",
    "まず、Persona-Hub 手法を使って `Q1` の生成を行います。\n",
    "\n",
    "[元論文のコード](https://github.com/tencent-ailab/persona-hub/blob/main/code/prompt_templates.py)では、数学の問題を生成するプロンプトとして以下が紹介されています。\n",
    "\n",
    "```python\n",
    "math_template = '''Create a math problem related to the following persona:\n",
    "\n",
    "{persona}\n",
    "\n",
    "Note:\n",
    "\n",
    "1. The math problem should be challenging and involve advanced mathematical skills and knowledge. Only top talents can solve it correctly.\n",
    "2. You should make full use of the persona description to create the math problem to ensure that the math problem is unique and specific to the persona.\n",
    "3. Your response should always start with \"Math problem:\". Your response should not include a solution to the created math problem.\n",
    "4. Your created math problem should include no more than 2 sub-problems.\n",
    "'''\n",
    "```\n",
    "\n",
    "これを参考に、プロンプトの一部を修正/パラメータ化して使います。修正点は以下の通りです。\n",
    "\n",
    "- 一部の単語をパラメータ化\n",
    "  - タスクの種類: `task` (e.g. \"math\", \"reasoning\", \"coding\")\n",
    "  - トピックの種類: `topic` (e.g. \"persona\", \"topic\")\n",
    "  - トピックの内容: `item` (e.g. \"SF作家\", \"経営コンサルタント\")\n",
    "  - 対象者: `target` (e.g. \"grade school student\", \"graduate student\")\n",
    "- 難易度を調整\n",
    "  - 元のプロンプトはかなり難易度の高い問題を生成するような表現(`challenging`, `advanced`, `top talents`)となっていたため、難易度を下げるように表現を修正(`simple`, `basic`, `average`)\n",
    "- 小問を生成しないよう修正\n",
    "  - 小問を生成すると対話が複雑になりすぎるため、小問を生成しないように修正(`sub-problems`の行を削除)。代わりにマルチターンで追加質問をするようにする。\n",
    "- 日本語を出力\n",
    "  - 元のプロンプトは英語を出力するようになっているため、日本語を出力するように促すプロンプトを追加\n",
    "\n",
    "上記の修正をしたプロンプトを OpenAI messages 形式で出力する関数を作成します。\n",
    "\n",
    "利用する言語モデルで推奨されているシステムプロンプトがある場合は、それを指定します(コメントアウトされた `{\"role\": \"system\", \"content\": \"...\"}` の部分)。"
   ]
  },
  {
   "cell_type": "code",
   "execution_count": 21,
   "metadata": {},
   "outputs": [],
   "source": [
    "def get_q1_prompt(task: str, topic: str, item: str, target: str) -> list[dict[str, str]]:\n",
    "    Q1_PROMPT_TEMPLATE = \"\"\"Create a {task} problem related to the following {topic}:\n",
    "\n",
    "{item}\n",
    "\n",
    "Note:\n",
    "\n",
    "1. The {task} problem should be simple and involve basic {task} skills and knowledge. Any average {target} can solve it correctly.\n",
    "2. You should make full use of the {topic} description to create the {task} problem to ensure that the {task} problem is unique and specific to the {topic}.\n",
    "3. Your response should always start with \"問題:\". Your response should not include a solution to the created {task} problem.\n",
    "4. 簡潔に日本語で回答してください。\n",
    "\"\"\"\n",
    "    return [\n",
    "        # {\"role\": \"system\", \"content\": \"あなたは親切なAIアシスタントです。日本語で回答してください。\"},\n",
    "        {\"role\": \"user\", \"content\": Q1_PROMPT_TEMPLATE.format(task=task, topic=topic, item=item, target=target)},\n",
    "    ]"
   ]
  },
  {
   "cell_type": "markdown",
   "metadata": {},
   "source": [
    "実行して動作を確認します。"
   ]
  },
  {
   "cell_type": "code",
   "execution_count": 22,
   "metadata": {},
   "outputs": [
    {
     "name": "stdout",
     "output_type": "stream",
     "text": [
      "[{'content': 'Create a math problem related to the following persona:\\n'\n",
      "             '\\n'\n",
      "             'A paleoclimatologist or oceanographer with a focus on mass extinctions and marine ecosystems, possibly '\n",
      "             'affiliated with an academic or research institution.\\n'\n",
      "             '\\n'\n",
      "             'Note:\\n'\n",
      "             '\\n'\n",
      "             '1. The math problem should be simple and involve basic math skills and knowledge. Any average grade '\n",
      "             'school student can solve it correctly.\\n'\n",
      "             '2. You should make full use of the persona description to create the math problem to ensure that the '\n",
      "             'math problem is unique and specific to the persona.\\n'\n",
      "             '3. Your response should always start with \"問題:\". Your response should not include a solution to the '\n",
      "             'created math problem.\\n'\n",
      "             '4. 簡潔に日本語で回答してください。\\n',\n",
      "  'role': 'user'}]\n"
     ]
    }
   ],
   "source": [
    "q1_prompt = get_q1_prompt(\"math\", \"persona\", random.choice(personas), \"grade school student\")\n",
    "pp.pprint(q1_prompt)"
   ]
  },
  {
   "cell_type": "markdown",
   "metadata": {},
   "source": [
    "問題なさそうなので、言語モデルで推論して Q1 を生成します。"
   ]
  },
  {
   "cell_type": "code",
   "execution_count": 23,
   "metadata": {},
   "outputs": [
    {
     "name": "stdout",
     "output_type": "stream",
     "text": [
      "['問題: '\n",
      " '環境ジャーナリストであるあなたは、オーガニック農法で作物を育てる農家を取材しています。農家は、1エーカーの土地で年間に2000ポンドのオーガニック野菜を収穫します。また、彼は蜂の巣を5つ持っており、各蜂の巣から年間に100ポンドの蜂蜜を収穫します。農家がオーガニック野菜と蜂蜜を合わせて年間にどれだけの重さを収穫するかを計算してください。']\n"
     ]
    }
   ],
   "source": [
    "q1s = llm([get_q1_prompt(\"math\", \"persona\", random.choice(personas), \"grade school student\")])\n",
    "pp.pprint(q1s)"
   ]
  },
  {
   "cell_type": "markdown",
   "metadata": {},
   "source": [
    "引数を変更して難易度の高い問題を生成します。"
   ]
  },
  {
   "cell_type": "code",
   "execution_count": 24,
   "metadata": {},
   "outputs": [
    {
     "name": "stdout",
     "output_type": "stream",
     "text": [
      "['問題: '\n",
      " '中学校の英語教師であるあなたは、創造的な執筆と文学の授業を行っています。最近、学生たちに人気のある映画をテーマにした短編小説を書く課題を出しました。クラスには30人の生徒がいて、各生徒は平均して5ページの短編小説を書く予定です。\\n'\n",
      " '\\n'\n",
      " 'もしその短編小説をすべて印刷するための用紙が必要だとしたら、1ページあたりの用紙の価格が0.05ドルである場合、すべての生徒の短編小説を印刷するのに必要な総コストはいくらになるでしょうか？']\n"
     ]
    }
   ],
   "source": [
    "q1s = llm([get_q1_prompt(\"advanced math\", \"persona\", random.choice(personas), \"graduate student\")])\n",
    "pp.pprint(q1s)"
   ]
  },
  {
   "cell_type": "markdown",
   "metadata": {},
   "source": [
    "問題さなさそうです。\n",
    "\n",
    "次に、`問題:` など余分な部分をルールベース(正規表現)で削除します。言語モデルによっては、解答やヒントを書いてしまうものがありますので、もしそれらが出力されるのであればここで削除しておきます。\n",
    "\n",
    "**Note: この関数が複雑になり過ぎる場合は、プロンプトの見直しや言語モデルの変更を検討した方が良いかもしれません。**"
   ]
  },
  {
   "cell_type": "code",
   "execution_count": 25,
   "metadata": {},
   "outputs": [],
   "source": [
    "def filter_q1(content: str) -> str:\n",
    "    content = content.strip()\n",
    "    content = re.sub(r\"^問題[：:]\", \"\", content, flags=re.DOTALL)\n",
    "    content = re.sub(r\"^Problem[：:]\", \"\", content, flags=re.DOTALL)\n",
    "    content = re.sub(r\"\\n答え[：:].*\", \"\", content, flags=re.DOTALL)\n",
    "    content = re.sub(r\"\\n[解回]答[：:].*\", \"\", content, flags=re.DOTALL)\n",
    "    content = re.sub(r\"\\n[Aa]nswer[：:].*\", \"\", content, flags=re.DOTALL)  # cspell: disable-line\n",
    "    content = content.strip()\n",
    "    return content"
   ]
  },
  {
   "cell_type": "markdown",
   "metadata": {},
   "source": [
    "実行して動作を確認します。"
   ]
  },
  {
   "cell_type": "code",
   "execution_count": 26,
   "metadata": {},
   "outputs": [
    {
     "data": {
      "text/plain": [
       "'中学校の英語教師であるあなたは、創造的な執筆と文学の授業を行っています。最近、学生たちに人気のある映画をテーマにした短編小説を書く課題を出しました。クラスには30人の生徒がいて、各生徒は平均して5ページの短編小説を書く予定です。\\n\\nもしその短編小説をすべて印刷するための用紙が必要だとしたら、1ページあたりの用紙の価格が0.05ドルである場合、すべての生徒の短編小説を印刷するのに必要な総コストはいくらになるでしょうか？'"
      ]
     },
     "execution_count": 26,
     "metadata": {},
     "output_type": "execute_result"
    }
   ],
   "source": [
    "filter_q1(q1s[0])"
   ]
  },
  {
   "cell_type": "code",
   "execution_count": 27,
   "metadata": {},
   "outputs": [
    {
     "data": {
      "text/plain": [
       "'ここは問題です。'"
      ]
     },
     "execution_count": 27,
     "metadata": {},
     "output_type": "execute_result"
    }
   ],
   "source": [
    "filter_q1(\"問題: ここは問題です。\\n\\n解答: ここは答えです。\")"
   ]
  },
  {
   "cell_type": "markdown",
   "metadata": {},
   "source": [
    "問題なさそうです。\n",
    "\n",
    "作成した関数を組み合わせて、バッチ処理で `Q1` を生成する関数を作成します。"
   ]
  },
  {
   "cell_type": "code",
   "execution_count": 28,
   "metadata": {},
   "outputs": [],
   "source": [
    "def generate_q1(\n",
    "    llm: LanguageModel, tasks: list[str], topics: list[str], items: list[str], targets: list[str]\n",
    ") -> list[str]:\n",
    "    return [\n",
    "        filter_q1(q1)\n",
    "        for q1 in llm([\n",
    "            get_q1_prompt(task, topic, item, target)\n",
    "            for task, topic, item, target in zip(tasks, topics, items, targets)\n",
    "        ])\n",
    "    ]"
   ]
  },
  {
   "cell_type": "markdown",
   "metadata": {},
   "source": [
    "実行して動作を確認します。"
   ]
  },
  {
   "cell_type": "code",
   "execution_count": 29,
   "metadata": {},
   "outputs": [
    {
     "name": "stdout",
     "output_type": "stream",
     "text": [
      "['ある湿地帯には、2種類の非在来グラスが生えています。Aグラスは湿地の面積の60%を占めており、Bグラスは残りの40%を占めています。この湿地の面積は500平方メートルです。AグラスとBグラスのそれぞれが占める面積を求めなさい。',\n",
      " '一様な電場 \\\\( \\\\mathbf{E} \\\\) が \\\\( z \\\\) 軸に沿って存在し、強度は \\\\( E_0 \\\\) です。この電場の中にある帯電粒子が、初期速度 \\\\( \\\\mathbf{v_0} = v_{0x} '\n",
      " '\\\\hat{\\\\mathbf{i}} + v_{0y} \\\\hat{\\\\mathbf{j}} \\\\) で \\\\( xy \\\\) 平面内を運動しています。粒子の質量を \\\\( m \\\\)、電荷を \\\\( q \\\\) とします。\\n'\n",
      " '\\n'\n",
      " '1. 粒子が電場の影響を受けて運動する場合、運動方程式を立て、粒子の加速度 \\\\( \\\\mathbf{a} \\\\) を求めなさい。\\n'\n",
      " '2. 粒子の運動を \\\\( t \\\\) 時間後の位置 \\\\( \\\\mathbf{r}(t) \\\\) と速度 \\\\( \\\\mathbf{v}(t) \\\\) を用いて表現し、時間 \\\\( t \\\\) における \\\\( x '\n",
      " '\\\\)、\\\\( y \\\\)、\\\\( z \\\\) 座標の数式を示しなさい。\\n'\n",
      " '\\n'\n",
      " 'ここで、\\\\( \\\\hat{\\\\mathbf{i}} \\\\), \\\\( \\\\hat{\\\\mathbf{j}} \\\\), \\\\( \\\\hat{\\\\mathbf{k}} \\\\) はそれぞれ \\\\( x \\\\), \\\\( y \\\\), '\n",
      " '\\\\( z \\\\) 軸方向の単位ベクトルです。']\n"
     ]
    }
   ],
   "source": [
    "q1s = generate_q1(\n",
    "    llm,\n",
    "    [\"math\", \"advanced math\"],\n",
    "    [\"persona\", \"persona\"],\n",
    "    [random.choice(personas), random.choice(personas)],\n",
    "    [\"grade school student\", \"graduate student\"],\n",
    ")\n",
    "pp.pprint(q1s)"
   ]
  },
  {
   "cell_type": "markdown",
   "metadata": {},
   "source": [
    "問題なさそうです。ここまでで `Q1` を生成する関数の実装が完了しました。"
   ]
  },
  {
   "cell_type": "markdown",
   "metadata": {},
   "source": [
    "## A1 の生成\n",
    "\n",
    "次に、`A1` の生成を行います。ここでは基本的に `Q1` を入力して、長さ指定(`簡潔に`)と、出力言語の指定(`日本語で`)をして言語モデルに生成させます。言語モデルによっては、表現を微調整する必要があるかもしれません。\n",
    "\n",
    "実行の流れは `Q1` と同様ですので、ここではコードのみ記載します。"
   ]
  },
  {
   "cell_type": "code",
   "execution_count": 30,
   "metadata": {},
   "outputs": [],
   "source": [
    "def get_a1_prompt(q1: str) -> list[dict]:\n",
    "    A1_PROMPT_TEMPLATE = \"{q1}\\n\\n簡潔に日本語で回答してください。\"\n",
    "    return [\n",
    "        # {\"role\": \"system\", \"content\": \"あなたは親切なAIアシスタントです。日本語で回答してください。\"},\n",
    "        {\"role\": \"user\", \"content\": A1_PROMPT_TEMPLATE.format(q1=q1)},\n",
    "    ]"
   ]
  },
  {
   "cell_type": "code",
   "execution_count": 31,
   "metadata": {},
   "outputs": [
    {
     "name": "stdout",
     "output_type": "stream",
     "text": [
      "[{'content': 'ある湿地帯には、2種類の非在来グラスが生えています。Aグラスは湿地の面積の60%を占めており、Bグラスは残りの40%を占めています。この湿地の面積は500平方メートルです。AグラスとBグラスのそれぞれが占める面積を求めなさい。\\n'\n",
      "             '\\n'\n",
      "             '簡潔に日本語で回答してください。',\n",
      "  'role': 'user'}]\n"
     ]
    }
   ],
   "source": [
    "a1_prompt = get_a1_prompt(q1s[0])\n",
    "pp.pprint(a1_prompt)"
   ]
  },
  {
   "cell_type": "code",
   "execution_count": 32,
   "metadata": {},
   "outputs": [
    {
     "name": "stdout",
     "output_type": "stream",
     "text": [
      "['Aグラスが占める面積は、500平方メートルの60%である300平方メートルです。Bグラスが占める面積は、残りの40%である200平方メートルです。']\n"
     ]
    }
   ],
   "source": [
    "a1s = llm([get_a1_prompt(q1s[0])])\n",
    "pp.pprint(a1s)"
   ]
  },
  {
   "cell_type": "code",
   "execution_count": 33,
   "metadata": {},
   "outputs": [
    {
     "name": "stdout",
     "output_type": "stream",
     "text": [
      "['1. 粒子が電場 \\\\( \\\\mathbf{E} \\\\) の影響を受ける場合、運動方程式は次のようになります。\\n'\n",
      " '\\n'\n",
      " '\\\\[\\n'\n",
      " 'm \\\\frac{d\\\\mathbf{v}}{dt} = q \\\\mathbf{E}\\n'\n",
      " '\\\\]\\n'\n",
      " '\\n'\n",
      " 'ここで、電場 \\\\( \\\\mathbf{E} = E_0 \\\\hat{\\\\mathbf{k}} \\\\) なので、右辺は \\\\( q E_0 \\\\hat{\\\\mathbf{k}} \\\\) となります。このことから、加速度 \\\\( '\n",
      " '\\\\mathbf{a} \\\\) は以下のように求められます。\\n'\n",
      " '\\n'\n",
      " '\\\\[\\n'\n",
      " '\\\\mathbf{a} = \\\\frac{d\\\\mathbf{v}}{dt} = \\\\frac{q E_0}{m} \\\\hat{\\\\mathbf{k}}\\n'\n",
      " '\\\\]\\n'\n",
      " '\\n'\n",
      " 'つまり、粒子の加速度は \\\\( z \\\\) 軸方向に \\\\( \\\\frac{q E_0}{m} \\\\) です。\\n'\n",
      " '\\n'\n",
      " '2. 初期速度を考慮すると、粒子の速度 \\\\( \\\\mathbf{v}(t) \\\\) は次のように表現できます。\\n'\n",
      " '\\n'\n",
      " '\\\\[\\n'\n",
      " '\\\\mathbf{v}(t) = v_{0x} \\\\hat{\\\\mathbf{i}} + v_{0y} \\\\hat{\\\\mathbf{j}} + \\\\left( \\\\frac{q E_0}{m} t \\\\right) '\n",
      " '\\\\hat{\\\\mathbf{k}}\\n'\n",
      " '\\\\]\\n'\n",
      " '\\n'\n",
      " '位置 \\\\( \\\\mathbf{r}(t) \\\\) は速度の積分によって求められます。\\n'\n",
      " '\\n'\n",
      " '\\\\[\\n'\n",
      " '\\\\mathbf{r}(t) = \\\\left( v_{0x} t \\\\right) \\\\hat{\\\\mathbf{i}} + \\\\left( v_{0y} t \\\\right) \\\\hat{\\\\mathbf{j}} + '\n",
      " '\\\\left( \\\\frac{1}{2} \\\\cdot \\\\frac{q E_0}{m} t^2 \\\\right) \\\\hat{\\\\mathbf{k}} + \\\\mathbf{r_0}\\n'\n",
      " '\\\\]\\n'\n",
      " '\\n'\n",
      " 'ここで、\\\\( \\\\mathbf{r_0} \\\\) は初期位置です。したがって、時間 \\\\( t \\\\) における \\\\( x \\\\)、\\\\( y \\\\)、\\\\( z \\\\) 座標は次のようになります。\\n'\n",
      " '\\n'\n",
      " '\\\\[\\n'\n",
      " 'x(t) = v_{0x} t + x_0\\n'\n",
      " '\\\\]\\n'\n",
      " '\\\\[\\n'\n",
      " 'y(t) = v_{0y} t + y_0\\n'\n",
      " '\\\\]\\n'\n",
      " '\\\\[\\n'\n",
      " 'z(t) = \\\\frac']\n"
     ]
    }
   ],
   "source": [
    "a1s = llm([get_a1_prompt(q1s[1])])\n",
    "pp.pprint(a1s)"
   ]
  },
  {
   "cell_type": "code",
   "execution_count": 34,
   "metadata": {},
   "outputs": [],
   "source": [
    "def filter_a1(content: str) -> str:\n",
    "    content = content.strip()\n",
    "    content = re.sub(r\"^答え[：:]\", \"\", content, flags=re.DOTALL)\n",
    "    content = re.sub(r\"^[解回]答[：:]\", \"\", content, flags=re.DOTALL)\n",
    "    content = re.sub(r\"^[Aa]nswer[：:]\", \"\", content, flags=re.DOTALL)  # cspell: disable-line\n",
    "    content = content.strip()\n",
    "    return content"
   ]
  },
  {
   "cell_type": "code",
   "execution_count": 35,
   "metadata": {},
   "outputs": [
    {
     "data": {
      "text/plain": [
       "'ここは答えです。'"
      ]
     },
     "execution_count": 35,
     "metadata": {},
     "output_type": "execute_result"
    }
   ],
   "source": [
    "filter_a1(\"解答: ここは答えです。\")"
   ]
  },
  {
   "cell_type": "code",
   "execution_count": 36,
   "metadata": {},
   "outputs": [],
   "source": [
    "def generate_a1(llm: LanguageModel, q1s: list[str]) -> list[str]:\n",
    "    return [filter_a1(a1) for a1 in llm([get_a1_prompt(q1) for q1 in q1s])]"
   ]
  },
  {
   "cell_type": "code",
   "execution_count": 37,
   "metadata": {},
   "outputs": [
    {
     "name": "stdout",
     "output_type": "stream",
     "text": [
      "['Aグラスが占める面積は、500平方メートルの60%である300平方メートルです。Bグラスが占める面積は、500平方メートルの40%である200平方メートルです。',\n",
      " '1. 粒子が電場 \\\\( \\\\mathbf{E} \\\\) の影響を受ける場合、運動方程式は次のようになります。\\n'\n",
      " '\\n'\n",
      " '\\\\[\\n'\n",
      " 'm \\\\frac{d\\\\mathbf{v}}{dt} = q \\\\mathbf{E}\\n'\n",
      " '\\\\]\\n'\n",
      " '\\n'\n",
      " 'ここで、電場 \\\\( \\\\mathbf{E} = E_0 \\\\hat{\\\\mathbf{k}} \\\\) なので、右辺は \\\\( q E_0 \\\\hat{\\\\mathbf{k}} \\\\) となります。このことから、加速度 \\\\( '\n",
      " '\\\\mathbf{a} \\\\) は以下のように求められます。\\n'\n",
      " '\\n'\n",
      " '\\\\[\\n'\n",
      " '\\\\mathbf{a} = \\\\frac{d\\\\mathbf{v}}{dt} = \\\\frac{q E_0}{m} \\\\hat{\\\\mathbf{k}}\\n'\n",
      " '\\\\]\\n'\n",
      " '\\n'\n",
      " 'つまり、粒子の加速度は \\\\( z \\\\) 軸方向に \\\\( \\\\frac{q E_0}{m} \\\\) です。\\n'\n",
      " '\\n'\n",
      " '2. 初期速度を考慮すると、粒子の速度 \\\\( \\\\mathbf{v}(t) \\\\) は次のように表現できます。\\n'\n",
      " '\\n'\n",
      " '\\\\[\\n'\n",
      " '\\\\mathbf{v}(t) = v_{0x} \\\\hat{\\\\mathbf{i}} + v_{0y} \\\\hat{\\\\mathbf{j}} + \\\\left( \\\\frac{q E_0}{m} t \\\\right) '\n",
      " '\\\\hat{\\\\mathbf{k}}\\n'\n",
      " '\\\\]\\n'\n",
      " '\\n'\n",
      " '位置 \\\\( \\\\mathbf{r}(t) \\\\) は速度の積分によって求められます。\\n'\n",
      " '\\n'\n",
      " '\\\\[\\n'\n",
      " '\\\\mathbf{r}(t) = \\\\left( v_{0x} t \\\\right) \\\\hat{\\\\mathbf{i}} + \\\\left( v_{0y} t \\\\right) \\\\hat{\\\\mathbf{j}} + '\n",
      " '\\\\left( \\\\frac{1}{2} \\\\cdot \\\\frac{q E_0}{m} t^2 \\\\right) \\\\hat{\\\\mathbf{k}} + \\\\mathbf{r_0}\\n'\n",
      " '\\\\]\\n'\n",
      " '\\n'\n",
      " 'ここで、\\\\( \\\\mathbf{r_0} \\\\) は初期位置です。したがって、時間 \\\\( t \\\\) における \\\\( x \\\\)、\\\\( y \\\\)、\\\\( z \\\\) 座標は次のようになります。\\n'\n",
      " '\\n'\n",
      " '\\\\[\\n'\n",
      " 'x(t) = v_{0x} t + x_0\\n'\n",
      " '\\\\]\\n'\n",
      " '\\\\[\\n'\n",
      " 'y(t) = v_{0y} t + y_0\\n'\n",
      " '\\\\]\\n'\n",
      " '\\\\[\\n'\n",
      " 'z(t) = \\\\frac']\n"
     ]
    }
   ],
   "source": [
    "a1s = generate_a1(llm, q1s)\n",
    "pp.pprint(a1s)"
   ]
  },
  {
   "cell_type": "markdown",
   "metadata": {},
   "source": [
    "## Q2 の生成\n",
    "\n",
    "次に、追加質問 `Q2` の生成を行います。\n",
    "\n",
    "- まず `Q1` に関連する質問であることを強調します(`前述の問題をより理解するために`の部分)。これが無いと `Q2` で新たな別の質問を生成してしまうことがあります。\n",
    "- 次に `問題の一部を変更したり、条件を追加しても良いです` という部分で、`Q1` の問題の一部を変更することを促します。これにより、`Q2` が `Q1` に関連する質問となる確率を高めることができます。\n",
    "- 最後に答えを含まないように注意を促します(`決して答えを含めないでください`の部分)。"
   ]
  },
  {
   "cell_type": "code",
   "execution_count": 38,
   "metadata": {},
   "outputs": [],
   "source": [
    "def get_q2_prompt(q1: str, a1: str) -> list[dict[str, str]]:\n",
    "    Q2_PROMPT_TEMPLATE = \"前述の問題をより理解するために、簡潔な追加の質問を一つ作ってください。問題の一部を変更したり、条件を追加しても良いです。追加の質問だけを書き、決して答えを含めないでください。\"\n",
    "    return [\n",
    "        # {\"role\": \"system\", \"content\": \"あなたは親切なAIアシスタントです。日本語で回答してください。\"},\n",
    "        {\"role\": \"user\", \"content\": q1},\n",
    "        {\"role\": \"assistant\", \"content\": a1},\n",
    "        {\"role\": \"user\", \"content\": Q2_PROMPT_TEMPLATE},\n",
    "    ]"
   ]
  },
  {
   "cell_type": "code",
   "execution_count": 39,
   "metadata": {},
   "outputs": [
    {
     "name": "stdout",
     "output_type": "stream",
     "text": [
      "[{'content': 'ある湿地帯には、2種類の非在来グラスが生えています。Aグラスは湿地の面積の60%を占めており、Bグラスは残りの40%を占めています。この湿地の面積は500平方メートルです。AグラスとBグラスのそれぞれが占める面積を求めなさい。',\n",
      "  'role': 'user'},\n",
      " {'content': 'Aグラスが占める面積は、500平方メートルの60%である300平方メートルです。Bグラスが占める面積は、500平方メートルの40%である200平方メートルです。', 'role': 'assistant'},\n",
      " {'content': '前述の問題をより理解するために、簡潔な追加の質問を一つ作ってください。問題の一部を変更したり、条件を追加しても良いです。追加の質問だけを書き、決して答えを含めないでください。',\n",
      "  'role': 'user'}]\n"
     ]
    }
   ],
   "source": [
    "q2_prompt = get_q2_prompt(q1s[0], a1s[0])\n",
    "pp.pprint(q2_prompt)"
   ]
  },
  {
   "cell_type": "code",
   "execution_count": 40,
   "metadata": {},
   "outputs": [
    {
     "name": "stdout",
     "output_type": "stream",
     "text": [
      "['湿地帯の面積が700平方メートルに増えた場合、AグラスとBグラスのそれぞれが占める面積は何平方メートルになりますか？']\n"
     ]
    }
   ],
   "source": [
    "q2s = llm([get_q2_prompt(q1s[0], a1s[0])])\n",
    "pp.pprint(q2s)"
   ]
  },
  {
   "cell_type": "code",
   "execution_count": 41,
   "metadata": {},
   "outputs": [],
   "source": [
    "def filter_q2(content: str) -> str:\n",
    "    content = content.strip()\n",
    "    content = re.sub(r\"^追加の質問[：:]\", \"\", content, flags=re.DOTALL)\n",
    "    content = re.sub(r\"^質問[：:]\", \"\", content, flags=re.DOTALL)\n",
    "    content = content.strip()\n",
    "    return content"
   ]
  },
  {
   "cell_type": "code",
   "execution_count": 42,
   "metadata": {},
   "outputs": [],
   "source": [
    "def generate_q2(llm: LanguageModel, q1s: list[str], a1s: list[str]) -> list[str]:\n",
    "    return [filter_q2(q2) for q2 in llm([get_q2_prompt(q1, a1) for q1, a1 in zip(q1s, a1s)])]"
   ]
  },
  {
   "cell_type": "code",
   "execution_count": 43,
   "metadata": {},
   "outputs": [
    {
     "name": "stdout",
     "output_type": "stream",
     "text": [
      "['湿地帯の面積が800平方メートルに増えた場合、AグラスとBグラスのそれぞれが占める面積は何平方メートルになりますか？',\n",
      " '帯電粒子が電場 \\\\( \\\\mathbf{E} \\\\) の中で運動しているとき、粒子が初期位置 \\\\( (x_0, y_0, z_0) \\\\) から \\\\( t \\\\) 時間後に到達する位置 \\\\( (x(t), y(t), '\n",
      " 'z(t)) \\\\) が、電場の強度 \\\\( E_0 \\\\) が時間とともに変化し、 \\\\( E(t) = E_0(1 + kt) \\\\) （\\\\( k \\\\) は定数）となる場合、粒子の加速度 \\\\( \\\\mathbf{a}(t) '\n",
      " '\\\\) を求めなさい。']\n"
     ]
    }
   ],
   "source": [
    "q2s = generate_q2(llm, q1s, a1s)\n",
    "pp.pprint(q2s)"
   ]
  },
  {
   "cell_type": "markdown",
   "metadata": {},
   "source": [
    "一旦、ここまでの対話データの流れを確認します。"
   ]
  },
  {
   "cell_type": "code",
   "execution_count": 44,
   "metadata": {},
   "outputs": [
    {
     "name": "stdout",
     "output_type": "stream",
     "text": [
      "('ある湿地帯には、2種類の非在来グラスが生えています。Aグラスは湿地の面積の60%を占めており、Bグラスは残りの40%を占めています。この湿地の面積は500平方メートルです。AグラスとBグラスのそれぞれが占める面積を求めなさい。',\n",
      " 'Aグラスが占める面積は、500平方メートルの60%である300平方メートルです。Bグラスが占める面積は、500平方メートルの40%である200平方メートルです。',\n",
      " '湿地帯の面積が800平方メートルに増えた場合、AグラスとBグラスのそれぞれが占める面積は何平方メートルになりますか？')\n"
     ]
    }
   ],
   "source": [
    "pp.pprint(list(zip(q1s, a1s, q2s))[0])"
   ]
  },
  {
   "cell_type": "code",
   "execution_count": 45,
   "metadata": {},
   "outputs": [
    {
     "name": "stdout",
     "output_type": "stream",
     "text": [
      "('一様な電場 \\\\( \\\\mathbf{E} \\\\) が \\\\( z \\\\) 軸に沿って存在し、強度は \\\\( E_0 \\\\) です。この電場の中にある帯電粒子が、初期速度 \\\\( \\\\mathbf{v_0} = v_{0x} '\n",
      " '\\\\hat{\\\\mathbf{i}} + v_{0y} \\\\hat{\\\\mathbf{j}} \\\\) で \\\\( xy \\\\) 平面内を運動しています。粒子の質量を \\\\( m \\\\)、電荷を \\\\( q \\\\) とします。\\n'\n",
      " '\\n'\n",
      " '1. 粒子が電場の影響を受けて運動する場合、運動方程式を立て、粒子の加速度 \\\\( \\\\mathbf{a} \\\\) を求めなさい。\\n'\n",
      " '2. 粒子の運動を \\\\( t \\\\) 時間後の位置 \\\\( \\\\mathbf{r}(t) \\\\) と速度 \\\\( \\\\mathbf{v}(t) \\\\) を用いて表現し、時間 \\\\( t \\\\) における \\\\( x '\n",
      " '\\\\)、\\\\( y \\\\)、\\\\( z \\\\) 座標の数式を示しなさい。\\n'\n",
      " '\\n'\n",
      " 'ここで、\\\\( \\\\hat{\\\\mathbf{i}} \\\\), \\\\( \\\\hat{\\\\mathbf{j}} \\\\), \\\\( \\\\hat{\\\\mathbf{k}} \\\\) はそれぞれ \\\\( x \\\\), \\\\( y \\\\), '\n",
      " '\\\\( z \\\\) 軸方向の単位ベクトルです。',\n",
      " '1. 粒子が電場 \\\\( \\\\mathbf{E} \\\\) の影響を受ける場合、運動方程式は次のようになります。\\n'\n",
      " '\\n'\n",
      " '\\\\[\\n'\n",
      " 'm \\\\frac{d\\\\mathbf{v}}{dt} = q \\\\mathbf{E}\\n'\n",
      " '\\\\]\\n'\n",
      " '\\n'\n",
      " 'ここで、電場 \\\\( \\\\mathbf{E} = E_0 \\\\hat{\\\\mathbf{k}} \\\\) なので、右辺は \\\\( q E_0 \\\\hat{\\\\mathbf{k}} \\\\) となります。このことから、加速度 \\\\( '\n",
      " '\\\\mathbf{a} \\\\) は以下のように求められます。\\n'\n",
      " '\\n'\n",
      " '\\\\[\\n'\n",
      " '\\\\mathbf{a} = \\\\frac{d\\\\mathbf{v}}{dt} = \\\\frac{q E_0}{m} \\\\hat{\\\\mathbf{k}}\\n'\n",
      " '\\\\]\\n'\n",
      " '\\n'\n",
      " 'つまり、粒子の加速度は \\\\( z \\\\) 軸方向に \\\\( \\\\frac{q E_0}{m} \\\\) です。\\n'\n",
      " '\\n'\n",
      " '2. 初期速度を考慮すると、粒子の速度 \\\\( \\\\mathbf{v}(t) \\\\) は次のように表現できます。\\n'\n",
      " '\\n'\n",
      " '\\\\[\\n'\n",
      " '\\\\mathbf{v}(t) = v_{0x} \\\\hat{\\\\mathbf{i}} + v_{0y} \\\\hat{\\\\mathbf{j}} + \\\\left( \\\\frac{q E_0}{m} t \\\\right) '\n",
      " '\\\\hat{\\\\mathbf{k}}\\n'\n",
      " '\\\\]\\n'\n",
      " '\\n'\n",
      " '位置 \\\\( \\\\mathbf{r}(t) \\\\) は速度の積分によって求められます。\\n'\n",
      " '\\n'\n",
      " '\\\\[\\n'\n",
      " '\\\\mathbf{r}(t) = \\\\left( v_{0x} t \\\\right) \\\\hat{\\\\mathbf{i}} + \\\\left( v_{0y} t \\\\right) \\\\hat{\\\\mathbf{j}} + '\n",
      " '\\\\left( \\\\frac{1}{2} \\\\cdot \\\\frac{q E_0}{m} t^2 \\\\right) \\\\hat{\\\\mathbf{k}} + \\\\mathbf{r_0}\\n'\n",
      " '\\\\]\\n'\n",
      " '\\n'\n",
      " 'ここで、\\\\( \\\\mathbf{r_0} \\\\) は初期位置です。したがって、時間 \\\\( t \\\\) における \\\\( x \\\\)、\\\\( y \\\\)、\\\\( z \\\\) 座標は次のようになります。\\n'\n",
      " '\\n'\n",
      " '\\\\[\\n'\n",
      " 'x(t) = v_{0x} t + x_0\\n'\n",
      " '\\\\]\\n'\n",
      " '\\\\[\\n'\n",
      " 'y(t) = v_{0y} t + y_0\\n'\n",
      " '\\\\]\\n'\n",
      " '\\\\[\\n'\n",
      " 'z(t) = \\\\frac',\n",
      " '帯電粒子が電場 \\\\( \\\\mathbf{E} \\\\) の中で運動しているとき、粒子が初期位置 \\\\( (x_0, y_0, z_0) \\\\) から \\\\( t \\\\) 時間後に到達する位置 \\\\( (x(t), y(t), '\n",
      " 'z(t)) \\\\) が、電場の強度 \\\\( E_0 \\\\) が時間とともに変化し、 \\\\( E(t) = E_0(1 + kt) \\\\) （\\\\( k \\\\) は定数）となる場合、粒子の加速度 \\\\( \\\\mathbf{a}(t) '\n",
      " '\\\\) を求めなさい。')\n"
     ]
    }
   ],
   "source": [
    "pp.pprint(list(zip(q1s, a1s, q2s))[1])"
   ]
  },
  {
   "cell_type": "markdown",
   "metadata": {},
   "source": [
    "問題なさそうです。"
   ]
  },
  {
   "cell_type": "markdown",
   "metadata": {},
   "source": [
    "## A2 の生成\n",
    "\n",
    "最後に、`A2` の生成を行います。基本的に `A1` の生成と同様ですので、ここではコードのみ記載します。"
   ]
  },
  {
   "cell_type": "code",
   "execution_count": 46,
   "metadata": {},
   "outputs": [],
   "source": [
    "def get_a2_prompt(q1: str, a1: str, q2: str) -> list[dict[str, str]]:\n",
    "    A2_PROMPT_TEMPLATE = \"{q2}\\n\\n簡潔に日本語で回答してください。\"\n",
    "    return [\n",
    "        # {\"role\": \"system\", \"content\": \"あなたは親切なAIアシスタントです。日本語で回答してください。\"},\n",
    "        {\"role\": \"user\", \"content\": q1},\n",
    "        {\"role\": \"assistant\", \"content\": a1},\n",
    "        {\"role\": \"user\", \"content\": A2_PROMPT_TEMPLATE.format(q2=q2)},\n",
    "    ]"
   ]
  },
  {
   "cell_type": "code",
   "execution_count": 47,
   "metadata": {},
   "outputs": [
    {
     "name": "stdout",
     "output_type": "stream",
     "text": [
      "[{'content': 'ある湿地帯には、2種類の非在来グラスが生えています。Aグラスは湿地の面積の60%を占めており、Bグラスは残りの40%を占めています。この湿地の面積は500平方メートルです。AグラスとBグラスのそれぞれが占める面積を求めなさい。',\n",
      "  'role': 'user'},\n",
      " {'content': 'Aグラスが占める面積は、500平方メートルの60%である300平方メートルです。Bグラスが占める面積は、500平方メートルの40%である200平方メートルです。', 'role': 'assistant'},\n",
      " {'content': '湿地帯の面積が800平方メートルに増えた場合、AグラスとBグラスのそれぞれが占める面積は何平方メートルになりますか？\\n\\n簡潔に日本語で回答してください。', 'role': 'user'}]\n"
     ]
    }
   ],
   "source": [
    "a2_prompt = get_a2_prompt(q1s[0], a1s[0], q2s[0])\n",
    "pp.pprint(a2_prompt)"
   ]
  },
  {
   "cell_type": "code",
   "execution_count": 48,
   "metadata": {},
   "outputs": [
    {
     "name": "stdout",
     "output_type": "stream",
     "text": [
      "['Aグラスは480平方メートル（800平方メートルの60%）、Bグラスは320平方メートル（800平方メートルの40%）を占めます。',\n",
      " '電場 \\\\( \\\\mathbf{E}(t) \\\\) が時間とともに変化し、\\\\( E(t) = E_0(1 + kt) \\\\) と表される場合、粒子にかかる力は次のようになります。\\n'\n",
      " '\\n'\n",
      " '\\\\[\\n'\n",
      " '\\\\mathbf{F}(t) = q \\\\mathbf{E}(t) = q E_0(1 + kt) \\\\hat{\\\\mathbf{k}}\\n'\n",
      " '\\\\]\\n'\n",
      " '\\n'\n",
      " '運動方程式 \\\\( m \\\\frac{d\\\\mathbf{v}}{dt} = \\\\mathbf{F}(t) \\\\) に基づき、加速度 \\\\( \\\\mathbf{a}(t) \\\\) は次のように求められます。\\n'\n",
      " '\\n'\n",
      " '\\\\[\\n'\n",
      " '\\\\mathbf{a}(t) = \\\\frac{\\\\mathbf{F}(t)}{m} = \\\\frac{q E_0(1 + kt)}{m} \\\\hat{\\\\mathbf{k}}\\n'\n",
      " '\\\\]\\n'\n",
      " '\\n'\n",
      " 'したがって、粒子の加速度は以下のようになります。\\n'\n",
      " '\\n'\n",
      " '\\\\[\\n'\n",
      " '\\\\mathbf{a}(t) = \\\\frac{q E_0}{m}(1 + kt) \\\\hat{\\\\mathbf{k}}\\n'\n",
      " '\\\\]']\n"
     ]
    }
   ],
   "source": [
    "a2s = llm([get_a2_prompt(q1, a1, q2) for q1, a1, q2 in zip(q1s, a1s, q2s)])\n",
    "pp.pprint(a2s)"
   ]
  },
  {
   "cell_type": "code",
   "execution_count": 49,
   "metadata": {},
   "outputs": [],
   "source": [
    "def filter_a2(content: str) -> str:\n",
    "    content = content.strip()\n",
    "    content = re.sub(r\"^答え[：:]\", \"\", content, flags=re.DOTALL)\n",
    "    content = re.sub(r\"^[解回]答[：:]\", \"\", content, flags=re.DOTALL)\n",
    "    content = re.sub(r\"^[Aa]nswer[：:]\", \"\", content, flags=re.DOTALL)  # cspell: disable-line\n",
    "    content = content.strip()\n",
    "    return content"
   ]
  },
  {
   "cell_type": "code",
   "execution_count": 50,
   "metadata": {},
   "outputs": [],
   "source": [
    "def generate_a2(llm: LanguageModel, q1s: list[str], a1s: list[str], q2s: list[str]) -> list[str]:\n",
    "    return [filter_a2(a2) for a2 in llm([get_a2_prompt(q1, a1, q2) for q1, a1, q2 in zip(q1s, a1s, q2s)])]"
   ]
  },
  {
   "cell_type": "code",
   "execution_count": 51,
   "metadata": {},
   "outputs": [
    {
     "name": "stdout",
     "output_type": "stream",
     "text": [
      "['Aグラスは480平方メートル（800平方メートルの60%）、Bグラスは320平方メートル（800平方メートルの40%）を占めます。',\n",
      " '電場 \\\\( \\\\mathbf{E}(t) \\\\) が時間とともに変化し、\\\\( E(t) = E_0(1 + kt) \\\\) と表される場合、粒子にかかる力は次のようになります。\\n'\n",
      " '\\n'\n",
      " '\\\\[\\n'\n",
      " '\\\\mathbf{F}(t) = q \\\\mathbf{E}(t) = q E_0(1 + kt) \\\\hat{\\\\mathbf{k}}\\n'\n",
      " '\\\\]\\n'\n",
      " '\\n'\n",
      " '運動方程式 \\\\( m \\\\frac{d\\\\mathbf{v}}{dt} = \\\\mathbf{F}(t) \\\\) に基づき、加速度 \\\\( \\\\mathbf{a}(t) \\\\) は次のように求められます。\\n'\n",
      " '\\n'\n",
      " '\\\\[\\n'\n",
      " '\\\\mathbf{a}(t) = \\\\frac{\\\\mathbf{F}(t)}{m} = \\\\frac{q E_0(1 + kt)}{m} \\\\hat{\\\\mathbf{k}}\\n'\n",
      " '\\\\]\\n'\n",
      " '\\n'\n",
      " 'したがって、粒子の加速度は以下のようになります。\\n'\n",
      " '\\n'\n",
      " '\\\\[\\n'\n",
      " '\\\\mathbf{a}(t) = \\\\frac{q E_0}{m}(1 + kt) \\\\hat{\\\\mathbf{k}}\\n'\n",
      " '\\\\]']\n"
     ]
    }
   ],
   "source": [
    "a2s = generate_a2(llm, q1s, a1s, q2s)\n",
    "pp.pprint(a2s)"
   ]
  },
  {
   "cell_type": "markdown",
   "metadata": {},
   "source": [
    "再度ここまでの対話データの流れを確認します。"
   ]
  },
  {
   "cell_type": "code",
   "execution_count": 52,
   "metadata": {},
   "outputs": [
    {
     "name": "stdout",
     "output_type": "stream",
     "text": [
      "('ある湿地帯には、2種類の非在来グラスが生えています。Aグラスは湿地の面積の60%を占めており、Bグラスは残りの40%を占めています。この湿地の面積は500平方メートルです。AグラスとBグラスのそれぞれが占める面積を求めなさい。',\n",
      " 'Aグラスが占める面積は、500平方メートルの60%である300平方メートルです。Bグラスが占める面積は、500平方メートルの40%である200平方メートルです。',\n",
      " '湿地帯の面積が800平方メートルに増えた場合、AグラスとBグラスのそれぞれが占める面積は何平方メートルになりますか？',\n",
      " 'Aグラスは480平方メートル（800平方メートルの60%）、Bグラスは320平方メートル（800平方メートルの40%）を占めます。')\n"
     ]
    }
   ],
   "source": [
    "pp.pprint(list(zip(q1s, a1s, q2s, a2s))[0])"
   ]
  },
  {
   "cell_type": "code",
   "execution_count": 53,
   "metadata": {},
   "outputs": [
    {
     "name": "stdout",
     "output_type": "stream",
     "text": [
      "('一様な電場 \\\\( \\\\mathbf{E} \\\\) が \\\\( z \\\\) 軸に沿って存在し、強度は \\\\( E_0 \\\\) です。この電場の中にある帯電粒子が、初期速度 \\\\( \\\\mathbf{v_0} = v_{0x} '\n",
      " '\\\\hat{\\\\mathbf{i}} + v_{0y} \\\\hat{\\\\mathbf{j}} \\\\) で \\\\( xy \\\\) 平面内を運動しています。粒子の質量を \\\\( m \\\\)、電荷を \\\\( q \\\\) とします。\\n'\n",
      " '\\n'\n",
      " '1. 粒子が電場の影響を受けて運動する場合、運動方程式を立て、粒子の加速度 \\\\( \\\\mathbf{a} \\\\) を求めなさい。\\n'\n",
      " '2. 粒子の運動を \\\\( t \\\\) 時間後の位置 \\\\( \\\\mathbf{r}(t) \\\\) と速度 \\\\( \\\\mathbf{v}(t) \\\\) を用いて表現し、時間 \\\\( t \\\\) における \\\\( x '\n",
      " '\\\\)、\\\\( y \\\\)、\\\\( z \\\\) 座標の数式を示しなさい。\\n'\n",
      " '\\n'\n",
      " 'ここで、\\\\( \\\\hat{\\\\mathbf{i}} \\\\), \\\\( \\\\hat{\\\\mathbf{j}} \\\\), \\\\( \\\\hat{\\\\mathbf{k}} \\\\) はそれぞれ \\\\( x \\\\), \\\\( y \\\\), '\n",
      " '\\\\( z \\\\) 軸方向の単位ベクトルです。',\n",
      " '1. 粒子が電場 \\\\( \\\\mathbf{E} \\\\) の影響を受ける場合、運動方程式は次のようになります。\\n'\n",
      " '\\n'\n",
      " '\\\\[\\n'\n",
      " 'm \\\\frac{d\\\\mathbf{v}}{dt} = q \\\\mathbf{E}\\n'\n",
      " '\\\\]\\n'\n",
      " '\\n'\n",
      " 'ここで、電場 \\\\( \\\\mathbf{E} = E_0 \\\\hat{\\\\mathbf{k}} \\\\) なので、右辺は \\\\( q E_0 \\\\hat{\\\\mathbf{k}} \\\\) となります。このことから、加速度 \\\\( '\n",
      " '\\\\mathbf{a} \\\\) は以下のように求められます。\\n'\n",
      " '\\n'\n",
      " '\\\\[\\n'\n",
      " '\\\\mathbf{a} = \\\\frac{d\\\\mathbf{v}}{dt} = \\\\frac{q E_0}{m} \\\\hat{\\\\mathbf{k}}\\n'\n",
      " '\\\\]\\n'\n",
      " '\\n'\n",
      " 'つまり、粒子の加速度は \\\\( z \\\\) 軸方向に \\\\( \\\\frac{q E_0}{m} \\\\) です。\\n'\n",
      " '\\n'\n",
      " '2. 初期速度を考慮すると、粒子の速度 \\\\( \\\\mathbf{v}(t) \\\\) は次のように表現できます。\\n'\n",
      " '\\n'\n",
      " '\\\\[\\n'\n",
      " '\\\\mathbf{v}(t) = v_{0x} \\\\hat{\\\\mathbf{i}} + v_{0y} \\\\hat{\\\\mathbf{j}} + \\\\left( \\\\frac{q E_0}{m} t \\\\right) '\n",
      " '\\\\hat{\\\\mathbf{k}}\\n'\n",
      " '\\\\]\\n'\n",
      " '\\n'\n",
      " '位置 \\\\( \\\\mathbf{r}(t) \\\\) は速度の積分によって求められます。\\n'\n",
      " '\\n'\n",
      " '\\\\[\\n'\n",
      " '\\\\mathbf{r}(t) = \\\\left( v_{0x} t \\\\right) \\\\hat{\\\\mathbf{i}} + \\\\left( v_{0y} t \\\\right) \\\\hat{\\\\mathbf{j}} + '\n",
      " '\\\\left( \\\\frac{1}{2} \\\\cdot \\\\frac{q E_0}{m} t^2 \\\\right) \\\\hat{\\\\mathbf{k}} + \\\\mathbf{r_0}\\n'\n",
      " '\\\\]\\n'\n",
      " '\\n'\n",
      " 'ここで、\\\\( \\\\mathbf{r_0} \\\\) は初期位置です。したがって、時間 \\\\( t \\\\) における \\\\( x \\\\)、\\\\( y \\\\)、\\\\( z \\\\) 座標は次のようになります。\\n'\n",
      " '\\n'\n",
      " '\\\\[\\n'\n",
      " 'x(t) = v_{0x} t + x_0\\n'\n",
      " '\\\\]\\n'\n",
      " '\\\\[\\n'\n",
      " 'y(t) = v_{0y} t + y_0\\n'\n",
      " '\\\\]\\n'\n",
      " '\\\\[\\n'\n",
      " 'z(t) = \\\\frac',\n",
      " '帯電粒子が電場 \\\\( \\\\mathbf{E} \\\\) の中で運動しているとき、粒子が初期位置 \\\\( (x_0, y_0, z_0) \\\\) から \\\\( t \\\\) 時間後に到達する位置 \\\\( (x(t), y(t), '\n",
      " 'z(t)) \\\\) が、電場の強度 \\\\( E_0 \\\\) が時間とともに変化し、 \\\\( E(t) = E_0(1 + kt) \\\\) （\\\\( k \\\\) は定数）となる場合、粒子の加速度 \\\\( \\\\mathbf{a}(t) '\n",
      " '\\\\) を求めなさい。',\n",
      " '電場 \\\\( \\\\mathbf{E}(t) \\\\) が時間とともに変化し、\\\\( E(t) = E_0(1 + kt) \\\\) と表される場合、粒子にかかる力は次のようになります。\\n'\n",
      " '\\n'\n",
      " '\\\\[\\n'\n",
      " '\\\\mathbf{F}(t) = q \\\\mathbf{E}(t) = q E_0(1 + kt) \\\\hat{\\\\mathbf{k}}\\n'\n",
      " '\\\\]\\n'\n",
      " '\\n'\n",
      " '運動方程式 \\\\( m \\\\frac{d\\\\mathbf{v}}{dt} = \\\\mathbf{F}(t) \\\\) に基づき、加速度 \\\\( \\\\mathbf{a}(t) \\\\) は次のように求められます。\\n'\n",
      " '\\n'\n",
      " '\\\\[\\n'\n",
      " '\\\\mathbf{a}(t) = \\\\frac{\\\\mathbf{F}(t)}{m} = \\\\frac{q E_0(1 + kt)}{m} \\\\hat{\\\\mathbf{k}}\\n'\n",
      " '\\\\]\\n'\n",
      " '\\n'\n",
      " 'したがって、粒子の加速度は以下のようになります。\\n'\n",
      " '\\n'\n",
      " '\\\\[\\n'\n",
      " '\\\\mathbf{a}(t) = \\\\frac{q E_0}{m}(1 + kt) \\\\hat{\\\\mathbf{k}}\\n'\n",
      " '\\\\]')\n"
     ]
    }
   ],
   "source": [
    "pp.pprint(list(zip(q1s, a1s, q2s, a2s))[1])"
   ]
  },
  {
   "cell_type": "markdown",
   "metadata": {},
   "source": [
    "面白い問題かどうかはともかく、問題なさそうです。これで `A2` の生成も完了しました。"
   ]
  },
  {
   "cell_type": "markdown",
   "metadata": {},
   "source": [
    "## マルチターンの対話データの生成\n",
    "\n",
    "これまで作成した関数を組み合わせて、マルチターンの対話データを生成する関数を作成します。結果は OpenAI messages 形式で出力します。"
   ]
  },
  {
   "cell_type": "code",
   "execution_count": 54,
   "metadata": {},
   "outputs": [],
   "source": [
    "def synthesis_multi_turn_qa(\n",
    "    llm: LanguageModel, tasks: list[str], topics: list[str], items: list[str], targets: list[str]\n",
    ") -> list[dict[str, str | list[dict[str, str]]]]:\n",
    "    q1s = generate_q1(llm, tasks, topics, items, targets)\n",
    "    a1s = generate_a1(llm, q1s)\n",
    "    q2s = generate_q2(llm, q1s, a1s)\n",
    "    a2s = generate_a2(llm, q1s, a1s, q2s)\n",
    "    return [\n",
    "        {\n",
    "            \"messages\": [\n",
    "                {\"role\": \"user\", \"content\": q1},\n",
    "                {\"role\": \"assistant\", \"content\": a1},\n",
    "                {\"role\": \"user\", \"content\": q2},\n",
    "                {\"role\": \"assistant\", \"content\": a2},\n",
    "            ],\n",
    "            \"task\": task,\n",
    "            \"topic\": topic,\n",
    "            \"item\": item,\n",
    "            \"target\": target,\n",
    "        }\n",
    "        for task, topic, item, target, q1, a1, q2, a2 in zip(tasks, topics, items, targets, q1s, a1s, q2s, a2s)\n",
    "    ]"
   ]
  },
  {
   "cell_type": "markdown",
   "metadata": {},
   "source": [
    "実行して動作を確認します。"
   ]
  },
  {
   "cell_type": "code",
   "execution_count": 55,
   "metadata": {},
   "outputs": [
    {
     "name": "stdout",
     "output_type": "stream",
     "text": [
      "[{'item': 'A science historian or a chemistry teacher focused on the history of scientific discoveries.',\n",
      "  'messages': [{'content': 'ある化学の教師は、科学の発見に関する歴史を教えています。彼は、17世紀の科学者が発見した元素の数を5つ、18世紀の科学者が発見した元素の数を7つ、19世紀の科学者が発見した元素の数を10個学んでいます。彼が教えた全ての元素の合計は何個になりますか？',\n",
      "                'role': 'user'},\n",
      "               {'content': '17世紀の元素5つ、18世紀の元素7つ、19世紀の元素10個を合計すると、5 + 7 + 10 = 22個になります。したがって、全ての元素の合計は22個です。',\n",
      "                'role': 'assistant'},\n",
      "               {'content': '20世紀の科学者が発見した元素の数を5つ追加した場合、全ての元素の合計は何個になりますか？', 'role': 'user'},\n",
      "               {'content': '合計は22 + 5 = 27個になります。', 'role': 'assistant'}],\n",
      "  'target': 'grade school student',\n",
      "  'task': 'math',\n",
      "  'topic': 'persona'}]\n"
     ]
    }
   ],
   "source": [
    "qas = synthesis_multi_turn_qa(\n",
    "    llm,\n",
    "    [\"math\"],\n",
    "    [\"persona\"],\n",
    "    [random.choice(personas)],\n",
    "    [\"grade school student\"],\n",
    ")\n",
    "pp.pprint(qas)"
   ]
  },
  {
   "cell_type": "markdown",
   "metadata": {},
   "source": [
    "この関数をバッチ処理で実行し、結果を JSONL ファイルに保存する関数を作成します。`task`, `topic`, `item`, `target` は、与えられた引数からランダムに選択して、対話データを生成します。"
   ]
  },
  {
   "cell_type": "code",
   "execution_count": 56,
   "metadata": {},
   "outputs": [],
   "source": [
    "def run_synthesis_multi_turn_qa(\n",
    "    llm: LanguageModel,\n",
    "    task_list: list[str],\n",
    "    topic_list: list[str],\n",
    "    item_list: list[str],\n",
    "    target_list: list[str],\n",
    "    num_samples: int = 1,\n",
    "    batch_size: int = 1,\n",
    "    output_jsonl: str = \"output.jsonl\",\n",
    "):\n",
    "    with open(output_jsonl, \"a\", encoding=\"utf-8\") as f:\n",
    "        for i in range(num_samples // batch_size):\n",
    "            tasks = [random.choice(task_list) for _ in range(batch_size)]\n",
    "            topics = [random.choice(topic_list) for _ in range(batch_size)]\n",
    "            items = [random.choice(item_list) for _ in range(batch_size)]\n",
    "            targets = [random.choice(target_list) for _ in range(batch_size)]\n",
    "            assert len(tasks) == len(topics) == len(items) == len(targets) == batch_size\n",
    "            qas = synthesis_multi_turn_qa(llm, tasks, topics, items, targets)\n",
    "            for qa in qas:\n",
    "                f.write(json.dumps(qa, ensure_ascii=False) + \"\\n\")\n",
    "                logger.debug(pp.pformat(qa))"
   ]
  },
  {
   "cell_type": "markdown",
   "metadata": {},
   "source": [
    "ペルソナデータから対話データを生成します。"
   ]
  },
  {
   "cell_type": "code",
   "execution_count": 57,
   "metadata": {},
   "outputs": [
    {
     "name": "stderr",
     "output_type": "stream",
     "text": [
      "{'item': 'An elementary school teacher or a parent educator focused on developing good study habits in young '\n",
      "         'children.',\n",
      " 'messages': [{'content': 'ある小学校の先生が、子どもたちに毎日15分間の勉強時間を設けることにしました。もし、5日間勉強した場合、合計で何分間勉強したことになりますか？', 'role': 'user'},\n",
      "              {'content': '5日間で合計75分間勉強したことになります。', 'role': 'assistant'},\n",
      "              {'content': 'もし、毎日の勉強時間を20分に増やした場合、5日間で合計何分間勉強したことになりますか？', 'role': 'user'},\n",
      "              {'content': '5日間で合計100分間勉強したことになります。', 'role': 'assistant'}],\n",
      " 'target': 'grade school student',\n",
      " 'task': 'basic math',\n",
      " 'topic': 'persona'}\n"
     ]
    }
   ],
   "source": [
    "run_synthesis_multi_turn_qa(\n",
    "    llm,\n",
    "    [\"math\", \"arithmetic\", \"basic math\", \"basic arithmetic\"],\n",
    "    [\"persona\"],\n",
    "    personas,\n",
    "    [\"grade school student\"],\n",
    "    1,\n",
    "    1,\n",
    "    \"output.jsonl\",\n",
    ")"
   ]
  },
  {
   "cell_type": "markdown",
   "metadata": {},
   "source": [
    "難易度を上げて生成します。"
   ]
  },
  {
   "cell_type": "code",
   "execution_count": 58,
   "metadata": {},
   "outputs": [
    {
     "name": "stderr",
     "output_type": "stream",
     "text": [
      "{'item': 'A public health professional with a focus on infectious diseases and epidemiology or a tropical medicine '\n",
      "         'specialist, likely working in a region with high Dengue fever prevalence.',\n",
      " 'messages': [{'content': 'ある地域で、デング熱の発生率が年間で1,200件と報告されています。公衆衛生専門家であるあなたは、この疾病の伝播を減少させるために、地域住民の50%にワクチン接種を行うことを計画しています。ワクチン接種後、感染率が接種した住民の間で30%減少すると仮定します。\\n'\n",
      "                          '\\n'\n",
      "                          '1. ワクチン接種前の感染率は、接種を受けた住民と受けていない住民を考慮した場合、全体の年間感染率に対してどのように変化しますか？\\n'\n",
      "                          '2. ワクチン接種後、年間の感染件数は何件になると予想されますか？\\n'\n",
      "                          '\\n'\n",
      "                          '接種を受ける住民の割合、接種後の感染率の減少を考慮し、計算を行ってください。',\n",
      "               'role': 'user'},\n",
      "              {'content': '1. '\n",
      "                          'ワクチン接種前の感染率は、年間1,200件の感染が報告されています。接種を受ける住民は50%で、接種を受けない住民も50%です。このため、接種を受けた住民の感染率は全体の年間感染率に影響を与えます。具体的には、接種を受けた住民の感染件数と接種を受けない住民の感染件数を合計し、全体の感染率に反映されますが、現時点では具体的な数値は示されていません。\\n'\n",
      "                          '\\n'\n",
      "                          '2. '\n",
      "                          'ワクチン接種後、接種を受けた住民の感染率が30%減少すると仮定します。接種を受ける住民は全体の50%なので、接種を受けた住民に対する感染件数は1,200件の50%にあたる600件です。これに30%の減少を適用すると、600件 '\n",
      "                          '× 0.7 = 420件になります。接種を受けていない住民の感染件数は、600件のままと仮定すると、全体の感染件数は420件 + 600件 = 1,020件となります。\\n'\n",
      "                          '\\n'\n",
      "                          'したがって、ワクチン接種後の年間感染件数は約1,020件になると予想されます。',\n",
      "               'role': 'assistant'},\n",
      "              {'content': 'ワクチン接種後に、接種を受けた住民の感染率が40%減少すると仮定した場合、年間の感染件数は何件になると予想されますか？', 'role': 'user'},\n",
      "              {'content': 'ワクチン接種後、接種を受けた住民の感染率が40%減少すると仮定します。接種を受ける住民は全体の50%で、年間の感染件数1,200件の50%は600件です。\\n'\n",
      "                          '\\n'\n",
      "                          '接種を受けた住民の感染件数は：\\n'\n",
      "                          '600件 × 0.6 = 360件\\n'\n",
      "                          '\\n'\n",
      "                          '接種を受けていない住民の感染件数は600件のままと仮定すると、全体の年間感染件数は：\\n'\n",
      "                          '360件 + 600件 = 960件\\n'\n",
      "                          '\\n'\n",
      "                          'したがって、ワクチン接種後の年間感染件数は約960件になると予想されます。',\n",
      "               'role': 'assistant'}],\n",
      " 'target': 'graduate student',\n",
      " 'task': 'advanced math',\n",
      " 'topic': 'persona'}\n"
     ]
    }
   ],
   "source": [
    "run_synthesis_multi_turn_qa(\n",
    "    llm,\n",
    "    [\"advanced math\"],\n",
    "    [\"persona\"],\n",
    "    personas,\n",
    "    [\"graduate student\"],\n",
    "    1,\n",
    "    1,\n",
    "    \"output.jsonl\",\n",
    ")"
   ]
  },
  {
   "cell_type": "markdown",
   "metadata": {},
   "source": [
    "## まとめ\n",
    "\n",
    "TODO"
   ]
  },
  {
   "cell_type": "markdown",
   "metadata": {},
   "source": [
    "## 参考文献\n",
    "\n",
    "TODO"
   ]
  },
  {
   "cell_type": "markdown",
   "metadata": {},
   "source": [
    "以上"
   ]
  }
 ],
 "metadata": {
  "kernelspec": {
   "display_name": ".venv",
   "language": "python",
   "name": "python3"
  },
  "language_info": {
   "codemirror_mode": {
    "name": "ipython",
    "version": 3
   },
   "file_extension": ".py",
   "mimetype": "text/x-python",
   "name": "python",
   "nbconvert_exporter": "python",
   "pygments_lexer": "ipython3",
   "version": "3.11.11"
  }
 },
 "nbformat": 4,
 "nbformat_minor": 2
}
