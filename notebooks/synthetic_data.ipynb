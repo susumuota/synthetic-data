{
 "cells": [
  {
   "cell_type": "code",
   "execution_count": 1,
   "metadata": {},
   "outputs": [],
   "source": [
    "from abc import ABC, abstractmethod\n",
    "import json\n",
    "from logging import DEBUG, StreamHandler, getLogger\n",
    "import pprint\n",
    "import random\n",
    "import re\n",
    "\n",
    "from openai import OpenAI\n",
    "\n",
    "# from vllm import LLM, SamplingParams"
   ]
  },
  {
   "cell_type": "code",
   "execution_count": 2,
   "metadata": {},
   "outputs": [],
   "source": [
    "# Set logging level to DEBUG.\n",
    "logger = getLogger(__name__)\n",
    "logger.setLevel(DEBUG)\n",
    "handler = StreamHandler()\n",
    "handler.setLevel(DEBUG)\n",
    "logger.addHandler(handler)"
   ]
  },
  {
   "cell_type": "code",
   "execution_count": 3,
   "metadata": {},
   "outputs": [],
   "source": [
    "pp = pprint.PrettyPrinter(width=119)"
   ]
  },
  {
   "cell_type": "code",
   "execution_count": 4,
   "metadata": {},
   "outputs": [],
   "source": [
    "class LanguageModel(ABC):\n",
    "    def __init__(self, model_name: str, temperature=0.7, max_tokens=512, seed=0):\n",
    "        self.model_name = model_name\n",
    "        self.temperature = temperature\n",
    "        self.max_tokens = max_tokens\n",
    "        self.seed = seed\n",
    "        logger.debug(f\"model_name: {model_name}, temperature: {temperature}, max_tokens: {max_tokens}, seed: {seed}\")\n",
    "\n",
    "    @abstractmethod\n",
    "    def __call__(self, messages_batch: list[list[dict[str, str]]]) -> list[str]:\n",
    "        pass"
   ]
  },
  {
   "cell_type": "code",
   "execution_count": 5,
   "metadata": {},
   "outputs": [],
   "source": [
    "# You must set OPENAI_API_KEY in your environment variables.\n",
    "class OpenAIAPI(LanguageModel):\n",
    "    def __init__(self, model_name: str, temperature=0.7, max_tokens=512, seed=0, base_url=None, api_key=None):\n",
    "        super().__init__(model_name, temperature=temperature, max_tokens=max_tokens, seed=seed)\n",
    "        self.client = OpenAI(base_url=base_url, api_key=api_key)\n",
    "        logger.debug(f\"base_url: {self.client.base_url}, api_key: {self.client.api_key[:3]}...\")\n",
    "\n",
    "    def __call__(self, messages_batch: list[list[dict[str, str]]]) -> list[str]:\n",
    "        return [\n",
    "            self.client.chat.completions.create(\n",
    "                model=self.model_name,\n",
    "                messages=messages,\n",
    "                temperature=self.temperature,\n",
    "                max_tokens=self.max_tokens,\n",
    "                seed=self.seed,\n",
    "            )\n",
    "            .choices[0]\n",
    "            .message.content\n",
    "            or \"\"\n",
    "            for messages in messages_batch\n",
    "        ]"
   ]
  },
  {
   "cell_type": "code",
   "execution_count": 6,
   "metadata": {},
   "outputs": [],
   "source": [
    "# class VLLMModel(LanguageModel):\n",
    "#     def __init__(self, model_name: str, temperature=0.7, max_tokens=512, seed=0, stop=[], repetition_penalty=1.0):\n",
    "#         super().__init__(model_name, temperature=temperature, max_tokens=max_tokens, seed=seed)\n",
    "#         self.vllm = LLM(model_name)\n",
    "#         self.sampling_params = SamplingParams(temperature=temperature, max_tokens=max_tokens, seed=seed, stop=stop, repetition_penalty=repetition_penalty)\n",
    "#         logger.debug(f\"sampling_params: {self.sampling_params}\")\n",
    "\n",
    "#     def __call__(self, messages_batch: list[list[dict[str, str]]]) -> list[str]:\n",
    "#         tokenizer = self.vllm.get_tokenizer()\n",
    "#         prompts = [tokenizer.apply_chat_template(messages, tokenize=False, add_generation_prompt=True) for messages in messages_batch]\n",
    "#         # logger.debug(f\"prompts[0]: {prompts[0]}\")\n",
    "#         outputs = self.vllm.generate(prompts, sampling_params=self.sampling_params, use_tqdm=False)\n",
    "#         # logger.debug(f\"outputs[0].outputs[0].text: {outputs[0].outputs[0].text}\")\n",
    "#         return [o.outputs[0].text for o in outputs]"
   ]
  },
  {
   "cell_type": "code",
   "execution_count": 7,
   "metadata": {},
   "outputs": [
    {
     "name": "stderr",
     "output_type": "stream",
     "text": [
      "model_name: gpt-4o-mini, temperature: 0.7, max_tokens: 512, seed: 0\n",
      "base_url: https://api.openai.com/v1/, api_key: sk-...\n"
     ]
    },
    {
     "data": {
      "text/plain": [
       "<__main__.OpenAIAPI at 0x10f5f3dc0>"
      ]
     },
     "execution_count": 7,
     "metadata": {},
     "output_type": "execute_result"
    }
   ],
   "source": [
    "llm = OpenAIAPI(\"gpt-4o-mini\", temperature=0.7, max_tokens=512, seed=0)\n",
    "llm"
   ]
  },
  {
   "cell_type": "code",
   "execution_count": 8,
   "metadata": {},
   "outputs": [],
   "source": [
    "# llm = VLLMModel(\"cyberagent/calm3-22b-chat\", temperature=0.7, max_tokens=512, seed=0, stop=[\"<|endoftext|>\", \"<|im_end|>\", \"<|im_start|>\"], repetition_penalty=1.1)\n",
    "# llm"
   ]
  },
  {
   "cell_type": "code",
   "execution_count": 9,
   "metadata": {},
   "outputs": [
    {
     "data": {
      "text/plain": [
       "[\"Hello! I'm just a computer program, so I don't have feelings, but I'm here and ready to help you. How can I assist you today?\"]"
      ]
     },
     "execution_count": 9,
     "metadata": {},
     "output_type": "execute_result"
    }
   ],
   "source": [
    "llm([[{\"role\": \"user\", \"content\": \"Hello, how are you?\"}]])"
   ]
  },
  {
   "cell_type": "code",
   "execution_count": 10,
   "metadata": {},
   "outputs": [],
   "source": [
    "def get_q1_prompt(task: str, topic: str, item: str, target: str) -> list[dict[str, str]]:\n",
    "    Q1_PROMPT_TEMPLATE = \"\"\"Create a {task} problem related to the following {topic}:\n",
    "\n",
    "{item}\n",
    "\n",
    "Note:\n",
    "\n",
    "1. The {task} problem should be simple and involve basic {task} skills and knowledge. Any average {target} can solve it correctly.\n",
    "2. You should make full use of the {topic} description to create the {task} problem to ensure that the {task} problem is unique and specific to the {topic}.\n",
    "3. Your response should always start with \"問題:\". Your response should not include a solution to the created {task} problem.\n",
    "4. 簡潔に日本語で回答してください。\n",
    "\"\"\"\n",
    "    return [\n",
    "        # {\"role\": \"system\", \"content\": \"あなたは親切なAIアシスタントです。日本語で回答してください。\"},\n",
    "        {\"role\": \"user\", \"content\": Q1_PROMPT_TEMPLATE.format(task=task, topic=topic, item=item, target=target)},\n",
    "    ]"
   ]
  },
  {
   "cell_type": "code",
   "execution_count": 11,
   "metadata": {},
   "outputs": [
    {
     "name": "stdout",
     "output_type": "stream",
     "text": [
      "[{'content': 'Create a math problem related to the following persona:\\n'\n",
      "             '\\n'\n",
      "             'SF作家\\n'\n",
      "             '\\n'\n",
      "             'Note:\\n'\n",
      "             '\\n'\n",
      "             '1. The math problem should be simple and involve basic math skills and knowledge. Any average grade '\n",
      "             'school student can solve it correctly.\\n'\n",
      "             '2. You should make full use of the persona description to create the math problem to ensure that the '\n",
      "             'math problem is unique and specific to the persona.\\n'\n",
      "             '3. Your response should always start with \"問題:\". Your response should not include a solution to the '\n",
      "             'created math problem.\\n'\n",
      "             '4. 簡潔に日本語で回答してください。\\n',\n",
      "  'role': 'user'}]\n"
     ]
    }
   ],
   "source": [
    "q1_prompt = get_q1_prompt(\"math\", \"persona\", \"SF作家\", \"grade school student\")\n",
    "pp.pprint(q1_prompt)"
   ]
  },
  {
   "cell_type": "code",
   "execution_count": 12,
   "metadata": {},
   "outputs": [
    {
     "data": {
      "text/plain": [
       "['問題: SF作家の佐藤さんは新しい短編小説を書いています。彼は毎日、物語の内容を考えるのに3時間を費やし、さらに2時間を執筆に使っています。もし彼が1週間（7日間）毎日同じ時間を使った場合、彼は合計で何時間を物語の考案と執筆に費やすことになりますか？']"
      ]
     },
     "execution_count": 12,
     "metadata": {},
     "output_type": "execute_result"
    }
   ],
   "source": [
    "q1s = llm([get_q1_prompt(\"math\", \"persona\", \"SF作家\", \"grade school student\")])\n",
    "q1s"
   ]
  },
  {
   "cell_type": "code",
   "execution_count": 13,
   "metadata": {},
   "outputs": [
    {
     "data": {
      "text/plain": [
       "['問題: \\n\\nSF作家であるあなたは、未来の宇宙旅行の物語を執筆しています。あなたの物語の中で、宇宙船が光速の80%で移動すると仮定します。ある惑星から別の惑星までの距離は、地球からの距離で200光年です。相対性理論に基づいて、宇宙船が目的地に到達するまでの時間を、地球側の観測者と宇宙船の乗組員のそれぞれにとってどれくらいか計算してください。なお、相対性理論の時間の遅れの公式を用いることを忘れずに。']"
      ]
     },
     "execution_count": 13,
     "metadata": {},
     "output_type": "execute_result"
    }
   ],
   "source": [
    "q1s = llm([get_q1_prompt(\"advanced math\", \"persona\", \"SF作家\", \"graduate student\")])\n",
    "q1s"
   ]
  },
  {
   "cell_type": "code",
   "execution_count": 14,
   "metadata": {},
   "outputs": [],
   "source": [
    "def filter_q1(content: str) -> str:\n",
    "    content = content.strip()\n",
    "    content = re.sub(r\"^問題[：:]\", \"\", content, flags=re.DOTALL)\n",
    "    content = re.sub(r\"^Problem[：:]\", \"\", content, flags=re.DOTALL)\n",
    "    content = re.sub(r\"\\n答え[：:].*\", \"\", content, flags=re.DOTALL)\n",
    "    content = re.sub(r\"\\n[解回]答[：:].*\", \"\", content, flags=re.DOTALL)\n",
    "    content = re.sub(r\"\\n[Aa]nswer[：:].*\", \"\", content, flags=re.DOTALL)  # cspell: disable-line\n",
    "    content = content.strip()\n",
    "    return content"
   ]
  },
  {
   "cell_type": "code",
   "execution_count": 15,
   "metadata": {},
   "outputs": [
    {
     "data": {
      "text/plain": [
       "'SF作家であるあなたは、未来の宇宙旅行の物語を執筆しています。あなたの物語の中で、宇宙船が光速の80%で移動すると仮定します。ある惑星から別の惑星までの距離は、地球からの距離で200光年です。相対性理論に基づいて、宇宙船が目的地に到達するまでの時間を、地球側の観測者と宇宙船の乗組員のそれぞれにとってどれくらいか計算してください。なお、相対性理論の時間の遅れの公式を用いることを忘れずに。'"
      ]
     },
     "execution_count": 15,
     "metadata": {},
     "output_type": "execute_result"
    }
   ],
   "source": [
    "filter_q1(q1s[0])"
   ]
  },
  {
   "cell_type": "code",
   "execution_count": 16,
   "metadata": {},
   "outputs": [
    {
     "data": {
      "text/plain": [
       "'ここは問題です。'"
      ]
     },
     "execution_count": 16,
     "metadata": {},
     "output_type": "execute_result"
    }
   ],
   "source": [
    "filter_q1(\"問題: ここは問題です。\\n\\n解答: ここは答えです。\")"
   ]
  },
  {
   "cell_type": "code",
   "execution_count": 17,
   "metadata": {},
   "outputs": [],
   "source": [
    "def generate_q1(\n",
    "    llm: LanguageModel, tasks: list[str], topics: list[str], items: list[str], targets: list[str]\n",
    ") -> list[str]:\n",
    "    return [\n",
    "        filter_q1(q1)\n",
    "        for q1 in llm(\n",
    "            [\n",
    "                get_q1_prompt(task, topic, item, target)\n",
    "                for task, topic, item, target in zip(tasks, topics, items, targets)\n",
    "            ]\n",
    "        )\n",
    "    ]"
   ]
  },
  {
   "cell_type": "code",
   "execution_count": 18,
   "metadata": {},
   "outputs": [
    {
     "data": {
      "text/plain": [
       "['SF作家の佐藤さんは新しい短編小説を書いています。彼は毎日、物語の内容を考えるのに3時間を費やし、さらに2時間を執筆に使っています。もし彼が1週間（7日間）毎日同じ時間を使った場合、彼は合計で何時間を物語の考案と執筆に費やすことになりますか？',\n",
       " 'SF作家であるあなたは、未来の宇宙旅行の物語を執筆しています。あなたの物語の中で、宇宙船が光速の80%で移動すると仮定します。ある惑星から別の惑星までの距離は、地球からの距離で200光年です。宇宙船の速度に基づいて、宇宙船がこの距離を移動するのにかかる時間（地球の観測者から見た時間）を計算してください。ただし、相対性理論を考慮し、時間の遅れを考慮する必要があります。具体的には、ローレンツ因子を使用して、地球での経過時間を求めてください。']"
      ]
     },
     "execution_count": 18,
     "metadata": {},
     "output_type": "execute_result"
    }
   ],
   "source": [
    "q1s = generate_q1(\n",
    "    llm,\n",
    "    [\"math\", \"advanced math\"],\n",
    "    [\"persona\", \"persona\"],\n",
    "    [\"SF作家\", \"SF作家\"],\n",
    "    [\"grade school student\", \"college student\"],\n",
    ")\n",
    "q1s"
   ]
  },
  {
   "cell_type": "code",
   "execution_count": 19,
   "metadata": {},
   "outputs": [],
   "source": [
    "def get_a1_prompt(q1: str) -> list[dict]:\n",
    "    A1_PROMPT_TEMPLATE = \"{q1}\\n\\n簡潔に日本語で回答してください。\"\n",
    "    return [\n",
    "        # {\"role\": \"system\", \"content\": \"あなたは親切なAIアシスタントです。日本語で回答してください。\"},\n",
    "        {\"role\": \"user\", \"content\": A1_PROMPT_TEMPLATE.format(q1=q1)},\n",
    "    ]"
   ]
  },
  {
   "cell_type": "code",
   "execution_count": 20,
   "metadata": {},
   "outputs": [
    {
     "data": {
      "text/plain": [
       "[{'role': 'user',\n",
       "  'content': 'SF作家の佐藤さんは新しい短編小説を書いています。彼は毎日、物語の内容を考えるのに3時間を費やし、さらに2時間を執筆に使っています。もし彼が1週間（7日間）毎日同じ時間を使った場合、彼は合計で何時間を物語の考案と執筆に費やすことになりますか？\\n\\n簡潔に日本語で回答してください。'}]"
      ]
     },
     "execution_count": 20,
     "metadata": {},
     "output_type": "execute_result"
    }
   ],
   "source": [
    "a1_prompt = get_a1_prompt(q1s[0])\n",
    "a1_prompt"
   ]
  },
  {
   "cell_type": "code",
   "execution_count": 21,
   "metadata": {},
   "outputs": [
    {
     "data": {
      "text/plain": [
       "['佐藤さんは毎日5時間（3時間の考案 + 2時間の執筆）を費やしています。1週間で7日間あるので、合計は5時間 × 7日 = 35時間です。したがって、彼は合計で35時間を物語の考案と執筆に費やすことになります。']"
      ]
     },
     "execution_count": 21,
     "metadata": {},
     "output_type": "execute_result"
    }
   ],
   "source": [
    "llm([get_a1_prompt(q1s[0])])"
   ]
  },
  {
   "cell_type": "code",
   "execution_count": 22,
   "metadata": {},
   "outputs": [
    {
     "data": {
      "text/plain": [
       "['宇宙船が光速の80%（0.8c）で移動する場合、ローレンツ因子（γ）は次のように計算されます。\\n\\n\\\\[\\n\\\\gamma = \\\\frac{1}{\\\\sqrt{1 - v^2/c^2}} = \\\\frac{1}{\\\\sqrt{1 - (0.8)^2}} = \\\\frac{1}{\\\\sqrt{1 - 0.64}} = \\\\frac{1}{\\\\sqrt{0.36}} = \\\\frac{1}{0.6} \\\\approx 1.6667\\n\\\\]\\n\\n次に、200光年の距離を0.8cで移動するのにかかる地球の時間（t）を求めます。\\n\\n\\\\[\\nt = \\\\frac{距離}{速度} = \\\\frac{200 \\\\text{光年}}{0.8c} = \\\\frac{200}{0.8} \\\\text{年} = 250 \\\\text{年}\\n\\\\]\\n\\n相対性理論による時間の遅れを考慮するため、地球の観測者から見た経過時間は次のように修正されます。\\n\\n\\\\[\\nt_{地球} = \\\\gamma \\\\times t_{宇宙船} = t\\n\\\\]\\n\\nここで、宇宙船の時間（t_{宇宙船}）は以下のように求めます。\\n\\n\\\\[\\nt_{宇宙船} = \\\\frac{t_{地球}}{\\\\gamma} = \\\\frac{250 \\\\text{年}}{1.6667} \\\\approx 150 \\\\text{年}\\n\\\\]\\n\\nしたがって、地球の観測者から見た宇宙船が200光年を移動するのにかかる時間は約250年です。']"
      ]
     },
     "execution_count": 22,
     "metadata": {},
     "output_type": "execute_result"
    }
   ],
   "source": [
    "llm([get_a1_prompt(q1s[1])])"
   ]
  },
  {
   "cell_type": "code",
   "execution_count": 23,
   "metadata": {},
   "outputs": [],
   "source": [
    "def filter_a1(content: str) -> str:\n",
    "    content = content.strip()\n",
    "    content = re.sub(r\"^答え[：:]\", \"\", content, flags=re.DOTALL)\n",
    "    content = re.sub(r\"^[解回]答[：:]\", \"\", content, flags=re.DOTALL)\n",
    "    content = re.sub(r\"^[Aa]nswer[：:]\", \"\", content, flags=re.DOTALL)  # cspell: disable-line\n",
    "    content = content.strip()\n",
    "    return content"
   ]
  },
  {
   "cell_type": "code",
   "execution_count": 24,
   "metadata": {},
   "outputs": [
    {
     "data": {
      "text/plain": [
       "'ここは答えです。'"
      ]
     },
     "execution_count": 24,
     "metadata": {},
     "output_type": "execute_result"
    }
   ],
   "source": [
    "filter_a1(\"解答: ここは答えです。\")"
   ]
  },
  {
   "cell_type": "code",
   "execution_count": 25,
   "metadata": {},
   "outputs": [],
   "source": [
    "def generate_a1(llm: LanguageModel, q1s: list[str]) -> list[str]:\n",
    "    return [filter_a1(a1) for a1 in llm([get_a1_prompt(q1) for q1 in q1s])]"
   ]
  },
  {
   "cell_type": "code",
   "execution_count": 26,
   "metadata": {},
   "outputs": [
    {
     "data": {
      "text/plain": [
       "['佐藤さんは毎日5時間（3時間の考案 + 2時間の執筆）を費やしています。1週間で7日間あるので、合計は5時間 × 7日 = 35時間です。したがって、彼は合計で35時間を物語の考案と執筆に費やすことになります。',\n",
       " '宇宙船の速度が光速の80%（0.8c）であると仮定します。ローレンツ因子（γ）は以下の式で計算できます。\\n\\n\\\\[\\n\\\\gamma = \\\\frac{1}{\\\\sqrt{1 - \\\\left(\\\\frac{v}{c}\\\\right)^2}} \\n\\\\]\\n\\nここで、\\\\( v = 0.8c \\\\) なので、\\n\\n\\\\[\\n\\\\gamma = \\\\frac{1}{\\\\sqrt{1 - (0.8)^2}} = \\\\frac{1}{\\\\sqrt{1 - 0.64}} = \\\\frac{1}{\\\\sqrt{0.36}} = \\\\frac{1}{0.6} \\\\approx 1.6667\\n\\\\]\\n\\n次に、宇宙船が移動する距離は200光年です。地球の観測者から見た時間（\\\\( t \\\\)）は以下の式で求められます。\\n\\n\\\\[\\nt = \\\\frac{d}{v} = \\\\frac{200 \\\\text{光年}}{0.8c}\\n\\\\]\\n\\n光速の定義から、光年は時間の単位（1光年 = 1年で光が進む距離）として使われるため、\\n\\n\\\\[\\nt = \\\\frac{200}{0.8} = 250 \\\\text{年}\\n\\\\]\\n\\nしたがって、地球の観測者から見た宇宙船が200光年の距離を移動するのにかかる時間は250年です。']"
      ]
     },
     "execution_count": 26,
     "metadata": {},
     "output_type": "execute_result"
    }
   ],
   "source": [
    "a1s = generate_a1(llm, q1s)\n",
    "a1s"
   ]
  },
  {
   "cell_type": "code",
   "execution_count": 27,
   "metadata": {},
   "outputs": [],
   "source": [
    "def get_q2_prompt(q1: str, a1: str) -> list[dict[str, str]]:\n",
    "    Q2_PROMPT_TEMPLATE = \"前述の問題をより理解するために、簡潔な追加の質問を一つ作ってください。問題の一部を変更したり、条件を追加しても良いです。追加の質問だけを書き、決して答えを含めないでください。\"\n",
    "    return [\n",
    "        # {\"role\": \"system\", \"content\": \"あなたは親切なAIアシスタントです。日本語で回答してください。\"},\n",
    "        {\"role\": \"user\", \"content\": q1},\n",
    "        {\"role\": \"assistant\", \"content\": a1},\n",
    "        {\"role\": \"user\", \"content\": Q2_PROMPT_TEMPLATE},\n",
    "    ]"
   ]
  },
  {
   "cell_type": "code",
   "execution_count": 28,
   "metadata": {},
   "outputs": [
    {
     "data": {
      "text/plain": [
       "[{'role': 'user',\n",
       "  'content': 'SF作家の佐藤さんは新しい短編小説を書いています。彼は毎日、物語の内容を考えるのに3時間を費やし、さらに2時間を執筆に使っています。もし彼が1週間（7日間）毎日同じ時間を使った場合、彼は合計で何時間を物語の考案と執筆に費やすことになりますか？'},\n",
       " {'role': 'assistant',\n",
       "  'content': '佐藤さんは毎日5時間（3時間の考案 + 2時間の執筆）を費やしています。1週間で7日間あるので、合計は5時間 × 7日 = 35時間です。したがって、彼は合計で35時間を物語の考案と執筆に費やすことになります。'},\n",
       " {'role': 'user',\n",
       "  'content': '前述の問題をより理解するために、簡潔な追加の質問を一つ作ってください。問題の一部を変更したり、条件を追加しても良いです。追加の質問だけを書き、決して答えを含めないでください。'}]"
      ]
     },
     "execution_count": 28,
     "metadata": {},
     "output_type": "execute_result"
    }
   ],
   "source": [
    "q2_prompt = get_q2_prompt(q1s[0], a1s[0])\n",
    "q2_prompt"
   ]
  },
  {
   "cell_type": "code",
   "execution_count": 29,
   "metadata": {},
   "outputs": [
    {
     "data": {
      "text/plain": [
       "['もし佐藤さんが毎日、考案に使う時間を1時間増やし、執筆に使う時間を1時間減らした場合、1週間で合計何時間を物語の考案と執筆に費やすことになりますか？']"
      ]
     },
     "execution_count": 29,
     "metadata": {},
     "output_type": "execute_result"
    }
   ],
   "source": [
    "llm([get_q2_prompt(q1s[0], a1s[0])])"
   ]
  },
  {
   "cell_type": "code",
   "execution_count": 30,
   "metadata": {},
   "outputs": [],
   "source": [
    "def filter_q2(content: str) -> str:\n",
    "    content = content.strip()\n",
    "    content = re.sub(r\"^追加の質問[：:]\", \"\", content, flags=re.DOTALL)\n",
    "    content = re.sub(r\"^質問[：:]\", \"\", content, flags=re.DOTALL)\n",
    "    content = content.strip()\n",
    "    return content"
   ]
  },
  {
   "cell_type": "code",
   "execution_count": 31,
   "metadata": {},
   "outputs": [],
   "source": [
    "def generate_q2(llm: LanguageModel, q1s: list[str], a1s: list[str]) -> list[str]:\n",
    "    return [filter_q2(q2) for q2 in llm([get_q2_prompt(q1, a1) for q1, a1 in zip(q1s, a1s)])]"
   ]
  },
  {
   "cell_type": "code",
   "execution_count": 32,
   "metadata": {},
   "outputs": [
    {
     "data": {
      "text/plain": [
       "['もし佐藤さんが毎日、考案に使う時間を4時間、執筆に使う時間を1時間に変更した場合、1週間で合計何時間を物語の考案と執筆に費やすことになりますか？',\n",
       " '宇宙船が光速の90%（0.9c）で移動する場合、同じ200光年の距離を移動するのにかかる時間（地球の観測者から見た時間）を計算してください。ただし、ローレンツ因子を使用して、時間の遅れも考慮してください。']"
      ]
     },
     "execution_count": 32,
     "metadata": {},
     "output_type": "execute_result"
    }
   ],
   "source": [
    "q2s = generate_q2(llm, q1s, a1s)\n",
    "q2s"
   ]
  },
  {
   "cell_type": "code",
   "execution_count": 33,
   "metadata": {},
   "outputs": [
    {
     "data": {
      "text/plain": [
       "('SF作家の佐藤さんは新しい短編小説を書いています。彼は毎日、物語の内容を考えるのに3時間を費やし、さらに2時間を執筆に使っています。もし彼が1週間（7日間）毎日同じ時間を使った場合、彼は合計で何時間を物語の考案と執筆に費やすことになりますか？',\n",
       " '佐藤さんは毎日5時間（3時間の考案 + 2時間の執筆）を費やしています。1週間で7日間あるので、合計は5時間 × 7日 = 35時間です。したがって、彼は合計で35時間を物語の考案と執筆に費やすことになります。',\n",
       " 'もし佐藤さんが毎日、考案に使う時間を4時間、執筆に使う時間を1時間に変更した場合、1週間で合計何時間を物語の考案と執筆に費やすことになりますか？')"
      ]
     },
     "execution_count": 33,
     "metadata": {},
     "output_type": "execute_result"
    }
   ],
   "source": [
    "list(zip(q1s, a1s, q2s))[0]"
   ]
  },
  {
   "cell_type": "code",
   "execution_count": 34,
   "metadata": {},
   "outputs": [],
   "source": [
    "def get_a2_prompt(q1: str, a1: str, q2: str) -> list[dict[str, str]]:\n",
    "    A2_PROMPT_TEMPLATE = \"{q2}\\n\\n簡潔に日本語で回答してください。\"\n",
    "    return [\n",
    "        # {\"role\": \"system\", \"content\": \"あなたは親切なAIアシスタントです。日本語で回答してください。\"},\n",
    "        {\"role\": \"user\", \"content\": q1},\n",
    "        {\"role\": \"assistant\", \"content\": a1},\n",
    "        {\"role\": \"user\", \"content\": A2_PROMPT_TEMPLATE.format(q2=q2)},\n",
    "    ]"
   ]
  },
  {
   "cell_type": "code",
   "execution_count": 35,
   "metadata": {},
   "outputs": [
    {
     "data": {
      "text/plain": [
       "[{'role': 'user',\n",
       "  'content': 'SF作家の佐藤さんは新しい短編小説を書いています。彼は毎日、物語の内容を考えるのに3時間を費やし、さらに2時間を執筆に使っています。もし彼が1週間（7日間）毎日同じ時間を使った場合、彼は合計で何時間を物語の考案と執筆に費やすことになりますか？'},\n",
       " {'role': 'assistant',\n",
       "  'content': '佐藤さんは毎日5時間（3時間の考案 + 2時間の執筆）を費やしています。1週間で7日間あるので、合計は5時間 × 7日 = 35時間です。したがって、彼は合計で35時間を物語の考案と執筆に費やすことになります。'},\n",
       " {'role': 'user',\n",
       "  'content': 'もし佐藤さんが毎日、考案に使う時間を4時間、執筆に使う時間を1時間に変更した場合、1週間で合計何時間を物語の考案と執筆に費やすことになりますか？\\n\\n簡潔に日本語で回答してください。'}]"
      ]
     },
     "execution_count": 35,
     "metadata": {},
     "output_type": "execute_result"
    }
   ],
   "source": [
    "a2_prompt = get_a2_prompt(q1s[0], a1s[0], q2s[0])\n",
    "a2_prompt"
   ]
  },
  {
   "cell_type": "code",
   "execution_count": 36,
   "metadata": {},
   "outputs": [
    {
     "data": {
      "text/plain": [
       "['毎日5時間（4時間の考案 + 1時間の執筆）を費やします。1週間で7日間なので、合計は5時間 × 7日 = 35時間です。佐藤さんは合計で35時間を費やします。',\n",
       " '宇宙船が光速の90%（0.9c）で移動する場合、ローレンツ因子（γ）は以下のように計算されます。\\n\\n\\\\[\\n\\\\gamma = \\\\frac{1}{\\\\sqrt{1 - (0.9)^2}} = \\\\frac{1}{\\\\sqrt{1 - 0.81}} = \\\\frac{1}{\\\\sqrt{0.19}} \\\\approx 2.294\\n\\\\]\\n\\n次に、地球の観測者から見た時間（\\\\( t \\\\)）を計算します。\\n\\n\\\\[\\nt = \\\\frac{d}{v} = \\\\frac{200 \\\\text{光年}}{0.9c} = \\\\frac{200}{0.9} \\\\approx 222.22 \\\\text{年}\\n\\\\]\\n\\nしたがって、地球の観測者から見た宇宙船が200光年の距離を移動するのにかかる時間は約222.22年です。']"
      ]
     },
     "execution_count": 36,
     "metadata": {},
     "output_type": "execute_result"
    }
   ],
   "source": [
    "a2s = llm([get_a2_prompt(q1, a1, q2) for q1, a1, q2 in zip(q1s, a1s, q2s)])\n",
    "a2s"
   ]
  },
  {
   "cell_type": "code",
   "execution_count": 37,
   "metadata": {},
   "outputs": [],
   "source": [
    "def filter_a2(content: str) -> str:\n",
    "    content = content.strip()\n",
    "    content = re.sub(r\"^答え[：:]\", \"\", content, flags=re.DOTALL)\n",
    "    content = re.sub(r\"^[解回]答[：:]\", \"\", content, flags=re.DOTALL)\n",
    "    content = re.sub(r\"^[Aa]nswer[：:]\", \"\", content, flags=re.DOTALL)  # cspell: disable-line\n",
    "    content = content.strip()\n",
    "    return content"
   ]
  },
  {
   "cell_type": "code",
   "execution_count": 38,
   "metadata": {},
   "outputs": [],
   "source": [
    "def generate_a2(llm: LanguageModel, q1s: list[str], a1s: list[str], q2s: list[str]) -> list[str]:\n",
    "    return [filter_a2(a2) for a2 in llm([get_a2_prompt(q1, a1, q2) for q1, a1, q2 in zip(q1s, a1s, q2s)])]"
   ]
  },
  {
   "cell_type": "code",
   "execution_count": 39,
   "metadata": {},
   "outputs": [
    {
     "data": {
      "text/plain": [
       "['毎日5時間（4時間の考案 + 1時間の執筆）を費やします。1週間で7日間なので、合計は5時間 × 7日 = 35時間です。佐藤さんは合計で35時間を費やします。',\n",
       " '宇宙船が光速の90%（0.9c）で移動する場合、ローレンツ因子（γ）は以下のように計算されます。\\n\\n\\\\[\\n\\\\gamma = \\\\frac{1}{\\\\sqrt{1 - (0.9)^2}} = \\\\frac{1}{\\\\sqrt{1 - 0.81}} = \\\\frac{1}{\\\\sqrt{0.19}} \\\\approx 2.294\\n\\\\]\\n\\n次に、地球の観測者から見た時間（\\\\( t \\\\)）を計算します。\\n\\n\\\\[\\nt = \\\\frac{d}{v} = \\\\frac{200 \\\\text{光年}}{0.9c} = \\\\frac{200}{0.9} \\\\approx 222.22 \\\\text{年}\\n\\\\]\\n\\nしたがって、地球の観測者から見た宇宙船が200光年の距離を移動するのにかかる時間は約222.22年です。']"
      ]
     },
     "execution_count": 39,
     "metadata": {},
     "output_type": "execute_result"
    }
   ],
   "source": [
    "a2s = generate_a2(llm, q1s, a1s, q2s)\n",
    "a2s"
   ]
  },
  {
   "cell_type": "code",
   "execution_count": 40,
   "metadata": {},
   "outputs": [
    {
     "data": {
      "text/plain": [
       "('SF作家の佐藤さんは新しい短編小説を書いています。彼は毎日、物語の内容を考えるのに3時間を費やし、さらに2時間を執筆に使っています。もし彼が1週間（7日間）毎日同じ時間を使った場合、彼は合計で何時間を物語の考案と執筆に費やすことになりますか？',\n",
       " '佐藤さんは毎日5時間（3時間の考案 + 2時間の執筆）を費やしています。1週間で7日間あるので、合計は5時間 × 7日 = 35時間です。したがって、彼は合計で35時間を物語の考案と執筆に費やすことになります。',\n",
       " 'もし佐藤さんが毎日、考案に使う時間を4時間、執筆に使う時間を1時間に変更した場合、1週間で合計何時間を物語の考案と執筆に費やすことになりますか？',\n",
       " '毎日5時間（4時間の考案 + 1時間の執筆）を費やします。1週間で7日間なので、合計は5時間 × 7日 = 35時間です。佐藤さんは合計で35時間を費やします。')"
      ]
     },
     "execution_count": 40,
     "metadata": {},
     "output_type": "execute_result"
    }
   ],
   "source": [
    "list(zip(q1s, a1s, q2s, a2s))[0]"
   ]
  },
  {
   "cell_type": "code",
   "execution_count": 41,
   "metadata": {},
   "outputs": [
    {
     "data": {
      "text/plain": [
       "('SF作家であるあなたは、未来の宇宙旅行の物語を執筆しています。あなたの物語の中で、宇宙船が光速の80%で移動すると仮定します。ある惑星から別の惑星までの距離は、地球からの距離で200光年です。宇宙船の速度に基づいて、宇宙船がこの距離を移動するのにかかる時間（地球の観測者から見た時間）を計算してください。ただし、相対性理論を考慮し、時間の遅れを考慮する必要があります。具体的には、ローレンツ因子を使用して、地球での経過時間を求めてください。',\n",
       " '宇宙船の速度が光速の80%（0.8c）であると仮定します。ローレンツ因子（γ）は以下の式で計算できます。\\n\\n\\\\[\\n\\\\gamma = \\\\frac{1}{\\\\sqrt{1 - \\\\left(\\\\frac{v}{c}\\\\right)^2}} \\n\\\\]\\n\\nここで、\\\\( v = 0.8c \\\\) なので、\\n\\n\\\\[\\n\\\\gamma = \\\\frac{1}{\\\\sqrt{1 - (0.8)^2}} = \\\\frac{1}{\\\\sqrt{1 - 0.64}} = \\\\frac{1}{\\\\sqrt{0.36}} = \\\\frac{1}{0.6} \\\\approx 1.6667\\n\\\\]\\n\\n次に、宇宙船が移動する距離は200光年です。地球の観測者から見た時間（\\\\( t \\\\)）は以下の式で求められます。\\n\\n\\\\[\\nt = \\\\frac{d}{v} = \\\\frac{200 \\\\text{光年}}{0.8c}\\n\\\\]\\n\\n光速の定義から、光年は時間の単位（1光年 = 1年で光が進む距離）として使われるため、\\n\\n\\\\[\\nt = \\\\frac{200}{0.8} = 250 \\\\text{年}\\n\\\\]\\n\\nしたがって、地球の観測者から見た宇宙船が200光年の距離を移動するのにかかる時間は250年です。',\n",
       " '宇宙船が光速の90%（0.9c）で移動する場合、同じ200光年の距離を移動するのにかかる時間（地球の観測者から見た時間）を計算してください。ただし、ローレンツ因子を使用して、時間の遅れも考慮してください。',\n",
       " '宇宙船が光速の90%（0.9c）で移動する場合、ローレンツ因子（γ）は以下のように計算されます。\\n\\n\\\\[\\n\\\\gamma = \\\\frac{1}{\\\\sqrt{1 - (0.9)^2}} = \\\\frac{1}{\\\\sqrt{1 - 0.81}} = \\\\frac{1}{\\\\sqrt{0.19}} \\\\approx 2.294\\n\\\\]\\n\\n次に、地球の観測者から見た時間（\\\\( t \\\\)）を計算します。\\n\\n\\\\[\\nt = \\\\frac{d}{v} = \\\\frac{200 \\\\text{光年}}{0.9c} = \\\\frac{200}{0.9} \\\\approx 222.22 \\\\text{年}\\n\\\\]\\n\\nしたがって、地球の観測者から見た宇宙船が200光年の距離を移動するのにかかる時間は約222.22年です。')"
      ]
     },
     "execution_count": 41,
     "metadata": {},
     "output_type": "execute_result"
    }
   ],
   "source": [
    "list(zip(q1s, a1s, q2s, a2s))[1]"
   ]
  },
  {
   "cell_type": "code",
   "execution_count": 42,
   "metadata": {},
   "outputs": [],
   "source": [
    "def synthesis_multi_turn_qa(\n",
    "    llm: LanguageModel, tasks: list[str], topics: list[str], items: list[str], targets: list[str]\n",
    ") -> list[dict[str, str | list[dict[str, str]]]]:\n",
    "    q1s = generate_q1(llm, tasks, topics, items, targets)\n",
    "    a1s = generate_a1(llm, q1s)\n",
    "    q2s = generate_q2(llm, q1s, a1s)\n",
    "    a2s = generate_a2(llm, q1s, a1s, q2s)\n",
    "    return [\n",
    "        {\n",
    "            \"messages\": [\n",
    "                {\"role\": \"user\", \"content\": q1},\n",
    "                {\"role\": \"assistant\", \"content\": a1},\n",
    "                {\"role\": \"user\", \"content\": q2},\n",
    "                {\"role\": \"assistant\", \"content\": a2},\n",
    "            ],\n",
    "            \"task\": task,\n",
    "            \"topic\": topic,\n",
    "            \"item\": item,\n",
    "            \"target\": target,\n",
    "        }\n",
    "        for task, topic, item, target, q1, a1, q2, a2 in zip(tasks, topics, items, targets, q1s, a1s, q2s, a2s)\n",
    "    ]"
   ]
  },
  {
   "cell_type": "code",
   "execution_count": 43,
   "metadata": {},
   "outputs": [
    {
     "data": {
      "text/plain": [
       "[{'messages': [{'role': 'user',\n",
       "    'content': 'SF作家の佐藤さんは新しい短編小説を書いています。彼は毎日、物語の内容を考えるのに3時間を費やし、さらに2時間を執筆に使っています。もし彼が1週間（7日間）毎日同じ時間を使った場合、彼は合計で何時間を物語の考案と執筆に費やすことになりますか？'},\n",
       "   {'role': 'assistant',\n",
       "    'content': '佐藤さんは毎日5時間（3時間の考案 + 2時間の執筆）を費やします。1週間で7日間あるので、合計は5時間 × 7日 = 35時間です。'},\n",
       "   {'role': 'user',\n",
       "    'content': 'もし佐藤さんが週末にそれぞれ4時間を物語の考案に使い、平日は変わらず5時間を使った場合、1週間で合計何時間を物語の考案と執筆に費やすことになりますか？'},\n",
       "   {'role': 'assistant',\n",
       "    'content': '平日（5日間）は毎日5時間で、合計25時間。週末（2日間）は毎日4時間で、合計8時間。したがって、1週間で合計33時間を費やします。'}],\n",
       "  'task': 'math',\n",
       "  'topic': 'persona',\n",
       "  'item': 'SF作家',\n",
       "  'target': 'grade school student'},\n",
       " {'messages': [{'role': 'user',\n",
       "    'content': 'SF作家の田中さんは、3つの異なる宇宙を舞台とした小説を執筆しています。それぞれの宇宙には異なる数の惑星があります。宇宙Aには8つの惑星、宇宙Bには12の惑星、宇宙Cには15の惑星があります。田中さんは、それぞれの宇宙から1つの惑星を選んで物語に登場させることにしました。田中さんが選ぶことができる惑星の組み合わせの総数を求めなさい。'},\n",
       "   {'role': 'assistant',\n",
       "    'content': '田中さんが選べる惑星の組み合わせの総数は、宇宙A、宇宙B、宇宙Cそれぞれの惑星の数を掛け合わせて求めます。\\n\\n宇宙A: 8つの惑星  \\n宇宙B: 12の惑星  \\n宇宙C: 15の惑星  \\n\\n組み合わせの総数は、  \\n8 × 12 × 15 = 1440  \\n\\nしたがって、田中さんが選ぶことができる惑星の組み合わせの総数は1440通りです。'},\n",
       "   {'role': 'user',\n",
       "    'content': '宇宙Aには8つの惑星、宇宙Bには12の惑星、宇宙Cには15の惑星がありますが、宇宙Cからは3つの惑星の中から1つを選ぶことができる場合、田中さんが選ぶことができる惑星の組み合わせの総数は何通りになりますか？'},\n",
       "   {'role': 'assistant',\n",
       "    'content': '田中さんが選ぶことができる惑星の組み合わせの総数は、宇宙Aから8つ、宇宙Bから12の惑星、宇宙Cから3つの惑星の中から1つを選ぶので、\\n\\n8 × 12 × 3 = 288通りです。'}],\n",
       "  'task': 'advanced math',\n",
       "  'topic': 'persona',\n",
       "  'item': 'SF作家',\n",
       "  'target': 'college student'}]"
      ]
     },
     "execution_count": 43,
     "metadata": {},
     "output_type": "execute_result"
    }
   ],
   "source": [
    "qas = synthesis_multi_turn_qa(\n",
    "    llm,\n",
    "    [\"math\", \"advanced math\"],\n",
    "    [\"persona\", \"persona\"],\n",
    "    [\"SF作家\", \"SF作家\"],\n",
    "    [\"grade school student\", \"college student\"],\n",
    ")\n",
    "qas"
   ]
  },
  {
   "cell_type": "code",
   "execution_count": 44,
   "metadata": {},
   "outputs": [
    {
     "data": {
      "text/plain": [
       "635"
      ]
     },
     "execution_count": 44,
     "metadata": {},
     "output_type": "execute_result"
    }
   ],
   "source": [
    "# Here is a list of occupations. Extract items as a Python list.\n",
    "# (Paste the content of https://ja.wikipedia.org/wiki/%E8%81%B7%E6%A5%AD%E4%B8%80%E8%A6%A7 )\n",
    "\n",
    "personas = [\n",
    "    \"アイドル\",\n",
    "    \"アーキビスト\",\n",
    "    \"アクチュアリー\",\n",
    "    \"アシスタントディレクター\",\n",
    "    \"アスレティックトレーナー\",\n",
    "    \"アーティスト\",\n",
    "    \"アートディレクター\",\n",
    "    \"アナウンサー\",\n",
    "    \"アニメーター\",\n",
    "    \"海人\",\n",
    "    \"アメリカンフットボール選手\",\n",
    "    \"アレンジャー\",\n",
    "    \"あん摩マッサージ指圧師\",\n",
    "    \"医師\",\n",
    "    \"石工\",\n",
    "    \"イタコ\",\n",
    "    \"板前\",\n",
    "    \"鋳物工\",\n",
    "    \"イラストレーター\",\n",
    "    \"医療監視員\",\n",
    "    \"医療事務員\",\n",
    "    \"医療従事者\",\n",
    "    \"医療保険事務\",\n",
    "    \"刺青師\",\n",
    "    \"インストラクター\",\n",
    "    \"インダストリアルデザイナー\",\n",
    "    \"インタープリター (自然)\",\n",
    "    \"インテリアコーディネーター\",\n",
    "    \"インテリアデザイナー\",\n",
    "    \"ウェディングプランナー\",\n",
    "    \"ウェブデザイナー\",\n",
    "    \"鵜飼い\",\n",
    "    \"浮世絵師\",\n",
    "    \"宇宙飛行士\",\n",
    "    \"占い師\",\n",
    "    \"運転士\",\n",
    "    \"運転手\",\n",
    "    \"運転代行\",\n",
    "    \"映画監督\",\n",
    "    \"映画スタッフ\",\n",
    "    \"映画俳優\",\n",
    "    \"映画プロデューサー\",\n",
    "    \"営業員\",\n",
    "    \"衛視\",\n",
    "    \"衛生検査技師\",\n",
    "    \"映像作家\",\n",
    "    \"栄養教諭\",\n",
    "    \"栄養士\",\n",
    "    \"駅員\",\n",
    "    \"駅長\",\n",
    "    \"エクステリアデザイナー\",\n",
    "    \"エグゼクティブ・プロデューサー\",\n",
    "    \"絵師\",\n",
    "    \"エステティシャン\",\n",
    "    \"エディトリアルデザイナー\",\n",
    "    \"絵本作家\",\n",
    "    \"演歌歌手\",\n",
    "    \"園芸家\",\n",
    "    \"エンジニア\",\n",
    "    \"演出家\",\n",
    "    \"演奏家\",\n",
    "    \"オートレース選手\",\n",
    "    \"オプトメトリスト\",\n",
    "    \"お笑い芸人\",\n",
    "    \"お笑いタレント\",\n",
    "    \"音楽家\",\n",
    "    \"音楽評論家\",\n",
    "    \"音楽プロデューサー\",\n",
    "    \"音楽療法士\",\n",
    "    \"音響監督\",\n",
    "    \"音響技術者\",\n",
    "    \"海技従事者\",\n",
    "    \"会計士\",\n",
    "    \"外交官\",\n",
    "    \"外航客船パーサー\",\n",
    "    \"介護ヘルパー\",\n",
    "    \"海事代理士\",\n",
    "    \"会社員\",\n",
    "    \"海上自衛官\",\n",
    "    \"海上保安官\",\n",
    "    \"会長\",\n",
    "    \"介助犬訓練士\",\n",
    "    \"カイロプラクター\",\n",
    "    \"カウンセラー\",\n",
    "    \"画家\",\n",
    "    \"学芸員\",\n",
    "    \"科学者\",\n",
    "    \"学者\",\n",
    "    \"学生\",\n",
    "    \"学長\",\n",
    "    \"格闘家\",\n",
    "    \"菓子製造技能士\",\n",
    "    \"歌手\",\n",
    "    \"歌人\",\n",
    "    \"カスタマエンジニア\",\n",
    "    \"楽器製作者\",\n",
    "    \"学校事務職員\",\n",
    "    \"学校職員\",\n",
    "    \"学校用務員\",\n",
    "    \"活動弁士\",\n",
    "    \"家庭教師\",\n",
    "    \"カーデザイナー\",\n",
    "    \"歌舞伎役者\",\n",
    "    \"カメラマン\",\n",
    "    \"カラーコーディネーター\",\n",
    "    \"カラーセラピスト\",\n",
    "    \"為替ディーラー\",\n",
    "    \"環境デザイナー\",\n",
    "    \"環境計量士\",\n",
    "    \"環境コンサルタント\",\n",
    "    \"観光コンサルタント\",\n",
    "    \"看護師\",\n",
    "    \"看護助手\",\n",
    "    \"鑑定人\",\n",
    "    \"監督\",\n",
    "    \"官房長官\",\n",
    "    \"管理栄養士\",\n",
    "    \"官僚\",\n",
    "    \"議員\",\n",
    "    \"機関士\",\n",
    "    \"戯曲家\",\n",
    "    \"起業家\",\n",
    "    \"樵\",\n",
    "    \"棋士 (囲碁)\",\n",
    "    \"棋士 (将棋)\",\n",
    "    \"記者\",\n",
    "    \"騎手\",\n",
    "    \"技術コンサルタント\",\n",
    "    \"技術者\",\n",
    "    \"気象予報士\",\n",
    "    \"機長\",\n",
    "    \"キックボクサー\",\n",
    "    \"着付師\",\n",
    "    \"客室乗務員\",\n",
    "    \"脚本家\",\n",
    "    \"キャビンアテンダント\",\n",
    "    \"キャラクターデザイナー\",\n",
    "    \"キャリア (国家公務員)\",\n",
    "    \"キャリア・コンサルタント\",\n",
    "    \"救急救命士\",\n",
    "    \"救急隊員\",\n",
    "    \"きゅう師\",\n",
    "    \"給仕人\",\n",
    "    \"厩務員\",\n",
    "    \"キュレーター\",\n",
    "    \"教育関係職員\",\n",
    "    \"教員\",\n",
    "    \"行政官\",\n",
    "    \"行政書士\",\n",
    "    \"競艇選手\",\n",
    "    \"教頭\",\n",
    "    \"教諭\",\n",
    "    \"銀行員\",\n",
    "    \"空間情報コンサルタント\",\n",
    "    \"空間デザイナー\",\n",
    "    \"グラウンドキーパー\",\n",
    "    \"グラフィックデザイナー\",\n",
    "    \"グランドスタッフ\",\n",
    "    \"グランドホステス\",\n",
    "    \"クリエイティブ・ディレクター\",\n",
    "    \"クリーニング師\",\n",
    "    \"クレーン運転士\",\n",
    "    \"軍事評論家\",\n",
    "    \"軍人\",\n",
    "    \"ケアワーカー（介護士）\",\n",
    "    \"経営コンサルタント\",\n",
    "    \"経営者\",\n",
    "    \"芸妓\",\n",
    "    \"経済評論家\",\n",
    "    \"警察官\",\n",
    "    \"芸術家\",\n",
    "    \"芸人\",\n",
    "    \"芸能人\",\n",
    "    \"芸能リポーター\",\n",
    "    \"警備員\",\n",
    "    \"刑務官\",\n",
    "    \"警務官\",\n",
    "    \"計量士\",\n",
    "    \"競輪選手\",\n",
    "    \"劇作家\",\n",
    "    \"ケースワーカー\",\n",
    "    \"ゲームクリエイター\",\n",
    "    \"ゲームシナリオライター\",\n",
    "    \"ゲームデザイナー\",\n",
    "    \"ゲームライター\",\n",
    "    \"検疫官\",\n",
    "    \"研究員\",\n",
    "    \"言語聴覚士\",\n",
    "    \"検察官\",\n",
    "    \"検察事務官\",\n",
    "    \"建設コンサルタント\",\n",
    "    \"現像技師\",\n",
    "    \"建築家\",\n",
    "    \"建築コンサルタント\",\n",
    "    \"建築士\",\n",
    "    \"校閲者\",\n",
    "    \"航海士\",\n",
    "    \"公共政策コンサルタント\",\n",
    "    \"工業デザイナー\",\n",
    "    \"航空管制官\",\n",
    "    \"航空機関士\",\n",
    "    \"皇宮護衛官\",\n",
    "    \"航空自衛官\",\n",
    "    \"航空従事者\",\n",
    "    \"航空整備士\",\n",
    "    \"工芸家\",\n",
    "    \"講師 (教育)\",\n",
    "    \"工場長\",\n",
    "    \"交渉人\",\n",
    "    \"講談師\",\n",
    "    \"校長\",\n",
    "    \"交通指導員\",\n",
    "    \"高等学校教員\",\n",
    "    \"公認会計士\",\n",
    "    \"公務員\",\n",
    "    \"校務員\",\n",
    "    \"港湾荷役作業員\",\n",
    "    \"国際公務員\",\n",
    "    \"国連職員\",\n",
    "    \"国税専門官\",\n",
    "    \"国務大臣\",\n",
    "    \"ゴーストライター\",\n",
    "    \"国会議員\",\n",
    "    \"国会議員政策担当秘書\",\n",
    "    \"国会職員\",\n",
    "    \"国家公務員\",\n",
    "    \"コック\",\n",
    "    \"コ・デンタル\",\n",
    "    \"コピーライター\",\n",
    "    \"コミッショナー\",\n",
    "    \"コメディアン\",\n",
    "    \"コ・メディカル\",\n",
    "    \"コラムニスト\",\n",
    "    \"顧問\",\n",
    "    \"コンサルタント\",\n",
    "    \"コンシェルジュ\",\n",
    "    \"コンセプター\",\n",
    "    \"コンピュータ技術者\",\n",
    "    \"再開発プランナー・再開発コンサルタント\",\n",
    "    \"裁判官\",\n",
    "    \"裁判所職員\",\n",
    "    \"裁判所調査官\",\n",
    "    \"サウンドクリエイター\",\n",
    "    \"左官\",\n",
    "    \"作業療法士\",\n",
    "    \"作詞家\",\n",
    "    \"撮影監督\",\n",
    "    \"撮影技師\",\n",
    "    \"作家\",\n",
    "    \"サッカー選手\",\n",
    "    \"作曲家\",\n",
    "    \"茶道家\",\n",
    "    \"サラリーマン\",\n",
    "    \"参議院議員\",\n",
    "    \"指圧師\",\n",
    "    \"自衛官\",\n",
    "    \"シェフ\",\n",
    "    \"歯科医師\",\n",
    "    \"司会者\",\n",
    "    \"歯科衛生士\",\n",
    "    \"歯科技工士\",\n",
    "    \"歯科助手\",\n",
    "    \"士官\",\n",
    "    \"指揮者\",\n",
    "    \"司書\",\n",
    "    \"司書教諭\",\n",
    "    \"詩人\",\n",
    "    \"システムアドミニストレータ\",\n",
    "    \"システムエンジニア\",\n",
    "    \"自然保護官\",\n",
    "    \"質屋\",\n",
    "    \"市町村長\",\n",
    "    \"実業家\",\n",
    "    \"自動車整備士\",\n",
    "    \"児童文学作家\",\n",
    "    \"シナリオライター\",\n",
    "    \"視能訓練士\",\n",
    "    \"司法書士\",\n",
    "    \"事務員\",\n",
    "    \"社会福祉士\",\n",
    "    \"社会保険労務士\",\n",
    "    \"車掌\",\n",
    "    \"写真家\",\n",
    "    \"写真ディレクター\",\n",
    "    \"社長\",\n",
    "    \"ジャーナリスト\",\n",
    "    \"写譜屋\",\n",
    "    \"獣医師\",\n",
    "    \"衆議院議員\",\n",
    "    \"臭気判定士\",\n",
    "    \"柔道整復師\",\n",
    "    \"守衛\",\n",
    "    \"ジュエリーデザイナー\",\n",
    "    \"塾講師\",\n",
    "    \"手話通訳士\",\n",
    "    \"准看護師\",\n",
    "    \"准教授\",\n",
    "    \"小学校教員\",\n",
    "    \"上下水道コンサルタント\",\n",
    "    \"証券アナリスト\",\n",
    "    \"将校\",\n",
    "    \"小説家\",\n",
    "    \"消防官\",\n",
    "    \"照明技師\",\n",
    "    \"照明技術者\",\n",
    "    \"照明士\",\n",
    "    \"照明デザイナー\",\n",
    "    \"書家\",\n",
    "    \"助教\",\n",
    "    \"助教授\",\n",
    "    \"職人\",\n",
    "    \"ショコラティエ\",\n",
    "    \"助手 (教育)\",\n",
    "    \"初生雛鑑別師\",\n",
    "    \"書道家\",\n",
    "    \"助産師\",\n",
    "    \"シンガーソングライター\",\n",
    "    \"神職\",\n",
    "    \"審判員\",\n",
    "    \"新聞記者\",\n",
    "    \"新聞配達員\",\n",
    "    \"心理カウンセラー\",\n",
    "    \"診療放射線技師\",\n",
    "    \"心理療法士\",\n",
    "    \"森林コンサルタント\",\n",
    "    \"樹医\",\n",
    "    \"随筆家\",\n",
    "    \"推理作家\",\n",
    "    \"スカウト (勧誘)\",\n",
    "    \"スクールカウンセラー\",\n",
    "    \"寿司職人\",\n",
    "    \"スタイリスト\",\n",
    "    \"スタジオ・ミュージシャン\",\n",
    "    \"スタント・パーソン\",\n",
    "    \"スタントマン\",\n",
    "    \"スチュワーデス\",\n",
    "    \"スチュワード\",\n",
    "    \"ストリートミュージシャン\",\n",
    "    \"スパイ\",\n",
    "    \"スーパーバイザー\",\n",
    "    \"スポーツ選手\",\n",
    "    \"スポーツドクター\",\n",
    "    \"摺師\",\n",
    "    \"製菓衛生師\",\n",
    "    \"声楽家\",\n",
    "    \"税関職員\",\n",
    "    \"政治家\",\n",
    "    \"聖職者\",\n",
    "    \"整体師\",\n",
    "    \"青年海外協力隊員\",\n",
    "    \"整備士\",\n",
    "    \"声優\",\n",
    "    \"税理士\",\n",
    "    \"セックスワーカー\",\n",
    "    \"ゼネラルマネージャー\",\n",
    "    \"セラピスト\",\n",
    "    \"船員\",\n",
    "    \"選挙屋\",\n",
    "    \"船長\",\n",
    "    \"戦場カメラマン\",\n",
    "    \"染織家\",\n",
    "    \"潜水士\",\n",
    "    \"造園家/造園コンサルタント\",\n",
    "    \"葬儀屋\",\n",
    "    \"造形作家\",\n",
    "    \"相場師\",\n",
    "    \"操縦士\",\n",
    "    \"装丁家\",\n",
    "    \"僧侶\",\n",
    "    \"測量士・測量技師\",\n",
    "    \"ソーシャルワーカー\",\n",
    "    \"速記士\",\n",
    "    \"ソムリエ\",\n",
    "    \"ソムリエール\",\n",
    "    \"村議会議員\",\n",
    "    \"大学教員\",\n",
    "    \"大学教授\",\n",
    "    \"大学職員\",\n",
    "    \"大工\",\n",
    "    \"大臣\",\n",
    "    \"大道芸人\",\n",
    "    \"大道芸人\",\n",
    "    \"大統領\",\n",
    "    \"ダイバー\",\n",
    "    \"殺陣師\",\n",
    "    \"旅芸人\",\n",
    "    \"タレント\",\n",
    "    \"ダンサー\",\n",
    "    \"探偵\",\n",
    "    \"チェリスト\",\n",
    "    \"知事\",\n",
    "    \"地質コンサルタント\",\n",
    "    \"チーフプロデューサー\",\n",
    "    \"地方議会議員\",\n",
    "    \"地方公務員\",\n",
    "    \"中学校教員\",\n",
    "    \"中小企業診断士\",\n",
    "    \"調教師\",\n",
    "    \"調香師\",\n",
    "    \"彫刻家\",\n",
    "    \"聴導犬訓練士\",\n",
    "    \"著作家\",\n",
    "    \"ツアーコンダクター\",\n",
    "    \"通関士\",\n",
    "    \"通信士\",\n",
    "    \"通訳\",\n",
    "    \"通訳案内士\",\n",
    "    \"ディスクジョッキー\",\n",
    "    \"ディスパッチャー\",\n",
    "    \"ディーラー\",\n",
    "    \"ディレクター\",\n",
    "    \"テクニカルディレクター (スポーツ)\",\n",
    "    \"テクニカルディレクター (テレビ)\",\n",
    "    \"テクノクラート\",\n",
    "    \"デザイナー\",\n",
    "    \"デザインプロデューサー\",\n",
    "    \"テニス選手\",\n",
    "    \"テレビディレクター\",\n",
    "    \"テレビプロデューサー\",\n",
    "    \"電気工事士\",\n",
    "    \"電車運転士\",\n",
    "    \"添乗員\",\n",
    "    \"電話交換手\",\n",
    "    \"陶芸家\",\n",
    "    \"投資家\",\n",
    "    \"杜氏\",\n",
    "    \"動物看護師\",\n",
    "    \"動物管理官\",\n",
    "    \"時計師\",\n",
    "    \"登山家\",\n",
    "    \"都市計画コンサルタント\",\n",
    "    \"図書館司書\",\n",
    "    \"鳶職\",\n",
    "    \"トラックメイカー\",\n",
    "    \"トリマー\",\n",
    "    \"ドリラー\",\n",
    "    \"トレジャーハンター\",\n",
    "    \"トレーナー\",\n",
    "    \"内閣官房長官\",\n",
    "    \"内閣総理大臣\",\n",
    "    \"仲居\",\n",
    "    \"ナニー\",\n",
    "    \"ナレーター\",\n",
    "    \"入国警備官\",\n",
    "    \"入国審査官\",\n",
    "    \"ニュースキャスター\",\n",
    "    \"庭師\",\n",
    "    \"塗師\",\n",
    "    \"ネイリスト\",\n",
    "    \"ネイルアーティスト\",\n",
    "    \"ネットワークエンジニア\",\n",
    "    \"農家\",\n",
    "    \"能楽師\",\n",
    "    \"納棺師\",\n",
    "    \"農業土木コンサルタント\",\n",
    "    \"ノンフィクション作家\",\n",
    "    \"配管工\",\n",
    "    \"俳人\",\n",
    "    \"バイヤー\",\n",
    "    \"俳優\",\n",
    "    \"パイロット\",\n",
    "    \"バスガイド\",\n",
    "    \"バスケットボール選手\",\n",
    "    \"パタンナー\",\n",
    "    \"発明家\",\n",
    "    \"パティシエ\",\n",
    "    \"バーテンダー\",\n",
    "    \"噺家\",\n",
    "    \"花火師\",\n",
    "    \"花屋\",\n",
    "    \"はり師\",\n",
    "    \"バリスタ (コーヒー)\",\n",
    "    \"バルーンアーティスト\",\n",
    "    \"パン屋\",\n",
    "    \"ピアノ調律師\",\n",
    "    \"美術 (職業)\",\n",
    "    \"美術家\",\n",
    "    \"美術商\",\n",
    "    \"秘書\",\n",
    "    \"筆跡鑑定人\",\n",
    "    \"ビデオジョッキー\",\n",
    "    \"ビューロクラート\",\n",
    "    \"美容師\",\n",
    "    \"評論家\",\n",
    "    \"ビル管理技術者\",\n",
    "    \"ファイナンシャル・プランナー\",\n",
    "    \"ファシリテーター\",\n",
    "    \"ファシリティマネジャー\",\n",
    "    \"ファッションデザイナー\",\n",
    "    \"ファッションフォトグラファー\",\n",
    "    \"ファッションモデル\",\n",
    "    \"ファンタジー作家\",\n",
    "    \"ファンドマネージャー\",\n",
    "    \"ファンドレイザー\",\n",
    "    \"風俗嬢\",\n",
    "    \"フェロー\",\n",
    "    \"副校長\",\n",
    "    \"服飾デザイナー\",\n",
    "    \"副操縦士\",\n",
    "    \"腹話術師\",\n",
    "    \"舞台演出家\",\n",
    "    \"舞台監督\",\n",
    "    \"舞台俳優\",\n",
    "    \"舞台美術家\",\n",
    "    \"舞踏家\",\n",
    "    \"武道家\",\n",
    "    \"不動産鑑定士\",\n",
    "    \"不動産屋\",\n",
    "    \"フードコーディネーター\",\n",
    "    \"舞踊家\",\n",
    "    \"フライトアテンダント\",\n",
    "    \"フラワーデザイナー\",\n",
    "    \"プラントハンター\",\n",
    "    \"ブリーダー\",\n",
    "    \"振付師\",\n",
    "    \"フリーライター\",\n",
    "    \"プログラマ\",\n",
    "    \"プロゴルファー\",\n",
    "    \"プロジェクトマネージャ\",\n",
    "    \"プロデューサー\",\n",
    "    \"プロブロガー\",\n",
    "    \"プロボウラー\",\n",
    "    \"プロボクサー\",\n",
    "    \"プロ野球選手\",\n",
    "    \"プロレスラー\",\n",
    "    \"文芸評論家\",\n",
    "    \"文筆家\",\n",
    "    \"フライス盤工\",\n",
    "    \"ヘアメイクアーティスト\",\n",
    "    \"ペスト・コントロール・オペレーター\",\n",
    "    \"ベビーシッター\",\n",
    "    \"編曲家\",\n",
    "    \"弁護士\",\n",
    "    \"編集者\",\n",
    "    \"弁理士\",\n",
    "    \"保安官\",\n",
    "    \"保育士\",\n",
    "    \"冒険家\",\n",
    "    \"放射線技師\",\n",
    "    \"宝飾デザイナー\",\n",
    "    \"放送作家\",\n",
    "    \"法務教官\",\n",
    "    \"訪問介護員\",\n",
    "    \"牧師\",\n",
    "    \"保険計理人\",\n",
    "    \"保健師\",\n",
    "    \"保護観察官\",\n",
    "    \"補償コンサルタント\",\n",
    "    \"ホステス\",\n",
    "    \"ホスト\",\n",
    "    \"ボディーガード\",\n",
    "    \"ホームヘルパー\",\n",
    "    \"ホラー作家\",\n",
    "    \"彫師\",\n",
    "    \"翻訳家\",\n",
    "    \"舞妓\",\n",
    "    \"マジシャン (奇術)\",\n",
    "    \"マーシャラー\",\n",
    "    \"マスタリング・エンジニア\",\n",
    "    \"マタギ\",\n",
    "    \"マッサージ師\",\n",
    "    \"マニピュレーター\",\n",
    "    \"マルチタレント\",\n",
    "    \"漫画家\",\n",
    "    \"漫画原作者\",\n",
    "    \"漫才師\",\n",
    "    \"漫談家\",\n",
    "    \"ミキサー\",\n",
    "    \"巫女\",\n",
    "    \"水先案内人\",\n",
    "    \"水先人\",\n",
    "    \"宮大工\",\n",
    "    \"ミュージシャン\",\n",
    "    \"無線通信士\",\n",
    "    \"メイクアップアーティスト\",\n",
    "    \"メイド\",\n",
    "    \"メジャーリーガー\",\n",
    "    \"盲導犬訓練士\",\n",
    "    \"モデラー (模型)\",\n",
    "    \"モデル (職業)\",\n",
    "    \"薬剤師\",\n",
    "    \"役者\",\n",
    "    \"野菜ソムリエ\",\n",
    "    \"郵便配達\",\n",
    "    \"YouTuber\",\n",
    "    \"洋菓子職人\",\n",
    "    \"養護教諭\",\n",
    "    \"洋裁師\",\n",
    "    \"養蚕家\",\n",
    "    \"幼稚園教員\",\n",
    "    \"養蜂家\",\n",
    "    \"ライトノベル作家\",\n",
    "    \"ライフセービング\",\n",
    "    \"落語家\",\n",
    "    \"酪農家\",\n",
    "    \"ラグビー選手\",\n",
    "    \"ラジオパーソナリティ\",\n",
    "    \"ランドスケープアーキテクト\",\n",
    "    \"ランドスケーププランナー\",\n",
    "    \"ランドスケープデザイナー\",\n",
    "    \"ランドスケープコンサルタント\",\n",
    "    \"理学療法士\",\n",
    "    \"力士\",\n",
    "    \"陸上自衛官\",\n",
    "    \"リポーター\",\n",
    "    \"猟師\",\n",
    "    \"漁師\",\n",
    "    \"理容師\",\n",
    "    \"料理研究家\",\n",
    "    \"料理人\",\n",
    "    \"旅行作家\",\n",
    "    \"林業従事者\",\n",
    "    \"臨床検査技師\",\n",
    "    \"臨床工学技士\",\n",
    "    \"臨床心理士\",\n",
    "    \"ルポライター\",\n",
    "    \"レコーディング・エンジニア\",\n",
    "    \"レーサー\",\n",
    "    \"レーシングドライバー\",\n",
    "    \"レスキュー隊員\",\n",
    "    \"レポーター\",\n",
    "    \"レンジャー\",\n",
    "    \"労働基準監督官\",\n",
    "    \"録音技師\",\n",
    "    \"和菓子職人\",\n",
    "    \"和裁士\",\n",
    "    \"和紙職人\",\n",
    "    \"A&R\",\n",
    "    \"CMディレクター\",\n",
    "    \"DJ\",\n",
    "    \"ITコーディネータ\",\n",
    "    \"MR\",\n",
    "    \"PAエンジニア\",\n",
    "    \"SF作家\",\n",
    "    \"SP\",\n",
    "]\n",
    "\n",
    "len(personas)"
   ]
  },
  {
   "cell_type": "code",
   "execution_count": 45,
   "metadata": {},
   "outputs": [],
   "source": [
    "def run_synthesis_multi_turn_qa(\n",
    "    llm: LanguageModel,\n",
    "    num_batches: int,\n",
    "    batch_size: int,\n",
    "    output_jsonl: str,\n",
    "    task_list: list[str],\n",
    "    topic_list: list[str],\n",
    "    item_list: list[str],\n",
    "    target_list: list[str],\n",
    "):\n",
    "    with open(output_jsonl, \"a\", encoding=\"utf-8\") as f:\n",
    "        for i in range(num_batches):\n",
    "            tasks = [random.choice(task_list) for _ in range(batch_size)]\n",
    "            topics = [random.choice(topic_list) for _ in range(batch_size)]\n",
    "            items = [random.choice(item_list) for _ in range(batch_size)]\n",
    "            targets = [random.choice(target_list) for _ in range(batch_size)]\n",
    "            qas = synthesis_multi_turn_qa(llm, tasks, topics, items, targets)\n",
    "            for qa in qas:\n",
    "                f.write(json.dumps(qa, ensure_ascii=False) + \"\\n\")\n",
    "                pp.pprint(qa)"
   ]
  },
  {
   "cell_type": "code",
   "execution_count": 46,
   "metadata": {},
   "outputs": [
    {
     "name": "stdout",
     "output_type": "stream",
     "text": [
      "{'item': '照明士',\n",
      " 'messages': [{'content': '照明士の佐藤さんは、1つの部屋に取り付けるために3つのライトを用意しました。もし佐藤さんがもう1つの部屋にも同じ数のライトを取り付ける場合、合計で何個のライトが必要になりますか？',\n",
      "               'role': 'user'},\n",
      "              {'content': '合計で6個のライトが必要です。', 'role': 'assistant'},\n",
      "              {'content': '佐藤さんが3つのライトを用意した部屋の数が2つから4つに増えた場合、合計で何個のライトが必要になりますか？', 'role': 'user'},\n",
      "              {'content': '合計で12個のライトが必要です。', 'role': 'assistant'}],\n",
      " 'target': 'grade school student',\n",
      " 'task': 'basic arithmetic',\n",
      " 'topic': 'persona'}\n"
     ]
    }
   ],
   "source": [
    "run_synthesis_multi_turn_qa(\n",
    "    llm,\n",
    "    1,\n",
    "    1,\n",
    "    \"output.jsonl\",\n",
    "    [\"math\", \"arithmetic\", \"basic math\", \"basic arithmetic\"],\n",
    "    [\"persona\"],\n",
    "    personas,\n",
    "    [\"grade school student\"],\n",
    ")"
   ]
  },
  {
   "cell_type": "code",
   "execution_count": 47,
   "metadata": {},
   "outputs": [
    {
     "name": "stdout",
     "output_type": "stream",
     "text": [
      "{'item': 'A&R',\n",
      " 'messages': [{'content': 'A&R（アーティスト＆レパートリー）は、新しい音楽アーティストを見つけて契約する仕事をしています。彼は毎月、3人のアーティストに会います。今月、彼は以下のアーティストと会いました。\\n'\n",
      "                          '\\n'\n",
      "                          '1. アーティストAは、ポップ音楽を演奏しており、すでに5曲のヒット曲があります。\\n'\n",
      "                          '2. アーティストBは、インディーロックを演奏し、最近のアルバムが大好評で、音楽フェスティバルで注目されています。\\n'\n",
      "                          '3. アーティストCは、ジャズを演奏しており、まだデビューしていませんが、すでに多くのライブパフォーマンスを行っています。\\n'\n",
      "                          '\\n'\n",
      "                          'A&Rは、次の条件を考慮してアーティストを選ぶ必要があります：\\n'\n",
      "                          '- ヒット曲が多いアーティストを優先する。\\n'\n",
      "                          '- 新しい音楽スタイルを持つアーティストにも興味がある。\\n'\n",
      "                          '- デビューしていないアーティストにもチャンスを与えたい。\\n'\n",
      "                          '\\n'\n",
      "                          'A&Rは、どのアーティストを選ぶべきでしょうか？各アーティストの特徴を踏まえて、彼が選ぶアーティストの理由を考えてください。',\n",
      "               'role': 'user'},\n",
      "              {'content': 'A&Rは以下のアーティストを選ぶべきです：\\n'\n",
      "                          '\\n'\n",
      "                          '1. **アーティストA** - すでに5曲のヒット曲があり、商業的成功を収めているため、優先的に選ぶべきです。\\n'\n",
      "                          '\\n'\n",
      "                          '2. **アーティストB** - インディーロックという新しい音楽スタイルを持ち、最近のアルバムが好評で注目を集めているため、選ぶ価値があります。\\n'\n",
      "                          '\\n'\n",
      "                          '3. **アーティストC** - デビューしていないものの、多くのライブパフォーマンスを行っているため、将来性があり、チャンスを与えるべきアーティストです。\\n'\n",
      "                          '\\n'\n",
      "                          'このように、A&Rはヒット曲が多いアーティスト、注目されている新しいスタイルのアーティスト、そしてデビュー前の有望なアーティストをバランスよく選ぶことができます。',\n",
      "               'role': 'assistant'},\n",
      "              {'content': 'アーティストDは、エレクトロニカを演奏しており、過去に数曲のヒット曲を持っていますが、最近の活動は低迷しています。A&RはアーティストDを選ぶべきでしょうか？その理由は何ですか？',\n",
      "               'role': 'user'},\n",
      "              {'content': 'アーティストDを選ぶべきではありません。最近の活動が低迷しているため、現在の音楽シーンでの影響力や将来性が不透明です。ヒット曲があっても、活発な活動がないアーティストよりは、成長が期待できる新しいアーティストを優先するべきです。',\n",
      "               'role': 'assistant'}],\n",
      " 'target': 'grade school student',\n",
      " 'task': 'reasoning',\n",
      " 'topic': 'persona'}\n"
     ]
    }
   ],
   "source": [
    "run_synthesis_multi_turn_qa(\n",
    "    llm,\n",
    "    1,\n",
    "    1,\n",
    "    \"output.jsonl\",\n",
    "    [\"logical reasoning\", \"reasoning\", \"reasoning quiz\", \"reasoning game\"],\n",
    "    [\"persona\"],\n",
    "    personas,\n",
    "    [\"grade school student\"],\n",
    ")"
   ]
  },
  {
   "cell_type": "code",
   "execution_count": 48,
   "metadata": {},
   "outputs": [
    {
     "name": "stdout",
     "output_type": "stream",
     "text": [
      "{'item': 'ソーシャルメディア分析',\n",
      " 'messages': [{'content': 'あるソーシャルメディアプラットフォームから取得した投稿データがあります。各投稿は、投稿者のユーザー名、投稿内容、いいね数、コメント数から構成されています。あなたの仕事は、指定されたユーザーの投稿データをフィルタリングし、そのユーザーが投稿したすべての投稿のいいね数とコメント数の合計を計算するプログラムを作成することです。\\n'\n",
      "                          '\\n'\n",
      "                          '入力として、投稿データのリスト（辞書形式）と、フィルタリングするユーザー名を受け取ります。出力は、そのユーザーの投稿に対するいいね数とコメント数の合計を含む辞書を返してください。\\n'\n",
      "                          '\\n'\n",
      "                          '例として、次のような投稿データがあります。\\n'\n",
      "                          '\\n'\n",
      "                          '```python\\n'\n",
      "                          'posts = [\\n'\n",
      "                          '    {\"username\": \"user1\", \"content\": \"Hello World!\", \"likes\": 10, \"comments\": 2},\\n'\n",
      "                          '    {\"username\": \"user2\", \"content\": \"Good morning!\", \"likes\": 5, \"comments\": 1},\\n'\n",
      "                          '    {\"username\": \"user1\", \"content\": \"How are you?\", \"likes\": 8, \"comments\": 3},\\n'\n",
      "                          ']\\n'\n",
      "                          '```\\n'\n",
      "                          '\\n'\n",
      "                          'ユーザー名が \"user1\" の場合、出力は次のようになります。\\n'\n",
      "                          '\\n'\n",
      "                          '```python\\n'\n",
      "                          '{\"total_likes\": 18, \"total_comments\": 5}\\n'\n",
      "                          '```\\n'\n",
      "                          '\\n'\n",
      "                          'この問題を解決するためのプログラムを作成してください。',\n",
      "               'role': 'user'},\n",
      "              {'content': '以下のPythonプログラムで、指定されたユーザーの投稿データからいいね数とコメント数の合計を計算できます。\\n'\n",
      "                          '\\n'\n",
      "                          '```python\\n'\n",
      "                          'def calculate_totals(posts, username):\\n'\n",
      "                          '    total_likes = 0\\n'\n",
      "                          '    total_comments = 0\\n'\n",
      "                          '    \\n'\n",
      "                          '    for post in posts:\\n'\n",
      "                          '        if post[\"username\"] == username:\\n'\n",
      "                          '            total_likes += post[\"likes\"]\\n'\n",
      "                          '            total_comments += post[\"comments\"]\\n'\n",
      "                          '    \\n'\n",
      "                          '    return {\"total_likes\": total_likes, \"total_comments\": total_comments}\\n'\n",
      "                          '\\n'\n",
      "                          '# 例の投稿データ\\n'\n",
      "                          'posts = [\\n'\n",
      "                          '    {\"username\": \"user1\", \"content\": \"Hello World!\", \"likes\": 10, \"comments\": 2},\\n'\n",
      "                          '    {\"username\": \"user2\", \"content\": \"Good morning!\", \"likes\": 5, \"comments\": 1},\\n'\n",
      "                          '    {\"username\": \"user1\", \"content\": \"How are you?\", \"likes\": 8, \"comments\": 3},\\n'\n",
      "                          ']\\n'\n",
      "                          '\\n'\n",
      "                          '# \"user1\" のデータをフィルタリング\\n'\n",
      "                          'result = calculate_totals(posts, \"user1\")\\n'\n",
      "                          \"print(result)  # 出力: {'total_likes': 18, 'total_comments': 5}\\n\"\n",
      "                          '```\\n'\n",
      "                          '\\n'\n",
      "                          'このプログラムでは、各投稿をループして指定されたユーザーの投稿を見つけ、いいね数とコメント数を合計しています。最終的に合計を辞書形式で返します。',\n",
      "               'role': 'assistant'},\n",
      "              {'content': 'もし、指定されたユーザーが複数の投稿を行っている場合、その中で最もいいねを獲得した投稿の内容といいね数を返すプログラムを作成してください。', 'role': 'user'},\n",
      "              {'content': '以下のPythonプログラムで、指定されたユーザーの中で最もいいねを獲得した投稿の内容といいね数を返します。\\n'\n",
      "                          '\\n'\n",
      "                          '```python\\n'\n",
      "                          'def get_top_post(posts, username):\\n'\n",
      "                          '    top_post = None\\n'\n",
      "                          '    \\n'\n",
      "                          '    for post in posts:\\n'\n",
      "                          '        if post[\"username\"] == username:\\n'\n",
      "                          '            if top_post is None or post[\"likes\"] > top_post[\"likes\"]:\\n'\n",
      "                          '                top_post = post\\n'\n",
      "                          '    \\n'\n",
      "                          '    if top_post:\\n'\n",
      "                          '        return {\"content\": top_post[\"content\"], \"likes\": top_post[\"likes\"]}\\n'\n",
      "                          '    else:\\n'\n",
      "                          '        return None\\n'\n",
      "                          '\\n'\n",
      "                          '# 例の投稿データ\\n'\n",
      "                          'posts = [\\n'\n",
      "                          '    {\"username\": \"user1\", \"content\": \"Hello World!\", \"likes\": 10, \"comments\": 2},\\n'\n",
      "                          '    {\"username\": \"user2\", \"content\": \"Good morning!\", \"likes\": 5, \"comments\": 1},\\n'\n",
      "                          '    {\"username\": \"user1\", \"content\": \"How are you?\", \"likes\": 8, \"comments\": 3},\\n'\n",
      "                          ']\\n'\n",
      "                          '\\n'\n",
      "                          '# \"user1\" の最もいいねを獲得した投稿を取得\\n'\n",
      "                          'result = get_top_post(posts, \"user1\")\\n'\n",
      "                          \"print(result)  # 出力: {'content': 'Hello World!', 'likes': 10}\\n\"\n",
      "                          '```\\n'\n",
      "                          '\\n'\n",
      "                          'このプログラムは、指定されたユーザーの投稿を調べ、最もいいねを獲得した投稿の内容といいね数を辞書形式で返します。',\n",
      "               'role': 'assistant'}],\n",
      " 'target': 'graduate student',\n",
      " 'task': 'coding',\n",
      " 'topic': 'topic'}\n"
     ]
    }
   ],
   "source": [
    "run_synthesis_multi_turn_qa(\n",
    "    llm, 1, 1, \"output.jsonl\", [\"coding\"], [\"topic\"], [\"ソーシャルメディア分析\"], [\"graduate student\"]\n",
    ")"
   ]
  }
 ],
 "metadata": {
  "kernelspec": {
   "display_name": ".venv",
   "language": "python",
   "name": "python3"
  },
  "language_info": {
   "codemirror_mode": {
    "name": "ipython",
    "version": 3
   },
   "file_extension": ".py",
   "mimetype": "text/x-python",
   "name": "python",
   "nbconvert_exporter": "python",
   "pygments_lexer": "ipython3",
   "version": "3.10.12"
  }
 },
 "nbformat": 4,
 "nbformat_minor": 2
}
