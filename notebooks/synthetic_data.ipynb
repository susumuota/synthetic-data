{
 "cells": [
  {
   "cell_type": "markdown",
   "metadata": {},
   "source": [
    "# FinePersonas による SFT データ合成\n",
    "\n",
    "Susumu Ota  2025-02-02"
   ]
  },
  {
   "cell_type": "markdown",
   "metadata": {},
   "source": [
    "## 合成データの重要性\n",
    "\n",
    "TODO"
   ]
  },
  {
   "cell_type": "markdown",
   "metadata": {},
   "source": [
    "## 合成データ作成の難しさ\n",
    "\n",
    "TODO"
   ]
  },
  {
   "cell_type": "markdown",
   "metadata": {},
   "source": [
    "## ペルソナとは\n",
    "\n",
    "- 個人の特徴、背景、目標を詳細に記述したもので、多様なアイデンティティと経験を反映するようにデザインされている\n",
    "- ペルソナの例\n",
    "  - A network engineer with a focus on routing protocols and preparing for Cisco certification exams, particularly CCNA.\n",
    "  - ルーティング・プロトコルに興味があり、シスコの認定試験(特に CCNA)の準備をしているネットワーク・エンジニア\n",
    "- 生成するコンテンツに、特定の専門知識・キャリアパス・個人的な興味を導入し、より繊細でターゲットを絞ったコンテンツが生成可能\n",
    "- https://huggingface.co/datasets/argilla/FinePersonas-v0.1 より引用"
   ]
  },
  {
   "cell_type": "markdown",
   "metadata": {},
   "source": [
    "## Persona-Hub とは\n",
    "\n",
    "<img src=\"https://github.com/tencent-ailab/persona-hub/blob/main/assets/persona_overview.png?raw=true\" width=\"800px\">\n",
    "\n",
    "- テクニカルレポート: https://arxiv.org/abs/2406.20094\n",
    "- 背景: 既存の合成データ⽣成⼿法(インスタンス駆動・キーポイント駆動)では合成データの多様さをスケールアップすることが困難\n",
    "- 目的: ⼤規模なペルソナコレクションを使ってスケーラブルな合成データを⽣成する(ペルソナ駆動)\n",
    "- 方法\n",
    "  - Webデータからペルソナを抽出\n",
    "    - Text-to-Persona\n",
    "    - Persona-to-Persona\n",
    "    - ペルソナ例\n",
    "      - a moving company driver, a chemical kinetics researcher, a musician interested in audio processing\n",
    "  - ペルソナを使って合成データを生成\n",
    "    - Create **a math problem** with **a moving company driver**\n",
    "    - Create **a math problem** with **a chemical kinetics researcher**\n",
    "    - Create **a math problem** with **a musician interested in audio processing**"
   ]
  },
  {
   "cell_type": "markdown",
   "metadata": {},
   "source": [
    "## FinePersonas とは\n",
    "\n",
    "<img src=\"https://cdn-uploads.huggingface.co/production/uploads/6435d564a4bd75c62cc03701/5wTHwgijTUKFI5B-N7gEg.png\" width=\"800px\">\n",
    "\n",
    "- 2024年9月にリリースされた合成テキスト生成のための2100万人の詳細なペルソナのオープンデータセット\n",
    "- 合成データの豊富さ・多様性・特異性を高めることが可能\n",
    "- FineWeb-Edu(教育関連Webページのデータセット)から抽出\n",
    "- ライセンス: Llama 3.1 Community License Agreement\n",
    "- 提供元: Argilla(高品質なデータセットを構築するためのコラボレーションツール)\n",
    "- https://huggingface.co/datasets/argilla/FinePersonas-v0.1"
   ]
  },
  {
   "cell_type": "markdown",
   "metadata": {},
   "source": [
    "## モジュールのインストール\n",
    "\n",
    "`openai` モジュールと `vllm` モジュールのどちらか一方をインストールする必要があります。ローカルに GPU がある場合のみ `vllm` をインストールしてください。"
   ]
  },
  {
   "cell_type": "code",
   "execution_count": 1,
   "metadata": {},
   "outputs": [],
   "source": [
    "# %pip install openai\n",
    "# %pip install vllm\n",
    "# %pip install datasets"
   ]
  },
  {
   "cell_type": "markdown",
   "metadata": {},
   "source": [
    "## モジュールのインポート"
   ]
  },
  {
   "cell_type": "code",
   "execution_count": 2,
   "metadata": {},
   "outputs": [
    {
     "name": "stderr",
     "output_type": "stream",
     "text": [
      "/Users/ota/Documents/python/synthetic-data/.venv/lib/python3.10/site-packages/tqdm/auto.py:21: TqdmWarning: IProgress not found. Please update jupyter and ipywidgets. See https://ipywidgets.readthedocs.io/en/stable/user_install.html\n",
      "  from .autonotebook import tqdm as notebook_tqdm\n"
     ]
    },
    {
     "name": "stdout",
     "output_type": "stream",
     "text": [
      "No vllm module found. You can only use the OpenAI compatible APIs.\n"
     ]
    }
   ],
   "source": [
    "from abc import ABC, abstractmethod\n",
    "import json\n",
    "from logging import DEBUG, INFO, StreamHandler, getLogger  # noqa: F401\n",
    "import os  # noqa: F401\n",
    "import pprint\n",
    "import random\n",
    "import re\n",
    "\n",
    "\n",
    "from datasets import load_dataset\n",
    "from openai import OpenAI\n",
    "\n",
    "try:\n",
    "    from vllm import LLM, SamplingParams  # type: ignore\n",
    "except ImportError:\n",
    "    print(\"No vllm module found. You can only use the OpenAI compatible APIs.\")"
   ]
  },
  {
   "cell_type": "markdown",
   "metadata": {},
   "source": [
    "## ログの設定"
   ]
  },
  {
   "cell_type": "code",
   "execution_count": 3,
   "metadata": {},
   "outputs": [],
   "source": [
    "logging_level = DEBUG\n",
    "# logging_level = INFO\n",
    "logger = getLogger(__name__)\n",
    "logger.setLevel(logging_level)\n",
    "handler = StreamHandler()\n",
    "handler.setLevel(logging_level)\n",
    "logger.addHandler(handler)\n",
    "\n",
    "pp = pprint.PrettyPrinter(width=119)"
   ]
  },
  {
   "cell_type": "markdown",
   "metadata": {},
   "source": [
    "## 言語モデルの抽象化 (LanguageModel クラス)\n",
    "\n",
    "OpenAI API と vLLM で統一してコードを書くために、`LanguageModel` という抽象クラスを作り、サブクラスで個別の処理を実装します。\n",
    "\n",
    "- `__init__`: 言語モデルの初期化。推論用のパラメータ(`temperature`等)も設定。\n",
    "- `__call__`: 推論の実行。入力は OpenAI messages 形式 (e.g. `[{\"role\": \"user\", \"content\": \"Hello!\"}]`) のリスト。出力は文字列のリスト。"
   ]
  },
  {
   "cell_type": "code",
   "execution_count": 4,
   "metadata": {},
   "outputs": [],
   "source": [
    "class LanguageModel(ABC):\n",
    "    def __init__(self, model_name: str, temperature=0.7, max_tokens=512, seed=0):\n",
    "        self.model_name = model_name\n",
    "        self.temperature = temperature\n",
    "        self.max_tokens = max_tokens\n",
    "        self.seed = seed\n",
    "        logger.debug(f\"model_name: {model_name}, temperature: {temperature}, max_tokens: {max_tokens}, seed: {seed}\")\n",
    "\n",
    "    @abstractmethod\n",
    "    def __call__(self, messages_batch: list[list[dict[str, str]]]) -> list[str]:\n",
    "        pass"
   ]
  },
  {
   "cell_type": "markdown",
   "metadata": {},
   "source": [
    "## OpenAI API による LanguageModel の実装\n",
    "\n",
    "OpenAI API を利用して言語モデルを実装します。`base_url` と `api_key` を設定することで、OpenAI 以外のサービスを利用することが可能です。\n",
    "\n",
    "- OpenAIの場合: 環境変数 `OPENAI_API_KEY` に API キーを設定。\n",
    "- NVIDIAの場合: `base_url=\"https://integrate.api.nvidia.com/v1\", api_key=os.environ[\"NVIDIA_API_KEY\"]` とした上で、環境変数 `NVIDIA_API_KEY` に API キーを設定。\n",
    "- DeepInfraの場合: `base_url=\"https://api.deepinfra.com/v1/openai\", api_key=os.environ[\"DEEPINFRA_API_KEY\"]` とした上で、環境変数 `DEEPINFRA_API_KEY` に API キーを設定。\n",
    "\n",
    "**Note: API キーは Notebook 内に直接書き込まないほうが安全です。出来ればシークレット管理サービス (e.g. GCP の Secret Manager) を利用するか、リスクを認識した上で環境変数を利用してください。**"
   ]
  },
  {
   "cell_type": "code",
   "execution_count": 5,
   "metadata": {},
   "outputs": [],
   "source": [
    "class OpenAIAPI(LanguageModel):\n",
    "    def __init__(self, model_name: str, temperature=0.7, max_tokens=512, seed=0, base_url=None, api_key=None):\n",
    "        super().__init__(model_name, temperature=temperature, max_tokens=max_tokens, seed=seed)\n",
    "        self.client = OpenAI(base_url=base_url, api_key=api_key)\n",
    "        logger.debug(f\"base_url: {self.client.base_url}\")\n",
    "\n",
    "    def __call__(self, messages_batch: list[list[dict[str, str]]]) -> list[str]:\n",
    "        return [\n",
    "            self.client.chat.completions.create(\n",
    "                model=self.model_name,\n",
    "                messages=messages,\n",
    "                temperature=self.temperature,\n",
    "                max_tokens=self.max_tokens,\n",
    "                seed=self.seed,\n",
    "            ).choices[0].message.content or \"\"\n",
    "            for messages in messages_batch\n",
    "        ]"
   ]
  },
  {
   "cell_type": "markdown",
   "metadata": {},
   "source": [
    "## vLLM を使った LanguageModel の実装\n",
    "\n",
    "ローカルの GPU を使って推論する場合は vLLM を利用します。さらに推論に必要なパラメータがあれば `SamplingParams` の部分に追加してください。"
   ]
  },
  {
   "cell_type": "code",
   "execution_count": 6,
   "metadata": {},
   "outputs": [],
   "source": [
    "class VLLMModel(LanguageModel):\n",
    "    def __init__(self, model_name: str, temperature=0.7, max_tokens=512, seed=0, stop=[], repetition_penalty=1.0):\n",
    "        super().__init__(model_name, temperature=temperature, max_tokens=max_tokens, seed=seed)\n",
    "        self.vllm = LLM(model_name)\n",
    "        self.sampling_params = SamplingParams(\n",
    "            temperature=temperature, max_tokens=max_tokens, seed=seed, stop=stop, repetition_penalty=repetition_penalty\n",
    "        )\n",
    "        logger.debug(f\"sampling_params: {self.sampling_params}\")\n",
    "\n",
    "    def __call__(self, messages_batch: list[list[dict[str, str]]]) -> list[str]:\n",
    "        tokenizer = self.vllm.get_tokenizer()\n",
    "        prompts = [\n",
    "            tokenizer.apply_chat_template(messages, tokenize=False, add_generation_prompt=True)\n",
    "            for messages in messages_batch\n",
    "        ]\n",
    "        outputs = self.vllm.generate(prompts, sampling_params=self.sampling_params, use_tqdm=False)\n",
    "        return [o.outputs[0].text for o in outputs]"
   ]
  },
  {
   "cell_type": "markdown",
   "metadata": {},
   "source": [
    "## 言語モデルの初期化\n",
    "\n",
    "以下のどれかのコメントを外して言語モデルを初期化します。`gpt-4o-mini` が最も安定している印象です。なお API 利用には料金が発生します。\n",
    "\n",
    "一般に API の推論速度は遅いので、予備実験を API で行い、本実験は vLLM でバッチ処理するという使い方が現実的かもしれません。\n",
    "\n",
    "API で大量のデータを生成する場合は、バッチ処理のオプションが用意されていればそれを利用することと、利用制限(rate limit等)の範囲内でリクエストの並列化を検討してください。"
   ]
  },
  {
   "cell_type": "code",
   "execution_count": 7,
   "metadata": {},
   "outputs": [
    {
     "name": "stderr",
     "output_type": "stream",
     "text": [
      "model_name: gpt-4o-mini, temperature: 0.7, max_tokens: 512, seed: 0\n",
      "base_url: https://api.openai.com/v1/\n"
     ]
    },
    {
     "data": {
      "text/plain": [
       "<__main__.OpenAIAPI at 0x11cbf76a0>"
      ]
     },
     "execution_count": 7,
     "metadata": {},
     "output_type": "execute_result"
    }
   ],
   "source": [
    "llm = OpenAIAPI(\"gpt-4o-mini\", temperature=0.7, max_tokens=512, seed=0)  # You must set OPENAI_API_KEY in your environment variables.\n",
    "# llm = OpenAIAPI(\"nvidia/llama-3.1-nemotron-70b-instruct\", temperature=0.7, max_tokens=512, seed=0, base_url=\"https://integrate.api.nvidia.com/v1\", api_key=os.environ[\"NVIDIA_API_KEY\"])\n",
    "# llm = OpenAIAPI(\"nvidia/nemotron-4-340b-instruct\", temperature=0.7, max_tokens=512, seed=0, base_url=\"https://integrate.api.nvidia.com/v1\", api_key=os.environ[\"NVIDIA_API_KEY\"])\n",
    "# llm = OpenAIAPI(\"nvidia/Llama-3.1-Nemotron-70B-Instruct\", temperature=0.7, max_tokens=512, seed=0, base_url=\"https://api.deepinfra.com/v1/openai\", api_key=os.environ[\"DEEPINFRA_API_KEY\"])\n",
    "# llm = VLLMModel(\"cyberagent/calm3-22b-chat\", temperature=0.7, max_tokens=512, seed=0, stop=[\"<|endoftext|>\", \"<|im_end|>\", \"<|im_start|>\"], repetition_penalty=1.1)\n",
    "\n",
    "llm"
   ]
  },
  {
   "cell_type": "markdown",
   "metadata": {},
   "source": [
    "## 言語モデルの動作確認\n",
    "\n",
    "ここまで設定できれば以下の推論が動作するはずです。もしエラーが出る場合は、言語モデルの初期化の設定を見直してください。"
   ]
  },
  {
   "cell_type": "code",
   "execution_count": 8,
   "metadata": {},
   "outputs": [
    {
     "data": {
      "text/plain": [
       "['Hello! How can I assist you today?']"
      ]
     },
     "execution_count": 8,
     "metadata": {},
     "output_type": "execute_result"
    }
   ],
   "source": [
    "llm([[{\"role\": \"user\", \"content\": \"Hello?\"}]])"
   ]
  },
  {
   "cell_type": "markdown",
   "metadata": {},
   "source": [
    "## ペルソナデータの読み込み\n",
    "\n",
    "ここからは実際のペルソナデータを読み込んで、対話データを生成します。`argilla/FinePersonas-v0.1` データセットを利用します。\n",
    "\n",
    "FinePersonas データセットは巨大なデータセットですので、今回は一部分だけをダウンロードして利用します。読み込む際に `streaming=True` を必ずつけてください。"
   ]
  },
  {
   "cell_type": "code",
   "execution_count": 9,
   "metadata": {},
   "outputs": [
    {
     "data": {
      "text/plain": [
       "IterableDataset({\n",
       "    features: ['id', 'persona', 'labels'],\n",
       "    num_shards: 12\n",
       "})"
      ]
     },
     "execution_count": 9,
     "metadata": {},
     "output_type": "execute_result"
    }
   ],
   "source": [
    "dataset = load_dataset(\"argilla/FinePersonas-v0.1\", split=\"train\", cache_dir=\"cache\", streaming=True)\n",
    "dataset"
   ]
  },
  {
   "cell_type": "markdown",
   "metadata": {},
   "source": [
    "今回は先頭の100件を使って生成します。"
   ]
  },
  {
   "cell_type": "code",
   "execution_count": 10,
   "metadata": {},
   "outputs": [
    {
     "name": "stdout",
     "output_type": "stream",
     "text": [
      "['A professional R programmer or researcher, likely a data analyst or statistician, familiar with the intricacies of '\n",
      " 'the R language and its debugging tools.',\n",
      " 'A mental health professional, likely a licensed therapist or psychologist, with expertise in anxiety disorders and '\n",
      " 'cognitive-behavioral therapy, whose work involves diagnosing and treating patients with various types of phobias, '\n",
      " 'including specific phobia, social phobia, and agoraphobia.',\n",
      " 'A space roboticist or aerospace engineer at a research institution focused on robotic space exploration.',\n",
      " 'A Hebrew language scholar or instructor with a focus on biblical Hebrew and Jewish studies.',\n",
      " 'A pediatrician or healthcare professional focused on educating parents about early childhood health, or a '\n",
      " 'parent-to-be who is interested in learning about vaccinations for their unborn or newborn child.',\n",
      " 'A Montessori elementary school teacher or an education administrator responsible for curriculum development and '\n",
      " 'classroom management in a Montessori school setting.',\n",
      " 'An aerospace materials engineer focused on advanced ceramic coatings and plasma deposition techniques for '\n",
      " 'high-temperature applications.',\n",
      " 'An astrophysicist specializing in the study of planetary magnetism and aurora phenomena, likely with a focus on '\n",
      " 'exoplanetary systems and space exploration.',\n",
      " 'An elementary school teacher or educator focused on creating and compiling educational content for young students, '\n",
      " 'likely in a science, reading, or early childhood development curriculum.',\n",
      " 'A forester or park ranger concerned with forest health and pest management in the western United States, likely '\n",
      " 'working in or near national parks.',\n",
      " 'A concerned parent and education blogger with teaching experience and an educational background, possibly a child '\n",
      " 'advocate, who is critical of the education system.',\n",
      " 'A botanical researcher or conservationist specializing in the flora of the New Jersey Pine Barrens ecosystem.',\n",
      " 'An A-level English teacher or instructor who has experience with national examination systems and curriculum '\n",
      " 'development, likely possessing a deep understanding of assessment objectives and educational standards.',\n",
      " 'A logician or philosopher of mathematics who specializes in the study of formal logic, semantics, and mathematical '\n",
      " 'notation.',\n",
      " 'A law student or an attorney specializing in property law or constitutional law, particularly in the context of '\n",
      " 'government authority and rights of private property owners.',\n",
      " 'A herpetologist specializing in crocodile biology, behavior, and conservation.',\n",
      " 'A computer graphics engineer or researcher with a strong background in linear algebra and 3D transformations, '\n",
      " 'specifically focused on OpenGL and matrix calculations for 3D projection and rendering.',\n",
      " 'An SAT instructor or tutor focused on the Writing section, with expertise in developing strategic approaches to '\n",
      " 'answering Improving Sentences questions.',\n",
      " 'A historian or researcher specializing in World War II and the Cold War, possibly with a focus on espionage and the '\n",
      " 'Abwehr or the diplomatic relations between major powers of that era.',\n",
      " 'An instructional designer or educator focused on cognitive learning theory and strategies.',\n",
      " 'A hydrologist or an environmental educator focused on water resource management.',\n",
      " 'A public health professional with a focus on infectious diseases and epidemiology or a tropical medicine '\n",
      " 'specialist, likely working in a region with high Dengue fever prevalence.',\n",
      " 'A medical professional specializing in the field of sexually transmitted diseases or a health educator focused on '\n",
      " 'providing information and resources about genital herpes.',\n",
      " 'A wildlife enthusiast or a science educator focused on natural wonders and animal migrations, likely with an '\n",
      " 'interest in conveying complex phenomena in an accessible and awe-inspiring manner to a general audience, possibly '\n",
      " 'children.',\n",
      " 'A seasoned music educator or a professional musician interested in stringed instruments, likely with a focus on the '\n",
      " 'double bass, who is passionate about sharing detailed information about various aspects of the electric double '\n",
      " 'bass.',\n",
      " 'A medical professional, specifically an allergist or immunologist, who has in-depth knowledge of anaphylaxis, its '\n",
      " 'causes, symptoms, diagnosis, and treatment.',\n",
      " 'A biblical scholar specializing in ancient Hebrew language and linguistics, particularly interested in the history '\n",
      " 'and correct pronunciation of the Tetragrammaton and the divine names in the Hebrew Bible.',\n",
      " 'A wildlife conservation biologist specializing in endangered species and herpetology.',\n",
      " 'An American history professor whose academic focus is on the United States Constitution, the history of its '\n",
      " 'national symbols, and civic education, or a government official responsible for national heritage and patriotism '\n",
      " 'initiatives.',\n",
      " 'A graduate student in international relations whose interests lie at the intersection of ethics, politics, and '\n",
      " 'conflict studies, or a young academic researcher focused on the philosophy of war and its implications for global '\n",
      " 'governance.',\n",
      " 'A science writer or editor, likely with a physics or astronomy background, whose articles cover a wide range of '\n",
      " 'topics in space exploration, cosmology, and the search for extraterrestrial life, often using engaging narratives '\n",
      " 'and accessible analogies to explain complex scientific concepts to a broad audience.',\n",
      " 'An amateur astronomer and science educator with a focus on celestial events and a flair for sharing complex '\n",
      " 'information with a general audience.',\n",
      " 'An elementary school teacher specializing in digital media and animation, likely with a focus on encouraging '\n",
      " 'student creativity and developing technical skills in a classroom setting.',\n",
      " 'An educational assessment specialist or a school administrator concerned with academic ethics and test validation, '\n",
      " 'likely working in the state of Iowa or with a specific interest in its educational policies.',\n",
      " 'A philosopher or logician specializing in modal logic, counterfactuals, and philosophical semantics.',\n",
      " 'A fluid dynamics engineer or researcher with a specific interest in free surface phenomena.',\n",
      " 'An environmental policy analyst with a focus on international conservation agreements and wetland management.',\n",
      " 'A computer science or electrical engineering researcher focused on coding theory and error correction techniques.',\n",
      " 'A biologist or entomologist with a strong religious inclination, likely a Muslim, who is passionate about '\n",
      " 'highlighting the intricate designs in nature as evidence of divine creation and intelligent design.',\n",
      " 'A high school biology teacher or an amateur mycologist (mushroom enthusiast) with a focus on education and clear '\n",
      " 'communication of scientific concepts to a broad audience.',\n",
      " 'A textile historian or conservator specializing in medieval Middle Eastern embroidery, likely with expertise in '\n",
      " 'historical techniques, materials, and cultural influences.',\n",
      " 'A sustainability-focused agricultural journalist or environmental writer who advocates for organic farming methods '\n",
      " 'and bee conservation practices.',\n",
      " 'A climate scientist or researcher concerned with Arctic ice cap dynamics and the impacts of global warming.',\n",
      " 'A middle school English teacher focused on creative writing, literature, and critical thinking, likely working in '\n",
      " 'an urban or suburban setting with an interest in incorporating popular culture into the curriculum to engage '\n",
      " 'students.',\n",
      " 'A veterinarian focused on zoonotic diseases and preventative pet care, likely with a strong interest in public '\n",
      " 'health and education.',\n",
      " 'A calculus or mathematics student, likely in high school or early college, struggling with optimization problems '\n",
      " 'and seeking help with specific calculations and graphing.',\n",
      " 'A biomedical researcher or medical scientist focused on regenerative medicine and tissue engineering, specifically '\n",
      " 'interested in developing new treatments for lung diseases and organ transplantation.',\n",
      " 'An astrophysicist or cosmologist researching galaxy astronomy, who is also open to interdisciplinary comparisons '\n",
      " 'and philosophical reflections on the nature of scientific knowledge and discovery.',\n",
      " 'A marine biologist studying the spatial distribution of food sources in ocean ecosystems and its impact on marine '\n",
      " 'animal behavior and population dynamics.',\n",
      " 'A person interested in this text is likely an academic researcher or student, specifically in the field of '\n",
      " 'psychology or a related social science, with an interest in statistical analysis of research data and measurement '\n",
      " 'theory.',\n",
      " 'A science educator who creates interactive experiments for elementary school students.',\n",
      " 'A materials scientist researching nano-scale materials and liquid crystal technology, likely with a focus on '\n",
      " 'computational modeling and simulations.',\n",
      " 'A high-energy physicist focused on cosmic ray research and its applications in understanding the universe, likely '\n",
      " 'with an interest in the history of physics and the latest advancements in gamma ray and neutrino astronomy.',\n",
      " 'A physics professor teaching introductory electromagnetism classes, familiar with condensed matter physics and '\n",
      " 'having experience in explaining complex concepts to first-year students.',\n",
      " 'A social justice activist and blogger focused on anti-colonialism, anti-racism, and media representation, '\n",
      " 'particularly within the context of intersectional people of color experiences.',\n",
      " \"A Wyoming state government official or a historian whose primary interests include archiving the state's history, \"\n",
      " 'geography, and cultural symbols.',\n",
      " 'A scientist or researcher in the field of meteorology or atmospheric science interested in the application of '\n",
      " 'computer simulations to understand historical events, or a biblical scholar who seeks to interpret and understand '\n",
      " 'the scientific basis for events described in the Bible.',\n",
      " 'An ophthalmologist or veterinary ophthalmologist, likely with a focus on clinical practice and teaching, whose '\n",
      " 'expertise involves a deep understanding of ocular anatomy and physiology.',\n",
      " 'A marine biologist specializing in coral reefs and climate change research.',\n",
      " 'A hydrologist concerned with water resource management, particularly in arid regions and transboundary river '\n",
      " 'systems.',\n",
      " 'An aviation historian specializing in World War II aircraft, likely with a focus on British bombers and their '\n",
      " 'technical specifications, operational history, and combat performance.',\n",
      " 'An IT professional with a strong online presence or a cybersecurity enthusiast familiar with the early days of the '\n",
      " 'internet and online communication.',\n",
      " 'A child development researcher focused on traffic safety and risk-taking behavior in children.',\n",
      " 'A physics historian focused on documenting and promoting the development of major scientific discoveries and the '\n",
      " 'lives of influential physicists.',\n",
      " 'A computer science professional or programming language researcher focused on theoretical foundations and technical '\n",
      " 'details of programming languages, possibly with an interest in numerical computation or artificial intelligence.',\n",
      " 'A veterinary researcher specializing in foreign animal diseases and countermeasure development for high-consequence '\n",
      " 'diseases.',\n",
      " 'A high school biology teacher or instructor focused on integrating the scientific method and evolution into their '\n",
      " 'curriculum, likely with an emphasis on creating engaging lesson plans and educational materials.',\n",
      " 'An early childhood education specialist interested in child development theories and the benefits of play-based '\n",
      " 'learning.',\n",
      " 'A parent educator or a pediatric health specialist focused on substance abuse prevention, particularly in the '\n",
      " 'context of adolescent development and family relationships.',\n",
      " 'An arachnology enthusiast or a paleontology student interested in prehistoric arthropods, likely with a background '\n",
      " 'in biology or a related field.',\n",
      " 'A remote sensing specialist or Earth observation scientist focused on oceanography and environmental monitoring.',\n",
      " 'An elementary school teacher or a parent educator focused on developing good study habits in young children.',\n",
      " 'A pediatrician specializing in developmental and behavioral disorders, particularly autism spectrum disorders, who '\n",
      " 'is well-informed about the latest research and medical guidelines.',\n",
      " 'An astronomy enthusiast or professional who actively observes and tracks celestial objects, possibly an amateur '\n",
      " 'astronomer or a student of astronomy.',\n",
      " 'A climate change researcher or scientist whose work focuses on greenhouse gas emissions, atmospheric measurements, '\n",
      " 'and carbon accounting, possibly affiliated with an institution such as the CSIRO or the Intergovernmental Panel on '\n",
      " 'Climate Change.',\n",
      " 'A foreign affairs analyst with a focus on international relations, geopolitics, and the diplomatic history of the '\n",
      " \"People's Republic of China.\",\n",
      " 'An agricultural specialist or extension agent focused on livestock forage and pasture management, likely with '\n",
      " 'expertise in tall fescue and endophyte mitigation.',\n",
      " 'A wildlife biologist or an ornithologist specializing in bird species and their behavior.',\n",
      " 'An obstetrician or healthcare provider focused on prenatal care and patient education, or a pregnant individual or '\n",
      " 'expectant parent seeking comprehensive information on pregnancy and childbirth.',\n",
      " 'A social studies or history teacher focused on Native American studies, cultural diversity, and the history of '\n",
      " 'North Carolina, likely for elementary to high school levels, and possibly involved in curriculum development or '\n",
      " 'educational resource curation.',\n",
      " 'A park ranger or wildlife biologist working in conservation and management of natural protected areas, particularly '\n",
      " 'those with interests in geology and bird conservation.',\n",
      " 'A scouting leader or youth organization educator who creates and assigns elective activities for Cub Scouts, likely '\n",
      " 'with experience in outdoor education, youth development, and project-based learning.',\n",
      " 'A science historian or a chemistry teacher focused on the history of scientific discoveries.',\n",
      " 'A psychiatrist, possibly sub-specializing in mood disorders.',\n",
      " 'A paleoclimatologist or oceanographer with a focus on mass extinctions and marine ecosystems, possibly affiliated '\n",
      " 'with an academic or research institution.',\n",
      " 'An ecologist or conservation biologist working on species distribution modeling and climate change research, '\n",
      " 'particularly focused on developing and refining predictive models using environmental indices and GIS tools.',\n",
      " 'An elementary school teacher or educator seeking to improve classroom management skills.',\n",
      " 'An invasive species ecologist focused on non-native grasses in subtropical regions, particularly in Southeast Asia '\n",
      " 'and the southeastern United States.',\n",
      " 'A veterinarian specializing in infectious diseases of companion animals.',\n",
      " 'An agricultural historian studying the development of crop resistance or an agronomist researching '\n",
      " 'disease-resistant cotton varieties.',\n",
      " 'A wildlife biologist or zoologist focused on equine or African fauna, with a strong interest in taxonomy and '\n",
      " 'conservation status of zebra species.',\n",
      " 'A neuroscientist or biologist studying circadian rhythms and their impact on behavioral development.',\n",
      " 'A medical historian or curator focused on the history of medical devices, particularly those used in cardiovascular '\n",
      " 'diagnosis.',\n",
      " 'A biomedical research scientist focused on stem cell imaging and tracking, likely with specialization in molecular '\n",
      " 'biology, genetics, and non-invasive imaging techniques.',\n",
      " 'A public health specialist with an epidemiology background, whose expertise encompasses the study of infectious '\n",
      " 'diseases and their prevention and control, likely wrote or would be interested in this text.',\n",
      " 'A psychologist specializing in developmental disorders or a pediatric neurologist with a focus on autism spectrum '\n",
      " 'disorders.',\n",
      " 'A virologist researching antiviral drugs and disease mechanisms, likely in an academic or research institution '\n",
      " 'setting.',\n",
      " 'A historian or educator specializing in 20th-century Latin American history and US-Cuba relations.',\n",
      " 'An environmental anthropologist or a cultural conservationist working closely with indigenous communities to '\n",
      " 'document and preserve traditional ecological knowledge.',\n",
      " 'A language teacher or linguist focused on grammar explanation and pedagogy.']\n"
     ]
    }
   ],
   "source": [
    "personas = [data[\"persona\"] for data in dataset.take(100)]\n",
    "pp.pprint(personas)"
   ]
  },
  {
   "cell_type": "code",
   "execution_count": 11,
   "metadata": {},
   "outputs": [],
   "source": [
    "def generate_instruction(llm: LanguageModel, persona: str) -> dict[str, str]:\n",
    "    prompt = \"\"\"\\\n",
    "Generate a prompt the persona below might ask to an AI assistant:\n",
    "\n",
    "{persona}\n",
    "\n",
    "Note:\n",
    "1. Your response should always start with \"プロンプト:\".\n",
    "2. 簡潔に日本語で回答してください。\n",
    "\"\"\"\n",
    "    return {\n",
    "        \"persona\": persona,\n",
    "        \"text\": llm([[{\"role\": \"user\", \"content\": prompt.format(persona=persona)}]])[0],\n",
    "    }"
   ]
  },
  {
   "cell_type": "code",
   "execution_count": 12,
   "metadata": {},
   "outputs": [
    {
     "name": "stdout",
     "output_type": "stream",
     "text": [
      "{'persona': 'A veterinarian focused on zoonotic diseases and preventative pet care, likely with a strong interest in '\n",
      "            'public health and education.',\n",
      " 'text': 'プロンプト: 最近の動物由来感染症についての最新の研究成果や予防策を教えてください。特にペットの健康管理に役立つ情報が知りたいです。'}\n"
     ]
    }
   ],
   "source": [
    "response = generate_instruction(llm, random.choice(personas))\n",
    "pp.pprint(response)"
   ]
  },
  {
   "cell_type": "code",
   "execution_count": 13,
   "metadata": {},
   "outputs": [],
   "source": [
    "def generate_quora_post(llm: LanguageModel, persona: str) -> dict[str, str]:\n",
    "    prompt = \"\"\"\\\n",
    "Write a Quora post in the language, style, and personality of the following persona:\n",
    "\n",
    "{persona}\n",
    "\n",
    "Note:\n",
    "1. Your response should always start with \"タイトル:\".\n",
    "2. 簡潔に日本語で回答してください。\n",
    "\"\"\"\n",
    "    return {\n",
    "        \"persona\": persona,\n",
    "        \"text\": llm([[{\"role\": \"user\", \"content\": prompt.format(persona=persona)}]])[0],\n",
    "    }"
   ]
  },
  {
   "cell_type": "code",
   "execution_count": 14,
   "metadata": {},
   "outputs": [
    {
     "name": "stdout",
     "output_type": "stream",
     "text": [
      "{'persona': 'A graduate student in international relations whose interests lie at the intersection of ethics, '\n",
      "            'politics, and conflict studies, or a young academic researcher focused on the philosophy of war and its '\n",
      "            'implications for global governance.',\n",
      " 'text': 'タイトル: 戦争の倫理とグローバルガバナンスの交差点\\n'\n",
      "         '\\n'\n",
      "         '戦争と国際関係の研究は、単に歴史や事例を分析するだけではなく、倫理的な視点を考慮することが不可欠です。私たちが直面する現代の紛争は、単なる国家間の対立を超え、非国家主体やテロリズム、環境問題といった新たな要素を絡めています。\\n'\n",
      "         '\\n'\n",
      "         'このような文脈において、戦争の哲学は重要な役割を果たします。例えば、正義の戦争理論は、戦争の正当性を問う際に有用ですが、現実の戦争が常にこの理論に従って行われるわけではありません。倫理的なジレンマに直面する中で、私たちはどのようにグローバルガバナンスを再構築し、平和を持続可能にするのか、常に模索し続ける必要があります。\\n'\n",
      "         '\\n'\n",
      "         '私たちの研究が、未来の国際社会においてより良い選択を導く手助けとなることを願っています。戦争の本質を理解し、倫理的な視点を持ちながら、国際関係の複雑さを解き明かしていくことが、私たちの使命です。'}\n"
     ]
    }
   ],
   "source": [
    "response = generate_quora_post(llm, random.choice(personas))\n",
    "pp.pprint(response)"
   ]
  },
  {
   "cell_type": "markdown",
   "metadata": {},
   "source": [
    "## Persona-Hub による SFT データ合成\n",
    "\n",
    "ここではマルチターンの対話データを生成します。具体的には、\n",
    "\n",
    "- 質問1 (`Q1`): ユーザが質問をする (この部分を Persona-Hub 手法で生成)\n",
    "- 解答1 (`A1`): アシスタントが解答する\n",
    "- 質問2 (`Q2`): ユーザが追加質問をする\n",
    "- 解答2 (`A2`): アシスタントが追加質問に解答する\n",
    "\n",
    "という4つの対話データを生成します。このうち `Q1` の生成に Persona-Hub 手法を適用します。それ以降の対話データは、若干の工夫をしますが基本的に言語モデルの生成に任せます。"
   ]
  },
  {
   "cell_type": "markdown",
   "metadata": {},
   "source": [
    "## Q1 の生成\n",
    "\n",
    "まず、Persona-Hub 手法を使って `Q1` の生成を行います。\n",
    "\n",
    "[元論文のコード](https://github.com/tencent-ailab/persona-hub/blob/main/code/prompt_templates.py)では、数学の問題を生成するプロンプトとして以下が紹介されています。\n",
    "\n",
    "```python\n",
    "math_template = '''Create a math problem related to the following persona:\n",
    "\n",
    "{persona}\n",
    "\n",
    "Note:\n",
    "\n",
    "1. The math problem should be challenging and involve advanced mathematical skills and knowledge. Only top talents can solve it correctly.\n",
    "2. You should make full use of the persona description to create the math problem to ensure that the math problem is unique and specific to the persona.\n",
    "3. Your response should always start with \"Math problem:\". Your response should not include a solution to the created math problem.\n",
    "4. Your created math problem should include no more than 2 sub-problems.\n",
    "'''\n",
    "```\n",
    "\n",
    "これを参考に、プロンプトの一部を修正/パラメータ化して使います。修正点は以下の通りです。\n",
    "\n",
    "- 一部の単語をパラメータ化\n",
    "  - タスクの種類: `task` (e.g. \"math\", \"reasoning\", \"coding\")\n",
    "  - トピックの種類: `topic` (e.g. \"persona\", \"topic\")\n",
    "  - トピックの内容: `item` (e.g. \"SF作家\", \"経営コンサルタント\")\n",
    "  - 対象者: `target` (e.g. \"grade school student\", \"graduate student\")\n",
    "- 難易度を調整\n",
    "  - 元のプロンプトはかなり難易度の高い問題を生成するような表現(`challenging`, `advanced`, `top talents`)となっていたため、難易度を下げるように表現を修正(`simple`, `basic`, `average`)\n",
    "- 小問を生成しないよう修正\n",
    "  - 小問を生成すると対話が複雑になりすぎるため、小問を生成しないように修正(`sub-problems`の行を削除)。代わりにマルチターンで追加質問をするようにする。\n",
    "- 日本語を出力\n",
    "  - 元のプロンプトは英語を出力するようになっているため、日本語を出力するように促すプロンプトを追加\n",
    "\n",
    "上記の修正をしたプロンプトを OpenAI messages 形式で出力する関数を作成します。\n",
    "\n",
    "利用する言語モデルで推奨されているシステムプロンプトがある場合は、それを指定します(コメントアウトされた `{\"role\": \"system\", \"content\": \"...\"}` の部分)。"
   ]
  },
  {
   "cell_type": "code",
   "execution_count": 15,
   "metadata": {},
   "outputs": [],
   "source": [
    "def get_q1_prompt(task: str, topic: str, item: str, target: str) -> list[dict[str, str]]:\n",
    "    Q1_PROMPT_TEMPLATE = \"\"\"Create a {task} problem related to the following {topic}:\n",
    "\n",
    "{item}\n",
    "\n",
    "Note:\n",
    "\n",
    "1. The {task} problem should be simple and involve basic {task} skills and knowledge. Any average {target} can solve it correctly.\n",
    "2. You should make full use of the {topic} description to create the {task} problem to ensure that the {task} problem is unique and specific to the {topic}.\n",
    "3. Your response should always start with \"問題:\". Your response should not include a solution to the created {task} problem.\n",
    "4. 簡潔に日本語で回答してください。\n",
    "\"\"\"\n",
    "    return [\n",
    "        # {\"role\": \"system\", \"content\": \"あなたは親切なAIアシスタントです。日本語で回答してください。\"},\n",
    "        {\"role\": \"user\", \"content\": Q1_PROMPT_TEMPLATE.format(task=task, topic=topic, item=item, target=target)},\n",
    "    ]"
   ]
  },
  {
   "cell_type": "markdown",
   "metadata": {},
   "source": [
    "実行して動作を確認します。"
   ]
  },
  {
   "cell_type": "code",
   "execution_count": 16,
   "metadata": {},
   "outputs": [
    {
     "name": "stdout",
     "output_type": "stream",
     "text": [
      "[{'content': 'Create a math problem related to the following persona:\\n'\n",
      "             '\\n'\n",
      "             'An elementary school teacher or educator focused on creating and compiling educational content for '\n",
      "             'young students, likely in a science, reading, or early childhood development curriculum.\\n'\n",
      "             '\\n'\n",
      "             'Note:\\n'\n",
      "             '\\n'\n",
      "             '1. The math problem should be simple and involve basic math skills and knowledge. Any average grade '\n",
      "             'school student can solve it correctly.\\n'\n",
      "             '2. You should make full use of the persona description to create the math problem to ensure that the '\n",
      "             'math problem is unique and specific to the persona.\\n'\n",
      "             '3. Your response should always start with \"問題:\". Your response should not include a solution to the '\n",
      "             'created math problem.\\n'\n",
      "             '4. 簡潔に日本語で回答してください。\\n',\n",
      "  'role': 'user'}]\n"
     ]
    }
   ],
   "source": [
    "q1_prompt = get_q1_prompt(\"math\", \"persona\", random.choice(personas), \"grade school student\")\n",
    "pp.pprint(q1_prompt)"
   ]
  },
  {
   "cell_type": "markdown",
   "metadata": {},
   "source": [
    "問題なさそうなので、言語モデルで推論して Q1 を生成します。"
   ]
  },
  {
   "cell_type": "code",
   "execution_count": 17,
   "metadata": {},
   "outputs": [
    {
     "name": "stdout",
     "output_type": "stream",
     "text": [
      "['問題: 天文学に熱中しているアマチュア天文学者の田中さんは、毎晩星を観察しています。彼は、1週間の間に合計で35個の星を観察しました。もし彼が毎晩同じ数の星を観察したとしたら、彼は1晩に何個の星を観察したのでしょうか？']\n"
     ]
    }
   ],
   "source": [
    "q1s = llm([get_q1_prompt(\"math\", \"persona\", random.choice(personas), \"grade school student\")])\n",
    "pp.pprint(q1s)"
   ]
  },
  {
   "cell_type": "markdown",
   "metadata": {},
   "source": [
    "引数を変更して難易度の高い問題を生成します。"
   ]
  },
  {
   "cell_type": "code",
   "execution_count": 18,
   "metadata": {},
   "outputs": [
    {
     "name": "stdout",
     "output_type": "stream",
     "text": [
      "['問題:  \\n'\n",
      " 'あるヘブライ語の研究者が、聖書のテキスト中に出現する動詞の数を調査しています。彼は、特定の文脈での動詞の出現率が全体の文の中で 30% であることを発見しました。彼が調査した 1500 '\n",
      " '文の中で、動詞が出現した文の数を求めなさい。さらに、彼が調査した文の中で動詞が出現しなかった文の割合が 70% である場合、動詞が出現しなかった文の数も求めなさい。']\n"
     ]
    }
   ],
   "source": [
    "q1s = llm([get_q1_prompt(\"advanced math\", \"persona\", random.choice(personas), \"graduate student\")])\n",
    "pp.pprint(q1s)"
   ]
  },
  {
   "cell_type": "markdown",
   "metadata": {},
   "source": [
    "問題さなさそうです。\n",
    "\n",
    "次に、`問題:` など余分な部分をルールベース(正規表現)で削除します。言語モデルによっては、解答やヒントを書いてしまうものがありますので、もしそれらが出力されるのであればここで削除しておきます。\n",
    "\n",
    "**Note: この関数が複雑になり過ぎる場合は、プロンプトの見直しや言語モデルの変更を検討した方が良いかもしれません。**"
   ]
  },
  {
   "cell_type": "code",
   "execution_count": 19,
   "metadata": {},
   "outputs": [],
   "source": [
    "def filter_q1(content: str) -> str:\n",
    "    content = content.strip()\n",
    "    content = re.sub(r\"^問題[：:]\", \"\", content, flags=re.DOTALL)\n",
    "    content = re.sub(r\"^Problem[：:]\", \"\", content, flags=re.DOTALL)\n",
    "    content = re.sub(r\"\\n答え[：:].*\", \"\", content, flags=re.DOTALL)\n",
    "    content = re.sub(r\"\\n[解回]答[：:].*\", \"\", content, flags=re.DOTALL)\n",
    "    content = re.sub(r\"\\n[Aa]nswer[：:].*\", \"\", content, flags=re.DOTALL)  # cspell: disable-line\n",
    "    content = content.strip()\n",
    "    return content"
   ]
  },
  {
   "cell_type": "markdown",
   "metadata": {},
   "source": [
    "実行して動作を確認します。"
   ]
  },
  {
   "cell_type": "code",
   "execution_count": 20,
   "metadata": {},
   "outputs": [
    {
     "data": {
      "text/plain": [
       "'あるヘブライ語の研究者が、聖書のテキスト中に出現する動詞の数を調査しています。彼は、特定の文脈での動詞の出現率が全体の文の中で 30% であることを発見しました。彼が調査した 1500 文の中で、動詞が出現した文の数を求めなさい。さらに、彼が調査した文の中で動詞が出現しなかった文の割合が 70% である場合、動詞が出現しなかった文の数も求めなさい。'"
      ]
     },
     "execution_count": 20,
     "metadata": {},
     "output_type": "execute_result"
    }
   ],
   "source": [
    "filter_q1(q1s[0])"
   ]
  },
  {
   "cell_type": "code",
   "execution_count": 21,
   "metadata": {},
   "outputs": [
    {
     "data": {
      "text/plain": [
       "'ここは問題です。'"
      ]
     },
     "execution_count": 21,
     "metadata": {},
     "output_type": "execute_result"
    }
   ],
   "source": [
    "filter_q1(\"問題: ここは問題です。\\n\\n解答: ここは答えです。\")"
   ]
  },
  {
   "cell_type": "markdown",
   "metadata": {},
   "source": [
    "問題なさそうです。\n",
    "\n",
    "作成した関数を組み合わせて、バッチ処理で `Q1` を生成する関数を作成します。"
   ]
  },
  {
   "cell_type": "code",
   "execution_count": 22,
   "metadata": {},
   "outputs": [],
   "source": [
    "def generate_q1(\n",
    "    llm: LanguageModel, tasks: list[str], topics: list[str], items: list[str], targets: list[str]\n",
    ") -> list[str]:\n",
    "    return [\n",
    "        filter_q1(q1)\n",
    "        for q1 in llm(\n",
    "            [\n",
    "                get_q1_prompt(task, topic, item, target)\n",
    "                for task, topic, item, target in zip(tasks, topics, items, targets)\n",
    "            ]\n",
    "        )\n",
    "    ]"
   ]
  },
  {
   "cell_type": "markdown",
   "metadata": {},
   "source": [
    "実行して動作を確認します。"
   ]
  },
  {
   "cell_type": "code",
   "execution_count": 23,
   "metadata": {},
   "outputs": [
    {
     "name": "stdout",
     "output_type": "stream",
     "text": [
      "['ある宇宙ロボット工学者が、火星探査のために新しいロボットを設計しています。このロボットは、1時間で10キロメートルの速度で移動します。もしロボットが火星の表面を30時間移動し続けた場合、ロボットは合計で何キロメートル移動することになりますか？',\n",
      " 'ある気象学者が、過去の大洪水のデータを基にして、特定の地域での降水量の変動を解析しています。この地域では、過去100年間の年平均降水量が次のように与えられています：\\n'\n",
      " '\\n'\n",
      " '\\\\[ P(t) = 800 + 50 \\\\sin\\\\left(\\\\frac{2\\\\pi}{10}t\\\\right) \\\\]\\n'\n",
      " '\\n'\n",
      " 'ここで、\\\\( P(t) \\\\)は年\\\\( t \\\\)における降水量（mm）、\\\\( t \\\\)は年数（0から99まで）を表します。\\n'\n",
      " '\\n'\n",
      " 'この降水量の変動を解析するために、以下の問いに答えてください：\\n'\n",
      " '\\n'\n",
      " '1. 10年ごとの平均降水量を求めなさい。\\n'\n",
      " '2. 降水量が最大となる年を特定し、その年の降水量を計算しなさい。\\n'\n",
      " '3. 過去100年間の降水量の標準偏差を計算しなさい。']\n"
     ]
    }
   ],
   "source": [
    "q1s = generate_q1(\n",
    "    llm,\n",
    "    [\"math\", \"advanced math\"],\n",
    "    [\"persona\", \"persona\"],\n",
    "    [random.choice(personas), random.choice(personas)],\n",
    "    [\"grade school student\", \"graduate student\"],\n",
    ")\n",
    "pp.pprint(q1s)"
   ]
  },
  {
   "cell_type": "markdown",
   "metadata": {},
   "source": [
    "問題なさそうです。ここまでで `Q1` を生成する関数の実装が完了しました。"
   ]
  },
  {
   "cell_type": "markdown",
   "metadata": {},
   "source": [
    "## A1 の生成\n",
    "\n",
    "次に、`A1` の生成を行います。ここでは基本的に `Q1` を入力して、長さ指定(`簡潔に`)と、出力言語の指定(`日本語で`)をして言語モデルに生成させます。言語モデルによっては、表現を微調整する必要があるかもしれません。\n",
    "\n",
    "実行の流れは `Q1` と同様ですので、ここではコードのみ記載します。"
   ]
  },
  {
   "cell_type": "code",
   "execution_count": 24,
   "metadata": {},
   "outputs": [],
   "source": [
    "def get_a1_prompt(q1: str) -> list[dict]:\n",
    "    A1_PROMPT_TEMPLATE = \"{q1}\\n\\n簡潔に日本語で回答してください。\"\n",
    "    return [\n",
    "        # {\"role\": \"system\", \"content\": \"あなたは親切なAIアシスタントです。日本語で回答してください。\"},\n",
    "        {\"role\": \"user\", \"content\": A1_PROMPT_TEMPLATE.format(q1=q1)},\n",
    "    ]"
   ]
  },
  {
   "cell_type": "code",
   "execution_count": 25,
   "metadata": {},
   "outputs": [
    {
     "name": "stdout",
     "output_type": "stream",
     "text": [
      "[{'content': 'ある宇宙ロボット工学者が、火星探査のために新しいロボットを設計しています。このロボットは、1時間で10キロメートルの速度で移動します。もしロボットが火星の表面を30時間移動し続けた場合、ロボットは合計で何キロメートル移動することになりますか？\\n'\n",
      "             '\\n'\n",
      "             '簡潔に日本語で回答してください。',\n",
      "  'role': 'user'}]\n"
     ]
    }
   ],
   "source": [
    "a1_prompt = get_a1_prompt(q1s[0])\n",
    "pp.pprint(a1_prompt)"
   ]
  },
  {
   "cell_type": "code",
   "execution_count": 26,
   "metadata": {},
   "outputs": [
    {
     "name": "stdout",
     "output_type": "stream",
     "text": [
      "['ロボットは1時間で10キロメートル移動するので、30時間で移動する距離は次のように計算できます。\\n\\n10キロメートル/時間 × 30時間 = 300キロメートル\\n\\nしたがって、ロボットは合計で300キロメートル移動します。']\n"
     ]
    }
   ],
   "source": [
    "a1s = llm([get_a1_prompt(q1s[0])])\n",
    "pp.pprint(a1s)"
   ]
  },
  {
   "cell_type": "code",
   "execution_count": 27,
   "metadata": {},
   "outputs": [
    {
     "name": "stdout",
     "output_type": "stream",
     "text": [
      "['1. **10年ごとの平均降水量を求める**  \\n'\n",
      " '降水量の式は \\\\( P(t) = 800 + 50 \\\\sin\\\\left(\\\\frac{2\\\\pi}{10}t\\\\right) \\\\) '\n",
      " 'です。10年ごとの平均降水量を求めるために、各10年間の降水量を計算し、それを平均します。\\n'\n",
      " '\\n'\n",
      " '- **0年から9年**:  \\n'\n",
      " '  \\\\(\\\\text{平均} = \\\\frac{1}{10} \\\\sum_{t=0}^{9} P(t) = \\\\frac{1}{10} \\\\sum_{t=0}^{9} \\\\left( 800 + 50 '\n",
      " '\\\\sin\\\\left(\\\\frac{2\\\\pi}{10}t\\\\right) \\\\right)\\\\)  \\n'\n",
      " '  \\\\(\\\\text{平均} = 800 + 5 \\\\sum_{t=0}^{9} \\\\sin\\\\left(\\\\frac{2\\\\pi}{10}t\\\\right) \\\\)  \\n'\n",
      " '  \\\\(\\\\sum_{t=0}^{9} \\\\sin\\\\left(\\\\frac{2\\\\pi}{10}t\\\\right) = 0\\\\) なので、  \\n'\n",
      " '  \\\\(\\\\text{平均} = 800 \\\\, \\\\text{mm}\\\\)\\n'\n",
      " '\\n'\n",
      " '同様に、10年ごとに計算すると、\\n'\n",
      " '\\n'\n",
      " '- **10年から19年**: 800 mm\\n'\n",
      " '- **20年から29年**: 800 mm\\n'\n",
      " '- **30年から39年**: 800 mm\\n'\n",
      " '- **40年から49年**: 800 mm\\n'\n",
      " '- **50年から59年**: 800 mm\\n'\n",
      " '- **60年から69年**: 800 mm\\n'\n",
      " '- **70年から79年**: 800 mm\\n'\n",
      " '- **80年から89年**: 800 mm\\n'\n",
      " '- **90年から99年**: 800 mm\\n'\n",
      " '\\n'\n",
      " 'したがって、各10年ごとの平均降水量はすべて800 mmです。\\n'\n",
      " '\\n'\n",
      " '2. **降水量が最大となる年を特定し、その年の降水量を計算**  \\n'\n",
      " '降水量が最大になるのは、\\\\(\\\\sin\\\\)の値が1になるときです。  \\n'\n",
      " '\\\\(\\\\sin\\\\left(\\\\frac{2\\\\pi}{10}t\\\\right) = 1\\\\) となるのは、  \\n'\n",
      " '\\\\(\\\\frac{2\\\\pi}{10}t = \\\\frac']\n"
     ]
    }
   ],
   "source": [
    "a1s = llm([get_a1_prompt(q1s[1])])\n",
    "pp.pprint(a1s)"
   ]
  },
  {
   "cell_type": "code",
   "execution_count": 28,
   "metadata": {},
   "outputs": [],
   "source": [
    "def filter_a1(content: str) -> str:\n",
    "    content = content.strip()\n",
    "    content = re.sub(r\"^答え[：:]\", \"\", content, flags=re.DOTALL)\n",
    "    content = re.sub(r\"^[解回]答[：:]\", \"\", content, flags=re.DOTALL)\n",
    "    content = re.sub(r\"^[Aa]nswer[：:]\", \"\", content, flags=re.DOTALL)  # cspell: disable-line\n",
    "    content = content.strip()\n",
    "    return content"
   ]
  },
  {
   "cell_type": "code",
   "execution_count": 29,
   "metadata": {},
   "outputs": [
    {
     "data": {
      "text/plain": [
       "'ここは答えです。'"
      ]
     },
     "execution_count": 29,
     "metadata": {},
     "output_type": "execute_result"
    }
   ],
   "source": [
    "filter_a1(\"解答: ここは答えです。\")"
   ]
  },
  {
   "cell_type": "code",
   "execution_count": 30,
   "metadata": {},
   "outputs": [],
   "source": [
    "def generate_a1(llm: LanguageModel, q1s: list[str]) -> list[str]:\n",
    "    return [filter_a1(a1) for a1 in llm([get_a1_prompt(q1) for q1 in q1s])]"
   ]
  },
  {
   "cell_type": "code",
   "execution_count": 31,
   "metadata": {},
   "outputs": [
    {
     "name": "stdout",
     "output_type": "stream",
     "text": [
      "['ロボットは1時間で10キロメートル移動するので、30時間で移動する距離は次のように計算できます。\\n\\n10キロメートル/時間 × 30時間 = 300キロメートル\\n\\nしたがって、ロボットは合計で300キロメートル移動します。',\n",
      " '1. **10年ごとの平均降水量を求める**  \\n'\n",
      " '降水量の式は \\\\( P(t) = 800 + 50 \\\\sin\\\\left(\\\\frac{2\\\\pi}{10}t\\\\right) \\\\) です。10年ごとの平均降水量を求めるために、各10年間の降水量を計算します。\\n'\n",
      " '\\n'\n",
      " '- \\\\( t = 0 \\\\) から \\\\( 9 \\\\):\\n'\n",
      " '  \\\\[\\n'\n",
      " '  P(0) = 800 + 50 \\\\sin(0) = 800 \\\\\\\\\\n'\n",
      " '  P(1) = 800 + 50 \\\\sin\\\\left(\\\\frac{2\\\\pi}{10}\\\\right) \\\\approx 800 + 50 \\\\times 0.309 = 815.5 \\\\\\\\\\n'\n",
      " '  P(2) = 800 + 50 \\\\sin\\\\left(\\\\frac{4\\\\pi}{10}\\\\right) \\\\approx 800 + 50 \\\\times 0.588 = 814 \\\\\\\\\\n'\n",
      " '  P(3) = 800 + 50 \\\\sin\\\\left(\\\\frac{6\\\\pi}{10}\\\\right) \\\\approx 800 + 50 \\\\times 0.809 = 820.5 \\\\\\\\\\n'\n",
      " '  P(4) = 800 + 50 \\\\sin\\\\left(\\\\frac{8\\\\pi}{10}\\\\right) \\\\approx 800 + 50 \\\\times 0.951 = 827.5 \\\\\\\\\\n'\n",
      " '  P(5) = 800 + 50 \\\\sin(2\\\\pi) = 800 \\\\\\\\\\n'\n",
      " '  P(6) = 800 + 50 \\\\sin\\\\left(\\\\frac{2\\\\pi}{10} \\\\times 6\\\\right) \\\\approx 800 - 50 \\\\times 0.951 = 772.5 \\\\\\\\\\n'\n",
      " '  P(7) = 800 + 50 \\\\sin\\\\left(\\\\frac{2\\\\pi}{10} \\\\times 7\\\\right) \\\\approx 800 - 50 \\\\times 0.809 = 779.5 \\\\\\\\\\n'\n",
      " '  P(8) = 800 + 50 \\\\sin\\\\left(\\\\frac{2\\\\pi}{10} \\\\times 8\\\\right) \\\\approx 800 - 50 \\\\times 0.588 = 786 \\\\\\\\\\n'\n",
      " '  P(9) = 800 + 50 \\\\sin\\\\left(\\\\frac{2\\\\pi}{10} \\\\times 9\\\\right) \\\\approx 800']\n"
     ]
    }
   ],
   "source": [
    "a1s = generate_a1(llm, q1s)\n",
    "pp.pprint(a1s)"
   ]
  },
  {
   "cell_type": "markdown",
   "metadata": {},
   "source": [
    "## Q2 の生成\n",
    "\n",
    "次に、追加質問 `Q2` の生成を行います。\n",
    "\n",
    "- まず `Q1` に関連する質問であることを強調します(`前述の問題をより理解するために`の部分)。これが無いと `Q2` で新たな別の質問を生成してしまうことがあります。\n",
    "- 次に `問題の一部を変更したり、条件を追加しても良いです` という部分で、`Q1` の問題の一部を変更することを促します。これにより、`Q2` が `Q1` に関連する質問となる確率を高めることができます。\n",
    "- 最後に答えを含まないように注意を促します(`決して答えを含めないでください`の部分)。"
   ]
  },
  {
   "cell_type": "code",
   "execution_count": 32,
   "metadata": {},
   "outputs": [],
   "source": [
    "def get_q2_prompt(q1: str, a1: str) -> list[dict[str, str]]:\n",
    "    Q2_PROMPT_TEMPLATE = \"前述の問題をより理解するために、簡潔な追加の質問を一つ作ってください。問題の一部を変更したり、条件を追加しても良いです。追加の質問だけを書き、決して答えを含めないでください。\"\n",
    "    return [\n",
    "        # {\"role\": \"system\", \"content\": \"あなたは親切なAIアシスタントです。日本語で回答してください。\"},\n",
    "        {\"role\": \"user\", \"content\": q1},\n",
    "        {\"role\": \"assistant\", \"content\": a1},\n",
    "        {\"role\": \"user\", \"content\": Q2_PROMPT_TEMPLATE},\n",
    "    ]"
   ]
  },
  {
   "cell_type": "code",
   "execution_count": 33,
   "metadata": {},
   "outputs": [
    {
     "name": "stdout",
     "output_type": "stream",
     "text": [
      "[{'content': 'ある宇宙ロボット工学者が、火星探査のために新しいロボットを設計しています。このロボットは、1時間で10キロメートルの速度で移動します。もしロボットが火星の表面を30時間移動し続けた場合、ロボットは合計で何キロメートル移動することになりますか？',\n",
      "  'role': 'user'},\n",
      " {'content': 'ロボットは1時間で10キロメートル移動するので、30時間で移動する距離は次のように計算できます。\\n'\n",
      "             '\\n'\n",
      "             '10キロメートル/時間 × 30時間 = 300キロメートル\\n'\n",
      "             '\\n'\n",
      "             'したがって、ロボットは合計で300キロメートル移動します。',\n",
      "  'role': 'assistant'},\n",
      " {'content': '前述の問題をより理解するために、簡潔な追加の質問を一つ作ってください。問題の一部を変更したり、条件を追加しても良いです。追加の質問だけを書き、決して答えを含めないでください。',\n",
      "  'role': 'user'}]\n"
     ]
    }
   ],
   "source": [
    "q2_prompt = get_q2_prompt(q1s[0], a1s[0])\n",
    "pp.pprint(q2_prompt)"
   ]
  },
  {
   "cell_type": "code",
   "execution_count": 34,
   "metadata": {},
   "outputs": [
    {
     "name": "stdout",
     "output_type": "stream",
     "text": [
      "['ロボットが火星の表面を30時間移動した後、休憩のために5時間停止した場合、ロボットが移動を再開した後にさらに10時間移動した場合、合計で何キロメートル移動することになりますか？']\n"
     ]
    }
   ],
   "source": [
    "q2s = llm([get_q2_prompt(q1s[0], a1s[0])])\n",
    "pp.pprint(q2s)"
   ]
  },
  {
   "cell_type": "code",
   "execution_count": 35,
   "metadata": {},
   "outputs": [],
   "source": [
    "def filter_q2(content: str) -> str:\n",
    "    content = content.strip()\n",
    "    content = re.sub(r\"^追加の質問[：:]\", \"\", content, flags=re.DOTALL)\n",
    "    content = re.sub(r\"^質問[：:]\", \"\", content, flags=re.DOTALL)\n",
    "    content = content.strip()\n",
    "    return content"
   ]
  },
  {
   "cell_type": "code",
   "execution_count": 36,
   "metadata": {},
   "outputs": [],
   "source": [
    "def generate_q2(llm: LanguageModel, q1s: list[str], a1s: list[str]) -> list[str]:\n",
    "    return [filter_q2(q2) for q2 in llm([get_q2_prompt(q1, a1) for q1, a1 in zip(q1s, a1s)])]"
   ]
  },
  {
   "cell_type": "code",
   "execution_count": 37,
   "metadata": {},
   "outputs": [
    {
     "name": "stdout",
     "output_type": "stream",
     "text": [
      "['ロボットが1時間に12キロメートルの速度で移動する場合、30時間で合計何キロメートル移動することになりますか？',\n",
      " '降水量の式が以下のように変更されました：\\n'\n",
      " '\\n'\n",
      " '\\\\[ P(t) = 800 + 50 \\\\sin\\\\left(\\\\frac{2\\\\pi}{15}t + \\\\frac{\\\\pi}{4}\\\\right) \\\\]\\n'\n",
      " '\\n'\n",
      " 'この新しい降水量の式に基づき、次の問いに答えなさい：\\n'\n",
      " '\\n'\n",
      " '4. 10年ごとの降水量の変動幅（最大降水量と最小降水量の差）を求めなさい。']\n"
     ]
    }
   ],
   "source": [
    "q2s = generate_q2(llm, q1s, a1s)\n",
    "pp.pprint(q2s)"
   ]
  },
  {
   "cell_type": "markdown",
   "metadata": {},
   "source": [
    "一旦、ここまでの対話データの流れを確認します。"
   ]
  },
  {
   "cell_type": "code",
   "execution_count": 38,
   "metadata": {},
   "outputs": [
    {
     "name": "stdout",
     "output_type": "stream",
     "text": [
      "('ある宇宙ロボット工学者が、火星探査のために新しいロボットを設計しています。このロボットは、1時間で10キロメートルの速度で移動します。もしロボットが火星の表面を30時間移動し続けた場合、ロボットは合計で何キロメートル移動することになりますか？',\n",
      " 'ロボットは1時間で10キロメートル移動するので、30時間で移動する距離は次のように計算できます。\\n\\n10キロメートル/時間 × 30時間 = 300キロメートル\\n\\nしたがって、ロボットは合計で300キロメートル移動します。',\n",
      " 'ロボットが1時間に12キロメートルの速度で移動する場合、30時間で合計何キロメートル移動することになりますか？')\n"
     ]
    }
   ],
   "source": [
    "pp.pprint(list(zip(q1s, a1s, q2s))[0])"
   ]
  },
  {
   "cell_type": "code",
   "execution_count": 39,
   "metadata": {},
   "outputs": [
    {
     "name": "stdout",
     "output_type": "stream",
     "text": [
      "('ある気象学者が、過去の大洪水のデータを基にして、特定の地域での降水量の変動を解析しています。この地域では、過去100年間の年平均降水量が次のように与えられています：\\n'\n",
      " '\\n'\n",
      " '\\\\[ P(t) = 800 + 50 \\\\sin\\\\left(\\\\frac{2\\\\pi}{10}t\\\\right) \\\\]\\n'\n",
      " '\\n'\n",
      " 'ここで、\\\\( P(t) \\\\)は年\\\\( t \\\\)における降水量（mm）、\\\\( t \\\\)は年数（0から99まで）を表します。\\n'\n",
      " '\\n'\n",
      " 'この降水量の変動を解析するために、以下の問いに答えてください：\\n'\n",
      " '\\n'\n",
      " '1. 10年ごとの平均降水量を求めなさい。\\n'\n",
      " '2. 降水量が最大となる年を特定し、その年の降水量を計算しなさい。\\n'\n",
      " '3. 過去100年間の降水量の標準偏差を計算しなさい。',\n",
      " '1. **10年ごとの平均降水量を求める**  \\n'\n",
      " '降水量の式は \\\\( P(t) = 800 + 50 \\\\sin\\\\left(\\\\frac{2\\\\pi}{10}t\\\\right) \\\\) です。10年ごとの平均降水量を求めるために、各10年間の降水量を計算します。\\n'\n",
      " '\\n'\n",
      " '- \\\\( t = 0 \\\\) から \\\\( 9 \\\\):\\n'\n",
      " '  \\\\[\\n'\n",
      " '  P(0) = 800 + 50 \\\\sin(0) = 800 \\\\\\\\\\n'\n",
      " '  P(1) = 800 + 50 \\\\sin\\\\left(\\\\frac{2\\\\pi}{10}\\\\right) \\\\approx 800 + 50 \\\\times 0.309 = 815.5 \\\\\\\\\\n'\n",
      " '  P(2) = 800 + 50 \\\\sin\\\\left(\\\\frac{4\\\\pi}{10}\\\\right) \\\\approx 800 + 50 \\\\times 0.588 = 814 \\\\\\\\\\n'\n",
      " '  P(3) = 800 + 50 \\\\sin\\\\left(\\\\frac{6\\\\pi}{10}\\\\right) \\\\approx 800 + 50 \\\\times 0.809 = 820.5 \\\\\\\\\\n'\n",
      " '  P(4) = 800 + 50 \\\\sin\\\\left(\\\\frac{8\\\\pi}{10}\\\\right) \\\\approx 800 + 50 \\\\times 0.951 = 827.5 \\\\\\\\\\n'\n",
      " '  P(5) = 800 + 50 \\\\sin(2\\\\pi) = 800 \\\\\\\\\\n'\n",
      " '  P(6) = 800 + 50 \\\\sin\\\\left(\\\\frac{2\\\\pi}{10} \\\\times 6\\\\right) \\\\approx 800 - 50 \\\\times 0.951 = 772.5 \\\\\\\\\\n'\n",
      " '  P(7) = 800 + 50 \\\\sin\\\\left(\\\\frac{2\\\\pi}{10} \\\\times 7\\\\right) \\\\approx 800 - 50 \\\\times 0.809 = 779.5 \\\\\\\\\\n'\n",
      " '  P(8) = 800 + 50 \\\\sin\\\\left(\\\\frac{2\\\\pi}{10} \\\\times 8\\\\right) \\\\approx 800 - 50 \\\\times 0.588 = 786 \\\\\\\\\\n'\n",
      " '  P(9) = 800 + 50 \\\\sin\\\\left(\\\\frac{2\\\\pi}{10} \\\\times 9\\\\right) \\\\approx 800',\n",
      " '降水量の式が以下のように変更されました：\\n'\n",
      " '\\n'\n",
      " '\\\\[ P(t) = 800 + 50 \\\\sin\\\\left(\\\\frac{2\\\\pi}{15}t + \\\\frac{\\\\pi}{4}\\\\right) \\\\]\\n'\n",
      " '\\n'\n",
      " 'この新しい降水量の式に基づき、次の問いに答えなさい：\\n'\n",
      " '\\n'\n",
      " '4. 10年ごとの降水量の変動幅（最大降水量と最小降水量の差）を求めなさい。')\n"
     ]
    }
   ],
   "source": [
    "pp.pprint(list(zip(q1s, a1s, q2s))[1])"
   ]
  },
  {
   "cell_type": "markdown",
   "metadata": {},
   "source": [
    "問題なさそうです。"
   ]
  },
  {
   "cell_type": "markdown",
   "metadata": {},
   "source": [
    "## A2 の生成\n",
    "\n",
    "最後に、`A2` の生成を行います。基本的に `A1` の生成と同様ですので、ここではコードのみ記載します。"
   ]
  },
  {
   "cell_type": "code",
   "execution_count": 40,
   "metadata": {},
   "outputs": [],
   "source": [
    "def get_a2_prompt(q1: str, a1: str, q2: str) -> list[dict[str, str]]:\n",
    "    A2_PROMPT_TEMPLATE = \"{q2}\\n\\n簡潔に日本語で回答してください。\"\n",
    "    return [\n",
    "        # {\"role\": \"system\", \"content\": \"あなたは親切なAIアシスタントです。日本語で回答してください。\"},\n",
    "        {\"role\": \"user\", \"content\": q1},\n",
    "        {\"role\": \"assistant\", \"content\": a1},\n",
    "        {\"role\": \"user\", \"content\": A2_PROMPT_TEMPLATE.format(q2=q2)},\n",
    "    ]"
   ]
  },
  {
   "cell_type": "code",
   "execution_count": 41,
   "metadata": {},
   "outputs": [
    {
     "name": "stdout",
     "output_type": "stream",
     "text": [
      "[{'content': 'ある宇宙ロボット工学者が、火星探査のために新しいロボットを設計しています。このロボットは、1時間で10キロメートルの速度で移動します。もしロボットが火星の表面を30時間移動し続けた場合、ロボットは合計で何キロメートル移動することになりますか？',\n",
      "  'role': 'user'},\n",
      " {'content': 'ロボットは1時間で10キロメートル移動するので、30時間で移動する距離は次のように計算できます。\\n'\n",
      "             '\\n'\n",
      "             '10キロメートル/時間 × 30時間 = 300キロメートル\\n'\n",
      "             '\\n'\n",
      "             'したがって、ロボットは合計で300キロメートル移動します。',\n",
      "  'role': 'assistant'},\n",
      " {'content': 'ロボットが1時間に12キロメートルの速度で移動する場合、30時間で合計何キロメートル移動することになりますか？\\n\\n簡潔に日本語で回答してください。', 'role': 'user'}]\n"
     ]
    }
   ],
   "source": [
    "a2_prompt = get_a2_prompt(q1s[0], a1s[0], q2s[0])\n",
    "pp.pprint(a2_prompt)"
   ]
  },
  {
   "cell_type": "code",
   "execution_count": 42,
   "metadata": {},
   "outputs": [
    {
     "name": "stdout",
     "output_type": "stream",
     "text": [
      "['ロボットは30時間で合計360キロメートル移動します。',\n",
      " '新しい降水量の式は \\\\( P(t) = 800 + 50 \\\\sin\\\\left(\\\\frac{2\\\\pi}{15}t + \\\\frac{\\\\pi}{4}\\\\right) \\\\) '\n",
      " 'です。この式に基づいて、降水量の変動幅を求めます。\\n'\n",
      " '\\n'\n",
      " '1. **最大値を求める**:\\n'\n",
      " '   \\\\[\\n'\n",
      " '   \\\\sin\\\\left(\\\\frac{2\\\\pi}{15}t + \\\\frac{\\\\pi}{4}\\\\right) \\\\text{ の最大値は } 1 です。\\n'\n",
      " '   \\\\]\\n'\n",
      " '   したがって、最大降水量 \\\\( P_{\\\\text{max}} \\\\) は：\\n'\n",
      " '   \\\\[\\n'\n",
      " '   P_{\\\\text{max}} = 800 + 50 \\\\cdot 1 = 850 \\\\text{ mm}\\n'\n",
      " '   \\\\]\\n'\n",
      " '\\n'\n",
      " '2. **最小値を求める**:\\n'\n",
      " '   \\\\[\\n'\n",
      " '   \\\\sin\\\\left(\\\\frac{2\\\\pi}{15}t + \\\\frac{\\\\pi}{4}\\\\right) \\\\text{ の最小値は } -1 です。\\n'\n",
      " '   \\\\]\\n'\n",
      " '   したがって、最小降水量 \\\\( P_{\\\\text{min}} \\\\) は：\\n'\n",
      " '   \\\\[\\n'\n",
      " '   P_{\\\\text{min}} = 800 + 50 \\\\cdot (-1) = 750 \\\\text{ mm}\\n'\n",
      " '   \\\\]\\n'\n",
      " '\\n'\n",
      " '3. **変動幅を求める**:\\n'\n",
      " '   \\\\[\\n'\n",
      " '   \\\\text{変動幅} = P_{\\\\text{max}} - P_{\\\\text{min}} = 850 - 750 = 100 \\\\text{ mm}\\n'\n",
      " '   \\\\]\\n'\n",
      " '\\n'\n",
      " 'したがって、10年ごとの降水量の変動幅は **100 mm** です。']\n"
     ]
    }
   ],
   "source": [
    "a2s = llm([get_a2_prompt(q1, a1, q2) for q1, a1, q2 in zip(q1s, a1s, q2s)])\n",
    "pp.pprint(a2s)"
   ]
  },
  {
   "cell_type": "code",
   "execution_count": 43,
   "metadata": {},
   "outputs": [],
   "source": [
    "def filter_a2(content: str) -> str:\n",
    "    content = content.strip()\n",
    "    content = re.sub(r\"^答え[：:]\", \"\", content, flags=re.DOTALL)\n",
    "    content = re.sub(r\"^[解回]答[：:]\", \"\", content, flags=re.DOTALL)\n",
    "    content = re.sub(r\"^[Aa]nswer[：:]\", \"\", content, flags=re.DOTALL)  # cspell: disable-line\n",
    "    content = content.strip()\n",
    "    return content"
   ]
  },
  {
   "cell_type": "code",
   "execution_count": 44,
   "metadata": {},
   "outputs": [],
   "source": [
    "def generate_a2(llm: LanguageModel, q1s: list[str], a1s: list[str], q2s: list[str]) -> list[str]:\n",
    "    return [filter_a2(a2) for a2 in llm([get_a2_prompt(q1, a1, q2) for q1, a1, q2 in zip(q1s, a1s, q2s)])]"
   ]
  },
  {
   "cell_type": "code",
   "execution_count": 45,
   "metadata": {},
   "outputs": [
    {
     "name": "stdout",
     "output_type": "stream",
     "text": [
      "['ロボットは30時間で合計360キロメートル移動します。',\n",
      " '新しい降水量の式は \\\\( P(t) = 800 + 50 \\\\sin\\\\left(\\\\frac{2\\\\pi}{15}t + \\\\frac{\\\\pi}{4}\\\\right) \\\\) です。\\n'\n",
      " '\\n'\n",
      " 'まず、降水量の最大値と最小値を求めます。\\n'\n",
      " '\\n'\n",
      " '- 最大値は、\\\\(\\\\sin\\\\) の最大値が 1 のときに達成されます：\\n'\n",
      " '  \\\\[\\n'\n",
      " '  P_{\\\\text{max}} = 800 + 50 \\\\times 1 = 850 \\\\, \\\\text{mm}\\n'\n",
      " '  \\\\]\\n'\n",
      " '\\n'\n",
      " '- 最小値は、\\\\(\\\\sin\\\\) の最小値が -1 のときに達成されます：\\n'\n",
      " '  \\\\[\\n'\n",
      " '  P_{\\\\text{min}} = 800 + 50 \\\\times (-1) = 750 \\\\, \\\\text{mm}\\n'\n",
      " '  \\\\]\\n'\n",
      " '\\n'\n",
      " '次に、変動幅を求めます：\\n'\n",
      " '\\\\[\\n'\n",
      " '\\\\text{変動幅} = P_{\\\\text{max}} - P_{\\\\text{min}} = 850 - 750 = 100 \\\\, \\\\text{mm}\\n'\n",
      " '\\\\]\\n'\n",
      " '\\n'\n",
      " 'したがって、10年ごとの降水量の変動幅は **100 mm** です。']\n"
     ]
    }
   ],
   "source": [
    "a2s = generate_a2(llm, q1s, a1s, q2s)\n",
    "pp.pprint(a2s)"
   ]
  },
  {
   "cell_type": "markdown",
   "metadata": {},
   "source": [
    "再度ここまでの対話データの流れを確認します。"
   ]
  },
  {
   "cell_type": "code",
   "execution_count": 46,
   "metadata": {},
   "outputs": [
    {
     "name": "stdout",
     "output_type": "stream",
     "text": [
      "('ある宇宙ロボット工学者が、火星探査のために新しいロボットを設計しています。このロボットは、1時間で10キロメートルの速度で移動します。もしロボットが火星の表面を30時間移動し続けた場合、ロボットは合計で何キロメートル移動することになりますか？',\n",
      " 'ロボットは1時間で10キロメートル移動するので、30時間で移動する距離は次のように計算できます。\\n\\n10キロメートル/時間 × 30時間 = 300キロメートル\\n\\nしたがって、ロボットは合計で300キロメートル移動します。',\n",
      " 'ロボットが1時間に12キロメートルの速度で移動する場合、30時間で合計何キロメートル移動することになりますか？',\n",
      " 'ロボットは30時間で合計360キロメートル移動します。')\n"
     ]
    }
   ],
   "source": [
    "pp.pprint(list(zip(q1s, a1s, q2s, a2s))[0])"
   ]
  },
  {
   "cell_type": "code",
   "execution_count": 47,
   "metadata": {},
   "outputs": [
    {
     "name": "stdout",
     "output_type": "stream",
     "text": [
      "('ある気象学者が、過去の大洪水のデータを基にして、特定の地域での降水量の変動を解析しています。この地域では、過去100年間の年平均降水量が次のように与えられています：\\n'\n",
      " '\\n'\n",
      " '\\\\[ P(t) = 800 + 50 \\\\sin\\\\left(\\\\frac{2\\\\pi}{10}t\\\\right) \\\\]\\n'\n",
      " '\\n'\n",
      " 'ここで、\\\\( P(t) \\\\)は年\\\\( t \\\\)における降水量（mm）、\\\\( t \\\\)は年数（0から99まで）を表します。\\n'\n",
      " '\\n'\n",
      " 'この降水量の変動を解析するために、以下の問いに答えてください：\\n'\n",
      " '\\n'\n",
      " '1. 10年ごとの平均降水量を求めなさい。\\n'\n",
      " '2. 降水量が最大となる年を特定し、その年の降水量を計算しなさい。\\n'\n",
      " '3. 過去100年間の降水量の標準偏差を計算しなさい。',\n",
      " '1. **10年ごとの平均降水量を求める**  \\n'\n",
      " '降水量の式は \\\\( P(t) = 800 + 50 \\\\sin\\\\left(\\\\frac{2\\\\pi}{10}t\\\\right) \\\\) です。10年ごとの平均降水量を求めるために、各10年間の降水量を計算します。\\n'\n",
      " '\\n'\n",
      " '- \\\\( t = 0 \\\\) から \\\\( 9 \\\\):\\n'\n",
      " '  \\\\[\\n'\n",
      " '  P(0) = 800 + 50 \\\\sin(0) = 800 \\\\\\\\\\n'\n",
      " '  P(1) = 800 + 50 \\\\sin\\\\left(\\\\frac{2\\\\pi}{10}\\\\right) \\\\approx 800 + 50 \\\\times 0.309 = 815.5 \\\\\\\\\\n'\n",
      " '  P(2) = 800 + 50 \\\\sin\\\\left(\\\\frac{4\\\\pi}{10}\\\\right) \\\\approx 800 + 50 \\\\times 0.588 = 814 \\\\\\\\\\n'\n",
      " '  P(3) = 800 + 50 \\\\sin\\\\left(\\\\frac{6\\\\pi}{10}\\\\right) \\\\approx 800 + 50 \\\\times 0.809 = 820.5 \\\\\\\\\\n'\n",
      " '  P(4) = 800 + 50 \\\\sin\\\\left(\\\\frac{8\\\\pi}{10}\\\\right) \\\\approx 800 + 50 \\\\times 0.951 = 827.5 \\\\\\\\\\n'\n",
      " '  P(5) = 800 + 50 \\\\sin(2\\\\pi) = 800 \\\\\\\\\\n'\n",
      " '  P(6) = 800 + 50 \\\\sin\\\\left(\\\\frac{2\\\\pi}{10} \\\\times 6\\\\right) \\\\approx 800 - 50 \\\\times 0.951 = 772.5 \\\\\\\\\\n'\n",
      " '  P(7) = 800 + 50 \\\\sin\\\\left(\\\\frac{2\\\\pi}{10} \\\\times 7\\\\right) \\\\approx 800 - 50 \\\\times 0.809 = 779.5 \\\\\\\\\\n'\n",
      " '  P(8) = 800 + 50 \\\\sin\\\\left(\\\\frac{2\\\\pi}{10} \\\\times 8\\\\right) \\\\approx 800 - 50 \\\\times 0.588 = 786 \\\\\\\\\\n'\n",
      " '  P(9) = 800 + 50 \\\\sin\\\\left(\\\\frac{2\\\\pi}{10} \\\\times 9\\\\right) \\\\approx 800',\n",
      " '降水量の式が以下のように変更されました：\\n'\n",
      " '\\n'\n",
      " '\\\\[ P(t) = 800 + 50 \\\\sin\\\\left(\\\\frac{2\\\\pi}{15}t + \\\\frac{\\\\pi}{4}\\\\right) \\\\]\\n'\n",
      " '\\n'\n",
      " 'この新しい降水量の式に基づき、次の問いに答えなさい：\\n'\n",
      " '\\n'\n",
      " '4. 10年ごとの降水量の変動幅（最大降水量と最小降水量の差）を求めなさい。',\n",
      " '新しい降水量の式は \\\\( P(t) = 800 + 50 \\\\sin\\\\left(\\\\frac{2\\\\pi}{15}t + \\\\frac{\\\\pi}{4}\\\\right) \\\\) です。\\n'\n",
      " '\\n'\n",
      " 'まず、降水量の最大値と最小値を求めます。\\n'\n",
      " '\\n'\n",
      " '- 最大値は、\\\\(\\\\sin\\\\) の最大値が 1 のときに達成されます：\\n'\n",
      " '  \\\\[\\n'\n",
      " '  P_{\\\\text{max}} = 800 + 50 \\\\times 1 = 850 \\\\, \\\\text{mm}\\n'\n",
      " '  \\\\]\\n'\n",
      " '\\n'\n",
      " '- 最小値は、\\\\(\\\\sin\\\\) の最小値が -1 のときに達成されます：\\n'\n",
      " '  \\\\[\\n'\n",
      " '  P_{\\\\text{min}} = 800 + 50 \\\\times (-1) = 750 \\\\, \\\\text{mm}\\n'\n",
      " '  \\\\]\\n'\n",
      " '\\n'\n",
      " '次に、変動幅を求めます：\\n'\n",
      " '\\\\[\\n'\n",
      " '\\\\text{変動幅} = P_{\\\\text{max}} - P_{\\\\text{min}} = 850 - 750 = 100 \\\\, \\\\text{mm}\\n'\n",
      " '\\\\]\\n'\n",
      " '\\n'\n",
      " 'したがって、10年ごとの降水量の変動幅は **100 mm** です。')\n"
     ]
    }
   ],
   "source": [
    "pp.pprint(list(zip(q1s, a1s, q2s, a2s))[1])"
   ]
  },
  {
   "cell_type": "markdown",
   "metadata": {},
   "source": [
    "面白い問題かどうかはともかく、問題なさそうです。これで `A2` の生成も完了しました。"
   ]
  },
  {
   "cell_type": "markdown",
   "metadata": {},
   "source": [
    "## マルチターンの対話データの生成\n",
    "\n",
    "これまで作成した関数を組み合わせて、マルチターンの対話データを生成する関数を作成します。結果は OpenAI messages 形式で出力します。"
   ]
  },
  {
   "cell_type": "code",
   "execution_count": 48,
   "metadata": {},
   "outputs": [],
   "source": [
    "def synthesis_multi_turn_qa(\n",
    "    llm: LanguageModel, tasks: list[str], topics: list[str], items: list[str], targets: list[str]\n",
    ") -> list[dict[str, str | list[dict[str, str]]]]:\n",
    "    q1s = generate_q1(llm, tasks, topics, items, targets)\n",
    "    a1s = generate_a1(llm, q1s)\n",
    "    q2s = generate_q2(llm, q1s, a1s)\n",
    "    a2s = generate_a2(llm, q1s, a1s, q2s)\n",
    "    return [\n",
    "        {\n",
    "            \"messages\": [\n",
    "                {\"role\": \"user\", \"content\": q1},\n",
    "                {\"role\": \"assistant\", \"content\": a1},\n",
    "                {\"role\": \"user\", \"content\": q2},\n",
    "                {\"role\": \"assistant\", \"content\": a2},\n",
    "            ],\n",
    "            \"task\": task,\n",
    "            \"topic\": topic,\n",
    "            \"item\": item,\n",
    "            \"target\": target,\n",
    "        }\n",
    "        for task, topic, item, target, q1, a1, q2, a2 in zip(tasks, topics, items, targets, q1s, a1s, q2s, a2s)\n",
    "    ]"
   ]
  },
  {
   "cell_type": "markdown",
   "metadata": {},
   "source": [
    "実行して動作を確認します。"
   ]
  },
  {
   "cell_type": "code",
   "execution_count": 49,
   "metadata": {},
   "outputs": [
    {
     "name": "stdout",
     "output_type": "stream",
     "text": [
      "[{'item': 'An amateur astronomer and science educator with a focus on celestial events and a flair for sharing '\n",
      "          'complex information with a general audience.',\n",
      "  'messages': [{'content': 'アマチュア天文学者であるあなたは、星座の観察会を開催しています。参加者は合計で24人で、5人のグループに分けることにしました。すべてのグループが同じ人数になるようにした場合、何グループできますか？また、各グループには何人の参加者がいますか？',\n",
      "                'role': 'user'},\n",
      "               {'content': '24人を5人のグループに分けると、4グループできます。各グループには6人の参加者がいます。', 'role': 'assistant'},\n",
      "               {'content': '参加者が30人に増えた場合、何グループできますか？各グループには何人の参加者がいますか？', 'role': 'user'},\n",
      "               {'content': '参加者が30人の場合、6グループできます。各グループには5人の参加者がいます。', 'role': 'assistant'}],\n",
      "  'target': 'grade school student',\n",
      "  'task': 'math',\n",
      "  'topic': 'persona'}]\n"
     ]
    }
   ],
   "source": [
    "qas = synthesis_multi_turn_qa(\n",
    "    llm,\n",
    "    [\"math\"],\n",
    "    [\"persona\"],\n",
    "    [random.choice(personas)],\n",
    "    [\"grade school student\"],\n",
    ")\n",
    "pp.pprint(qas)"
   ]
  },
  {
   "cell_type": "markdown",
   "metadata": {},
   "source": [
    "この関数をバッチ処理で実行し、結果を JSONL ファイルに保存する関数を作成します。`task`, `topic`, `item`, `target` は、与えられた引数からランダムに選択して、対話データを生成します。"
   ]
  },
  {
   "cell_type": "code",
   "execution_count": 50,
   "metadata": {},
   "outputs": [],
   "source": [
    "def run_synthesis_multi_turn_qa(\n",
    "    llm: LanguageModel,\n",
    "    task_list: list[str],\n",
    "    topic_list: list[str],\n",
    "    item_list: list[str],\n",
    "    target_list: list[str],\n",
    "    num_samples: int = 1,\n",
    "    batch_size: int = 1,\n",
    "    output_jsonl: str = \"output.jsonl\",\n",
    "):\n",
    "    with open(output_jsonl, \"a\", encoding=\"utf-8\") as f:\n",
    "        for i in range(num_samples // batch_size):\n",
    "            tasks = [random.choice(task_list) for _ in range(batch_size)]\n",
    "            topics = [random.choice(topic_list) for _ in range(batch_size)]\n",
    "            items = [random.choice(item_list) for _ in range(batch_size)]\n",
    "            targets = [random.choice(target_list) for _ in range(batch_size)]\n",
    "            assert len(tasks) == len(topics) == len(items) == len(targets) == batch_size\n",
    "            qas = synthesis_multi_turn_qa(llm, tasks, topics, items, targets)\n",
    "            for qa in qas:\n",
    "                f.write(json.dumps(qa, ensure_ascii=False) + \"\\n\")\n",
    "                logger.debug(pp.pformat(qa))"
   ]
  },
  {
   "cell_type": "markdown",
   "metadata": {},
   "source": [
    "ペルソナデータから対話データを生成します。"
   ]
  },
  {
   "cell_type": "code",
   "execution_count": 51,
   "metadata": {},
   "outputs": [
    {
     "name": "stderr",
     "output_type": "stream",
     "text": [
      "{'item': 'A psychiatrist, possibly sub-specializing in mood disorders.',\n",
      " 'messages': [{'content': 'ある精神科医が、気分障害に関する研究を行っています。彼は、患者10人の気分の変化を観察しました。そのうち、5人の患者が気分が改善し、3人の患者が気分が悪化しました。残りの患者は変化がなかったと報告しています。 \\n'\n",
      "                          '\\n'\n",
      "                          'この精神科医の観察した患者の中で、気分が変化しなかった患者の人数は何人ですか？',\n",
      "               'role': 'user'},\n",
      "              {'content': '気分が変化しなかった患者の人数は2人です。', 'role': 'assistant'},\n",
      "              {'content': '気分が悪化した患者の中で、どのくらいの割合が治療を受けていたかを知ることは、研究の結果にどのような影響を与えるでしょうか？', 'role': 'user'},\n",
      "              {'content': '気分が悪化した患者の治療を受けていた割合を知ることは、治療の効果や治療法の有効性を評価するのに重要です。この情報があれば、治療が気分悪化にどのように寄与したかを分析でき、さらに改善策や新たなアプローチを考える材料になります。逆に、治療を受けていない患者が多い場合は、治療の必要性や重要性を示す根拠となります。',\n",
      "               'role': 'assistant'}],\n",
      " 'target': 'grade school student',\n",
      " 'task': 'math',\n",
      " 'topic': 'persona'}\n"
     ]
    }
   ],
   "source": [
    "run_synthesis_multi_turn_qa(\n",
    "    llm,\n",
    "    [\"math\", \"arithmetic\", \"basic math\", \"basic arithmetic\"],\n",
    "    [\"persona\"],\n",
    "    personas,\n",
    "    [\"grade school student\"],\n",
    "    1,\n",
    "    1,\n",
    "    \"output.jsonl\",\n",
    ")"
   ]
  },
  {
   "cell_type": "markdown",
   "metadata": {},
   "source": [
    "難易度を上げて生成します。"
   ]
  },
  {
   "cell_type": "code",
   "execution_count": 53,
   "metadata": {},
   "outputs": [
    {
     "name": "stderr",
     "output_type": "stream",
     "text": [
      "{'item': 'A physics historian focused on documenting and promoting the development of major scientific discoveries '\n",
      "         'and the lives of influential physicists.',\n",
      " 'messages': [{'content': '物理学の歴史を研究するあなたは、特定の物理学者の業績を文書化するために、彼が発表した論文の数とそれに関連する引用数を分析しています。ある物理学者は、彼のキャリアの初期に10本の論文を発表し、各論文は平均して15回引用されました。その後の10年間で、彼は毎年2本の論文を発表し続け、各論文が平均して20回引用されるようになりました。\\n'\n",
      "                          '\\n'\n",
      "                          '1. 彼のキャリアの初期における論文の総引用数を求めてください。\\n'\n",
      "                          '2. 10年間で発表された論文の総数とその総引用数を求めてください。\\n'\n",
      "                          '3. 彼のキャリア全体を通じた論文の総数と総引用数を求めてください。',\n",
      "               'role': 'user'},\n",
      "              {'content': '1. 彼のキャリアの初期における論文の総引用数は、10本の論文 × 15回引用 = 150回です。\\n'\n",
      "                          '\\n'\n",
      "                          '2. 10年間で発表された論文の総数は、毎年2本 × 10年 = 20本です。また、これらの論文の総引用数は、20本 × 20回引用 = 400回です。\\n'\n",
      "                          '\\n'\n",
      "                          '3. 彼のキャリア全体を通じた論文の総数は、初期の10本 + 10年間での20本 = 30本です。総引用数は、初期の150回 + 10年間での400回 = 550回です。',\n",
      "               'role': 'assistant'},\n",
      "              {'content': '彼のキャリアの初期に発表した論文のうち、2本は平均して30回引用され、その残りの8本は平均して10回引用された場合、初期の論文の総引用数はどのようになりますか？',\n",
      "               'role': 'user'},\n",
      "              {'content': '初期の論文の総引用数は、2本 × 30回引用 + 8本 × 10回引用 = 60回 + 80回 = 140回です。', 'role': 'assistant'}],\n",
      " 'target': 'graduate student',\n",
      " 'task': 'advanced math',\n",
      " 'topic': 'persona'}\n"
     ]
    }
   ],
   "source": [
    "run_synthesis_multi_turn_qa(\n",
    "    llm,\n",
    "    [\"advanced math\"],\n",
    "    [\"persona\"],\n",
    "    personas,\n",
    "    [\"graduate student\"],\n",
    "    1,\n",
    "    1,\n",
    "    \"output.jsonl\",\n",
    ")"
   ]
  },
  {
   "cell_type": "markdown",
   "metadata": {},
   "source": [
    "以上"
   ]
  }
 ],
 "metadata": {
  "kernelspec": {
   "display_name": ".venv",
   "language": "python",
   "name": "python3"
  },
  "language_info": {
   "codemirror_mode": {
    "name": "ipython",
    "version": 3
   },
   "file_extension": ".py",
   "mimetype": "text/x-python",
   "name": "python",
   "nbconvert_exporter": "python",
   "pygments_lexer": "ipython3",
   "version": "3.10.12"
  }
 },
 "nbformat": 4,
 "nbformat_minor": 2
}
