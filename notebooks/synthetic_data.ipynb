{
 "cells": [
  {
   "cell_type": "code",
   "execution_count": 75,
   "metadata": {},
   "outputs": [],
   "source": [
    "from abc import ABC, abstractmethod\n",
    "import re\n",
    "from logging import DEBUG, StreamHandler, getLogger\n",
    "\n",
    "from openai import OpenAI"
   ]
  },
  {
   "cell_type": "code",
   "execution_count": 2,
   "metadata": {},
   "outputs": [],
   "source": [
    "# Set logging level to DEBUG.\n",
    "logger = getLogger(__name__)\n",
    "logger.setLevel(DEBUG)\n",
    "handler = StreamHandler()\n",
    "handler.setLevel(DEBUG)\n",
    "logger.addHandler(handler)"
   ]
  },
  {
   "cell_type": "code",
   "execution_count": null,
   "metadata": {},
   "outputs": [],
   "source": [
    "class LanguageModel(ABC):\n",
    "    def __init__(self, model_name: str, temperature=0.7, max_tokens=512, seed=0):\n",
    "        self.model_name = model_name\n",
    "        self.temperature = temperature\n",
    "        self.max_tokens = max_tokens\n",
    "        self.seed = seed\n",
    "        logger.debug(f\"model_name: {model_name}, temperature: {temperature}, max_tokens: {max_tokens}, seed: {seed}\")\n",
    "\n",
    "    @abstractmethod\n",
    "    def __call__(self, messages_list: list[list[dict]]) -> dict[str, list[str]]:\n",
    "        pass"
   ]
  },
  {
   "cell_type": "code",
   "execution_count": 86,
   "metadata": {},
   "outputs": [],
   "source": [
    "# You must set OPENAI_API_KEY in your environment variables.\n",
    "class OpenAIAPI(LanguageModel):\n",
    "    def __init__(self, model_name: str, temperature=0.7, max_tokens=512, seed=0, base_url=None, api_key=None):\n",
    "        super().__init__(model_name, temperature=temperature, max_tokens=max_tokens, seed=seed)\n",
    "        self.client = OpenAI(base_url=base_url, api_key=api_key)\n",
    "        logger.debug(f\"base_url: {self.client.base_url}, api_key: {self.client.api_key[:3]}...\")\n",
    "\n",
    "    def __call__(self, messages_list: list[list[dict]]) -> dict[str, list[str]]:\n",
    "        contents: list[str] = []\n",
    "        for messages in messages_list:\n",
    "            completion = self.client.chat.completions.create(\n",
    "                model=self.model_name,\n",
    "                messages=messages,\n",
    "                temperature=self.temperature,\n",
    "                max_tokens=self.max_tokens,\n",
    "                seed=self.seed,\n",
    "            )\n",
    "            contents.append(completion.choices[0].message.content or \"\")\n",
    "        return {\"contents\": contents}"
   ]
  },
  {
   "cell_type": "code",
   "execution_count": 87,
   "metadata": {},
   "outputs": [
    {
     "name": "stderr",
     "output_type": "stream",
     "text": [
      "model_name: gpt-4o-mini, temperature: 0.7, max_tokens: 512, seed: 0\n",
      "base_url: https://api.openai.com/v1/, api_key: sk-...\n"
     ]
    },
    {
     "data": {
      "text/plain": [
       "<__main__.OpenAIAPI at 0x1180c1780>"
      ]
     },
     "execution_count": 87,
     "metadata": {},
     "output_type": "execute_result"
    }
   ],
   "source": [
    "lm = OpenAIAPI(\"gpt-4o-mini\", temperature=0.7, max_tokens=512, seed=0)\n",
    "lm"
   ]
  },
  {
   "cell_type": "code",
   "execution_count": 89,
   "metadata": {},
   "outputs": [],
   "source": [
    "def get_q1_prompt(task: str, topic: str, item: str) -> list[dict]:\n",
    "    Q1_PROMPT_TEMPLATE = \"\"\"Create a {task} problem related to the following {topic}:\n",
    "\n",
    "{item}\n",
    "\n",
    "Note:\n",
    "\n",
    "1. The {task} problem should be simple and involve basic {task} skills and knowledge. Any average grade school student can solve it correctly.\n",
    "2. You should make full use of the {topic} description to create the {task} problem to ensure that the {task} problem is unique and specific to the {topic}.\n",
    "3. Your response should always start with \"問題:\". Your response should not include a solution to the created {task} problem.\n",
    "4. 簡潔に日本語で回答してください。\n",
    "\"\"\"\n",
    "    return [\n",
    "        # {\"role\": \"system\", \"content\": \"あなたは親切なAIアシスタントです。日本語で回答してください。\"},\n",
    "        {\"role\": \"user\", \"content\": Q1_PROMPT_TEMPLATE.format(task=task, topic=topic, item=item)},\n",
    "    ]"
   ]
  },
  {
   "cell_type": "code",
   "execution_count": 62,
   "metadata": {},
   "outputs": [
    {
     "data": {
      "text/plain": [
       "[{'role': 'user',\n",
       "  'content': 'Create a math problem related to the following persona:\\n\\nSF作家\\n\\nNote:\\n\\n1. The math problem should be simple and involve basic math skills and knowledge. Any average grade school student can solve it correctly.\\n2. You should make full use of the persona description to create the math problem to ensure that the math problem is unique and specific to the persona.\\n3. Your response should always start with \"問題:\". Your response should not include a solution to the created math problem.\\n4. 簡潔に日本語で回答してください。\\n'}]"
      ]
     },
     "execution_count": 62,
     "metadata": {},
     "output_type": "execute_result"
    }
   ],
   "source": [
    "get_q1_prompt(\"math\", \"persona\", \"SF作家\")"
   ]
  },
  {
   "cell_type": "code",
   "execution_count": 65,
   "metadata": {},
   "outputs": [
    {
     "data": {
      "text/plain": [
       "{'contents': ['問題: SF作家の佐藤さんは、新しい短編小説を3つ書くことに決めました。1つの短編小説を書くのに、彼は平均して2時間かかります。佐藤さんが全ての短編小説を書くのにかかる合計時間は何時間ですか？']}"
      ]
     },
     "execution_count": 65,
     "metadata": {},
     "output_type": "execute_result"
    }
   ],
   "source": [
    "lm([get_q1_prompt(\"math\", \"persona\", \"SF作家\")])"
   ]
  },
  {
   "cell_type": "code",
   "execution_count": 66,
   "metadata": {},
   "outputs": [
    {
     "data": {
      "text/plain": [
       "{'contents': ['問題: 経営コンサルタントの佐藤さんは、クライアントの会社の売上を増やすために3つの異なるマーケティング戦略を提案しました。最初の戦略では、売上が月に200万円増えると予想されています。2つ目の戦略では、売上が月に150万円増えると予想されています。3つ目の戦略では、売上が月に250万円増えると予想されています。もし、佐藤さんが全ての戦略を同時に実施した場合、1ヶ月後の売上の増加額は合計でいくらになるでしょうか？']}"
      ]
     },
     "execution_count": 66,
     "metadata": {},
     "output_type": "execute_result"
    }
   ],
   "source": [
    "lm([get_q1_prompt(\"math\", \"persona\", \"経営コンサルタント\")])"
   ]
  },
  {
   "cell_type": "code",
   "execution_count": 90,
   "metadata": {},
   "outputs": [],
   "source": [
    "def generate_q1(lm, tasks, topics, items):\n",
    "    response = lm([get_q1_prompt(task, topic, item) for task, topic, item in zip(tasks, topics, items)])\n",
    "    contents = []\n",
    "    for content in response[\"contents\"]:\n",
    "        content = content.strip()\n",
    "        content = re.sub(r\"^問題[:]\", \"\", content, flags=re.DOTALL)\n",
    "        content = content.strip()\n",
    "        contents.append(content)\n",
    "    return {\"contents\": contents}\n"
   ]
  },
  {
   "cell_type": "code",
   "execution_count": 92,
   "metadata": {},
   "outputs": [
    {
     "data": {
      "text/plain": [
       "{'contents': ['SF作家の田中さんは、新しい短編小説を3つ書くことに決めました。1つの短編小説を書くのに、田中さんは平均して4時間かかります。もし田中さんが毎日2時間ずつ執筆する場合、3つの短編小説を書くのに何日かかりますか？',\n",
       "  '経営コンサルタントの佐藤さんは、クライアントの会社の売上を増やすために3つの異なるマーケティング戦略を提案しました。最初の戦略では、売上が月に200万円増えると予想されています。2つ目の戦略では、売上が月に150万円増えると予想されています。3つ目の戦略では、売上が月に250万円増えると予想されています。もし、佐藤さんが全ての戦略を同時に実施した場合、1ヶ月後の売上の増加額は合計でいくらになるでしょうか？']}"
      ]
     },
     "execution_count": 92,
     "metadata": {},
     "output_type": "execute_result"
    }
   ],
   "source": [
    "q1_response = generate_q1(lm, [\"math\", \"math\"], [\"persona\", \"persona\"], [\"SF作家\", \"経営コンサルタント\"])\n",
    "q1_response"
   ]
  },
  {
   "cell_type": "code",
   "execution_count": null,
   "metadata": {},
   "outputs": [],
   "source": [
    "def get_a1_prompt(q1: str) -> list[dict]:\n",
    "    A1_PROMPT_TEMPLATE = \"{q1}\\n\\n簡潔に日本語で回答してください。\"\n",
    "    return [\n",
    "        # {\"role\": \"system\", \"content\": \"あなたは親切なAIアシスタントです。日本語で回答してください。\"},\n",
    "        {\"role\": \"user\", \"content\": A1_PROMPT_TEMPLATE.format(q1=q1)},\n",
    "    ]\n"
   ]
  },
  {
   "cell_type": "code",
   "execution_count": 93,
   "metadata": {},
   "outputs": [
    {
     "data": {
      "text/plain": [
       "[{'role': 'user',\n",
       "  'content': 'SF作家の田中さんは、新しい短編小説を3つ書くことに決めました。1つの短編小説を書くのに、田中さんは平均して4時間かかります。もし田中さんが毎日2時間ずつ執筆する場合、3つの短編小説を書くのに何日かかりますか？\\n\\n簡潔に日本語で回答してください。'}]"
      ]
     },
     "execution_count": 93,
     "metadata": {},
     "output_type": "execute_result"
    }
   ],
   "source": [
    "get_a1_prompt(q1_response[\"contents\"][0])"
   ]
  },
  {
   "cell_type": "code",
   "execution_count": 95,
   "metadata": {},
   "outputs": [
    {
     "data": {
      "text/plain": [
       "{'contents': ['田中さんが3つの短編小説を書くのにかかる時間は、4時間 × 3つ = 12時間です。毎日2時間ずつ執筆するので、12時間 ÷ 2時間/日 = 6日かかります。したがって、3つの短編小説を書くのに6日かかります。']}"
      ]
     },
     "execution_count": 95,
     "metadata": {},
     "output_type": "execute_result"
    }
   ],
   "source": [
    "lm([get_a1_prompt(q1_response[\"contents\"][0])])"
   ]
  }
 ],
 "metadata": {
  "kernelspec": {
   "display_name": ".venv",
   "language": "python",
   "name": "python3"
  },
  "language_info": {
   "codemirror_mode": {
    "name": "ipython",
    "version": 3
   },
   "file_extension": ".py",
   "mimetype": "text/x-python",
   "name": "python",
   "nbconvert_exporter": "python",
   "pygments_lexer": "ipython3",
   "version": "3.10.12"
  }
 },
 "nbformat": 4,
 "nbformat_minor": 2
}
