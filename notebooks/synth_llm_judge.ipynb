{
 "cells": [
  {
   "cell_type": "markdown",
   "metadata": {},
   "source": [
    "# LLM-as-a-Judge による選好データ合成\n",
    "\n",
    "Susumu Ota  2025-02-02"
   ]
  },
  {
   "cell_type": "markdown",
   "metadata": {},
   "source": [
    "本ハンズオンでは、言語モデルを使って選好データ(preference data)を合成する方法を紹介します。\n",
    "\n",
    "まず、簡単に [Direct Preference Optimization (DPO)](https://arxiv.org/abs/2305.18290) について説明します。次に、[LLM-as-a-Judge](https://arxiv.org/abs/2306.05685) 手法の解説、そして実際に選好データを合成する方法を紹介します。作成した選好データは DPO などの事後学習に利用することができます。"
   ]
  },
  {
   "cell_type": "markdown",
   "metadata": {},
   "source": [
    "## Direct Preference Optimization (DPO) とは\n",
    "\n",
    "TODO\n",
    "\n",
    "<img src=\"https://github.com/user-attachments/assets/bba0a5d1-b6ba-4c21-aaf7-697169b85db8\" width=\"800\">\n"
   ]
  },
  {
   "cell_type": "markdown",
   "metadata": {},
   "source": [
    "## LLM-as-a-Judge 手法の概要\n",
    "\n",
    "TODO\n",
    "\n",
    "\n",
    "<img src=\"https://github.com/user-attachments/assets/853e351d-f35b-41f3-be28-29426feede89\" width=\"800\">\n",
    "<br />\n",
    "<img src=\"https://github.com/user-attachments/assets/12111a26-50c8-439c-a23a-ae7240c259bc\" width=\"800\">\n",
    "<br />"
   ]
  },
  {
   "cell_type": "markdown",
   "metadata": {},
   "source": [
    "## 準備\n",
    "\n",
    "準備については、`Persona-Hub による事後学習データ合成` ハンズオンの内容とほぼ同じですのでそちらの資料を参照してください。"
   ]
  },
  {
   "cell_type": "markdown",
   "metadata": {},
   "source": [
    "### トークンと API キーの設定"
   ]
  },
  {
   "cell_type": "code",
   "execution_count": 1,
   "metadata": {},
   "outputs": [],
   "source": [
    "if str(get_ipython()).startswith(\"<google.colab\"):  # if this notebook is running in Google Colab  # type: ignore\n",
    "    import os\n",
    "    from google.colab import userdata  # type: ignore\n",
    "\n",
    "    os.environ[\"HF_TOKEN\"] = userdata.get(\"HF_TOKEN\")\n",
    "    # os.environ[\"OPENAI_API_KEY\"] = userdata.get(\"OPENAI_API_KEY\")\n",
    "    # os.environ[\"NVIDIA_NIM_API_KEY\"] = userdata.get(\"NVIDIA_NIM_API_KEY\")"
   ]
  },
  {
   "cell_type": "markdown",
   "metadata": {},
   "source": [
    "### モジュールのインストール"
   ]
  },
  {
   "cell_type": "code",
   "execution_count": 2,
   "metadata": {},
   "outputs": [],
   "source": [
    "# %pip install litellm\n",
    "# %pip install datasets\n",
    "# %pip install pandas\n",
    "\n",
    "# %pip install vllm"
   ]
  },
  {
   "cell_type": "markdown",
   "metadata": {},
   "source": [
    "### モジュールのインポート"
   ]
  },
  {
   "cell_type": "code",
   "execution_count": 3,
   "metadata": {},
   "outputs": [
    {
     "name": "stderr",
     "output_type": "stream",
     "text": [
      "/Users/ota/Documents/python/synthetic-data-hands-on/.venv/lib/python3.11/site-packages/tqdm/auto.py:21: TqdmWarning: IProgress not found. Please update jupyter and ipywidgets. See https://ipywidgets.readthedocs.io/en/stable/user_install.html\n",
      "  from .autonotebook import tqdm as notebook_tqdm\n",
      "/Users/ota/Documents/python/synthetic-data-hands-on/.venv/lib/python3.11/site-packages/pydantic/_internal/_config.py:345: UserWarning: Valid config keys have changed in V2:\n",
      "* 'fields' has been removed\n",
      "  warnings.warn(message, UserWarning)\n"
     ]
    },
    {
     "name": "stdout",
     "output_type": "stream",
     "text": [
      "No vllm module found. You can only use the LiteLLM.\n"
     ]
    }
   ],
   "source": [
    "from abc import ABC, abstractmethod\n",
    "import json\n",
    "from logging import DEBUG, INFO, StreamHandler, getLogger  # noqa: F401\n",
    "import pprint\n",
    "\n",
    "\n",
    "from datasets import load_dataset\n",
    "from litellm import batch_completion\n",
    "import pandas as pd\n",
    "\n",
    "\n",
    "try:\n",
    "    from vllm import LLM, SamplingParams  # type: ignore\n",
    "except ImportError:\n",
    "    print(\"No vllm module found. You can only use the LiteLLM.\")"
   ]
  },
  {
   "cell_type": "markdown",
   "metadata": {},
   "source": [
    "### ログの設定"
   ]
  },
  {
   "cell_type": "code",
   "execution_count": 4,
   "metadata": {},
   "outputs": [],
   "source": [
    "logging_level = DEBUG\n",
    "# logging_level = INFO  # uncomment if you want to see less output\n",
    "logger = getLogger(__name__)\n",
    "logger.setLevel(logging_level)\n",
    "handler = StreamHandler()\n",
    "handler.setLevel(logging_level)\n",
    "logger.addHandler(handler)\n",
    "\n",
    "pp = pprint.PrettyPrinter(width=100)"
   ]
  },
  {
   "cell_type": "markdown",
   "metadata": {},
   "source": [
    "### 言語モデルの設定\n",
    "\n",
    "`n` というパラメータを追加して、一つのプロンプトに対して複数の結果を生成するよう変更しました。結果出力もリストのリストに変更となります。 `# changed` というコメントがある行が変更された行です。"
   ]
  },
  {
   "cell_type": "code",
   "execution_count": 5,
   "metadata": {},
   "outputs": [],
   "source": [
    "class LanguageModel(ABC):\n",
    "    def __init__(self, model: str, temperature=1.0, max_tokens=16, seed=None, n=None):  # changed\n",
    "        self.model = model\n",
    "        self.temperature = temperature\n",
    "        self.max_tokens = max_tokens\n",
    "        self.seed = seed\n",
    "        self.n = n  # changed\n",
    "        logger.debug(f\"model: {model}, temperature: {temperature}, max_tokens: {max_tokens}, seed: {seed}, n: {n}\")  # changed\n",
    "\n",
    "    @abstractmethod\n",
    "    def __call__(self, messages_batch: list[list[dict[str, str]]]) -> list[list[str]]:  # changed\n",
    "        pass\n",
    "\n",
    "\n",
    "class LiteLLMModel(LanguageModel):\n",
    "    def __init__(self, model: str, temperature=1.0, max_tokens=16, seed=None, n=None):  # changed\n",
    "        super().__init__(model, temperature, max_tokens, seed, n)  # changed\n",
    "\n",
    "    def __call__(self, messages_batch: list[list[dict[str, str]]]) -> list[list[str]]:  # changed\n",
    "        contents = [\n",
    "            [choice.message.content for choice in response.choices]  # changed\n",
    "            for response in batch_completion(\n",
    "                model=self.model,\n",
    "                messages=messages_batch,\n",
    "                temperature=self.temperature,\n",
    "                max_tokens=self.max_tokens,\n",
    "                seed=self.seed,\n",
    "                n=self.n,  # changed\n",
    "            )\n",
    "        ]\n",
    "        assert len(contents) == len(messages_batch)\n",
    "        return contents\n",
    "\n",
    "\n",
    "class VLLMModel(LanguageModel):\n",
    "    def __init__(self, model: str, temperature=1.0, max_tokens=16, seed=None, n=None, dtype=\"auto\", stop=None):  # changed\n",
    "        super().__init__(model, temperature, max_tokens, seed, n)  # changed\n",
    "        self.dtype = dtype\n",
    "        self.stop = stop\n",
    "        self.vllm = LLM(model, dtype=dtype)  # dtype must be \"half\" to run on Colab T4\n",
    "        self.tokenizer = self.vllm.get_tokenizer()\n",
    "\n",
    "    def __call__(self, messages_batch: list[list[dict[str, str]]]) -> list[list[str]]:  # changed\n",
    "        sampling_params = SamplingParams(\n",
    "            temperature=self.temperature, max_tokens=self.max_tokens, seed=self.seed, n=self.n, stop=self.stop  # changed\n",
    "        )\n",
    "        prompts = [\n",
    "            self.tokenizer.apply_chat_template(messages, tokenize=False, add_generation_prompt=True)\n",
    "            for messages in messages_batch\n",
    "        ]\n",
    "        outputs = self.vllm.generate(prompts, sampling_params=sampling_params, use_tqdm=False)\n",
    "        contents = [\n",
    "            [oo.text for oo in o.outputs]  # changed\n",
    "            for o in outputs\n",
    "        ]\n",
    "        assert len(contents) == len(messages_batch)\n",
    "        return contents"
   ]
  },
  {
   "cell_type": "markdown",
   "metadata": {},
   "source": [
    "### 言語モデルの作成\n",
    "\n",
    "裁判官の役割をする言語モデルを作成します。温度パラメータ `temperature` が `0.0` であることに注意してください。\n",
    "\n",
    "Note: 裁判官のタスクは難易度が高いので、高度な言語モデルを使用する必要があります。10B 程度の言語モデルでは難しいかもしれません(タスクを理解できない可能性があります)。"
   ]
  },
  {
   "cell_type": "code",
   "execution_count": 6,
   "metadata": {},
   "outputs": [
    {
     "name": "stderr",
     "output_type": "stream",
     "text": [
      "model: gpt-4o-mini, temperature: 0.0, max_tokens: 512, seed: 0, n: None\n"
     ]
    },
    {
     "data": {
      "text/plain": [
       "<__main__.LiteLLMModel at 0x1085b3690>"
      ]
     },
     "execution_count": 6,
     "metadata": {},
     "output_type": "execute_result"
    }
   ],
   "source": [
    "judge_llm = LiteLLMModel(\"gpt-4o-mini\", temperature=0.0, max_tokens=512, seed=0)  # OPENAI_API_KEY\n",
    "# judge_llm = LiteLLMModel(\"nvidia_nim/nvidia/nemotron-4-340b-instruct\", temperature=0.0, max_tokens=512, seed=None)  # NVIDIA_NIM_API_KEY\n",
    "# judge_llm = LiteLLMModel(\"nvidia_nim/nvidia/llama-3.1-nemotron-70b-instruct\", temperature=0.0, max_tokens=512, seed=None)  # NVIDIA_NIM_API_KEY\n",
    "# judge_llm = LiteLLMModel(\"deepinfra/nvidia/Llama-3.1-Nemotron-70B-Instruct\", temperature=0.0, max_tokens=512, seed=0)  # DEEPINFRA_API_KEY\n",
    "# judge_llm = VLLMModel(\"hpprc/gemma-2-2b-jpn-it\", temperature=0.0, max_tokens=512, seed=0, stop=[\"<end_of_turn>\"], dtype=\"half\")  # for Colab T4\n",
    "# judge_llm = VLLMModel(\"marcsun13/gemma-2-9b-it-GPTQ\", temperature=0.0, max_tokens=512, seed=0)  # for Colab T4\n",
    "# judge_llm = VLLMModel(\"cyberagent/calm3-22b-chat\", temperature=0.0, max_tokens=512, seed=0)  # for A100?\n",
    "\n",
    "judge_llm"
   ]
  },
  {
   "cell_type": "code",
   "execution_count": 7,
   "metadata": {},
   "outputs": [
    {
     "data": {
      "text/plain": [
       "[['Hello! How can I assist you today?']]"
      ]
     },
     "execution_count": 7,
     "metadata": {},
     "output_type": "execute_result"
    }
   ],
   "source": [
    "judge_llm([[{\"role\": \"user\", \"content\": \"Hello?\"}]])"
   ]
  },
  {
   "cell_type": "markdown",
   "metadata": {},
   "source": [
    "## プロンプト(質問)の読み込み\n",
    "\n",
    "プロンプトは事前に用意したものを利用します。ここでは Persona-Hub で生成したマルチターンの対話データから最初の質問だけを取り出します。Pandas で列指向のデータを行指向に変換してからデータを取り出します。"
   ]
  },
  {
   "cell_type": "code",
   "execution_count": 8,
   "metadata": {},
   "outputs": [],
   "source": [
    "def load_questions(input_jsonl: str) -> list[str]:\n",
    "    dataset = load_dataset(\"json\", data_files=input_jsonl, name=\"default\", split=\"train\", cache_dir=\"cache\")\n",
    "    batch = pd.DataFrame(dataset).to_dict(orient=\"records\")  # convert column-wise to row-wise\n",
    "    return [b[\"messages\"][0][\"content\"] for b in batch]"
   ]
  },
  {
   "cell_type": "code",
   "execution_count": 9,
   "metadata": {},
   "outputs": [
    {
     "data": {
      "text/plain": [
       "['ニュー・ジャージー・パインバレンズの生態系を研究している植物研究者がいます。彼は、特定の植物のサンプルを集めるために、5つの異なる地点を訪れました。各地点で、彼は次のように植物を収集しました：地点Aで12本、地点Bで15本、地点Cで8本、地点Dで10本、地点Eで9本です。彼が集めた植物の総数はいくつですか？',\n",
       " 'ある博物館で、古代の節足動物の化石が展示されています。展示されている化石は、クモが10体、サソリが15体、エビが20体です。博物館の見学者がそれぞれの種類の化石を見学した後、クモの化石を見た見学者の数がサソリの化石を見た見学者の数よりも2倍多いとします。クモの化石を見た見学者が20人だった場合、サソリの化石を見た見学者は何人ですか？',\n",
       " 'あるプログラミング言語の研究者が、数値計算のアルゴリズムをテストするために、10個の異なる入力データセットを用意しました。彼は各データセットに対して3つの異なるアルゴリズムを試すことにしました。全てのデータセットとアルゴリズムの組み合わせを考えると、彼は合計で何回テストを実施することになりますか？',\n",
       " 'ある流体力学のエンジニアは、水槽の自由表面の面積を計算しています。水槽の形は長方形で、長さが6メートル、幅が4メートルです。この水槽が満水のとき、水面の面積は何平方メートルですか？',\n",
       " 'ある年、サーモンが川を遡上するために、1日あたり30キロメートル進みました。サーモンが川を上り始めてから、合計で6日間進みました。サーモンは合計で何キロメートル上ったでしょうか？',\n",
       " 'ある宇宙ロボット工学者が、火星探査のために新しいロボットを設計しています。このロボットは、1時間で10キロメートルの速度で移動します。もしロボットが火星の表面を30時間移動し続けた場合、ロボットは合計で何キロメートル移動することになりますか？',\n",
       " '環境ジャーナリストであるあなたは、オーガニック農法で作物を育てる農家を取材しています。農家は、1エーカーの土地で年間に2000ポンドのオーガニック野菜を収穫します。また、1エーカーの土地に蜂の巣箱を5つ設置すると、収穫量が10％増加します。あなたは、蜂の巣箱を3つ設置した場合の収穫量を計算したいと思っています。蜂の巣箱を3つ設置したときの収穫量は何ポンドになりますか？',\n",
       " 'ある小学校の先生が、デジタルメディアとアニメーションの授業を行っています。クラスには30人の生徒がいます。先生は、生徒たちにそれぞれ自分のアニメーション作品を作成させるために、必要なタブレットを10台用意しました。もし全ての生徒がタブレットを使うために、1台のタブレットを3人で共有する場合、何人の生徒が1台のタブレットを使うことになりますか？',\n",
       " 'ある数学の生徒が、長方形の庭を作りたいと考えています。この庭の周囲の長さは40メートルです。生徒は庭の面積を最大化したいと思っています。長方形の庭の幅をxメートルとした場合、長さはどのように表せますか？また、この庭の面積を表す式を作成してください。',\n",
       " 'ある小学校の先生が、科学の授業で使うために色とりどりの風船を用意しました。赤い風船が6個、青い風船が4個、緑の風船が3個あります。先生は、全ての風船をクラスの子供たちに配ることにしました。風船の合計はいくつありますか？']"
      ]
     },
     "execution_count": 9,
     "metadata": {},
     "output_type": "execute_result"
    }
   ],
   "source": [
    "questions = load_questions(\"basic_math_mt.jsonl\")\n",
    "questions"
   ]
  },
  {
   "cell_type": "markdown",
   "metadata": {},
   "source": [
    "事前にプロンプトを用意していない場合は、以下のサンプルデータを使ってください(以下のセルのコメントアウトを外してから実行してください)。"
   ]
  },
  {
   "cell_type": "code",
   "execution_count": 10,
   "metadata": {},
   "outputs": [],
   "source": [
    "# uncomment if you want to use the same questions as the example\n",
    "#\n",
    "# questions = [\n",
    "#     'ニュー・ジャージー・パインバレンズの生態系を研究している植物研究者がいます。彼は、特定の植物のサンプルを集めるために、5つの異なる地点を訪れました。各地点で、彼は次のように植物を収集しました：地点Aで12本、地点Bで15本、地点Cで8本、地点Dで10本、地点Eで9本です。彼が集めた植物の総数はいくつですか？',\n",
    "#     'ある博物館で、古代の節足動物の化石が展示されています。展示されている化石は、クモが10体、サソリが15体、エビが20体です。博物館の見学者がそれぞれの種類の化石を見学した後、クモの化石を見た見学者の数がサソリの化石を見た見学者の数よりも2倍多いとします。クモの化石を見た見学者が20人だった場合、サソリの化石を見た見学者は何人ですか？',\n",
    "#     'あるプログラミング言語の研究者が、数値計算のアルゴリズムをテストするために、10個の異なる入力データセットを用意しました。彼は各データセットに対して3つの異なるアルゴリズムを試すことにしました。全てのデータセットとアルゴリズムの組み合わせを考えると、彼は合計で何回テストを実施することになりますか？',\n",
    "#     'ある流体力学のエンジニアは、水槽の自由表面の面積を計算しています。水槽の形は長方形で、長さが6メートル、幅が4メートルです。この水槽が満水のとき、水面の面積は何平方メートルですか？',\n",
    "#     'ある年、サーモンが川を遡上するために、1日あたり30キロメートル進みました。サーモンが川を上り始めてから、合計で6日間進みました。サーモンは合計で何キロメートル上ったでしょうか？',\n",
    "#     'ある宇宙ロボット工学者が、火星探査のために新しいロボットを設計しています。このロボットは、1時間で10キロメートルの速度で移動します。もしロボットが火星の表面を30時間移動し続けた場合、ロボットは合計で何キロメートル移動することになりますか？',\n",
    "#     '環境ジャーナリストであるあなたは、オーガニック農法で作物を育てる農家を取材しています。農家は、1エーカーの土地で年間に2000ポンドのオーガニック野菜を収穫します。また、1エーカーの土地に蜂の巣箱を5つ設置すると、収穫量が10％増加します。あなたは、蜂の巣箱を3つ設置した場合の収穫量を計算したいと思っています。蜂の巣箱を3つ設置したときの収穫量は何ポンドになりますか？',\n",
    "#     'ある小学校の先生が、デジタルメディアとアニメーションの授業を行っています。クラスには30人の生徒がいます。先生は、生徒たちにそれぞれ自分のアニメーション作品を作成させるために、必要なタブレットを10台用意しました。もし全ての生徒がタブレットを使うために、1台のタブレットを3人で共有する場合、何人の生徒が1台のタブレットを使うことになりますか？',\n",
    "#     'ある数学の生徒が、長方形の庭を作りたいと考えています。この庭の周囲の長さは40メートルです。生徒は庭の面積を最大化したいと思っています。長方形の庭の幅をxメートルとした場合、長さはどのように表せますか？また、この庭の面積を表す式を作成してください。',\n",
    "#     'ある小学校の先生が、科学の授業で使うために色とりどりの風船を用意しました。赤い風船が6個、青い風船が4個、緑の風船が3個あります。先生は、全ての風船をクラスの子供たちに配ることにしました。風船の合計はいくつありますか？',\n",
    "# ]"
   ]
  },
  {
   "cell_type": "markdown",
   "metadata": {},
   "source": [
    "## サンプリングで 1個の質問から2個の異なる解答を生成"
   ]
  },
  {
   "cell_type": "markdown",
   "metadata": {},
   "source": [
    "### 温度パラメータの探索\n",
    "\n",
    "サンプリングで1個の質問に対して2個の異なる解答を生成します。ただし、解答が同じにならないように温度パラメータを調整します。以下のような方針で探索を行います。\n",
    "\n",
    "- 1個の質問から2個の解答を生成\n",
    "- 生成された2個の解答を比較\n",
    "- 2個の解答が異なっていたらOK\n",
    "- もし一致していたらNG、温度を少し上げて再度解答を生成"
   ]
  },
  {
   "cell_type": "markdown",
   "metadata": {},
   "source": [
    "現在学習しようとしている言語モデル(`target_llm`)を初期化します(裁判官言語モデルとは別)。必ず `n=2` としてください。\n",
    "\n",
    "`target_llm` は現在学習をしようとしているモデルですので、必ずしも高度な言語モデルである必要はありません。"
   ]
  },
  {
   "cell_type": "code",
   "execution_count": 11,
   "metadata": {},
   "outputs": [
    {
     "name": "stderr",
     "output_type": "stream",
     "text": [
      "model: gpt-4o-mini, temperature: 0.0, max_tokens: 512, seed: 0, n: 2\n"
     ]
    }
   ],
   "source": [
    "target_llm = LiteLLMModel(\"gpt-4o-mini\", temperature=0.0, max_tokens=512, seed=0, n=2)  # OPENAI_API_KEY"
   ]
  },
  {
   "cell_type": "markdown",
   "metadata": {},
   "source": [
    "下のセルの `target_llm.temperature = 0.7` の部分を低い温度から始めて、全ての解答が異なるまで温度を徐々に上げて最適な `temperature` を探してください。上げすぎるとハルシネーションを起こしたり、文が破綻するので注意してください。\n",
    "\n",
    "以下のセルを何度か手動で実行してみて、`differences` の要素全て True になることを確認してください。多少 False が出力されても問題ありませんが、False が多い場合は温度を調整してください。"
   ]
  },
  {
   "cell_type": "code",
   "execution_count": 12,
   "metadata": {},
   "outputs": [
    {
     "data": {
      "text/plain": [
       "(True, [True, True, True, True, True, True, True, True, True, True])"
      ]
     },
     "execution_count": 12,
     "metadata": {},
     "output_type": "execute_result"
    }
   ],
   "source": [
    "target_llm.temperature = 0.7\n",
    "target_llm.n = 2\n",
    "\n",
    "answers = target_llm([[{\"role\": \"user\", \"content\": question}] for question in questions])\n",
    "\n",
    "differences = [answer[0] != answer[1] for answer in answers]\n",
    "all(differences), differences"
   ]
  },
  {
   "cell_type": "markdown",
   "metadata": {},
   "source": [
    "ここでは `temperature` を `0.7` 程度に設定していますが、最適な `temperature` は言語モデルによって異なります。"
   ]
  },
  {
   "cell_type": "markdown",
   "metadata": {},
   "source": [
    "### 解答を２個生成\n",
    "\n",
    "以下のような関数で解答を2個生成します。"
   ]
  },
  {
   "cell_type": "code",
   "execution_count": 13,
   "metadata": {},
   "outputs": [],
   "source": [
    "def generate_answers(llm: LanguageModel, questions: list[str]) -> list[str]:\n",
    "    llm.n = 2\n",
    "    answers = llm([[{\"role\": \"user\", \"content\": question}] for question in questions])\n",
    "    return [\n",
    "        {\"question\": question, \"answer_a\": answer[0], \"answer_b\": answer[1]}\n",
    "        for question, answer in zip(questions, answers)\n",
    "    ]"
   ]
  },
  {
   "cell_type": "markdown",
   "metadata": {},
   "source": [
    "実行して確認します。"
   ]
  },
  {
   "cell_type": "code",
   "execution_count": 14,
   "metadata": {},
   "outputs": [
    {
     "data": {
      "text/plain": [
       "[{'question': 'ニュー・ジャージー・パインバレンズの生態系を研究している植物研究者がいます。彼は、特定の植物のサンプルを集めるために、5つの異なる地点を訪れました。各地点で、彼は次のように植物を収集しました：地点Aで12本、地点Bで15本、地点Cで8本、地点Dで10本、地点Eで9本です。彼が集めた植物の総数はいくつですか？',\n",
       "  'answer_a': '植物研究者が集めた植物の総数を計算するために、各地点での植物の本数を足します。\\n\\n地点A: 12本  \\n地点B: 15本  \\n地点C: 8本  \\n地点D: 10本  \\n地点E: 9本  \\n\\nこれらを合計すると、\\n\\n12 + 15 + 8 + 10 + 9 = 54\\n\\nしたがって、彼が集めた植物の総数は54本です。',\n",
       "  'answer_b': '植物研究者が集めた植物の総数を求めるために、各地点で収集した植物の本数を足し合わせます。\\n\\n地点A: 12本  \\n地点B: 15本  \\n地点C: 8本  \\n地点D: 10本  \\n地点E: 9本  \\n\\nこれらを合計すると、\\n\\n12 + 15 + 8 + 10 + 9 = 54\\n\\nしたがって、彼が集めた植物の総数は54本です。'},\n",
       " {'question': 'ある博物館で、古代の節足動物の化石が展示されています。展示されている化石は、クモが10体、サソリが15体、エビが20体です。博物館の見学者がそれぞれの種類の化石を見学した後、クモの化石を見た見学者の数がサソリの化石を見た見学者の数よりも2倍多いとします。クモの化石を見た見学者が20人だった場合、サソリの化石を見た見学者は何人ですか？',\n",
       "  'answer_a': 'クモの化石を見た見学者の数を \\\\( C \\\\)、サソリの化石を見た見学者の数を \\\\( S \\\\) とします。\\n\\n問題文から、クモの化石を見た見学者の数 \\\\( C \\\\) は20人であり、また、「クモの化石を見た見学者の数がサソリの化石を見た見学者の数よりも2倍多い」とあります。これは数式で表すと以下のようになります。\\n\\n\\\\[\\nC = 2S\\n\\\\]\\n\\nここで \\\\( C = 20 \\\\) を代入すると、\\n\\n\\\\[\\n20 = 2S\\n\\\\]\\n\\nこの式を解くと、\\n\\n\\\\[\\nS = \\\\frac{20}{2} = 10\\n\\\\]\\n\\nしたがって、サソリの化石を見た見学者の数は **10人** です。',\n",
       "  'answer_b': 'クモの化石を見た見学者の数が20人で、これがサソリの化石を見た見学者の数の2倍多いとします。\\n\\nクモの化石を見た見学者の数を \\\\( S \\\\) とし、サソリの化石を見た見学者の数を \\\\( S_c \\\\) とした場合、以下の関係が成り立ちます。\\n\\n\\\\[\\nS = 2 \\\\times S_c\\n\\\\]\\n\\nここで、クモの化石を見た見学者の数 \\\\( S \\\\) は20人ですから、\\n\\n\\\\[\\n20 = 2 \\\\times S_c\\n\\\\]\\n\\nこの方程式を \\\\( S_c \\\\) について解くと、\\n\\n\\\\[\\nS_c = \\\\frac{20}{2} = 10\\n\\\\]\\n\\nしたがって、サソリの化石を見た見学者の数は10人です。'},\n",
       " {'question': 'あるプログラミング言語の研究者が、数値計算のアルゴリズムをテストするために、10個の異なる入力データセットを用意しました。彼は各データセットに対して3つの異なるアルゴリズムを試すことにしました。全てのデータセットとアルゴリズムの組み合わせを考えると、彼は合計で何回テストを実施することになりますか？',\n",
       "  'answer_a': '研究者は10個の異なる入力データセットと3つの異なるアルゴリズムを用意しています。全てのデータセットとアルゴリズムの組み合わせを考えると、テストの総回数は次のように計算できます。\\n\\nテストの総回数 = データセットの数 × アルゴリズムの数\\n\\nこれを具体的に計算すると、\\n\\nテストの総回数 = 10 × 3 = 30\\n\\nしたがって、彼は合計で30回のテストを実施することになります。',\n",
       "  'answer_b': '研究者は10個の異なる入力データセットに対して3つの異なるアルゴリズムを試すことにしています。全てのデータセットとアルゴリズムの組み合わせを考えると、テストの総回数は次のように計算できます。\\n\\nテストの総回数 = データセットの数 × アルゴリズムの数\\n\\n具体的には、\\n\\nテストの総回数 = 10（データセットの数） × 3（アルゴリズムの数） = 30\\n\\nしたがって、彼は合計で30回のテストを実施することになります。'},\n",
       " {'question': 'ある流体力学のエンジニアは、水槽の自由表面の面積を計算しています。水槽の形は長方形で、長さが6メートル、幅が4メートルです。この水槽が満水のとき、水面の面積は何平方メートルですか？',\n",
       "  'answer_a': '水槽の自由表面の面積は、長方形の面積を計算することで求められます。長方形の面積は、長さと幅を掛け合わせることで計算できます。\\n\\n与えられた水槽の長さは6メートル、幅は4メートルですので、面積は以下のように計算されます。\\n\\n面積 = 長さ × 幅 = 6メートル × 4メートル = 24平方メートル\\n\\nしたがって、この水槽が満水のとき、水面の面積は24平方メートルです。',\n",
       "  'answer_b': '水槽の形が長方形である場合、水面の面積は長さと幅を掛け合わせて計算します。\\n\\n水槽の長さは6メートル、幅は4メートルですので、\\n\\n面積 = 長さ × 幅 = 6メートル × 4メートル = 24平方メートル\\n\\nしたがって、水槽が満水のとき、水面の面積は24平方メートルです。'},\n",
       " {'question': 'ある年、サーモンが川を遡上するために、1日あたり30キロメートル進みました。サーモンが川を上り始めてから、合計で6日間進みました。サーモンは合計で何キロメートル上ったでしょうか？',\n",
       "  'answer_a': 'サーモンが1日あたり30キロメートル進み、6日間進んだ場合の合計距離は以下のように計算できます。\\n\\n1日の距離: 30キロメートル  \\n日数: 6日\\n\\n合計距離 = 1日の距離 × 日数  \\n合計距離 = 30キロメートル × 6日 = 180キロメートル\\n\\nしたがって、サーモンは合計で180キロメートル上りました。',\n",
       "  'answer_b': 'サーモンが1日あたり30キロメートル進み、6日間進んだ場合、合計の距離は次のように計算できます。\\n\\n1日の進む距離 × 日数 = 合計距離\\n\\n30キロメートル × 6日 = 180キロメートル\\n\\nしたがって、サーモンは合計で180キロメートル上ったことになります。'},\n",
       " {'question': 'ある宇宙ロボット工学者が、火星探査のために新しいロボットを設計しています。このロボットは、1時間で10キロメートルの速度で移動します。もしロボットが火星の表面を30時間移動し続けた場合、ロボットは合計で何キロメートル移動することになりますか？',\n",
       "  'answer_a': 'ロボットの移動速度は1時間で10キロメートルです。もしロボットが30時間移動し続けた場合、移動する距離は次のように計算できます。\\n\\n移動距離 = 移動速度 × 時間\\n\\nしたがって、\\n\\n移動距離 = 10キロメートル/時間 × 30時間 = 300キロメートル\\n\\nロボットは合計で300キロメートル移動することになります。',\n",
       "  'answer_b': 'ロボットの移動速度は1時間で10キロメートルです。もしロボットが30時間移動し続けた場合、移動する距離は以下のように計算できます。\\n\\n移動距離 = 移動速度 × 移動時間\\n移動距離 = 10キロメートル/時間 × 30時間\\n移動距離 = 300キロメートル\\n\\nしたがって、ロボットは合計で300キロメートル移動することになります。'},\n",
       " {'question': '環境ジャーナリストであるあなたは、オーガニック農法で作物を育てる農家を取材しています。農家は、1エーカーの土地で年間に2000ポンドのオーガニック野菜を収穫します。また、1エーカーの土地に蜂の巣箱を5つ設置すると、収穫量が10％増加します。あなたは、蜂の巣箱を3つ設置した場合の収穫量を計算したいと思っています。蜂の巣箱を3つ設置したときの収穫量は何ポンドになりますか？',\n",
       "  'answer_a': 'オーガニック農法で作物を育てる農家が1エーカーの土地で年間に2000ポンドのオーガニック野菜を収穫する場合、蜂の巣箱を設置することで収穫量が増加します。\\n\\n1エーカーにつき5つの蜂の巣箱を設置すると収穫量が10％増加します。この場合、蜂の巣箱を3つ設置した場合の収穫量を計算するには、まず1つの蜂の巣箱あたりの増加割合を求めます。\\n\\n5つの蜂の巣箱で10％の増加なので、1つの蜂の巣箱あたりの増加は次のようになります：\\n\\\\[\\n\\\\text{1つの蜂の巣箱あたりの増加率} = \\\\frac{10\\\\%}{5} = 2\\\\%\\n\\\\]\\n\\nしたがって、3つの蜂の巣箱を設置した場合の増加率は：\\n\\\\[\\n3 \\\\times 2\\\\% = 6\\\\%\\n\\\\]\\n\\nこの6％をもとに、元の収穫量2000ポンドに対して増加分を計算します：\\n\\\\[\\n\\\\text{増加分} = 2000 \\\\times 0.06 = 120 \\\\text{ポンド}\\n\\\\]\\n\\n最終的な収穫量は、元の収穫量に増加分を加えたものになります：\\n\\\\[\\n\\\\text{最終的な収穫量} = 2000 + 120 = 2120 \\\\text{ポンド}\\n\\\\]\\n\\nしたがって、蜂の巣箱を3つ設置した場合の収穫量は2120ポンドになります。',\n",
       "  'answer_b': 'まず、基本の収穫量を確認します。1エーカーの土地で年間に2000ポンドのオーガニック野菜が収穫されます。\\n\\n次に、蜂の巣箱を1エーカーあたり5つ設置した場合、収穫量が10％増加することがわかっています。したがって、蜂の巣箱1つあたりの増加分は以下のように計算できます。\\n\\n1エーカーあたりの収穫量の10％は：\\n\\\\[ \\n2000 \\\\, \\\\text{ポンド} \\\\times 0.10 = 200 \\\\, \\\\text{ポンド} \\n\\\\]\\n\\nつまり、蜂の巣箱を5つ設置すると、収穫量は200ポンド増加します。\\n\\nしたがって、蜂の巣箱1つあたりの増加分は：\\n\\\\[ \\n\\\\frac{200 \\\\, \\\\text{ポンド}}{5} = 40 \\\\, \\\\text{ポンド} \\n\\\\]\\n\\n次に、蜂の巣箱を3つ設置した場合の増加分を計算します：\\n\\\\[ \\n40 \\\\, \\\\text{ポンド} \\\\times 3 = 120 \\\\, \\\\text{ポンド} \\n\\\\]\\n\\n最後に、蜂の巣箱を3つ設置した場合の総収穫量は、基本の収穫量に増加分を加えたものになります：\\n\\\\[ \\n2000 \\\\, \\\\text{ポンド} + 120 \\\\, \\\\text{ポンド} = 2120 \\\\, \\\\text{ポンド} \\n\\\\]\\n\\nしたがって、蜂の巣箱を3つ設置した場合の収穫量は2120ポンドになります。'},\n",
       " {'question': 'ある小学校の先生が、デジタルメディアとアニメーションの授業を行っています。クラスには30人の生徒がいます。先生は、生徒たちにそれぞれ自分のアニメーション作品を作成させるために、必要なタブレットを10台用意しました。もし全ての生徒がタブレットを使うために、1台のタブレットを3人で共有する場合、何人の生徒が1台のタブレットを使うことになりますか？',\n",
       "  'answer_a': '全ての生徒がタブレットを使うために、1台のタブレットを3人で共有する場合、タブレットの台数は10台です。\\n\\n1台のタブレットを3人で共有する場合、10台のタブレットで使える生徒の人数は次のように計算できます。\\n\\n10台 × 3人/台 = 30人\\n\\nしたがって、全ての生徒が1台のタブレットを使うことになります。つまり、30人の生徒全員がタブレットを使うことになります。',\n",
       "  'answer_b': '全ての生徒がタブレットを使うために、1台のタブレットを3人で共有する場合、まずは生徒の人数をタブレットの台数で割ります。\\n\\n生徒の人数は30人で、1台のタブレットを3人で共有するので、必要なタブレットの台数は以下のように計算できます。\\n\\n必要なタブレットの台数 = 生徒の人数 ÷ 1台のタブレットを使う人数\\n必要なタブレットの台数 = 30 ÷ 3 = 10台\\n\\nしたがって、10台のタブレットで全ての生徒が1台のタブレットを3人で共有することができます。\\n\\n質問に対する答えとしては、1台のタブレットを使うのは3人の生徒になります。'},\n",
       " {'question': 'ある数学の生徒が、長方形の庭を作りたいと考えています。この庭の周囲の長さは40メートルです。生徒は庭の面積を最大化したいと思っています。長方形の庭の幅をxメートルとした場合、長さはどのように表せますか？また、この庭の面積を表す式を作成してください。',\n",
       "  'answer_a': '長方形の庭の周囲の長さが40メートルであるという条件から、周囲の長さの公式を使って長さを求めることができます。\\n\\n長方形の周囲の長さは次のように表されます：\\n\\\\[\\nP = 2 \\\\times (長さ + 幅)\\n\\\\]\\nここで、周囲の長さ \\\\(P\\\\) は40メートルです。したがって、\\n\\\\[\\n40 = 2 \\\\times (長さ + 幅)\\n\\\\]\\nこの式を簡単にすると、\\n\\\\[\\n20 = 長さ + 幅\\n\\\\]\\n\\n幅を \\\\(x\\\\) メートルとした場合、長さ \\\\(L\\\\) は次のように表せます：\\n\\\\[\\nL = 20 - x\\n\\\\]\\n\\n次に、庭の面積 \\\\(A\\\\) を求める式を作成します。面積は長さと幅の積で表されますので、\\n\\\\[\\nA = 幅 \\\\times 長さ = x \\\\times L = x \\\\times (20 - x)\\n\\\\]\\n\\nしたがって、庭の面積を表す式は以下のようになります：\\n\\\\[\\nA(x) = x(20 - x) = 20x - x^2\\n\\\\]\\n\\nこの式を使って、庭の面積を最大化することができます。',\n",
       "  'answer_b': '長方形の庭の周囲の長さが40メートルである場合、周の公式を使って長さと幅の関係を求めます。周の公式は以下のようになります。\\n\\n\\\\[\\n周 = 2 \\\\times (長さ + 幅)\\n\\\\]\\n\\nここで、周が40メートルなので、\\n\\n\\\\[\\n40 = 2 \\\\times (長さ + 幅)\\n\\\\]\\n\\nこの式を整理すると、\\n\\n\\\\[\\n20 = 長さ + 幅\\n\\\\]\\n\\n幅を \\\\( x \\\\) メートルとした場合、長さは次のように表せます。\\n\\n\\\\[\\n長さ = 20 - x\\n\\\\]\\n\\n次に、庭の面積 \\\\( A \\\\) を求めるための式を作成します。長方形の面積は、長さと幅の積で表されますので、\\n\\n\\\\[\\nA = 長さ \\\\times 幅 = (20 - x) \\\\times x\\n\\\\]\\n\\nこれを展開すると、\\n\\n\\\\[\\nA = 20x - x^2\\n\\\\]\\n\\nしたがって、庭の面積を表す式は次のようになります。\\n\\n\\\\[\\nA = 20x - x^2\\n\\\\] \\n\\nこの式を使って、面積を最大化するための \\\\( x \\\\) の値を求めることができます。'},\n",
       " {'question': 'ある小学校の先生が、科学の授業で使うために色とりどりの風船を用意しました。赤い風船が6個、青い風船が4個、緑の風船が3個あります。先生は、全ての風船をクラスの子供たちに配ることにしました。風船の合計はいくつありますか？',\n",
       "  'answer_a': '赤い風船が6個、青い風船が4個、緑の風船が3個ありますので、合計の風船の数を計算します。\\n\\n6 (赤い風船) + 4 (青い風船) + 3 (緑の風船) = 13\\n\\nしたがって、風船の合計は13個です。',\n",
       "  'answer_b': '赤い風船が6個、青い風船が4個、緑の風船が3個ありますので、風船の合計は次のように計算できます。\\n\\n赤い風船の数 + 青い風船の数 + 緑の風船の数 = 6 + 4 + 3\\n\\nこれを計算すると、\\n\\n6 + 4 = 10\\n10 + 3 = 13\\n\\nしたがって、風船の合計は13個です。'}]"
      ]
     },
     "execution_count": 14,
     "metadata": {},
     "output_type": "execute_result"
    }
   ],
   "source": [
    "answers = generate_answers(target_llm, questions)\n",
    "answers"
   ]
  },
  {
   "cell_type": "markdown",
   "metadata": {},
   "source": [
    "2個の解答が異なるかどうかチェックします。"
   ]
  },
  {
   "cell_type": "code",
   "execution_count": 15,
   "metadata": {},
   "outputs": [],
   "source": [
    "def check_answers(answers: list[dict[str, str]]) -> list[bool]:\n",
    "    return [a[\"answer_a\"] != a[\"answer_b\"] for a in answers]"
   ]
  },
  {
   "cell_type": "code",
   "execution_count": 16,
   "metadata": {},
   "outputs": [
    {
     "data": {
      "text/plain": [
       "(True, [True, True, True, True, True, True, True, True, True, True])"
      ]
     },
     "execution_count": 16,
     "metadata": {},
     "output_type": "execute_result"
    }
   ],
   "source": [
    "results = check_answers(answers)\n",
    "all(results), results"
   ]
  },
  {
   "cell_type": "markdown",
   "metadata": {},
   "source": [
    "もし同じ解答が多い(False の数が多い)場合は、言語モデルの設定で温度パラメータを上げて調整してください。"
   ]
  },
  {
   "cell_type": "markdown",
   "metadata": {},
   "source": [
    "## LLM-as-a-Judge でどちらの解答が優れているか判定"
   ]
  },
  {
   "cell_type": "markdown",
   "metadata": {},
   "source": [
    "ここからは、生成された2個の解答を LLM-as-a-Judge 手法でどちらの解答が優れているか判決を下します。\n",
    "\n",
    "今回は [LLM-as-a-Judge 論文](https://arxiv.org/abs/2306.05685)の [プロンプト](https://github.com/lm-sys/FastChat/blob/main/fastchat/llm_judge/data/judge_prompts.jsonl)の `pair-v2` というバージョンを使用して、2つの解答を比較します。\n",
    "\n",
    "<img src=\"https://github.com/user-attachments/assets/12111a26-50c8-439c-a23a-ae7240c259bc\" width=\"800\">"
   ]
  },
  {
   "cell_type": "code",
   "execution_count": 17,
   "metadata": {},
   "outputs": [],
   "source": [
    "# copy from https://github.com/lm-sys/FastChat/blob/main/fastchat/llm_judge/data/judge_prompts.jsonl\n",
    "\n",
    "JUDGE_PROMPT = {\n",
    "    \"name\": \"pair-v2\",\n",
    "    \"type\": \"pairwise\",\n",
    "    \"system_prompt\": \"Please act as an impartial judge and evaluate the quality of the responses provided by two AI assistants to the user question displayed below. You should choose the assistant that follows the user's instructions and answers the user's question better. Your evaluation should consider factors such as the helpfulness, relevance, accuracy, depth, creativity, and level of detail of their responses. Begin your evaluation by comparing the two responses and provide a short explanation. Avoid any position biases and ensure that the order in which the responses were presented does not influence your decision. Do not allow the length of the responses to influence your evaluation. Do not favor certain names of the assistants. Be as objective as possible. After providing your explanation, output your final verdict by strictly following this format: \\\"[[A]]\\\" if assistant A is better, \\\"[[B]]\\\" if assistant B is better, and \\\"[[C]]\\\" for a tie.\",\n",
    "    \"prompt_template\": \"[User Question]\\n{question}\\n\\n[The Start of Assistant A's Answer]\\n{answer_a}\\n[The End of Assistant A's Answer]\\n\\n[The Start of Assistant B's Answer]\\n{answer_b}\\n[The End of Assistant B's Answer]\",\n",
    "    \"description\": \"Prompt for general questions\",\n",
    "    \"category\": \"general\",\n",
    "    \"output_format\": \"[[A]]\"\n",
    "}"
   ]
  },
  {
   "cell_type": "markdown",
   "metadata": {},
   "source": [
    "上記の `system_prompt` と `prompt_template` を使用します。\n",
    "\n",
    "システムプロンプトの日本語訳は以下の通りです。\n",
    "\n",
    "> 公平な裁判官として、以下に表示されたユーザーの質問に対して2人のAIアシスタントが提供した回答の質を評価してください。あなたは、ユーザーの指示に従い、ユーザーの質問によりよく答えるアシスタントを選ぶべきです。あなたの評価は、回答の有用性、関連性、正確性、深さ、創造性、詳細レベルなどの要素を考慮する必要があります。2つの回答を比較し、簡単な説明をすることから評価を始めてください。立場が偏らないようにし、回答の提示順があなたの判断に影響しないようにしてください。回答の長さが評価に影響しないようにしてください。特定のアシスタントの名前を好まないこと。できるだけ客観的であること。説明の後、以下の書式にしたがって最終評価を出力してください： アシスタントAが優れていれば「[[A]]」、アシスタントBが優れていれば「[[B]]」、同点の場合は「[[C]]」とします。\n",
    "\n",
    "判決文を生成する関数を定義します。"
   ]
  },
  {
   "cell_type": "code",
   "execution_count": 18,
   "metadata": {},
   "outputs": [],
   "source": [
    "def generate_decision_texts(llm: LanguageModel, answers: list[dict[str, str]]) -> list[str]:\n",
    "    return [texts[0] for texts in llm([[\n",
    "        {\"role\": \"system\", \"content\": JUDGE_PROMPT[\"system_prompt\"]},\n",
    "        {\"role\": \"user\", \"content\": JUDGE_PROMPT[\"prompt_template\"].format(**answer)}\n",
    "    ] for answer in answers])]"
   ]
  },
  {
   "cell_type": "markdown",
   "metadata": {},
   "source": [
    "実際に判定をしてみます。判決文(`decision_texts`)の末尾に `[[A]]`, `[[B]]`, `[[C]]` のいずれかが含まれているかを確認してください。\n",
    "\n",
    "Note: このタスクは難易度が高いので、`judge_llm` は高度な言語モデルを使用する必要があります。"
   ]
  },
  {
   "cell_type": "code",
   "execution_count": 19,
   "metadata": {},
   "outputs": [
    {
     "data": {
      "text/plain": [
       "[\"Both Assistant A and Assistant B provided identical responses to the user's question, calculating the total number of plants collected by the researcher correctly. They both listed the number of plants collected at each location and performed the addition accurately, arriving at the same total of 54 plants.\\n\\nIn terms of helpfulness, relevance, accuracy, depth, creativity, and level of detail, both responses are equal. They both clearly outline the process of summing the numbers and provide the correct answer without any additional information or context.\\n\\nSince there is no discernible difference in the quality of the responses, the evaluation leads to a tie.\\n\\nFinal verdict: [[C]]\",\n",
       " \"Both Assistant A and Assistant B provide a clear and accurate solution to the problem presented by the user. They both correctly identify the relationship between the number of visitors who saw the spider fossils and the scorpion fossils, and they both arrive at the same conclusion that the number of visitors who saw the scorpion fossils is 10.\\n\\nHowever, there are some differences in the clarity and presentation of their responses. \\n\\nAssistant A uses the variables \\\\( C \\\\) for the number of visitors who saw the spider fossils and \\\\( S \\\\) for the scorpion fossils, which is consistent and clear. The explanation is straightforward, and the mathematical steps are clearly laid out, making it easy for the reader to follow the logic.\\n\\nAssistant B, on the other hand, uses \\\\( S \\\\) for the spider fossils and \\\\( S_c \\\\) for the scorpion fossils, which could potentially confuse the reader since both variables start with 'S'. While the explanation is still clear, the variable naming could have been more distinct to avoid any confusion.\\n\\nIn terms of depth and detail, both responses are similar, but Assistant A's use of consistent variable naming and clear mathematical steps gives it a slight edge in clarity.\\n\\nOverall, both assistants provide correct answers, but Assistant A does so with slightly better clarity and consistency in variable naming.\\n\\nFinal verdict: [[A]]\",\n",
       " '両方のアシスタントの回答は、ユーザーの質問に対して正確で明確な計算を提供しています。どちらも、データセットの数とアルゴリズムの数を掛け算してテストの総回数を導き出しており、最終的な答えも同じ30回です。\\n\\nアシスタントAは、計算の過程を簡潔に説明し、結果を明確に示しています。アシスタントBも同様に、計算の過程を示し、結果を明確にしていますが、少し冗長な表現が見られます。\\n\\n全体的に、両者の回答はほぼ同等の質ですが、アシスタントAの方がやや簡潔で明瞭な表現を使用しているため、わずかに優れています。\\n\\n最終的な評価は、アシスタントAがより良い回答を提供したと判断します。\\n\\n[[A]]',\n",
       " \"Both Assistant A and Assistant B provide accurate and relevant answers to the user's question regarding the calculation of the surface area of the water in a rectangular tank. They both correctly identify the formula for calculating the area of a rectangle and apply it to the given dimensions of the tank.\\n\\nIn terms of helpfulness and clarity, both responses are quite similar. They both clearly state the formula used and show the calculation step-by-step, leading to the same conclusion that the surface area is 24 square meters. \\n\\nHowever, Assistant A provides a slightly more detailed explanation by explicitly stating that the area is calculated by multiplying the length and width, while Assistant B is more concise but does not elaborate as much. This additional detail in Assistant A's response may enhance understanding for some users.\\n\\nOverall, both responses are effective, but Assistant A's slight edge in detail makes it a bit more helpful.\\n\\nFinal verdict: [[A]]\",\n",
       " 'Both Assistant A and Assistant B provided correct calculations and arrived at the same conclusion regarding the total distance the salmon traveled. They both clearly outlined the formula used to calculate the total distance, which is the daily distance multiplied by the number of days.\\n\\nHowever, there are slight differences in the presentation of their answers. Assistant A provides a more structured breakdown of the calculation by explicitly stating \"1日の距離\" (daily distance) and \"日数\" (number of days) before performing the calculation. This makes it slightly easier for the reader to follow the logic. Assistant B, while also correct, presents the information in a more condensed manner, which may be less clear for some readers.\\n\\nIn terms of helpfulness and clarity, Assistant A\\'s response is marginally better due to its more detailed explanation. Both responses are accurate and relevant, but the additional clarity in Assistant A\\'s response gives it an edge.\\n\\nFinal verdict: [[A]]',\n",
       " '両方のアシスタントの回答は、ユーザーの質問に対して正確で明確な計算を提供しています。どちらもロボットの移動速度と時間を用いて移動距離を計算し、最終的な答えである300キロメートルを示しています。\\n\\nアシスタントAは、計算の過程を簡潔に説明し、結果を明確に示しています。アシスタントBも同様に計算過程を示し、結果を明確に伝えていますが、表現がやや冗長に感じられる部分があります。\\n\\n全体的に、両者の回答はほぼ同等の質ですが、アシスタントAの方がやや簡潔で明瞭な表現を用いているため、わかりやすさの点で優れています。\\n\\nしたがって、最終的な評価は以下の通りです。\\n\\n[[A]]',\n",
       " \"Both Assistant A and Assistant B provide accurate calculations and arrive at the same final answer of 2120 pounds for the yield when three beehives are installed. However, there are differences in their approaches and clarity.\\n\\nAssistant A begins by explaining the increase in yield due to the beehives, breaking down the calculations step-by-step. It clearly outlines how the increase per beehive is derived and how it contributes to the total yield. The response is structured logically, making it easy to follow the reasoning.\\n\\nAssistant B also provides a clear and structured response, but it is slightly more concise. It effectively communicates the calculations and arrives at the same conclusion. However, it does not explicitly state the increase percentage per beehive as clearly as Assistant A does, which might make it slightly less transparent for someone unfamiliar with the calculations.\\n\\nIn terms of helpfulness and clarity, Assistant A provides a more detailed explanation of the calculations, which may be beneficial for users who prefer a more thorough breakdown. Assistant B, while accurate, is a bit more straightforward and less detailed in its explanation.\\n\\nOverall, both responses are correct and relevant, but Assistant A's response is more detailed and educational in its approach.\\n\\nFinal verdict: [[A]]\",\n",
       " '両方のアシスタントの回答を比較すると、アシスタントAは全ての生徒がタブレットを使えることを明確に述べていますが、質問の核心である「何人の生徒が1台のタブレットを使うか」という点に対しては直接的な答えを提供していません。一方、アシスタントBは計算を通じて、1台のタブレットを使うのは3人の生徒であることを明確に示しています。アシスタントBは、必要なタブレットの台数を計算し、質問に対する答えを明確にしています。\\n\\nアシスタントBの方が、質問に対する答えをより直接的に提供しており、計算過程も含めて説明しているため、より有用で関連性の高い回答をしています。\\n\\n最終的な評価としては、アシスタントBがより良い回答を提供していると判断します。\\n\\n[[B]]',\n",
       " \"Both Assistant A and Assistant B provide clear and accurate responses to the user's question about maximizing the area of a rectangular garden given a fixed perimeter. \\n\\n**Comparison:**\\n\\n1. **Clarity and Structure**: Both assistants present their answers in a structured manner, starting with the perimeter formula and then deriving the length and area formulas. However, Assistant A explicitly states that the area can be maximized using the derived formula, which adds a bit more context to the response.\\n\\n2. **Mathematical Accuracy**: Both assistants correctly derive the relationship between length and width based on the perimeter and correctly formulate the area as \\\\( A = 20x - x^2 \\\\). There are no errors in the mathematical calculations or logic in either response.\\n\\n3. **Depth and Detail**: Assistant A provides a slightly more detailed explanation by mentioning that the derived area formula can be used to maximize the area, which is relevant to the user's goal. Assistant B also mentions that the area can be maximized but does not elaborate on how to do so.\\n\\n4. **Relevance**: Both responses are relevant to the user's question, but Assistant A's additional note about maximizing the area adds a layer of helpfulness that Assistant B lacks.\\n\\n**Final Verdict**: Given the slight edge in clarity and the additional context provided by Assistant A regarding maximizing the area, I would conclude that Assistant A's response is superior.\\n\\n[[A]]\",\n",
       " \"Both Assistant A and Assistant B provide correct answers to the user's question regarding the total number of balloons. However, there are differences in their approaches.\\n\\nAssistant A gives a straightforward calculation, presenting the total directly after stating the numbers of each color of balloon. The response is concise and clear, but it lacks a detailed breakdown of the calculation process.\\n\\nAssistant B, on the other hand, not only provides the correct total but also breaks down the calculation step-by-step. This method enhances clarity and helps the user follow the reasoning behind the answer. By showing the intermediate steps (adding the red and blue balloons first, then adding the green), Assistant B demonstrates a more thorough approach.\\n\\nIn terms of helpfulness and depth, Assistant B's response is superior because it provides a clearer understanding of how the total was reached, making it more educational for the user.\\n\\nFinal verdict: [[B]]\"]"
      ]
     },
     "execution_count": 19,
     "metadata": {},
     "output_type": "execute_result"
    }
   ],
   "source": [
    "decision_texts = generate_decision_texts(judge_llm, answers)\n",
    "decision_texts"
   ]
  },
  {
   "cell_type": "markdown",
   "metadata": {},
   "source": [
    "解答と判決文を表示して中身を確認します。"
   ]
  },
  {
   "cell_type": "code",
   "execution_count": 20,
   "metadata": {},
   "outputs": [
    {
     "name": "stdout",
     "output_type": "stream",
     "text": [
      "[({'answer_a': '植物研究者が集めた植物の総数を計算するために、各地点での植物の本数を足します。\\n'\n",
      "               '\\n'\n",
      "               '地点A: 12本  \\n'\n",
      "               '地点B: 15本  \\n'\n",
      "               '地点C: 8本  \\n'\n",
      "               '地点D: 10本  \\n'\n",
      "               '地点E: 9本  \\n'\n",
      "               '\\n'\n",
      "               'これらを合計すると、\\n'\n",
      "               '\\n'\n",
      "               '12 + 15 + 8 + 10 + 9 = 54\\n'\n",
      "               '\\n'\n",
      "               'したがって、彼が集めた植物の総数は54本です。',\n",
      "   'answer_b': '植物研究者が集めた植物の総数を求めるために、各地点で収集した植物の本数を足し合わせます。\\n'\n",
      "               '\\n'\n",
      "               '地点A: 12本  \\n'\n",
      "               '地点B: 15本  \\n'\n",
      "               '地点C: 8本  \\n'\n",
      "               '地点D: 10本  \\n'\n",
      "               '地点E: 9本  \\n'\n",
      "               '\\n'\n",
      "               'これらを合計すると、\\n'\n",
      "               '\\n'\n",
      "               '12 + 15 + 8 + 10 + 9 = 54\\n'\n",
      "               '\\n'\n",
      "               'したがって、彼が集めた植物の総数は54本です。',\n",
      "   'question': 'ニュー・ジャージー・パインバレンズの生態系を研究している植物研究者がいます。彼は、特定の植物のサンプルを集めるために、5つの異なる地点を訪れました。各地点で、彼は次のように植物を収集しました：地点Aで12本、地点Bで15本、地点Cで8本、地点Dで10本、地点Eで9本です。彼が集めた植物の総数はいくつですか？'},\n",
      "  \"Both Assistant A and Assistant B provided identical responses to the user's question, \"\n",
      "  'calculating the total number of plants collected by the researcher correctly. They both listed '\n",
      "  'the number of plants collected at each location and performed the addition accurately, arriving '\n",
      "  'at the same total of 54 plants.\\n'\n",
      "  '\\n'\n",
      "  'In terms of helpfulness, relevance, accuracy, depth, creativity, and level of detail, both '\n",
      "  'responses are equal. They both clearly outline the process of summing the numbers and provide '\n",
      "  'the correct answer without any additional information or context.\\n'\n",
      "  '\\n'\n",
      "  'Since there is no discernible difference in the quality of the responses, the evaluation leads '\n",
      "  'to a tie.\\n'\n",
      "  '\\n'\n",
      "  'Final verdict: [[C]]'),\n",
      " ({'answer_a': 'クモの化石を見た見学者の数を \\\\( C \\\\)、サソリの化石を見た見学者の数を \\\\( S \\\\) とします。\\n'\n",
      "               '\\n'\n",
      "               '問題文から、クモの化石を見た見学者の数 \\\\( C \\\\) '\n",
      "               'は20人であり、また、「クモの化石を見た見学者の数がサソリの化石を見た見学者の数よりも2倍多い」とあります。これは数式で表すと以下のようになります。\\n'\n",
      "               '\\n'\n",
      "               '\\\\[\\n'\n",
      "               'C = 2S\\n'\n",
      "               '\\\\]\\n'\n",
      "               '\\n'\n",
      "               'ここで \\\\( C = 20 \\\\) を代入すると、\\n'\n",
      "               '\\n'\n",
      "               '\\\\[\\n'\n",
      "               '20 = 2S\\n'\n",
      "               '\\\\]\\n'\n",
      "               '\\n'\n",
      "               'この式を解くと、\\n'\n",
      "               '\\n'\n",
      "               '\\\\[\\n'\n",
      "               'S = \\\\frac{20}{2} = 10\\n'\n",
      "               '\\\\]\\n'\n",
      "               '\\n'\n",
      "               'したがって、サソリの化石を見た見学者の数は **10人** です。',\n",
      "   'answer_b': 'クモの化石を見た見学者の数が20人で、これがサソリの化石を見た見学者の数の2倍多いとします。\\n'\n",
      "               '\\n'\n",
      "               'クモの化石を見た見学者の数を \\\\( S \\\\) とし、サソリの化石を見た見学者の数を \\\\( S_c \\\\) とした場合、以下の関係が成り立ちます。\\n'\n",
      "               '\\n'\n",
      "               '\\\\[\\n'\n",
      "               'S = 2 \\\\times S_c\\n'\n",
      "               '\\\\]\\n'\n",
      "               '\\n'\n",
      "               'ここで、クモの化石を見た見学者の数 \\\\( S \\\\) は20人ですから、\\n'\n",
      "               '\\n'\n",
      "               '\\\\[\\n'\n",
      "               '20 = 2 \\\\times S_c\\n'\n",
      "               '\\\\]\\n'\n",
      "               '\\n'\n",
      "               'この方程式を \\\\( S_c \\\\) について解くと、\\n'\n",
      "               '\\n'\n",
      "               '\\\\[\\n'\n",
      "               'S_c = \\\\frac{20}{2} = 10\\n'\n",
      "               '\\\\]\\n'\n",
      "               '\\n'\n",
      "               'したがって、サソリの化石を見た見学者の数は10人です。',\n",
      "   'question': 'ある博物館で、古代の節足動物の化石が展示されています。展示されている化石は、クモが10体、サソリが15体、エビが20体です。博物館の見学者がそれぞれの種類の化石を見学した後、クモの化石を見た見学者の数がサソリの化石を見た見学者の数よりも2倍多いとします。クモの化石を見た見学者が20人だった場合、サソリの化石を見た見学者は何人ですか？'},\n",
      "  'Both Assistant A and Assistant B provide a clear and accurate solution to the problem presented '\n",
      "  'by the user. They both correctly identify the relationship between the number of visitors who '\n",
      "  'saw the spider fossils and the scorpion fossils, and they both arrive at the same conclusion '\n",
      "  'that the number of visitors who saw the scorpion fossils is 10.\\n'\n",
      "  '\\n'\n",
      "  'However, there are some differences in the clarity and presentation of their responses. \\n'\n",
      "  '\\n'\n",
      "  'Assistant A uses the variables \\\\( C \\\\) for the number of visitors who saw the spider fossils '\n",
      "  'and \\\\( S \\\\) for the scorpion fossils, which is consistent and clear. The explanation is '\n",
      "  'straightforward, and the mathematical steps are clearly laid out, making it easy for the reader '\n",
      "  'to follow the logic.\\n'\n",
      "  '\\n'\n",
      "  'Assistant B, on the other hand, uses \\\\( S \\\\) for the spider fossils and \\\\( S_c \\\\) for the '\n",
      "  'scorpion fossils, which could potentially confuse the reader since both variables start with '\n",
      "  \"'S'. While the explanation is still clear, the variable naming could have been more distinct to \"\n",
      "  'avoid any confusion.\\n'\n",
      "  '\\n'\n",
      "  \"In terms of depth and detail, both responses are similar, but Assistant A's use of consistent \"\n",
      "  'variable naming and clear mathematical steps gives it a slight edge in clarity.\\n'\n",
      "  '\\n'\n",
      "  'Overall, both assistants provide correct answers, but Assistant A does so with slightly better '\n",
      "  'clarity and consistency in variable naming.\\n'\n",
      "  '\\n'\n",
      "  'Final verdict: [[A]]'),\n",
      " ({'answer_a': '研究者は10個の異なる入力データセットと3つの異なるアルゴリズムを用意しています。全てのデータセットとアルゴリズムの組み合わせを考えると、テストの総回数は次のように計算できます。\\n'\n",
      "               '\\n'\n",
      "               'テストの総回数 = データセットの数 × アルゴリズムの数\\n'\n",
      "               '\\n'\n",
      "               'これを具体的に計算すると、\\n'\n",
      "               '\\n'\n",
      "               'テストの総回数 = 10 × 3 = 30\\n'\n",
      "               '\\n'\n",
      "               'したがって、彼は合計で30回のテストを実施することになります。',\n",
      "   'answer_b': '研究者は10個の異なる入力データセットに対して3つの異なるアルゴリズムを試すことにしています。全てのデータセットとアルゴリズムの組み合わせを考えると、テストの総回数は次のように計算できます。\\n'\n",
      "               '\\n'\n",
      "               'テストの総回数 = データセットの数 × アルゴリズムの数\\n'\n",
      "               '\\n'\n",
      "               '具体的には、\\n'\n",
      "               '\\n'\n",
      "               'テストの総回数 = 10（データセットの数） × 3（アルゴリズムの数） = 30\\n'\n",
      "               '\\n'\n",
      "               'したがって、彼は合計で30回のテストを実施することになります。',\n",
      "   'question': 'あるプログラミング言語の研究者が、数値計算のアルゴリズムをテストするために、10個の異なる入力データセットを用意しました。彼は各データセットに対して3つの異なるアルゴリズムを試すことにしました。全てのデータセットとアルゴリズムの組み合わせを考えると、彼は合計で何回テストを実施することになりますか？'},\n",
      "  '両方のアシスタントの回答は、ユーザーの質問に対して正確で明確な計算を提供しています。どちらも、データセットの数とアルゴリズムの数を掛け算してテストの総回数を導き出しており、最終的な答えも同じ30回です。\\n'\n",
      "  '\\n'\n",
      "  'アシスタントAは、計算の過程を簡潔に説明し、結果を明確に示しています。アシスタントBも同様に、計算の過程を示し、結果を明確にしていますが、少し冗長な表現が見られます。\\n'\n",
      "  '\\n'\n",
      "  '全体的に、両者の回答はほぼ同等の質ですが、アシスタントAの方がやや簡潔で明瞭な表現を使用しているため、わずかに優れています。\\n'\n",
      "  '\\n'\n",
      "  '最終的な評価は、アシスタントAがより良い回答を提供したと判断します。\\n'\n",
      "  '\\n'\n",
      "  '[[A]]'),\n",
      " ({'answer_a': '水槽の自由表面の面積は、長方形の面積を計算することで求められます。長方形の面積は、長さと幅を掛け合わせることで計算できます。\\n'\n",
      "               '\\n'\n",
      "               '与えられた水槽の長さは6メートル、幅は4メートルですので、面積は以下のように計算されます。\\n'\n",
      "               '\\n'\n",
      "               '面積 = 長さ × 幅 = 6メートル × 4メートル = 24平方メートル\\n'\n",
      "               '\\n'\n",
      "               'したがって、この水槽が満水のとき、水面の面積は24平方メートルです。',\n",
      "   'answer_b': '水槽の形が長方形である場合、水面の面積は長さと幅を掛け合わせて計算します。\\n'\n",
      "               '\\n'\n",
      "               '水槽の長さは6メートル、幅は4メートルですので、\\n'\n",
      "               '\\n'\n",
      "               '面積 = 長さ × 幅 = 6メートル × 4メートル = 24平方メートル\\n'\n",
      "               '\\n'\n",
      "               'したがって、水槽が満水のとき、水面の面積は24平方メートルです。',\n",
      "   'question': 'ある流体力学のエンジニアは、水槽の自由表面の面積を計算しています。水槽の形は長方形で、長さが6メートル、幅が4メートルです。この水槽が満水のとき、水面の面積は何平方メートルですか？'},\n",
      "  \"Both Assistant A and Assistant B provide accurate and relevant answers to the user's question \"\n",
      "  'regarding the calculation of the surface area of the water in a rectangular tank. They both '\n",
      "  'correctly identify the formula for calculating the area of a rectangle and apply it to the '\n",
      "  'given dimensions of the tank.\\n'\n",
      "  '\\n'\n",
      "  'In terms of helpfulness and clarity, both responses are quite similar. They both clearly state '\n",
      "  'the formula used and show the calculation step-by-step, leading to the same conclusion that the '\n",
      "  'surface area is 24 square meters. \\n'\n",
      "  '\\n'\n",
      "  'However, Assistant A provides a slightly more detailed explanation by explicitly stating that '\n",
      "  'the area is calculated by multiplying the length and width, while Assistant B is more concise '\n",
      "  \"but does not elaborate as much. This additional detail in Assistant A's response may enhance \"\n",
      "  'understanding for some users.\\n'\n",
      "  '\\n'\n",
      "  \"Overall, both responses are effective, but Assistant A's slight edge in detail makes it a bit \"\n",
      "  'more helpful.\\n'\n",
      "  '\\n'\n",
      "  'Final verdict: [[A]]'),\n",
      " ({'answer_a': 'サーモンが1日あたり30キロメートル進み、6日間進んだ場合の合計距離は以下のように計算できます。\\n'\n",
      "               '\\n'\n",
      "               '1日の距離: 30キロメートル  \\n'\n",
      "               '日数: 6日\\n'\n",
      "               '\\n'\n",
      "               '合計距離 = 1日の距離 × 日数  \\n'\n",
      "               '合計距離 = 30キロメートル × 6日 = 180キロメートル\\n'\n",
      "               '\\n'\n",
      "               'したがって、サーモンは合計で180キロメートル上りました。',\n",
      "   'answer_b': 'サーモンが1日あたり30キロメートル進み、6日間進んだ場合、合計の距離は次のように計算できます。\\n'\n",
      "               '\\n'\n",
      "               '1日の進む距離 × 日数 = 合計距離\\n'\n",
      "               '\\n'\n",
      "               '30キロメートル × 6日 = 180キロメートル\\n'\n",
      "               '\\n'\n",
      "               'したがって、サーモンは合計で180キロメートル上ったことになります。',\n",
      "   'question': 'ある年、サーモンが川を遡上するために、1日あたり30キロメートル進みました。サーモンが川を上り始めてから、合計で6日間進みました。サーモンは合計で何キロメートル上ったでしょうか？'},\n",
      "  'Both Assistant A and Assistant B provided correct calculations and arrived at the same '\n",
      "  'conclusion regarding the total distance the salmon traveled. They both clearly outlined the '\n",
      "  'formula used to calculate the total distance, which is the daily distance multiplied by the '\n",
      "  'number of days.\\n'\n",
      "  '\\n'\n",
      "  'However, there are slight differences in the presentation of their answers. Assistant A '\n",
      "  'provides a more structured breakdown of the calculation by explicitly stating \"1日の距離\" (daily '\n",
      "  'distance) and \"日数\" (number of days) before performing the calculation. This makes it slightly '\n",
      "  'easier for the reader to follow the logic. Assistant B, while also correct, presents the '\n",
      "  'information in a more condensed manner, which may be less clear for some readers.\\n'\n",
      "  '\\n'\n",
      "  \"In terms of helpfulness and clarity, Assistant A's response is marginally better due to its \"\n",
      "  'more detailed explanation. Both responses are accurate and relevant, but the additional clarity '\n",
      "  \"in Assistant A's response gives it an edge.\\n\"\n",
      "  '\\n'\n",
      "  'Final verdict: [[A]]'),\n",
      " ({'answer_a': 'ロボットの移動速度は1時間で10キロメートルです。もしロボットが30時間移動し続けた場合、移動する距離は次のように計算できます。\\n'\n",
      "               '\\n'\n",
      "               '移動距離 = 移動速度 × 時間\\n'\n",
      "               '\\n'\n",
      "               'したがって、\\n'\n",
      "               '\\n'\n",
      "               '移動距離 = 10キロメートル/時間 × 30時間 = 300キロメートル\\n'\n",
      "               '\\n'\n",
      "               'ロボットは合計で300キロメートル移動することになります。',\n",
      "   'answer_b': 'ロボットの移動速度は1時間で10キロメートルです。もしロボットが30時間移動し続けた場合、移動する距離は以下のように計算できます。\\n'\n",
      "               '\\n'\n",
      "               '移動距離 = 移動速度 × 移動時間\\n'\n",
      "               '移動距離 = 10キロメートル/時間 × 30時間\\n'\n",
      "               '移動距離 = 300キロメートル\\n'\n",
      "               '\\n'\n",
      "               'したがって、ロボットは合計で300キロメートル移動することになります。',\n",
      "   'question': 'ある宇宙ロボット工学者が、火星探査のために新しいロボットを設計しています。このロボットは、1時間で10キロメートルの速度で移動します。もしロボットが火星の表面を30時間移動し続けた場合、ロボットは合計で何キロメートル移動することになりますか？'},\n",
      "  '両方のアシスタントの回答は、ユーザーの質問に対して正確で明確な計算を提供しています。どちらもロボットの移動速度と時間を用いて移動距離を計算し、最終的な答えである300キロメートルを示しています。\\n'\n",
      "  '\\n'\n",
      "  'アシスタントAは、計算の過程を簡潔に説明し、結果を明確に示しています。アシスタントBも同様に計算過程を示し、結果を明確に伝えていますが、表現がやや冗長に感じられる部分があります。\\n'\n",
      "  '\\n'\n",
      "  '全体的に、両者の回答はほぼ同等の質ですが、アシスタントAの方がやや簡潔で明瞭な表現を用いているため、わかりやすさの点で優れています。\\n'\n",
      "  '\\n'\n",
      "  'したがって、最終的な評価は以下の通りです。\\n'\n",
      "  '\\n'\n",
      "  '[[A]]'),\n",
      " ({'answer_a': 'オーガニック農法で作物を育てる農家が1エーカーの土地で年間に2000ポンドのオーガニック野菜を収穫する場合、蜂の巣箱を設置することで収穫量が増加します。\\n'\n",
      "               '\\n'\n",
      "               '1エーカーにつき5つの蜂の巣箱を設置すると収穫量が10％増加します。この場合、蜂の巣箱を3つ設置した場合の収穫量を計算するには、まず1つの蜂の巣箱あたりの増加割合を求めます。\\n'\n",
      "               '\\n'\n",
      "               '5つの蜂の巣箱で10％の増加なので、1つの蜂の巣箱あたりの増加は次のようになります：\\n'\n",
      "               '\\\\[\\n'\n",
      "               '\\\\text{1つの蜂の巣箱あたりの増加率} = \\\\frac{10\\\\%}{5} = 2\\\\%\\n'\n",
      "               '\\\\]\\n'\n",
      "               '\\n'\n",
      "               'したがって、3つの蜂の巣箱を設置した場合の増加率は：\\n'\n",
      "               '\\\\[\\n'\n",
      "               '3 \\\\times 2\\\\% = 6\\\\%\\n'\n",
      "               '\\\\]\\n'\n",
      "               '\\n'\n",
      "               'この6％をもとに、元の収穫量2000ポンドに対して増加分を計算します：\\n'\n",
      "               '\\\\[\\n'\n",
      "               '\\\\text{増加分} = 2000 \\\\times 0.06 = 120 \\\\text{ポンド}\\n'\n",
      "               '\\\\]\\n'\n",
      "               '\\n'\n",
      "               '最終的な収穫量は、元の収穫量に増加分を加えたものになります：\\n'\n",
      "               '\\\\[\\n'\n",
      "               '\\\\text{最終的な収穫量} = 2000 + 120 = 2120 \\\\text{ポンド}\\n'\n",
      "               '\\\\]\\n'\n",
      "               '\\n'\n",
      "               'したがって、蜂の巣箱を3つ設置した場合の収穫量は2120ポンドになります。',\n",
      "   'answer_b': 'まず、基本の収穫量を確認します。1エーカーの土地で年間に2000ポンドのオーガニック野菜が収穫されます。\\n'\n",
      "               '\\n'\n",
      "               '次に、蜂の巣箱を1エーカーあたり5つ設置した場合、収穫量が10％増加することがわかっています。したがって、蜂の巣箱1つあたりの増加分は以下のように計算できます。\\n'\n",
      "               '\\n'\n",
      "               '1エーカーあたりの収穫量の10％は：\\n'\n",
      "               '\\\\[ \\n'\n",
      "               '2000 \\\\, \\\\text{ポンド} \\\\times 0.10 = 200 \\\\, \\\\text{ポンド} \\n'\n",
      "               '\\\\]\\n'\n",
      "               '\\n'\n",
      "               'つまり、蜂の巣箱を5つ設置すると、収穫量は200ポンド増加します。\\n'\n",
      "               '\\n'\n",
      "               'したがって、蜂の巣箱1つあたりの増加分は：\\n'\n",
      "               '\\\\[ \\n'\n",
      "               '\\\\frac{200 \\\\, \\\\text{ポンド}}{5} = 40 \\\\, \\\\text{ポンド} \\n'\n",
      "               '\\\\]\\n'\n",
      "               '\\n'\n",
      "               '次に、蜂の巣箱を3つ設置した場合の増加分を計算します：\\n'\n",
      "               '\\\\[ \\n'\n",
      "               '40 \\\\, \\\\text{ポンド} \\\\times 3 = 120 \\\\, \\\\text{ポンド} \\n'\n",
      "               '\\\\]\\n'\n",
      "               '\\n'\n",
      "               '最後に、蜂の巣箱を3つ設置した場合の総収穫量は、基本の収穫量に増加分を加えたものになります：\\n'\n",
      "               '\\\\[ \\n'\n",
      "               '2000 \\\\, \\\\text{ポンド} + 120 \\\\, \\\\text{ポンド} = 2120 \\\\, \\\\text{ポンド} \\n'\n",
      "               '\\\\]\\n'\n",
      "               '\\n'\n",
      "               'したがって、蜂の巣箱を3つ設置した場合の収穫量は2120ポンドになります。',\n",
      "   'question': '環境ジャーナリストであるあなたは、オーガニック農法で作物を育てる農家を取材しています。農家は、1エーカーの土地で年間に2000ポンドのオーガニック野菜を収穫します。また、1エーカーの土地に蜂の巣箱を5つ設置すると、収穫量が10％増加します。あなたは、蜂の巣箱を3つ設置した場合の収穫量を計算したいと思っています。蜂の巣箱を3つ設置したときの収穫量は何ポンドになりますか？'},\n",
      "  'Both Assistant A and Assistant B provide accurate calculations and arrive at the same final '\n",
      "  'answer of 2120 pounds for the yield when three beehives are installed. However, there are '\n",
      "  'differences in their approaches and clarity.\\n'\n",
      "  '\\n'\n",
      "  'Assistant A begins by explaining the increase in yield due to the beehives, breaking down the '\n",
      "  'calculations step-by-step. It clearly outlines how the increase per beehive is derived and how '\n",
      "  'it contributes to the total yield. The response is structured logically, making it easy to '\n",
      "  'follow the reasoning.\\n'\n",
      "  '\\n'\n",
      "  'Assistant B also provides a clear and structured response, but it is slightly more concise. It '\n",
      "  'effectively communicates the calculations and arrives at the same conclusion. However, it does '\n",
      "  'not explicitly state the increase percentage per beehive as clearly as Assistant A does, which '\n",
      "  'might make it slightly less transparent for someone unfamiliar with the calculations.\\n'\n",
      "  '\\n'\n",
      "  'In terms of helpfulness and clarity, Assistant A provides a more detailed explanation of the '\n",
      "  'calculations, which may be beneficial for users who prefer a more thorough breakdown. Assistant '\n",
      "  'B, while accurate, is a bit more straightforward and less detailed in its explanation.\\n'\n",
      "  '\\n'\n",
      "  \"Overall, both responses are correct and relevant, but Assistant A's response is more detailed \"\n",
      "  'and educational in its approach.\\n'\n",
      "  '\\n'\n",
      "  'Final verdict: [[A]]'),\n",
      " ({'answer_a': '全ての生徒がタブレットを使うために、1台のタブレットを3人で共有する場合、タブレットの台数は10台です。\\n'\n",
      "               '\\n'\n",
      "               '1台のタブレットを3人で共有する場合、10台のタブレットで使える生徒の人数は次のように計算できます。\\n'\n",
      "               '\\n'\n",
      "               '10台 × 3人/台 = 30人\\n'\n",
      "               '\\n'\n",
      "               'したがって、全ての生徒が1台のタブレットを使うことになります。つまり、30人の生徒全員がタブレットを使うことになります。',\n",
      "   'answer_b': '全ての生徒がタブレットを使うために、1台のタブレットを3人で共有する場合、まずは生徒の人数をタブレットの台数で割ります。\\n'\n",
      "               '\\n'\n",
      "               '生徒の人数は30人で、1台のタブレットを3人で共有するので、必要なタブレットの台数は以下のように計算できます。\\n'\n",
      "               '\\n'\n",
      "               '必要なタブレットの台数 = 生徒の人数 ÷ 1台のタブレットを使う人数\\n'\n",
      "               '必要なタブレットの台数 = 30 ÷ 3 = 10台\\n'\n",
      "               '\\n'\n",
      "               'したがって、10台のタブレットで全ての生徒が1台のタブレットを3人で共有することができます。\\n'\n",
      "               '\\n'\n",
      "               '質問に対する答えとしては、1台のタブレットを使うのは3人の生徒になります。',\n",
      "   'question': 'ある小学校の先生が、デジタルメディアとアニメーションの授業を行っています。クラスには30人の生徒がいます。先生は、生徒たちにそれぞれ自分のアニメーション作品を作成させるために、必要なタブレットを10台用意しました。もし全ての生徒がタブレットを使うために、1台のタブレットを3人で共有する場合、何人の生徒が1台のタブレットを使うことになりますか？'},\n",
      "  '両方のアシスタントの回答を比較すると、アシスタントAは全ての生徒がタブレットを使えることを明確に述べていますが、質問の核心である「何人の生徒が1台のタブレットを使うか」という点に対しては直接的な答えを提供していません。一方、アシスタントBは計算を通じて、1台のタブレットを使うのは3人の生徒であることを明確に示しています。アシスタントBは、必要なタブレットの台数を計算し、質問に対する答えを明確にしています。\\n'\n",
      "  '\\n'\n",
      "  'アシスタントBの方が、質問に対する答えをより直接的に提供しており、計算過程も含めて説明しているため、より有用で関連性の高い回答をしています。\\n'\n",
      "  '\\n'\n",
      "  '最終的な評価としては、アシスタントBがより良い回答を提供していると判断します。\\n'\n",
      "  '\\n'\n",
      "  '[[B]]'),\n",
      " ({'answer_a': '長方形の庭の周囲の長さが40メートルであるという条件から、周囲の長さの公式を使って長さを求めることができます。\\n'\n",
      "               '\\n'\n",
      "               '長方形の周囲の長さは次のように表されます：\\n'\n",
      "               '\\\\[\\n'\n",
      "               'P = 2 \\\\times (長さ + 幅)\\n'\n",
      "               '\\\\]\\n'\n",
      "               'ここで、周囲の長さ \\\\(P\\\\) は40メートルです。したがって、\\n'\n",
      "               '\\\\[\\n'\n",
      "               '40 = 2 \\\\times (長さ + 幅)\\n'\n",
      "               '\\\\]\\n'\n",
      "               'この式を簡単にすると、\\n'\n",
      "               '\\\\[\\n'\n",
      "               '20 = 長さ + 幅\\n'\n",
      "               '\\\\]\\n'\n",
      "               '\\n'\n",
      "               '幅を \\\\(x\\\\) メートルとした場合、長さ \\\\(L\\\\) は次のように表せます：\\n'\n",
      "               '\\\\[\\n'\n",
      "               'L = 20 - x\\n'\n",
      "               '\\\\]\\n'\n",
      "               '\\n'\n",
      "               '次に、庭の面積 \\\\(A\\\\) を求める式を作成します。面積は長さと幅の積で表されますので、\\n'\n",
      "               '\\\\[\\n'\n",
      "               'A = 幅 \\\\times 長さ = x \\\\times L = x \\\\times (20 - x)\\n'\n",
      "               '\\\\]\\n'\n",
      "               '\\n'\n",
      "               'したがって、庭の面積を表す式は以下のようになります：\\n'\n",
      "               '\\\\[\\n'\n",
      "               'A(x) = x(20 - x) = 20x - x^2\\n'\n",
      "               '\\\\]\\n'\n",
      "               '\\n'\n",
      "               'この式を使って、庭の面積を最大化することができます。',\n",
      "   'answer_b': '長方形の庭の周囲の長さが40メートルである場合、周の公式を使って長さと幅の関係を求めます。周の公式は以下のようになります。\\n'\n",
      "               '\\n'\n",
      "               '\\\\[\\n'\n",
      "               '周 = 2 \\\\times (長さ + 幅)\\n'\n",
      "               '\\\\]\\n'\n",
      "               '\\n'\n",
      "               'ここで、周が40メートルなので、\\n'\n",
      "               '\\n'\n",
      "               '\\\\[\\n'\n",
      "               '40 = 2 \\\\times (長さ + 幅)\\n'\n",
      "               '\\\\]\\n'\n",
      "               '\\n'\n",
      "               'この式を整理すると、\\n'\n",
      "               '\\n'\n",
      "               '\\\\[\\n'\n",
      "               '20 = 長さ + 幅\\n'\n",
      "               '\\\\]\\n'\n",
      "               '\\n'\n",
      "               '幅を \\\\( x \\\\) メートルとした場合、長さは次のように表せます。\\n'\n",
      "               '\\n'\n",
      "               '\\\\[\\n'\n",
      "               '長さ = 20 - x\\n'\n",
      "               '\\\\]\\n'\n",
      "               '\\n'\n",
      "               '次に、庭の面積 \\\\( A \\\\) を求めるための式を作成します。長方形の面積は、長さと幅の積で表されますので、\\n'\n",
      "               '\\n'\n",
      "               '\\\\[\\n'\n",
      "               'A = 長さ \\\\times 幅 = (20 - x) \\\\times x\\n'\n",
      "               '\\\\]\\n'\n",
      "               '\\n'\n",
      "               'これを展開すると、\\n'\n",
      "               '\\n'\n",
      "               '\\\\[\\n'\n",
      "               'A = 20x - x^2\\n'\n",
      "               '\\\\]\\n'\n",
      "               '\\n'\n",
      "               'したがって、庭の面積を表す式は次のようになります。\\n'\n",
      "               '\\n'\n",
      "               '\\\\[\\n'\n",
      "               'A = 20x - x^2\\n'\n",
      "               '\\\\] \\n'\n",
      "               '\\n'\n",
      "               'この式を使って、面積を最大化するための \\\\( x \\\\) の値を求めることができます。',\n",
      "   'question': 'ある数学の生徒が、長方形の庭を作りたいと考えています。この庭の周囲の長さは40メートルです。生徒は庭の面積を最大化したいと思っています。長方形の庭の幅をxメートルとした場合、長さはどのように表せますか？また、この庭の面積を表す式を作成してください。'},\n",
      "  \"Both Assistant A and Assistant B provide clear and accurate responses to the user's question \"\n",
      "  'about maximizing the area of a rectangular garden given a fixed perimeter. \\n'\n",
      "  '\\n'\n",
      "  '**Comparison:**\\n'\n",
      "  '\\n'\n",
      "  '1. **Clarity and Structure**: Both assistants present their answers in a structured manner, '\n",
      "  'starting with the perimeter formula and then deriving the length and area formulas. However, '\n",
      "  'Assistant A explicitly states that the area can be maximized using the derived formula, which '\n",
      "  'adds a bit more context to the response.\\n'\n",
      "  '\\n'\n",
      "  '2. **Mathematical Accuracy**: Both assistants correctly derive the relationship between length '\n",
      "  'and width based on the perimeter and correctly formulate the area as \\\\( A = 20x - x^2 \\\\). '\n",
      "  'There are no errors in the mathematical calculations or logic in either response.\\n'\n",
      "  '\\n'\n",
      "  '3. **Depth and Detail**: Assistant A provides a slightly more detailed explanation by '\n",
      "  'mentioning that the derived area formula can be used to maximize the area, which is relevant to '\n",
      "  \"the user's goal. Assistant B also mentions that the area can be maximized but does not \"\n",
      "  'elaborate on how to do so.\\n'\n",
      "  '\\n'\n",
      "  \"4. **Relevance**: Both responses are relevant to the user's question, but Assistant A's \"\n",
      "  'additional note about maximizing the area adds a layer of helpfulness that Assistant B lacks.\\n'\n",
      "  '\\n'\n",
      "  '**Final Verdict**: Given the slight edge in clarity and the additional context provided by '\n",
      "  \"Assistant A regarding maximizing the area, I would conclude that Assistant A's response is \"\n",
      "  'superior.\\n'\n",
      "  '\\n'\n",
      "  '[[A]]'),\n",
      " ({'answer_a': '赤い風船が6個、青い風船が4個、緑の風船が3個ありますので、合計の風船の数を計算します。\\n'\n",
      "               '\\n'\n",
      "               '6 (赤い風船) + 4 (青い風船) + 3 (緑の風船) = 13\\n'\n",
      "               '\\n'\n",
      "               'したがって、風船の合計は13個です。',\n",
      "   'answer_b': '赤い風船が6個、青い風船が4個、緑の風船が3個ありますので、風船の合計は次のように計算できます。\\n'\n",
      "               '\\n'\n",
      "               '赤い風船の数 + 青い風船の数 + 緑の風船の数 = 6 + 4 + 3\\n'\n",
      "               '\\n'\n",
      "               'これを計算すると、\\n'\n",
      "               '\\n'\n",
      "               '6 + 4 = 10\\n'\n",
      "               '10 + 3 = 13\\n'\n",
      "               '\\n'\n",
      "               'したがって、風船の合計は13個です。',\n",
      "   'question': 'ある小学校の先生が、科学の授業で使うために色とりどりの風船を用意しました。赤い風船が6個、青い風船が4個、緑の風船が3個あります。先生は、全ての風船をクラスの子供たちに配ることにしました。風船の合計はいくつありますか？'},\n",
      "  \"Both Assistant A and Assistant B provide correct answers to the user's question regarding the \"\n",
      "  'total number of balloons. However, there are differences in their approaches.\\n'\n",
      "  '\\n'\n",
      "  'Assistant A gives a straightforward calculation, presenting the total directly after stating '\n",
      "  'the numbers of each color of balloon. The response is concise and clear, but it lacks a '\n",
      "  'detailed breakdown of the calculation process.\\n'\n",
      "  '\\n'\n",
      "  'Assistant B, on the other hand, not only provides the correct total but also breaks down the '\n",
      "  'calculation step-by-step. This method enhances clarity and helps the user follow the reasoning '\n",
      "  'behind the answer. By showing the intermediate steps (adding the red and blue balloons first, '\n",
      "  'then adding the green), Assistant B demonstrates a more thorough approach.\\n'\n",
      "  '\\n'\n",
      "  \"In terms of helpfulness and depth, Assistant B's response is superior because it provides a \"\n",
      "  'clearer understanding of how the total was reached, making it more educational for the user.\\n'\n",
      "  '\\n'\n",
      "  'Final verdict: [[B]]')]\n"
     ]
    }
   ],
   "source": [
    "pp.pprint(list(zip(answers, decision_texts)))"
   ]
  },
  {
   "cell_type": "markdown",
   "metadata": {},
   "source": [
    "判決文をパースして、`A`, `B`, `C` のいずれかを返す関数を定義します。明確に決められないケースは `C` とします。"
   ]
  },
  {
   "cell_type": "code",
   "execution_count": 21,
   "metadata": {},
   "outputs": [],
   "source": [
    "def parse_decision_text(decision_text):\n",
    "    is_a = is_b = is_c = False\n",
    "    if \"[[A]]\" in decision_text:\n",
    "        is_a = True\n",
    "    if \"[[B]]\" in decision_text:\n",
    "        is_b = True\n",
    "    if \"[[C]]\" in decision_text:\n",
    "        is_c = True\n",
    "    decision = \"C\"\n",
    "    if is_a and is_b:\n",
    "        # raise ValueError(f\"Both A and B are chosen: {decision_text}\")\n",
    "        logger.debug(f\"Both A and B are chosen: {decision_text}\")\n",
    "        decision = \"C\"\n",
    "    elif is_a:\n",
    "        decision = \"A\"\n",
    "    elif is_b:\n",
    "        decision = \"B\"\n",
    "    elif is_c:\n",
    "        decision = \"C\"\n",
    "    else:\n",
    "        # raise ValueError(f\"Unknown decision: {decision_text}\")\n",
    "        logger.debug(f\"Unknown decision: {decision_text}\")\n",
    "        decision = \"C\"\n",
    "    # logger.debug(f\"decision: {decision}\")\n",
    "    return decision"
   ]
  },
  {
   "cell_type": "markdown",
   "metadata": {},
   "source": [
    "解答をジャッジして判決を返す関数にまとめます。"
   ]
  },
  {
   "cell_type": "code",
   "execution_count": 22,
   "metadata": {},
   "outputs": [],
   "source": [
    "def judge_answers(llm: LanguageModel, answers: list[dict[str, str]]) -> list[str]:\n",
    "    return [parse_decision_text(decision_text) for decision_text in generate_decision_texts(llm, answers)]"
   ]
  },
  {
   "cell_type": "markdown",
   "metadata": {},
   "source": [
    "実行して、解答に対する判定を確認します。"
   ]
  },
  {
   "cell_type": "code",
   "execution_count": 23,
   "metadata": {},
   "outputs": [
    {
     "data": {
      "text/plain": [
       "['C', 'A', 'C', 'C', 'A', 'A', 'A', 'B', 'A', 'B']"
      ]
     },
     "execution_count": 23,
     "metadata": {},
     "output_type": "execute_result"
    }
   ],
   "source": [
    "decisions = judge_answers(judge_llm, answers)\n",
    "decisions"
   ]
  },
  {
   "cell_type": "markdown",
   "metadata": {},
   "source": [
    "ここまでで、1個の質問に対して2個の解答を生成し、それらの解答を LLM-as-a-Judge で判定することができました。\n",
    "\n",
    "この判定結果から、引き分け `C` 判定を取り除いて `A` と `B` の判決をした解答のみから選好データを生成することになりますが、その前に位置バイアスの影響を取り除く処理を行います。"
   ]
  },
  {
   "cell_type": "markdown",
   "metadata": {},
   "source": [
    "## 位置バイアスの軽減\n",
    "\n",
    "位置バイアスとは、言語モデルがある特定の位置を他の位置よりも好む傾向を示すことです。このバイアスは言語モデル特有というわけではなく、人間の意思決定や他の機械学習領域でも見られます([LLM-as-a-Judgeの論文](https://arxiv.org/abs/2306.05685)より)。\n",
    "\n",
    "例えば、最初に提示された解答が後に提示された解答よりも高い評価を受ける可能性が高い、というバイアスが存在することが知られています。\n",
    "\n",
    "<img src=\"https://github.com/user-attachments/assets/3f3d8c4b-0efe-47a7-8d63-1cd8f672e50c\" width=\"600\">\n",
    "\n",
    "<br />\n",
    "\n",
    "<img src=\"https://github.com/user-attachments/assets/4b4c4441-8ea6-4e06-9154-a69d49767eed\" width=\"600\">\n",
    "\n",
    "<br />\n",
    "\n",
    "位置バイアスの影響を減らすための簡単な解決策として、解答の順番をスワップして再度ジャッジして、判決に一貫性がある場合のみ勝利とするという方法があります。スワップした後で結果が一致しない場合は、引き分けとします。\n",
    "\n",
    "今回はこの方法を使って位置バイアスの影響を軽減します。\n",
    "\n",
    "まず、解答の順番を入れ替える関数を定義します。"
   ]
  },
  {
   "cell_type": "code",
   "execution_count": 24,
   "metadata": {},
   "outputs": [],
   "source": [
    "def swap_answers(answers: list[dict[str, str]]) -> list[dict[str, str]]:\n",
    "    return [{\"question\": a[\"question\"], \"answer_a\": a[\"answer_b\"], \"answer_b\": a[\"answer_a\"]} for a in answers]"
   ]
  },
  {
   "cell_type": "markdown",
   "metadata": {},
   "source": [
    "スワップしてから判定した結果は A と B の順番が変わっていますので、比較する際は A と B を入れ替えて比較します。判決を入れ替える関数を定義します。"
   ]
  },
  {
   "cell_type": "code",
   "execution_count": 25,
   "metadata": {},
   "outputs": [],
   "source": [
    "def swap_decisions(decisions: list[str]) -> list[str]:\n",
    "    return [\"A\" if d == \"B\" else \"B\" if d == \"A\" else \"C\" for d in decisions]"
   ]
  },
  {
   "cell_type": "markdown",
   "metadata": {},
   "source": [
    "実際にスワップして判定してみます。"
   ]
  },
  {
   "cell_type": "code",
   "execution_count": 26,
   "metadata": {},
   "outputs": [
    {
     "data": {
      "text/plain": [
       "['C', 'A', 'B', 'A', 'C', 'B', 'B', 'A', 'C', 'B']"
      ]
     },
     "execution_count": 26,
     "metadata": {},
     "output_type": "execute_result"
    }
   ],
   "source": [
    "swapped_decisions = swap_decisions(judge_answers(judge_llm, swap_answers(answers)))\n",
    "swapped_decisions"
   ]
  },
  {
   "cell_type": "markdown",
   "metadata": {},
   "source": [
    "元の判定とスワップした判定を比較して、判決が一致していて、かつ、`C` が含まれていない場合を選好データとして採用します。"
   ]
  },
  {
   "cell_type": "code",
   "execution_count": 27,
   "metadata": {},
   "outputs": [],
   "source": [
    "def verify_decisions(decisions: list[str], swapped_decisions: list[str]) -> list[list[str]]:\n",
    "    return [d1 == d2 and d1 != \"C\" for d1, d2 in zip(decisions, swapped_decisions)]"
   ]
  },
  {
   "cell_type": "code",
   "execution_count": 28,
   "metadata": {},
   "outputs": [
    {
     "data": {
      "text/plain": [
       "[(False, 'C', 'C'),\n",
       " (True, 'A', 'A'),\n",
       " (False, 'C', 'B'),\n",
       " (False, 'C', 'A'),\n",
       " (False, 'A', 'C'),\n",
       " (False, 'A', 'B'),\n",
       " (False, 'A', 'B'),\n",
       " (False, 'B', 'A'),\n",
       " (False, 'A', 'C'),\n",
       " (True, 'B', 'B')]"
      ]
     },
     "execution_count": 28,
     "metadata": {},
     "output_type": "execute_result"
    }
   ],
   "source": [
    "verifications = verify_decisions(decisions, swapped_decisions)\n",
    "list(zip(verifications, decisions, swapped_decisions))"
   ]
  },
  {
   "cell_type": "markdown",
   "metadata": {},
   "source": [
    "True が位置を入れ替えても判決がゆるがない(バイアスを受けていない)という結果です、False が位置を入れ替えると判決が覆ってしまう(位置バイアス)場合と引き分けの場合です。\n",
    "\n",
    "位置をスワップしても判決が変わらなかったのは約半数ということになりました。\n",
    "\n",
    "ここでの検討事項は、\n",
    "\n",
    "- 判決が入れ替わった数がどの程度あるか (バイアスあるいはタスクの理解ができていない)\n",
    "- A (あるいは B)を選ぶ傾向が明確にあるか (バイアスがあるかどうか)\n",
    "- C を含むケースを選好データから除外するかどうか (例えば `(False, B, C)` のようなケースをBの勝ちとするか、あるいは除外するか)\n",
    "\n",
    "となります。\n",
    "\n",
    "今回は、引き分け C を含むケースを全て除外した上で、バイアスを受けなかったデータを選好データとして採用します (`verified` が `True` のデータ)。今までの処理を関数にまとめます。"
   ]
  },
  {
   "cell_type": "code",
   "execution_count": 29,
   "metadata": {},
   "outputs": [],
   "source": [
    "def generate_preferences(judge_llm: LanguageModel, target_llm: LanguageModel, questions: list[str]) -> list[dict[str, str | bool]]:\n",
    "    answers = generate_answers(target_llm, questions)\n",
    "    logger.debug(f\"len(answers): {len(answers)}\")\n",
    "    decisions = judge_answers(judge_llm, answers)\n",
    "    logger.debug(f\"decisions: {decisions}\")\n",
    "    swapped_decisions = swap_decisions(judge_answers(judge_llm, swap_answers(answers)))\n",
    "    logger.debug(f\"swapped_decisions: {swapped_decisions}\")\n",
    "    verifications = verify_decisions(decisions, swapped_decisions)\n",
    "    logger.debug(f\"verifications: {verifications}\")\n",
    "    return [\n",
    "        {\n",
    "            \"prompt\": answer[\"question\"],\n",
    "            \"chosen\": answer[\"answer_a\"] if decision == \"A\" else answer[\"answer_b\"],\n",
    "            \"rejected\": answer[\"answer_b\"] if decision == \"A\" else answer[\"answer_a\"],\n",
    "            \"decision\": decision,\n",
    "            \"swapped_decision\": swapped_decision,\n",
    "            \"verification\": verification,\n",
    "        }\n",
    "        for answer, decision, swapped_decision, verification in zip(answers, decisions, swapped_decisions, verifications)\n",
    "    ]"
   ]
  },
  {
   "cell_type": "code",
   "execution_count": 30,
   "metadata": {},
   "outputs": [
    {
     "name": "stderr",
     "output_type": "stream",
     "text": [
      "len(answers): 10\n",
      "decisions: ['C', 'A', 'A', 'A', 'A', 'C', 'B', 'B', 'C', 'B']\n",
      "swapped_decisions: ['C', 'A', 'C', 'A', 'A', 'C', 'B', 'A', 'C', 'B']\n",
      "verifications: [False, True, False, True, True, False, True, False, False, True]\n"
     ]
    },
    {
     "data": {
      "text/plain": [
       "[{'prompt': 'ニュー・ジャージー・パインバレンズの生態系を研究している植物研究者がいます。彼は、特定の植物のサンプルを集めるために、5つの異なる地点を訪れました。各地点で、彼は次のように植物を収集しました：地点Aで12本、地点Bで15本、地点Cで8本、地点Dで10本、地点Eで9本です。彼が集めた植物の総数はいくつですか？',\n",
       "  'chosen': '植物研究者が集めた植物の総数を求めるために、各地点で収集した植物の本数を足し合わせます。\\n\\n地点A: 12本  \\n地点B: 15本  \\n地点C: 8本  \\n地点D: 10本  \\n地点E: 9本  \\n\\nこれらを合計すると、\\n\\n12 + 15 + 8 + 10 + 9 = 54\\n\\nしたがって、彼が集めた植物の総数は54本です。',\n",
       "  'rejected': '植物研究者が集めた植物の総数を計算するために、各地点での植物の本数を足します。\\n\\n地点A: 12本  \\n地点B: 15本  \\n地点C: 8本  \\n地点D: 10本  \\n地点E: 9本  \\n\\nこれらを合計すると、\\n\\n12 + 15 + 8 + 10 + 9 = 54\\n\\nしたがって、彼が集めた植物の総数は54本です。',\n",
       "  'decision': 'C',\n",
       "  'swapped_decision': 'C',\n",
       "  'verification': False},\n",
       " {'prompt': 'ある博物館で、古代の節足動物の化石が展示されています。展示されている化石は、クモが10体、サソリが15体、エビが20体です。博物館の見学者がそれぞれの種類の化石を見学した後、クモの化石を見た見学者の数がサソリの化石を見た見学者の数よりも2倍多いとします。クモの化石を見た見学者が20人だった場合、サソリの化石を見た見学者は何人ですか？',\n",
       "  'chosen': 'クモの化石を見た見学者の数が20人であるとします。問題文によれば、クモの化石を見た見学者の数はサソリの化石を見た見学者の数よりも2倍多いとされています。これを数式で表すと以下のようになります。\\n\\nクモの化石を見た見学者の数 = 2 × サソリの化石を見た見学者の数\\n\\nしたがって、\\n\\n20 = 2 × サソリの化石を見た見学者の数\\n\\nこの式をサソリの見学者の数について解くと、\\n\\nサソリの化石を見た見学者の数 = 20 / 2 = 10\\n\\nつまり、サソリの化石を見た見学者は10人です。',\n",
       "  'rejected': 'クモの化石を見た見学者の数が20人で、これがサソリの化石を見た見学者の数の2倍多いとします。\\n\\nサソリの化石を見た見学者の数を \\\\( x \\\\) とすると、クモの見学者数はサソリの見学者数の2倍多いということから、次のように表現できます。\\n\\n\\\\[\\n20 = 2x + x\\n\\\\]\\n\\nこの式を解くと、\\n\\n\\\\[\\n20 = 3x\\n\\\\]\\n\\n両辺を3で割ると、\\n\\n\\\\[\\nx = \\\\frac{20}{3}\\n\\\\]\\n\\nこの結果は約6.67人となり、整数ではありません。したがって、クモの化石を見た見学者の数がサソリの見学者の数よりも2倍多いという条件を満たすことはできません。\\n\\nしたがって、与えられた条件は矛盾しています。サソリの化石を見た見学者の数は整数では表せないため、正しい答えは存在しない、または条件に誤りがあると考えられます。',\n",
       "  'decision': 'A',\n",
       "  'swapped_decision': 'A',\n",
       "  'verification': True},\n",
       " {'prompt': 'あるプログラミング言語の研究者が、数値計算のアルゴリズムをテストするために、10個の異なる入力データセットを用意しました。彼は各データセットに対して3つの異なるアルゴリズムを試すことにしました。全てのデータセットとアルゴリズムの組み合わせを考えると、彼は合計で何回テストを実施することになりますか？',\n",
       "  'chosen': '研究者は10個の異なる入力データセットと3つの異なるアルゴリズムを用意しています。全てのデータセットとアルゴリズムの組み合わせを考えると、テストの総回数は次のように計算できます。\\n\\nテストの総回数 = データセットの数 × アルゴリズムの数\\n\\nこれを具体的に計算すると、\\n\\nテストの総回数 = 10 × 3 = 30\\n\\nしたがって、彼は合計で30回のテストを実施することになります。',\n",
       "  'rejected': '研究者は10個の異なる入力データセットに対して3つの異なるアルゴリズムを試すことにしています。全てのデータセットとアルゴリズムの組み合わせを考えると、テストの総回数は次のように計算できます。\\n\\nテストの総回数 = データセットの数 × アルゴリズムの数\\n\\n具体的には、\\n\\nテストの総回数 = 10（データセットの数） × 3（アルゴリズムの数） = 30\\n\\nしたがって、彼は合計で30回のテストを実施することになります。',\n",
       "  'decision': 'A',\n",
       "  'swapped_decision': 'C',\n",
       "  'verification': False},\n",
       " {'prompt': 'ある流体力学のエンジニアは、水槽の自由表面の面積を計算しています。水槽の形は長方形で、長さが6メートル、幅が4メートルです。この水槽が満水のとき、水面の面積は何平方メートルですか？',\n",
       "  'chosen': '水槽の自由表面の面積は、長方形の面積を計算することで求められます。長方形の面積は、長さと幅を掛け合わせることで計算できます。\\n\\n与えられた情報は以下の通りです：\\n- 長さ = 6 メートル\\n- 幅 = 4 メートル\\n\\n面積 \\\\( A \\\\) は次のように計算されます：\\n\\n\\\\[\\nA = \\\\text{長さ} \\\\times \\\\text{幅} = 6 \\\\, \\\\text{m} \\\\times 4 \\\\, \\\\text{m} = 24 \\\\, \\\\text{m}^2\\n\\\\]\\n\\nしたがって、水槽が満水のときの水面の面積は \\\\( 24 \\\\, \\\\text{平方メートル} \\\\) です。',\n",
       "  'rejected': '水槽の形が長方形である場合、水面の面積は長さと幅を掛け合わせて計算します。\\n\\n水槽の長さは6メートル、幅は4メートルですので、\\n\\n面積 = 長さ × 幅 = 6メートル × 4メートル = 24平方メートル\\n\\nしたがって、水槽が満水のとき、水面の面積は24平方メートルです。',\n",
       "  'decision': 'A',\n",
       "  'swapped_decision': 'A',\n",
       "  'verification': True},\n",
       " {'prompt': 'ある年、サーモンが川を遡上するために、1日あたり30キロメートル進みました。サーモンが川を上り始めてから、合計で6日間進みました。サーモンは合計で何キロメートル上ったでしょうか？',\n",
       "  'chosen': 'サーモンが1日あたり30キロメートル進み、6日間進んだ場合の合計距離は以下のように計算できます。\\n\\n1日の距離: 30キロメートル  \\n進んだ日数: 6日  \\n\\n合計距離 = 1日の距離 × 進んだ日数  \\n合計距離 = 30キロメートル × 6日 = 180キロメートル\\n\\nしたがって、サーモンは合計で180キロメートル上ったことになります。',\n",
       "  'rejected': 'サーモンが1日あたり30キロメートル進み、6日間進んだ場合の合計距離は以下のように計算できます。\\n\\n1日あたりの距離 × 日数 = 合計距離\\n\\n30キロメートル × 6日 = 180キロメートル\\n\\nしたがって、サーモンは合計で180キロメートル上ったことになります。',\n",
       "  'decision': 'A',\n",
       "  'swapped_decision': 'A',\n",
       "  'verification': True},\n",
       " {'prompt': 'ある宇宙ロボット工学者が、火星探査のために新しいロボットを設計しています。このロボットは、1時間で10キロメートルの速度で移動します。もしロボットが火星の表面を30時間移動し続けた場合、ロボットは合計で何キロメートル移動することになりますか？',\n",
       "  'chosen': 'ロボットの移動速度は1時間で10キロメートルです。もしロボットが30時間移動し続けた場合、移動する距離は以下のように計算できます。\\n\\n移動距離 = 移動速度 × 移動時間\\n移動距離 = 10キロメートル/時間 × 30時間\\n移動距離 = 300キロメートル\\n\\nしたがって、ロボットは合計で300キロメートル移動することになります。',\n",
       "  'rejected': 'ロボットの移動速度は1時間で10キロメートルです。もしロボットが30時間移動し続けた場合、移動する距離は次のように計算できます。\\n\\n移動距離 = 移動速度 × 移動時間\\n\\nここで、移動速度は10キロメートル/時間、移動時間は30時間です。\\n\\n移動距離 = 10キロメートル/時間 × 30時間 = 300キロメートル\\n\\nしたがって、ロボットは合計で300キロメートル移動することになります。',\n",
       "  'decision': 'C',\n",
       "  'swapped_decision': 'C',\n",
       "  'verification': False},\n",
       " {'prompt': '環境ジャーナリストであるあなたは、オーガニック農法で作物を育てる農家を取材しています。農家は、1エーカーの土地で年間に2000ポンドのオーガニック野菜を収穫します。また、1エーカーの土地に蜂の巣箱を5つ設置すると、収穫量が10％増加します。あなたは、蜂の巣箱を3つ設置した場合の収穫量を計算したいと思っています。蜂の巣箱を3つ設置したときの収穫量は何ポンドになりますか？',\n",
       "  'chosen': 'まず、基本の収穫量を確認します。1エーカーの土地で年間に2000ポンドのオーガニック野菜が収穫されます。\\n\\n次に、蜂の巣箱を5つ設置した場合の収穫量の増加を考えます。5つの蜂の巣箱で収穫量が10%増加するため、まずその増加分を計算します。\\n\\n1. 収穫量の10%を計算します：\\n   \\\\[\\n   2000 \\\\text{ポンド} \\\\times 0.10 = 200 \\\\text{ポンド}\\n   \\\\]\\n\\n2. したがって、5つの蜂の巣箱を設置した場合の収穫量は：\\n   \\\\[\\n   2000 \\\\text{ポンド} + 200 \\\\text{ポンド} = 2200 \\\\text{ポンド}\\n   \\\\]\\n\\n次に、蜂の巣箱を3つ設置した場合の収穫量の増加を計算します。5つの蜂の巣箱での増加が10%なので、3つの蜂の巣箱では次のように増加率を求めます。3つの巣箱は5つの巣箱の60%にあたります（3/5）。\\n\\n3. したがって、3つの蜂の巣箱による増加は：\\n   \\\\[\\n   200 \\\\text{ポンド} \\\\times \\\\frac{3}{5} = 120 \\\\text{ポンド}\\n   \\\\]\\n\\n4. 最終的に、3つの蜂の巣箱を設置した場合の収穫量は：\\n   \\\\[\\n   2000 \\\\text{ポンド} + 120 \\\\text{ポンド} = 2120 \\\\text{ポンド}\\n   \\\\]\\n\\nしたがって、蜂の巣箱を3つ設置したときの収穫量は2120ポンドになります。',\n",
       "  'rejected': 'オーガニック農法で作物を育てる農家が1エーカーの土地で年間に2000ポンドのオーガニック野菜を収穫する場合、蜂の巣箱を設置することで収穫量が増加します。\\n\\n1エーカーに蜂の巣箱を5つ設置すると、収穫量が10％増加するということですので、以下のように計算します。\\n\\n1. 収穫量の10％を計算します：\\n   \\\\[\\n   2000 \\\\text{ポンド} \\\\times 0.10 = 200 \\\\text{ポンド}\\n   \\\\]\\n\\n2. 5つの蜂の巣箱を設置した場合の収穫量は：\\n   \\\\[\\n   2000 \\\\text{ポンド} + 200 \\\\text{ポンド} = 2200 \\\\text{ポンド}\\n   \\\\]\\n\\n3. 3つの蜂の巣箱を設置した場合、収穫量の増加率を計算するために、5つの蜂の巣箱での増加を3つの蜂の巣箱に比例配分します。増加量を5で割り、3を掛けます：\\n   \\\\[\\n   \\\\frac{200 \\\\text{ポンド}}{5} \\\\times 3 = 120 \\\\text{ポンド}\\n   \\\\]\\n\\n4. 3つの蜂の巣箱を設置した場合の収穫量は：\\n   \\\\[\\n   2000 \\\\text{ポンド} + 120 \\\\text{ポンド} = 2120 \\\\text{ポンド}\\n   \\\\]\\n\\nしたがって、蜂の巣箱を3つ設置した場合の収穫量は2120ポンドになります。',\n",
       "  'decision': 'B',\n",
       "  'swapped_decision': 'B',\n",
       "  'verification': True},\n",
       " {'prompt': 'ある小学校の先生が、デジタルメディアとアニメーションの授業を行っています。クラスには30人の生徒がいます。先生は、生徒たちにそれぞれ自分のアニメーション作品を作成させるために、必要なタブレットを10台用意しました。もし全ての生徒がタブレットを使うために、1台のタブレットを3人で共有する場合、何人の生徒が1台のタブレットを使うことになりますか？',\n",
       "  'chosen': '全ての生徒がタブレットを使うために、1台のタブレットを3人で共有する場合、まずは生徒の人数をタブレットの台数で割ります。\\n\\n生徒の人数は30人で、1台のタブレットを3人で共有するので、必要なタブレットの台数は以下のように計算できます。\\n\\n必要なタブレットの台数 = 生徒の人数 ÷ 1台のタブレットを使う人数\\n必要なタブレットの台数 = 30 ÷ 3 = 10台\\n\\nしたがって、10台のタブレットで全ての生徒が1台のタブレットを3人で共有することができます。\\n\\n質問に対する答えは、1台のタブレットを使うのは3人の生徒です。',\n",
       "  'rejected': '全ての生徒がタブレットを使うために、1台のタブレットを3人で共有する場合、タブレットの台数は10台です。\\n\\n1台のタブレットを3人で共有する場合、10台のタブレットで使える生徒の人数は次のように計算できます。\\n\\n10台 × 3人/台 = 30人\\n\\nしたがって、全ての生徒が1台のタブレットを使う場合、30人の生徒がいるので、全員がタブレットを使うことができます。つまり、1台のタブレットを3人で共有する場合、30人の生徒がそれぞれ1台のタブレットを使うことになります。',\n",
       "  'decision': 'B',\n",
       "  'swapped_decision': 'A',\n",
       "  'verification': False},\n",
       " {'prompt': 'ある数学の生徒が、長方形の庭を作りたいと考えています。この庭の周囲の長さは40メートルです。生徒は庭の面積を最大化したいと思っています。長方形の庭の幅をxメートルとした場合、長さはどのように表せますか？また、この庭の面積を表す式を作成してください。',\n",
       "  'chosen': '長方形の庭の周囲の長さが40メートルである場合、周の公式を使って長さと幅の関係を求めます。周の公式は以下のようになります。\\n\\n\\\\[\\n周 = 2 \\\\times (長さ + 幅)\\n\\\\]\\n\\nここで、周が40メートルなので、\\n\\n\\\\[\\n40 = 2 \\\\times (長さ + 幅)\\n\\\\]\\n\\nこの式を整理すると、\\n\\n\\\\[\\n20 = 長さ + 幅\\n\\\\]\\n\\n幅を \\\\( x \\\\) メートルとした場合、長さは次のように表せます。\\n\\n\\\\[\\n長さ = 20 - x\\n\\\\]\\n\\n次に、庭の面積 \\\\( A \\\\) を求めるための式を作成します。長方形の面積は、長さと幅の積で表されますので、\\n\\n\\\\[\\nA = 長さ \\\\times 幅\\n\\\\]\\n\\nこれに長さの表現を代入すると、\\n\\n\\\\[\\nA = (20 - x) \\\\times x\\n\\\\]\\n\\nこの式を展開すると、\\n\\n\\\\[\\nA = 20x - x^2\\n\\\\]\\n\\nしたがって、庭の面積を表す式は\\n\\n\\\\[\\nA = 20x - x^2\\n\\\\]\\n\\nとなります。',\n",
       "  'rejected': '長方形の庭の周囲の長さが40メートルであるという条件から、周囲の長さの公式を使って長さを求めることができます。\\n\\n長方形の周囲の長さは次のように表されます：\\n\\\\[\\nP = 2 \\\\times (長さ + 幅)\\n\\\\]\\nここで、周囲の長さ \\\\(P\\\\) は40メートルです。したがって、\\n\\\\[\\n40 = 2 \\\\times (長さ + 幅)\\n\\\\]\\nこの式を簡単にすると、\\n\\\\[\\n20 = 長さ + 幅\\n\\\\]\\n\\n幅を \\\\(x\\\\) メートルとした場合、長さ \\\\(L\\\\) は次のように表せます：\\n\\\\[\\nL = 20 - x\\n\\\\]\\n\\n次に、庭の面積 \\\\(A\\\\) を求める式を作成します。面積は長さと幅の積で表されるので、\\n\\\\[\\nA = 長さ \\\\times 幅 = L \\\\times x = (20 - x) \\\\times x\\n\\\\]\\n\\nこれを展開すると：\\n\\\\[\\nA = 20x - x^2\\n\\\\]\\n\\nしたがって、長方形の庭の面積を表す式は次のようになります：\\n\\\\[\\nA = 20x - x^2\\n\\\\]',\n",
       "  'decision': 'C',\n",
       "  'swapped_decision': 'C',\n",
       "  'verification': False},\n",
       " {'prompt': 'ある小学校の先生が、科学の授業で使うために色とりどりの風船を用意しました。赤い風船が6個、青い風船が4個、緑の風船が3個あります。先生は、全ての風船をクラスの子供たちに配ることにしました。風船の合計はいくつありますか？',\n",
       "  'chosen': '赤い風船が6個、青い風船が4個、緑の風船が3個ありますので、風船の合計は次のように計算します。\\n\\n赤い風船の数 + 青い風船の数 + 緑の風船の数 = 6 + 4 + 3\\n\\nこれを計算すると、\\n\\n6 + 4 = 10\\n10 + 3 = 13\\n\\nしたがって、風船の合計は13個です。',\n",
       "  'rejected': '赤い風船が6個、青い風船が4個、緑の風船が3個ありますので、合計の風船の数を計算します。\\n\\n6 (赤い風船) + 4 (青い風船) + 3 (緑の風船) = 13\\n\\nしたがって、風船の合計は13個です。',\n",
       "  'decision': 'B',\n",
       "  'swapped_decision': 'B',\n",
       "  'verification': True}]"
      ]
     },
     "execution_count": 30,
     "metadata": {},
     "output_type": "execute_result"
    }
   ],
   "source": [
    "preferences = generate_preferences(judge_llm, target_llm, questions)\n",
    "preferences"
   ]
  },
  {
   "cell_type": "markdown",
   "metadata": {},
   "source": [
    "jsonl 形式でデータを読み込み、結果を jsonl 形式で保存する関数を作成します。除外したデータは `skip_jsonl` ファイルに保存します。"
   ]
  },
  {
   "cell_type": "code",
   "execution_count": 31,
   "metadata": {},
   "outputs": [],
   "source": [
    "def run_generate_preferences(judge_llm: LanguageModel, target_llm: LanguageModel, input_jsonl: str = \"input.jsonl\", output_jsonl: str = \"output.jsonl\", skip_jsonl: str = \"skip.jsonl\") -> None:\n",
    "    questions = load_questions(input_jsonl)\n",
    "    logger.debug(f\"len(questions): {len(questions)}\")\n",
    "    preferences = generate_preferences(judge_llm, target_llm, questions)\n",
    "    logger.debug(f\"len(preferences): {len(preferences)}\")\n",
    "    with open(output_jsonl, \"w\", encoding=\"utf-8\") as f_output, open(skip_jsonl, \"w\", encoding=\"utf-8\") as f_skip:\n",
    "        for preference in preferences:\n",
    "            f = f_output if preference[\"verification\"] else f_skip\n",
    "            f.write(json.dumps(preference, ensure_ascii=False) + \"\\n\")\n",
    "            print(pp.pformat(preference)) if preference[\"verification\"] else None"
   ]
  },
  {
   "cell_type": "code",
   "execution_count": 32,
   "metadata": {},
   "outputs": [
    {
     "name": "stderr",
     "output_type": "stream",
     "text": [
      "len(questions): 10\n",
      "len(answers): 10\n",
      "decisions: ['C', 'B', 'A', 'A', 'A', 'C', 'B', 'B', 'C', 'B']\n",
      "swapped_decisions: ['C', 'A', 'C', 'A', 'C', 'C', 'B', 'A', 'C', 'B']\n",
      "verifications: [False, False, False, True, False, False, True, False, False, True]\n",
      "len(preferences): 10\n"
     ]
    },
    {
     "name": "stdout",
     "output_type": "stream",
     "text": [
      "{'chosen': '水槽の自由表面の面積は、長方形の面積を計算することで求められます。長方形の面積は、長さと幅を掛け合わせることで計算できます。\\n'\n",
      "           '\\n'\n",
      "           '与えられた情報は以下の通りです：\\n'\n",
      "           '- 長さ = 6 メートル\\n'\n",
      "           '- 幅 = 4 メートル\\n'\n",
      "           '\\n'\n",
      "           '面積 \\\\( A \\\\) は次のように計算します：\\n'\n",
      "           '\\n'\n",
      "           '\\\\[\\n'\n",
      "           'A = \\\\text{長さ} \\\\times \\\\text{幅}\\n'\n",
      "           '\\\\]\\n'\n",
      "           '\\n'\n",
      "           '\\\\[\\n'\n",
      "           'A = 6 \\\\, \\\\text{メートル} \\\\times 4 \\\\, \\\\text{メートル} = 24 \\\\, \\\\text{平方メートル}\\n'\n",
      "           '\\\\]\\n'\n",
      "           '\\n'\n",
      "           'したがって、この水槽が満水のときの水面の面積は **24 平方メートル** です。',\n",
      " 'decision': 'A',\n",
      " 'prompt': 'ある流体力学のエンジニアは、水槽の自由表面の面積を計算しています。水槽の形は長方形で、長さが6メートル、幅が4メートルです。この水槽が満水のとき、水面の面積は何平方メートルですか？',\n",
      " 'rejected': '水槽の形が長方形である場合、水面の面積は長さと幅を掛け合わせて計算します。\\n'\n",
      "             '\\n'\n",
      "             '水槽の長さは6メートル、幅は4メートルですので、\\n'\n",
      "             '\\n'\n",
      "             '面積 = 長さ × 幅 = 6メートル × 4メートル = 24平方メートル\\n'\n",
      "             '\\n'\n",
      "             'したがって、水槽が満水のとき、水面の面積は24平方メートルです。',\n",
      " 'swapped_decision': 'A',\n",
      " 'verification': True}\n",
      "{'chosen': 'まず、基本の収穫量を確認します。1エーカーの土地で年間に2000ポンドのオーガニック野菜が収穫されます。\\n'\n",
      "           '\\n'\n",
      "           '次に、蜂の巣箱を1エーカーに5つ設置すると、収穫量が10％増加することがわかっています。まず、蜂の巣箱を5つ設置した場合の収穫量を計算します。\\n'\n",
      "           '\\n'\n",
      "           '1. 収穫量の10％を計算します。\\n'\n",
      "           '   \\\\[\\n'\n",
      "           '   2000 \\\\text{ポンド} \\\\times 0.10 = 200 \\\\text{ポンド}\\n'\n",
      "           '   \\\\]\\n'\n",
      "           '\\n'\n",
      "           '2. 増加後の収穫量を計算します。\\n'\n",
      "           '   \\\\[\\n'\n",
      "           '   2000 \\\\text{ポンド} + 200 \\\\text{ポンド} = 2200 \\\\text{ポンド}\\n'\n",
      "           '   \\\\]\\n'\n",
      "           '\\n'\n",
      "           '次に、蜂の巣箱を3つ設置した場合について考えます。5つ設置した際の収穫量の増加が10％であることから、3つの場合の増加率は比例して計算します。\\n'\n",
      "           '\\n'\n",
      "           '3つの蜂の巣箱は5つの60%にあたるので、増加分は次のように計算できます。\\n'\n",
      "           '\\\\[\\n'\n",
      "           '\\\\text{増加率} = \\\\frac{3}{5} \\\\times 0.10 = 0.06 \\\\text{ (6％)}\\n'\n",
      "           '\\\\]\\n'\n",
      "           '\\n'\n",
      "           'したがって、収穫量は次のようになります。\\n'\n",
      "           '\\n'\n",
      "           '3. 収穫量の6％を計算します。\\n'\n",
      "           '   \\\\[\\n'\n",
      "           '   2000 \\\\text{ポンド} \\\\times 0.06 = 120 \\\\text{ポンド}\\n'\n",
      "           '   \\\\]\\n'\n",
      "           '\\n'\n",
      "           '4. 増加後の収穫量を計算します。\\n'\n",
      "           '   \\\\[\\n'\n",
      "           '   2000 \\\\text{ポンド} + 120 \\\\text{ポンド} = 2120 \\\\text{ポンド}\\n'\n",
      "           '   \\\\]\\n'\n",
      "           '\\n'\n",
      "           'したがって、蜂の巣箱を3つ設置したときの収穫量は **2120ポンド** になります。',\n",
      " 'decision': 'B',\n",
      " 'prompt': '環境ジャーナリストであるあなたは、オーガニック農法で作物を育てる農家を取材しています。農家は、1エーカーの土地で年間に2000ポンドのオーガニック野菜を収穫します。また、1エーカーの土地に蜂の巣箱を5つ設置すると、収穫量が10％増加します。あなたは、蜂の巣箱を3つ設置した場合の収穫量を計算したいと思っています。蜂の巣箱を3つ設置したときの収穫量は何ポンドになりますか？',\n",
      " 'rejected': 'オーガニック農法で作物を育てる農家が1エーカーの土地で年間に2000ポンドのオーガニック野菜を収穫する場合、蜂の巣箱を設置することで収穫量が増加します。\\n'\n",
      "             '\\n'\n",
      "             '1エーカーの土地に蜂の巣箱を5つ設置すると収穫量が10％増加します。この場合、収穫量の10％は次のように計算できます。\\n'\n",
      "             '\\n'\n",
      "             '1. 基本の収穫量：2000ポンド\\n'\n",
      "             '2. 10％の増加量：2000ポンド × 0.10 = 200ポンド\\n'\n",
      "             '3. 5つの蜂の巣箱を設置した場合の収穫量：2000ポンド + 200ポンド = 2200ポンド\\n'\n",
      "             '\\n'\n",
      "             '次に、蜂の巣箱を3つ設置した場合の増加率を計算します。5つの蜂の巣箱で10％の増加があるため、3つの蜂の巣箱では以下のように計算します。\\n'\n",
      "             '\\n'\n",
      "             '4. 5つの蜂の巣箱あたりの1つあたりの増加率：10％ ÷ 5 = 2％\\n'\n",
      "             '5. 3つの蜂の巣箱あたりの増加率：2％ × 3 = 6％\\n'\n",
      "             '\\n'\n",
      "             'それでは、3つの蜂の巣箱を設置した場合の収穫量を計算します。\\n'\n",
      "             '\\n'\n",
      "             '6. 6％の増加量：2000ポンド × 0.06 = 120ポンド\\n'\n",
      "             '7. 3つの蜂の巣箱を設置した場合の収穫量：2000ポンド + 120ポンド = 2120ポンド\\n'\n",
      "             '\\n'\n",
      "             'したがって、蜂の巣箱を3つ設置した場合の収穫量は2120ポンドになります。',\n",
      " 'swapped_decision': 'B',\n",
      " 'verification': True}\n",
      "{'chosen': '赤い風船が6個、青い風船が4個、緑の風船が3個ありますので、風船の合計は次のように計算できます。\\n'\n",
      "           '\\n'\n",
      "           '赤い風船の数 + 青い風船の数 + 緑の風船の数 = 6 + 4 + 3\\n'\n",
      "           '\\n'\n",
      "           'これを計算すると、\\n'\n",
      "           '\\n'\n",
      "           '6 + 4 = 10\\n'\n",
      "           '10 + 3 = 13\\n'\n",
      "           '\\n'\n",
      "           'したがって、風船の合計は13個です。',\n",
      " 'decision': 'B',\n",
      " 'prompt': 'ある小学校の先生が、科学の授業で使うために色とりどりの風船を用意しました。赤い風船が6個、青い風船が4個、緑の風船が3個あります。先生は、全ての風船をクラスの子供たちに配ることにしました。風船の合計はいくつありますか？',\n",
      " 'rejected': '赤い風船が6個、青い風船が4個、緑の風船が3個ありますので、合計の風船の数を計算します。\\n'\n",
      "             '\\n'\n",
      "             '6 (赤い風船) + 4 (青い風船) + 3 (緑の風船) = 13\\n'\n",
      "             '\\n'\n",
      "             'したがって、風船の合計は13個です。',\n",
      " 'swapped_decision': 'B',\n",
      " 'verification': True}\n"
     ]
    }
   ],
   "source": [
    "run_generate_preferences(judge_llm, target_llm, \"basic_math_mt.jsonl\", \"verified_preference.jsonl\", \"skipped_preference.jsonl\")"
   ]
  },
  {
   "cell_type": "markdown",
   "metadata": {},
   "source": [
    "位置バイアスを取り除いた選好データが `verified_preference.jsonl` に保存され、除外したデータが `skipped_preference.jsonl` に保存されます。\n",
    "\n",
    "この `verified_preference.jsonl` を使って、DPO を行い、言語モデルの性能を向上させることができます。\n",
    "\n",
    "さらに DPO で学習したモデルを使って、再度新たな選好データを合成して学習を行うことで、反復的に性能を向上させる [Iterative RLHF (Iterative DPO)](https://arxiv.org/abs/2405.07863) という手法もあります。\n"
   ]
  },
  {
   "cell_type": "markdown",
   "metadata": {},
   "source": [
    "## まとめ\n",
    "\n",
    "TODO"
   ]
  },
  {
   "cell_type": "markdown",
   "metadata": {},
   "source": [
    "## 参考文献\n",
    "\n",
    "TODO"
   ]
  }
 ],
 "metadata": {
  "kernelspec": {
   "display_name": ".venv",
   "language": "python",
   "name": "python3"
  },
  "language_info": {
   "codemirror_mode": {
    "name": "ipython",
    "version": 3
   },
   "file_extension": ".py",
   "mimetype": "text/x-python",
   "name": "python",
   "nbconvert_exporter": "python",
   "pygments_lexer": "ipython3",
   "version": "3.11.11"
  }
 },
 "nbformat": 4,
 "nbformat_minor": 2
}
