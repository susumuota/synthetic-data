{
 "cells": [
  {
   "cell_type": "markdown",
   "metadata": {},
   "source": [
    "# LLM-as-a-Judge と Iterative DPO によるプリファレンスデータ合成\n",
    "\n",
    "Susumu Ota  2025-02-02\n",
    "\n",
    "[![Open In Colab](https://colab.research.google.com/assets/colab-badge.svg)](https://colab.research.google.com/github/susumuota/synthetic-data-hands-on/blob/main/notebooks/synth_llm_judge.ipynb)\n",
    "\n",
    "Note: Google Colab でこのノートブックを実行する場合は、まず、`ファイル` メニューから `ドライブにコピーを保存` してください。その後、`ランタイム` メニューから `ランタイムのタイプを変更` を選択し、`ハードウェア アクセラレータ` で `GPU` を選択し、`保存` をクリックしてください。"
   ]
  },
  {
   "cell_type": "markdown",
   "metadata": {},
   "source": [
    "本ハンズオンでは、言語モデルを使ってプリファレンスデータ(preference data, 選好データ)を合成する方法を紹介します。\n",
    "\n",
    "まず、簡単に [Direct Preference Optimization (DPO)](https://papers.nips.cc/paper_files/paper/2023/hash/a85b405ed65c6477a4fe8302b5e06ce7-Abstract-Conference.html) と [Iterative Direct Preference Learning (Iterative DPO)](https://arxiv.org/abs/2405.07863) について説明します。次に、[LLM-as-a-Judge](https://proceedings.neurips.cc/paper_files/paper/2023/hash/91f18a1287b398d378ef22505bf41832-Abstract-Datasets_and_Benchmarks.html) 手法の解説、そしてそれらの手法を使って実際にプリファレンスデータを合成する手順を紹介します。作成したプリファレンスデータは DPO などの事後学習に利用することができます。"
   ]
  },
  {
   "cell_type": "markdown",
   "metadata": {},
   "source": [
    "## Direct Preference Optimization (DPO) とは\n",
    "\n",
    "<img src=\"https://github.com/user-attachments/assets/bba0a5d1-b6ba-4c21-aaf7-697169b85db8\" width=\"800\"><br />\n",
    "\n",
    "[Direct Preference Optimization (DPO)](https://papers.nips.cc/paper_files/paper/2023/hash/a85b405ed65c6477a4fe8302b5e06ce7-Abstract-Conference.html) は人間のプリファレンス(選好)に基づいて言語モデルを最適化する手法で、概要は以下の通りです。\n",
    "\n",
    "\n",
    "- 背景\n",
    "  - 言語モデルの振る舞いを正確に制御することが難しい\n",
    "  - 既存研究では、振る舞いを制御するために人間のフィードバックを使って強化学習を行う (Reinforcement Learning from Human Feedback, RLHF)\n",
    "  - しかし RLHF は複雑・不安定・高コスト\n",
    "- 目的\n",
    "  - 明示的な報酬モデリングや強化学習を用いずに、人間のプリファレンスに従うようにポリシーモデルを直接最適化 (実装が簡単・学習が安定・低コスト)\n",
    "- 方法\n",
    "  - プリファレンスデータを用いて、既存のRLHFアルゴリズムと同じ目的関数(KLダイバージェンス正則化付き報酬最大化)を暗黙的に最適化\n",
    "- 結果\n",
    "  - センチメント分析、要約、対話などのタスクにおいて、PPOベースのRLHFを含む既存の手法と同等以上の性能\n",
    "\n",
    "以上が、DPO の概要です。実際に、松尾研 LLM 開発プロジェクト \"Tanuki-8x8B\" の開発においても、DPO による事後学習が行われ、その当時の国内トップレベルの性能を達成しています。以下に[Someyaさんの記事 \"Tanuki-8B, 8x8B - 事後学習の軌跡\"](https://zenn.dev/matsuolab/articles/62c75674190a41)を引用します。\n",
    "\n",
    "<img src=\"https://github.com/user-attachments/assets/e83f595a-edc5-496f-9b64-01ba14482179\" width=\"600\"><br />\n",
    "\n",
    "本ハンズオンでは、上記記事中 Tanuki-8x8B の最終バージョンの DPO 実行の際に用いた以下2つのデータセットとほぼ同様の方法で、プリファレンスデータを合成します。\n",
    "\n",
    "> - synth-dpo-basic-reasoning-nemotron-4: 10000 samples\n",
    ">   - Tanuki-8BのSFTモデルに推論問題の回答を複数生成させ、Nemotron-4で好ましい回答を判定させたもの\n",
    "> - synth-dpo-basic-math-nemotron-4: 10000 samples\n",
    ">   - Tanuki-8BのSFTモデルに計算問題の回答を複数生成させ、Nemotron-4で好ましい回答を判定させたもの\n",
    "\n",
    "プリファレンスデータとは、\n",
    "\n",
    "- prompt: ユーザからの質問や指示\n",
    "- chosen: 好ましい応答\n",
    "- rejected: 好ましくない応答\n",
    "\n",
    "を集めたデータセットです。例えば、以下のようなデータがプリファレンスデータとして用いられます。\n",
    "\n",
    "- アライメント性能を改善したい場合\n",
    "\n",
    "```python\n",
    "{\n",
    "    \"prompt\": \"爆弾の作り方をおしえてください。\",\n",
    "    \"chosen\": \"危険な行為ですのでやめましょう。\",\n",
    "    \"rejected\": \"まず、〇〇を用意して...\",\n",
    "}\n",
    "```\n",
    "\n",
    "- 数学問題の推論能力を向上させたい場合\n",
    "\n",
    "```python\n",
    "{\n",
    "    \"prompt\": \"太郎は八百屋でりんごとみかんを合計10個買いました。りんごは1個200円で...\",\n",
    "    \"chosen\": \"ステップバイステップで考えてみましょう。まず、りんごは...\",\n",
    "    \"rejected\": \"200 * x + ...\",\n",
    "}\n",
    "```\n",
    "\n",
    "というようなプリファレンスデータを作成します。\n",
    "\n",
    "一般に、プリファレンスデータを作成するためには、人間がプリファレンスを人手で作成する必要があります。しかし、人間が大量のデータを作成するのは困難ですので、今回は [LLM-as-a-Judge](https://proceedings.neurips.cc/paper_files/paper/2023/hash/91f18a1287b398d378ef22505bf41832-Abstract-Datasets_and_Benchmarks.html) という手法により、言語モデルを使ってプリファレンスデータを合成します。\n",
    "\n",
    "今回は、より効果的に言語モデルの性能を向上するために、反復的にプリファレンスデータの作成と DPO 実行を行う [Iterative Direct Preference Learning (Iterative DPO)](https://arxiv.org/abs/2405.07863) という手法を一部を簡略化して実装します。"
   ]
  },
  {
   "cell_type": "markdown",
   "metadata": {},
   "source": [
    "## Iterative Direct Preference Learning (Iterative DPO) とは\n",
    "\n",
    "本ハンズオンでは、[Iterative Direct Preference Learning (Iterative DPO)](https://arxiv.org/abs/2405.07863) 手法により、言語モデルを使ってプリファレンスデータを合成します。\n",
    "\n",
    "<img src=\"https://github.com/user-attachments/assets/12018455-2823-4f03-ac05-9562091b2b5b\" width=\"800\"><br />\n",
    "\n",
    "この手法は DPO の実行とプリファレンスデータの合成を反復的に繰り返すことで、言語モデルの性能を向上させることができます。具体的な手順は以下の通りです。本ハンズオンでは、この手法を一部簡略化しています。括弧内に記載されている部分が簡略化した内容です。\n",
    "\n",
    "- ターゲットとなる言語モデルにプロンプトを入力し、複数の応答をサンプリング (**今回は `n=2`**)\n",
    "- 報酬モデルを使って、サンプリングした応答を評価 (**今回は報酬モデルの代わりに LLM-as-a-Judge を使う**)\n",
    "- 高評価のものを chosen、低評価のものを rejected としてプリファレンスデデータを合成\n",
    "- DPO を実行して言語モデルを最適化\n",
    "- 最初に戻る\n",
    "\n",
    "このステップを反復的に繰り返すことで、言語モデルの性能を徐々に向上させることが出来ると報告されています。\n",
    "\n",
    "<img src=\"https://github.com/user-attachments/assets/64700f0c-c56f-40f3-a39e-4852c751347b\" width=\"600\"><br />\n",
    "\n",
    "なお、このハンズオンでは、上記ステップのうち、プリファレンスデータの合成までを紹介します。DPO の実行方法は、[勉強会の過去回](https://www.youtube.com/watch?v=ezNx6tB8jac)や、[knishimae さんの記事](https://zenn.dev/matsuolab/articles/62d99af24ff89a)を参照してください。"
   ]
  },
  {
   "cell_type": "markdown",
   "metadata": {},
   "source": [
    "## LLM-as-a-Judge 手法の概要\n",
    "\n",
    "プリファレンスデータを作成するために、ターゲットとなる言語モデルにプロンプトを入力し、2個の応答をサンプリングで生成します。その後、サンプリングした応答を評価するために、LLM-as-a-Judge ([元論文](https://proceedings.neurips.cc/paper_files/paper/2023/hash/91f18a1287b398d378ef22505bf41832-Abstract-Datasets_and_Benchmarks.html), [サーベイ プレプリント](https://arxiv.org/abs/2411.15594)) 手法を使います。ここでは LLM-as-a-Judge 手法の概要を紹介します。\n",
    "\n",
    "- 背景\n",
    "  - 正確で一貫性のある評価は、様々な分野での意思決定において重要であるが、内在的な主観性・ばらつき・スケールが存在するため困難なタスク\n",
    "- 目的\n",
    "  - 従来の人手(専門家)の評価に代わり、言語モデルで多様なタイプのデータを処理し、スケーラブルでコスト効率に優れ一貫性のある評価を提供\n",
    "- 方法\n",
    "  - 言語モデルを評価者として利用し3種類の判定方法を提案\n",
    "    - ペアワイズ比較: 質問と2つの応答を提示し、どちらが優れているか、または同点を判定\n",
    "    - 単一解答の採点: 1つの応答に直接得点を割り当てる\n",
    "    - リファレンス付き採点: リファレンスとなる応答を提示し、その上でペアワイズ比較や単一解答の採点を行う\n",
    "- 結果\n",
    "  - GPT-4 による判定は人間の評価と85%の割合で一致し、人間-人間の結果81%と同程度の一致率を達成\n",
    "  - 位置バイアス(position bias)、冗長性バイアス(verbosity bias)、自己強化バイアス(self-enhancement bias)、数学や推論能力の限界などの問題点\n",
    "\n",
    "以下の図は、ペアワイズ比較のプロンプト例で、今回はこちらのプロンプトを使ってプリファレンスデータを合成します。\n",
    "\n",
    "<img src=\"https://github.com/user-attachments/assets/12111a26-50c8-439c-a23a-ae7240c259bc\" width=\"800\"><br />\n",
    "\n",
    "以下の図は、6つの言語モデル(ターゲット言語モデル)を対象として、様々な3つの裁判官言語モデルと人手で判定した結果です。人間と比べると、特定のモデルを好む裁判官言語モデルがあることが明らかになりました。例えば、人間の評価と比べて、GPT-4は自分の勝率を10%高く、Claude-v1は自分の勝率を25%高く評価する傾向があります(自己強化バイアス, self-enhancement bias の可能性)。\n",
    "\n",
    "<img src=\"https://github.com/user-attachments/assets/853e351d-f35b-41f3-be28-29426feede89\" width=\"800\"><br />\n",
    "\n",
    "以下の表は、GPT-4 による判定は人間の評価と85%の割合で一致し、人間-人間の結果81%と同程度の一致率を達成したことを示しています。\n",
    "\n",
    "<img src=\"https://github.com/user-attachments/assets/12c28e36-cce5-4361-b32f-72ccae8ef5f4\" width=\"800\"><br />\n",
    "\n",
    "なお、位置バイアス(position bias)については、後ほど紹介します。"
   ]
  },
  {
   "cell_type": "markdown",
   "metadata": {},
   "source": [
    "## 準備\n",
    "\n",
    "準備については、[Persona-Hub による事後学習データ合成](https://github.com/susumuota/synthetic-data-hands-on/blob/main/notebooks/synth_persona.ipynb)ハンズオンの内容とほぼ同じですのでそちらの資料を参照してください。"
   ]
  },
  {
   "cell_type": "markdown",
   "metadata": {},
   "source": [
    "### トークンと API キーの設定"
   ]
  },
  {
   "cell_type": "code",
   "execution_count": 1,
   "metadata": {},
   "outputs": [],
   "source": [
    "if str(get_ipython()).startswith(\"<google.colab\"):  # if this notebook is running in Google Colab  # type: ignore\n",
    "    import os\n",
    "    from google.colab import userdata  # type: ignore\n",
    "\n",
    "    os.environ[\"HF_TOKEN\"] = userdata.get(\"HF_TOKEN\")\n",
    "    os.environ[\"OPENAI_API_KEY\"] = userdata.get(\"OPENAI_API_KEY\")\n",
    "    # os.environ[\"NVIDIA_NIM_API_KEY\"] = userdata.get(\"NVIDIA_NIM_API_KEY\")"
   ]
  },
  {
   "cell_type": "markdown",
   "metadata": {},
   "source": [
    "### モジュールのインストール\n",
    "\n",
    "コメントアウトを外して実行してください。"
   ]
  },
  {
   "cell_type": "code",
   "execution_count": 2,
   "metadata": {},
   "outputs": [],
   "source": [
    "# %pip install datasets\n",
    "# %pip install litellm\n",
    "# %pip install pandas\n",
    "# %pip install tqdm\n",
    "\n",
    "# %pip install vllm"
   ]
  },
  {
   "cell_type": "markdown",
   "metadata": {},
   "source": [
    "### モジュールのインポート"
   ]
  },
  {
   "cell_type": "code",
   "execution_count": 3,
   "metadata": {},
   "outputs": [
    {
     "name": "stderr",
     "output_type": "stream",
     "text": [
      "/Users/ota/Documents/python/synthetic-data-hands-on/.venv/lib/python3.11/site-packages/tqdm/auto.py:21: TqdmWarning: IProgress not found. Please update jupyter and ipywidgets. See https://ipywidgets.readthedocs.io/en/stable/user_install.html\n",
      "  from .autonotebook import tqdm as notebook_tqdm\n",
      "/Users/ota/Documents/python/synthetic-data-hands-on/.venv/lib/python3.11/site-packages/pydantic/_internal/_config.py:345: UserWarning: Valid config keys have changed in V2:\n",
      "* 'fields' has been removed\n",
      "  warnings.warn(message, UserWarning)\n"
     ]
    },
    {
     "name": "stdout",
     "output_type": "stream",
     "text": [
      "No vllm module found. You can only use the LiteLLM.\n"
     ]
    }
   ],
   "source": [
    "from abc import ABC, abstractmethod\n",
    "import json\n",
    "from logging import DEBUG, INFO, StreamHandler, getLogger  # noqa: F401\n",
    "import pprint\n",
    "\n",
    "\n",
    "from datasets import load_dataset\n",
    "from litellm import batch_completion\n",
    "import pandas as pd\n",
    "from tqdm import tqdm\n",
    "\n",
    "try:\n",
    "    from vllm import LLM, SamplingParams  # type: ignore\n",
    "except ImportError:\n",
    "    print(\"No vllm module found. You can only use the LiteLLM.\")"
   ]
  },
  {
   "cell_type": "markdown",
   "metadata": {},
   "source": [
    "### ログの設定"
   ]
  },
  {
   "cell_type": "code",
   "execution_count": 4,
   "metadata": {},
   "outputs": [],
   "source": [
    "logging_level = DEBUG\n",
    "# logging_level = INFO  # uncomment if you want to see less output\n",
    "logger = getLogger(__name__)\n",
    "logger.setLevel(logging_level)\n",
    "handler = StreamHandler()\n",
    "handler.setLevel(logging_level)\n",
    "logger.addHandler(handler)\n",
    "\n",
    "pp = pprint.PrettyPrinter(width=100)"
   ]
  },
  {
   "cell_type": "markdown",
   "metadata": {},
   "source": [
    "### 言語モデルの設定\n",
    "\n",
    "`n` というパラメータを追加して、一つのプロンプトに対して複数の結果を生成するよう変更しました。結果出力もリストのリストに変更となります。 `# changed` というコメントがある行が変更された行です。"
   ]
  },
  {
   "cell_type": "code",
   "execution_count": 5,
   "metadata": {},
   "outputs": [],
   "source": [
    "class LanguageModel(ABC):\n",
    "    def __init__(self, model: str, temperature=1.0, max_tokens=16, seed=None, n=None):  # changed\n",
    "        self.model = model\n",
    "        self.temperature = temperature\n",
    "        self.max_tokens = max_tokens\n",
    "        self.seed = seed\n",
    "        self.n = n  # changed\n",
    "        logger.debug(f\"model: {model}, temperature: {temperature}, max_tokens: {max_tokens}, seed: {seed}, n: {n}\")  # changed\n",
    "\n",
    "    @abstractmethod\n",
    "    def __call__(self, messages_batch: list[list[dict[str, str]]]) -> list[list[str]]:  # changed\n",
    "        pass\n",
    "\n",
    "\n",
    "class LiteLLMModel(LanguageModel):\n",
    "    def __init__(self, model: str, temperature=1.0, max_tokens=16, seed=None, n=None):  # changed\n",
    "        super().__init__(model, temperature, max_tokens, seed, n)  # changed\n",
    "\n",
    "    def __call__(self, messages_batch: list[list[dict[str, str]]]) -> list[list[str]]:  # changed\n",
    "        contents = [\n",
    "            [choice.message.content for choice in response.choices]  # changed\n",
    "            for response in batch_completion(\n",
    "                model=self.model,\n",
    "                messages=messages_batch,\n",
    "                temperature=self.temperature,\n",
    "                max_tokens=self.max_tokens,\n",
    "                seed=self.seed,\n",
    "                n=self.n,  # changed\n",
    "            )\n",
    "        ]\n",
    "        assert len(contents) == len(messages_batch)\n",
    "        return contents\n",
    "\n",
    "\n",
    "class VLLMModel(LanguageModel):\n",
    "    def __init__(self, model: str, temperature=1.0, max_tokens=16, seed=None, n=None, dtype=\"auto\", stop=None):  # changed\n",
    "        super().__init__(model, temperature, max_tokens, seed, n)  # changed\n",
    "        self.dtype = dtype\n",
    "        self.stop = stop\n",
    "        self.vllm = LLM(model, dtype=dtype)  # dtype must be \"half\" to run on Colab T4\n",
    "        self.tokenizer = self.vllm.get_tokenizer()\n",
    "\n",
    "    def __call__(self, messages_batch: list[list[dict[str, str]]]) -> list[list[str]]:  # changed\n",
    "        sampling_params = SamplingParams(\n",
    "            temperature=self.temperature, max_tokens=self.max_tokens, seed=self.seed, n=self.n, stop=self.stop  # changed\n",
    "        )\n",
    "        prompts = [\n",
    "            self.tokenizer.apply_chat_template(messages, tokenize=False, add_generation_prompt=True)\n",
    "            for messages in messages_batch\n",
    "        ]\n",
    "        outputs = self.vllm.generate(prompts, sampling_params=sampling_params, use_tqdm=False)\n",
    "        contents = [\n",
    "            [oo.text for oo in o.outputs]  # changed\n",
    "            for o in outputs\n",
    "        ]\n",
    "        assert len(contents) == len(messages_batch)\n",
    "        return contents"
   ]
  },
  {
   "cell_type": "markdown",
   "metadata": {},
   "source": [
    "## プロンプトの読み込み\n",
    "\n",
    "プロンプトは事前に用意したものを利用します。以下 URL からダウンロードします。"
   ]
  },
  {
   "cell_type": "code",
   "execution_count": 6,
   "metadata": {},
   "outputs": [
    {
     "name": "stdout",
     "output_type": "stream",
     "text": [
      "--2025-02-02 14:18:18--  https://raw.githubusercontent.com/susumuota/synthetic-data-hands-on/refs/heads/main/notebooks/basic_math_mt.jsonl\n",
      "raw.githubusercontent.com (raw.githubusercontent.com) をDNSに問いあわせています... 185.199.109.133, 185.199.110.133, 185.199.111.133, ...\n",
      "raw.githubusercontent.com (raw.githubusercontent.com)|185.199.109.133|:443 に接続しています... 接続しました。\n",
      "HTTP による接続要求を送信しました、応答を待っています... 200 OK\n",
      "長さ: 12635 (12K) [text/plain]\n",
      "`basic_math_mt.jsonl.1' に保存中\n",
      "\n",
      "basic_math_mt.jsonl 100%[===================>]  12.34K  --.-KB/s 時間 0.001s     \n",
      "\n",
      "2025-02-02 14:18:18 (19.3 MB/s) - `basic_math_mt.jsonl.1' へ保存完了 [12635/12635]\n",
      "\n"
     ]
    }
   ],
   "source": [
    "!wget https://raw.githubusercontent.com/susumuota/synthetic-data-hands-on/refs/heads/main/notebooks/basic_math_mt.jsonl"
   ]
  },
  {
   "cell_type": "markdown",
   "metadata": {},
   "source": [
    "ここでは、Persona-Hub のハンズオンで作成したマルチターンの対話データから最初の質問 `Q1` だけを取り出しプロンプトとします。"
   ]
  },
  {
   "cell_type": "code",
   "execution_count": 7,
   "metadata": {},
   "outputs": [
    {
     "data": {
      "text/plain": [
       "['ニュー・ジャージー・パインバレンズの生態系を研究している植物研究者がいます。彼は、特定の植物のサンプルを集めるために、5つの異なる地点を訪れました。各地点で、彼は次のように植物を収集しました：地点Aで12本、地点Bで15本、地点Cで8本、地点Dで10本、地点Eで9本です。彼が集めた植物の総数はいくつですか？',\n",
       " 'ある博物館で、古代の節足動物の化石が展示されています。展示されている化石は、クモが10体、サソリが15体、エビが20体です。博物館の見学者がそれぞれの種類の化石を見学した後、クモの化石を見た見学者の数がサソリの化石を見た見学者の数よりも2倍多いとします。クモの化石を見た見学者が20人だった場合、サソリの化石を見た見学者は何人ですか？',\n",
       " 'あるプログラミング言語の研究者が、数値計算のアルゴリズムをテストするために、10個の異なる入力データセットを用意しました。彼は各データセットに対して3つの異なるアルゴリズムを試すことにしました。全てのデータセットとアルゴリズムの組み合わせを考えると、彼は合計で何回テストを実施することになりますか？',\n",
       " 'ある流体力学のエンジニアは、水槽の自由表面の面積を計算しています。水槽の形は長方形で、長さが6メートル、幅が4メートルです。この水槽が満水のとき、水面の面積は何平方メートルですか？',\n",
       " 'ある年、サーモンが川を遡上するために、1日あたり30キロメートル進みました。サーモンが川を上り始めてから、合計で6日間進みました。サーモンは合計で何キロメートル上ったでしょうか？',\n",
       " 'ある宇宙ロボット工学者が、火星探査のために新しいロボットを設計しています。このロボットは、1時間で10キロメートルの速度で移動します。もしロボットが火星の表面を30時間移動し続けた場合、ロボットは合計で何キロメートル移動することになりますか？',\n",
       " '環境ジャーナリストであるあなたは、オーガニック農法で作物を育てる農家を取材しています。農家は、1エーカーの土地で年間に2000ポンドのオーガニック野菜を収穫します。また、1エーカーの土地に蜂の巣箱を5つ設置すると、収穫量が10％増加します。あなたは、蜂の巣箱を3つ設置した場合の収穫量を計算したいと思っています。蜂の巣箱を3つ設置したときの収穫量は何ポンドになりますか？',\n",
       " 'ある小学校の先生が、デジタルメディアとアニメーションの授業を行っています。クラスには30人の生徒がいます。先生は、生徒たちにそれぞれ自分のアニメーション作品を作成させるために、必要なタブレットを10台用意しました。もし全ての生徒がタブレットを使うために、1台のタブレットを3人で共有する場合、何人の生徒が1台のタブレットを使うことになりますか？',\n",
       " 'ある数学の生徒が、長方形の庭を作りたいと考えています。この庭の周囲の長さは40メートルです。生徒は庭の面積を最大化したいと思っています。長方形の庭の幅をxメートルとした場合、長さはどのように表せますか？また、この庭の面積を表す式を作成してください。',\n",
       " 'ある小学校の先生が、科学の授業で使うために色とりどりの風船を用意しました。赤い風船が6個、青い風船が4個、緑の風船が3個あります。先生は、全ての風船をクラスの子供たちに配ることにしました。風船の合計はいくつありますか？']"
      ]
     },
     "execution_count": 7,
     "metadata": {},
     "output_type": "execute_result"
    }
   ],
   "source": [
    "dataset = load_dataset(\"json\", data_files=\"basic_math_mt.jsonl\", name=\"default\", split=\"train\", cache_dir=\"cache\")\n",
    "batch = pd.DataFrame(dataset).to_dict(orient=\"records\")  # convert column-wise to row-wise\n",
    "questions = [b[\"messages\"][0][\"content\"] for b in batch]\n",
    "questions"
   ]
  },
  {
   "cell_type": "markdown",
   "metadata": {},
   "source": [
    "## サンプリングで 1個の質問から2個の異なる解答を生成"
   ]
  },
  {
   "cell_type": "markdown",
   "metadata": {},
   "source": [
    "### 温度パラメータの探索\n",
    "\n",
    "サンプリングで1個の質問に対して2個の異なる解答を生成します。ただし、解答が同じにならないように温度パラメータを調整します。以下のような方針で探索を行います。\n",
    "\n",
    "- 1個の質問から2個の解答を生成\n",
    "- 生成された2個の解答を比較\n",
    "- 2個の解答が異なっていたらOK\n",
    "- もし一致していたらNG、温度を少し上げて再度解答を生成"
   ]
  },
  {
   "cell_type": "markdown",
   "metadata": {},
   "source": [
    "現在学習しようとしている言語モデル(`target_llm`)を初期化します(裁判官言語モデルとは別)。必ず `n=2` としてください。\n",
    "\n",
    "`target_llm` は現在学習をしようとしているモデルですので、必ずしも高度な言語モデルである必要はありません。"
   ]
  },
  {
   "cell_type": "code",
   "execution_count": 8,
   "metadata": {},
   "outputs": [
    {
     "name": "stderr",
     "output_type": "stream",
     "text": [
      "model: gpt-4o-mini, temperature: 0.7, max_tokens: 512, seed: 0, n: 2\n"
     ]
    },
    {
     "data": {
      "text/plain": [
       "<__main__.LiteLLMModel at 0x11bd81250>"
      ]
     },
     "execution_count": 8,
     "metadata": {},
     "output_type": "execute_result"
    }
   ],
   "source": [
    "target_llm = LiteLLMModel(\"gpt-4o-mini\", temperature=0.7, max_tokens=512, seed=0, n=2)  # OPENAI_API_KEY\n",
    "# target_llm = LiteLLMModel(\"nvidia_nim/nvidia/nemotron-4-340b-instruct\", temperature=0.7, max_tokens=512, seed=None, n=2)  # NVIDIA_NIM_API_KEY\n",
    "# target_llm = VLLMModel(\"marcsun13/gemma-2-9b-it-GPTQ\", temperature=0.7, max_tokens=512, seed=0, n=2)  # for Colab T4\n",
    "# target_llm = VLLMModel(\"team-hatakeyama-phase2/Tanuki-8B-dpo-v1.0-GPTQ-8bit\", temperature=0.7, max_tokens=512, seed=0, n=2)  # for Colab T4\n",
    "# target_llm = VLLMModel(\"cyberagent/calm3-22b-chat\", temperature=0.7, max_tokens=512, seed=0, n=2)  # for A100?\n",
    "\n",
    "target_llm"
   ]
  },
  {
   "cell_type": "markdown",
   "metadata": {},
   "source": [
    "動作確認しておきます。"
   ]
  },
  {
   "cell_type": "code",
   "execution_count": 9,
   "metadata": {},
   "outputs": [
    {
     "data": {
      "text/plain": [
       "[['Hello! How can I assist you today?', 'Hello! How can I assist you today?']]"
      ]
     },
     "execution_count": 9,
     "metadata": {},
     "output_type": "execute_result"
    }
   ],
   "source": [
    "target_llm([[{\"role\": \"user\", \"content\": \"Hello?\"}]])"
   ]
  },
  {
   "cell_type": "markdown",
   "metadata": {},
   "source": [
    "下のセルの `target_llm.temperature = 0.7` の部分を低い温度から始めて、全ての解答が異なるまで温度を徐々に上げて最適な `temperature` を探してください。上げすぎるとハルシネーションを起こしたり、文が破綻するので注意してください。\n",
    "\n",
    "以下のセルを何度か手動で実行してみて、`differences` の要素がほとんど True になることを確認してください。多少 False が出力されても問題ありませんが、False が多い場合は温度を調整してください。"
   ]
  },
  {
   "cell_type": "code",
   "execution_count": 10,
   "metadata": {},
   "outputs": [
    {
     "data": {
      "text/plain": [
       "(True, [True, True, True, True, True, True, True, True, True, True])"
      ]
     },
     "execution_count": 10,
     "metadata": {},
     "output_type": "execute_result"
    }
   ],
   "source": [
    "target_llm.temperature = 0.7\n",
    "target_llm.n = 2\n",
    "\n",
    "answers = target_llm([[{\"role\": \"user\", \"content\": question}] for question in questions])\n",
    "\n",
    "differences = [answer[0] != answer[1] for answer in answers]\n",
    "all(differences), differences"
   ]
  },
  {
   "cell_type": "markdown",
   "metadata": {},
   "source": [
    "ここでは `temperature` を `0.7` 程度に設定していますが、最適な `temperature` は言語モデルによって異なります。\n",
    "\n",
    "Note: [vLLM の推論オプション](https://docs.vllm.ai/en/stable/api/inference_params.html)で `best_of` というパラメータがあります。これは複数のサンプリング結果から、最もスコアの高い `n` 個の応答を選択するためのオプションです。例えば、`best_of=4`, `n=2` とすると、4個のサンプリング結果から最もスコアの良い2個の応答を選択します(その分推論コストは増えます)。このオプションを使うことで、より効果的な結果を得られる可能性があります。`Tanuki-8x8B` 開発の際は `best_of=4`, `n=2` としてサンプリングし、スコア上位2個の応答を使いましたが、例えば `best_of=4`, `n=4` として、最もスコアの高い応答と最も低い応答をペアにするという方法も考えられます。もし `best_of` を使いたい場合は、`VLLMModel` を修正して `best_of` を指定してください。"
   ]
  },
  {
   "cell_type": "markdown",
   "metadata": {},
   "source": [
    "### サンプリングで解答を2個生成\n",
    "\n",
    "以下のような関数で解答を2個生成します。"
   ]
  },
  {
   "cell_type": "code",
   "execution_count": 11,
   "metadata": {},
   "outputs": [],
   "source": [
    "def generate_answers(llm: LanguageModel, questions: list[str]) -> list[str]:\n",
    "    llm.n = 2\n",
    "    answers = llm([[{\"role\": \"user\", \"content\": question}] for question in questions])\n",
    "    return [\n",
    "        {\"question\": question, \"answer_a\": answer[0], \"answer_b\": answer[1]}\n",
    "        for question, answer in zip(questions, answers)\n",
    "    ]"
   ]
  },
  {
   "cell_type": "markdown",
   "metadata": {},
   "source": [
    "実行して確認します。"
   ]
  },
  {
   "cell_type": "code",
   "execution_count": 12,
   "metadata": {},
   "outputs": [
    {
     "data": {
      "text/plain": [
       "[{'question': 'ニュー・ジャージー・パインバレンズの生態系を研究している植物研究者がいます。彼は、特定の植物のサンプルを集めるために、5つの異なる地点を訪れました。各地点で、彼は次のように植物を収集しました：地点Aで12本、地点Bで15本、地点Cで8本、地点Dで10本、地点Eで9本です。彼が集めた植物の総数はいくつですか？',\n",
       "  'answer_a': '植物研究者が集めた植物の総数を計算するために、各地点での植物の本数を足します。\\n\\n地点A: 12本  \\n地点B: 15本  \\n地点C: 8本  \\n地点D: 10本  \\n地点E: 9本  \\n\\nこれらを合計すると、\\n\\n12 + 15 + 8 + 10 + 9 = 54\\n\\nしたがって、彼が集めた植物の総数は54本です。',\n",
       "  'answer_b': '植物研究者が集めた植物の総数を求めるために、各地点で収集した植物の本数を足し合わせます。\\n\\n地点A: 12本  \\n地点B: 15本  \\n地点C: 8本  \\n地点D: 10本  \\n地点E: 9本  \\n\\nこれらを合計すると、\\n\\n12 + 15 + 8 + 10 + 9 = 54\\n\\nしたがって、彼が集めた植物の総数は54本です。'},\n",
       " {'question': 'ある博物館で、古代の節足動物の化石が展示されています。展示されている化石は、クモが10体、サソリが15体、エビが20体です。博物館の見学者がそれぞれの種類の化石を見学した後、クモの化石を見た見学者の数がサソリの化石を見た見学者の数よりも2倍多いとします。クモの化石を見た見学者が20人だった場合、サソリの化石を見た見学者は何人ですか？',\n",
       "  'answer_a': 'クモの化石を見た見学者の数が20人であるとします。問題によれば、クモの化石を見た見学者の数はサソリの化石を見た見学者の数の2倍多いとされています。\\n\\nしたがって、サソリの化石を見た見学者の数を \\\\( x \\\\) 人とすると、次のような関係式が成り立ちます。\\n\\n\\\\[\\n20 = 2x\\n\\\\]\\n\\nこの式を解くと、両辺を2で割ります。\\n\\n\\\\[\\nx = \\\\frac{20}{2} = 10\\n\\\\]\\n\\nしたがって、サソリの化石を見た見学者の数は10人です。',\n",
       "  'answer_b': 'クモの化石を見た見学者の数が20人で、これがサソリの化石を見た見学者の数の2倍多いとします。\\n\\nクモの化石を見た見学者の数を \\\\( S \\\\) とし、サソリの化石を見た見学者の数を \\\\( S_c \\\\) とした場合、以下の関係が成り立ちます。\\n\\n\\\\[\\nS = S_c + 2\\n\\\\]\\n\\nここで、与えられた情報から \\\\( S = 20 \\\\) です。\\n\\nこれを式に代入すると、\\n\\n\\\\[\\n20 = S_c + 2\\n\\\\]\\n\\nこの式を \\\\( S_c \\\\) について解くと、\\n\\n\\\\[\\nS_c = 20 - 2 = 18\\n\\\\]\\n\\nしたがって、サソリの化石を見た見学者の数は18人です。'},\n",
       " {'question': 'あるプログラミング言語の研究者が、数値計算のアルゴリズムをテストするために、10個の異なる入力データセットを用意しました。彼は各データセットに対して3つの異なるアルゴリズムを試すことにしました。全てのデータセットとアルゴリズムの組み合わせを考えると、彼は合計で何回テストを実施することになりますか？',\n",
       "  'answer_a': '研究者は10個の異なる入力データセットと3つの異なるアルゴリズムを用意しています。全てのデータセットとアルゴリズムの組み合わせを考えると、テストの総回数は次のように計算できます。\\n\\nテストの総回数 = データセットの数 × アルゴリズムの数\\n\\nこれを具体的に計算すると、\\n\\nテストの総回数 = 10 × 3 = 30\\n\\nしたがって、彼は合計で30回のテストを実施することになります。',\n",
       "  'answer_b': '研究者は10個の異なる入力データセットに対して3つの異なるアルゴリズムを試すことにしています。全てのデータセットとアルゴリズムの組み合わせを考えると、テストの総回数は次のように計算できます。\\n\\nテストの総回数 = データセットの数 × アルゴリズムの数\\n\\n具体的には、\\n\\nテストの総回数 = 10（データセットの数） × 3（アルゴリズムの数） = 30\\n\\nしたがって、彼は合計で30回のテストを実施することになります。'},\n",
       " {'question': 'ある流体力学のエンジニアは、水槽の自由表面の面積を計算しています。水槽の形は長方形で、長さが6メートル、幅が4メートルです。この水槽が満水のとき、水面の面積は何平方メートルですか？',\n",
       "  'answer_a': '水槽の自由表面の面積は、長方形の面積を計算することで求めることができます。長方形の面積は以下の式で計算されます。\\n\\n\\\\[\\n面積 = 長さ \\\\times 幅\\n\\\\]\\n\\nこの水槽の場合、長さは6メートル、幅は4メートルですので、計算します。\\n\\n\\\\[\\n面積 = 6 \\\\, \\\\text{m} \\\\times 4 \\\\, \\\\text{m} = 24 \\\\, \\\\text{m}^2\\n\\\\]\\n\\nしたがって、水槽が満水のときの水面の面積は **24平方メートル** です。',\n",
       "  'answer_b': '水槽の形が長方形である場合、水面の面積は長さと幅を掛け合わせて計算します。\\n\\n水槽の長さは6メートル、幅は4メートルですので、\\n\\n面積 = 長さ × 幅 = 6メートル × 4メートル = 24平方メートル\\n\\nしたがって、水槽が満水のとき、水面の面積は24平方メートルです。'},\n",
       " {'question': 'ある年、サーモンが川を遡上するために、1日あたり30キロメートル進みました。サーモンが川を上り始めてから、合計で6日間進みました。サーモンは合計で何キロメートル上ったでしょうか？',\n",
       "  'answer_a': 'サーモンが1日あたり30キロメートル進み、6日間進んだ場合の合計距離は以下のように計算できます。\\n\\n1日の距離: 30キロメートル  \\n進んだ日数: 6日  \\n\\n合計距離 = 1日の距離 × 進んだ日数  \\n合計距離 = 30キロメートル × 6日 = 180キロメートル\\n\\nしたがって、サーモンは合計で180キロメートル上ったことになります。',\n",
       "  'answer_b': 'サーモンが1日あたり30キロメートル進み、6日間進んだ場合、合計の距離は次のように計算できます。\\n\\n1日の進む距離 × 日数 = 合計距離\\n\\n30キロメートル × 6日 = 180キロメートル\\n\\nしたがって、サーモンは合計で180キロメートル上ったことになります。'},\n",
       " {'question': 'ある宇宙ロボット工学者が、火星探査のために新しいロボットを設計しています。このロボットは、1時間で10キロメートルの速度で移動します。もしロボットが火星の表面を30時間移動し続けた場合、ロボットは合計で何キロメートル移動することになりますか？',\n",
       "  'answer_a': 'ロボットの移動速度は1時間で10キロメートルです。もしロボットが30時間移動し続けた場合、移動する距離は次のように計算できます。\\n\\n移動距離 = 移動速度 × 移動時間\\n\\nここで、移動速度は10キロメートル/時間、移動時間は30時間です。\\n\\n移動距離 = 10キロメートル/時間 × 30時間 = 300キロメートル\\n\\nしたがって、ロボットは合計で300キロメートル移動することになります。',\n",
       "  'answer_b': 'ロボットの移動速度は1時間で10キロメートルです。もしロボットが30時間移動し続けた場合、移動する距離は以下のように計算できます。\\n\\n移動距離 = 移動速度 × 移動時間\\n移動距離 = 10キロメートル/時間 × 30時間\\n移動距離 = 300キロメートル\\n\\nしたがって、ロボットは合計で300キロメートル移動することになります。'},\n",
       " {'question': '環境ジャーナリストであるあなたは、オーガニック農法で作物を育てる農家を取材しています。農家は、1エーカーの土地で年間に2000ポンドのオーガニック野菜を収穫します。また、1エーカーの土地に蜂の巣箱を5つ設置すると、収穫量が10％増加します。あなたは、蜂の巣箱を3つ設置した場合の収穫量を計算したいと思っています。蜂の巣箱を3つ設置したときの収穫量は何ポンドになりますか？',\n",
       "  'answer_a': 'オーガニック農法で作物を育てる農家が1エーカーの土地で年間に2000ポンドのオーガニック野菜を収穫する場合、蜂の巣箱を設置することで収穫量が増加します。\\n\\n1エーカーに蜂の巣箱を5つ設置すると収穫量が10%増加します。したがって、蜂の巣箱1つあたりの増加率は次のように計算できます。\\n\\n- 5つの蜂の巣箱で10%増加 → 1つの蜂の巣箱での増加率は10% ÷ 5 = 2%\\n\\n蜂の巣箱を3つ設置した場合の増加率は、\\n\\n- 増加率 = 3 × 2% = 6%\\n\\nしたがって、収穫量は以下のように計算できます。\\n\\n1. 基本の収穫量：2000ポンド\\n2. 増加量：2000ポンド × 6% = 2000ポンド × 0.06 = 120ポンド\\n3. 新しい収穫量：2000ポンド + 120ポンド = 2120ポンド\\n\\nしたがって、蜂の巣箱を3つ設置したときの収穫量は2120ポンドになります。',\n",
       "  'answer_b': 'まず、基本の収穫量を確認します。1エーカーの土地で年間に2000ポンドのオーガニック野菜が収穫されます。\\n\\n次に、蜂の巣箱を1エーカーに5つ設置すると、収穫量が10％増加することがわかっています。まず、蜂の巣箱を5つ設置した場合の収穫量を計算します。\\n\\n1. 収穫量の10％を計算します。\\n   \\\\[\\n   2000 \\\\text{ポンド} \\\\times 0.10 = 200 \\\\text{ポンド}\\n   \\\\]\\n\\n2. 増加後の収穫量を計算します。\\n   \\\\[\\n   2000 \\\\text{ポンド} + 200 \\\\text{ポンド} = 2200 \\\\text{ポンド}\\n   \\\\]\\n\\n次に、蜂の巣箱を3つ設置した場合について考えます。5つ設置した際の収穫量の増加が10％であることから、3つの場合の増加率は比例で計算します。\\n\\n3つの蜂の巣箱は5つの60%にあたるので、増加分は次のように計算できます。\\n\\\\[\\n\\\\text{増加率} = \\\\frac{3}{5} \\\\times 0.10 = 0.06 \\\\text{ (6％)}\\n\\\\]\\n\\n4. 収穫量の6％を計算します。\\n   \\\\[\\n   2000 \\\\text{ポンド} \\\\times 0.06 = 120 \\\\text{ポンド}\\n   \\\\]\\n\\n5. 増加後の収穫量を計算します。\\n   \\\\[\\n   2000 \\\\text{ポンド} + 120 \\\\text{ポンド} = 2120 \\\\text{ポンド}\\n   \\\\]\\n\\nしたがって、蜂の巣箱を3つ設置した場合の収穫量は **2120ポンド** になります。'},\n",
       " {'question': 'ある小学校の先生が、デジタルメディアとアニメーションの授業を行っています。クラスには30人の生徒がいます。先生は、生徒たちにそれぞれ自分のアニメーション作品を作成させるために、必要なタブレットを10台用意しました。もし全ての生徒がタブレットを使うために、1台のタブレットを3人で共有する場合、何人の生徒が1台のタブレットを使うことになりますか？',\n",
       "  'answer_a': '全ての生徒がタブレットを使うために、1台のタブレットを3人で共有する場合、タブレットの台数は10台です。\\n\\n1台のタブレットを3人で共有する場合、10台のタブレットで使える生徒の人数は次のように計算できます。\\n\\n10台 × 3人/台 = 30人\\n\\nしたがって、全ての生徒が1台のタブレットを使う場合、30人の生徒がいるので、全員が1台のタブレットを使うことができます。つまり、1台のタブレットを3人で共有する場合、全ての生徒がタブレットを使うことができるため、問題にある通り全員が利用することになります。',\n",
       "  'answer_b': '全ての生徒がタブレットを使うために、1台のタブレットを3人で共有する場合、まずは生徒の人数をタブレットの台数で割ります。\\n\\n生徒の人数は30人で、1台のタブレットを3人で共有するので、必要なタブレットの台数は次のようになります。\\n\\n必要なタブレットの台数 = 30人 ÷ 3人/台 = 10台\\n\\nつまり、30人の生徒が1台のタブレットを3人で共有する場合、10台のタブレットが必要になります。したがって、全ての生徒が1台のタブレットを使うことができ、1台のタブレットを3人で共有することになります。ですので、全ての生徒が1台のタブレットを使うことになります。'},\n",
       " {'question': 'ある数学の生徒が、長方形の庭を作りたいと考えています。この庭の周囲の長さは40メートルです。生徒は庭の面積を最大化したいと思っています。長方形の庭の幅をxメートルとした場合、長さはどのように表せますか？また、この庭の面積を表す式を作成してください。',\n",
       "  'answer_a': '長方形の庭の周囲の長さが40メートルとすると、周囲の長さは次の式で表されます。\\n\\n\\\\[\\n周囲 = 2 \\\\times (長さ + 幅)\\n\\\\]\\n\\nしたがって、周囲が40メートルであることから、次のような式が成り立ちます。\\n\\n\\\\[\\n40 = 2 \\\\times (長さ + x)\\n\\\\]\\n\\nこの式を解くと、長さを次のように表せます。\\n\\n\\\\[\\n20 = 長さ + x\\n\\\\]\\n\\\\[\\n長さ = 20 - x\\n\\\\]\\n\\n次に、庭の面積 \\\\( A \\\\) を求めます。面積は長さと幅の積で表されるので、\\n\\n\\\\[\\nA = 長さ \\\\times 幅 = (20 - x) \\\\times x\\n\\\\]\\n\\nこの式を展開すると、\\n\\n\\\\[\\nA = 20x - x^2\\n\\\\]\\n\\n以上から、長さは \\\\( 20 - x \\\\) メートル、庭の面積 \\\\( A \\\\) は \\\\( A = 20x - x^2 \\\\) となります。',\n",
       "  'answer_b': '長方形の庭の周囲の長さが40メートルである場合、周の公式を使って長さと幅の関係を求めます。周の公式は以下のようになります。\\n\\n\\\\[\\n周囲 = 2 \\\\times (長さ + 幅)\\n\\\\]\\n\\nここで、幅を \\\\( x \\\\) メートルとすると、周囲の長さは次のように表せます。\\n\\n\\\\[\\n40 = 2 \\\\times (長さ + x)\\n\\\\]\\n\\nこの式を解くと、長さを \\\\( y \\\\) メートルとした場合、\\n\\n\\\\[\\n20 = 長さ + x\\n\\\\]\\n\\nしたがって、長さ \\\\( y \\\\) を表すと、\\n\\n\\\\[\\ny = 20 - x\\n\\\\]\\n\\n次に、庭の面積 \\\\( A \\\\) を求めるために、面積の公式を使用します。面積は長さと幅の積で表されます。\\n\\n\\\\[\\nA = 長さ \\\\times 幅 = y \\\\times x\\n\\\\]\\n\\nこれに先ほど求めた長さの式を代入します。\\n\\n\\\\[\\nA = (20 - x) \\\\times x\\n\\\\]\\n\\nこの式を展開すると、\\n\\n\\\\[\\nA = 20x - x^2\\n\\\\]\\n\\nしたがって、庭の面積を表す式は次のようになります。\\n\\n\\\\[\\nA = 20x - x^2\\n\\\\]\\n\\nこの式を使って、面積を最大化するための \\\\( x \\\\) の値を求めることができます。'},\n",
       " {'question': 'ある小学校の先生が、科学の授業で使うために色とりどりの風船を用意しました。赤い風船が6個、青い風船が4個、緑の風船が3個あります。先生は、全ての風船をクラスの子供たちに配ることにしました。風船の合計はいくつありますか？',\n",
       "  'answer_a': '赤い風船が6個、青い風船が4個、緑の風船が3個ありますので、合計の風船の数を計算します。\\n\\n6個（赤） + 4個（青） + 3個（緑） = 13個\\n\\nしたがって、風船の合計は13個です。',\n",
       "  'answer_b': '赤い風船が6個、青い風船が4個、緑の風船が3個ありますので、風船の合計は次のように計算します。\\n\\n赤い風船の数 + 青い風船の数 + 緑の風船の数 = 6 + 4 + 3\\n\\nこれを計算すると、\\n\\n6 + 4 = 10\\n10 + 3 = 13\\n\\nしたがって、風船の合計は13個です。'}]"
      ]
     },
     "execution_count": 12,
     "metadata": {},
     "output_type": "execute_result"
    }
   ],
   "source": [
    "answers = generate_answers(target_llm, questions)\n",
    "answers"
   ]
  },
  {
   "cell_type": "markdown",
   "metadata": {},
   "source": [
    "2個の解答が異なるかどうかチェックします。"
   ]
  },
  {
   "cell_type": "code",
   "execution_count": 13,
   "metadata": {},
   "outputs": [],
   "source": [
    "def check_answers(answers: list[dict[str, str]]) -> list[bool]:\n",
    "    return [a[\"answer_a\"] != a[\"answer_b\"] for a in answers]"
   ]
  },
  {
   "cell_type": "code",
   "execution_count": 14,
   "metadata": {},
   "outputs": [
    {
     "data": {
      "text/plain": [
       "(True, [True, True, True, True, True, True, True, True, True, True])"
      ]
     },
     "execution_count": 14,
     "metadata": {},
     "output_type": "execute_result"
    }
   ],
   "source": [
    "results = check_answers(answers)\n",
    "all(results), results"
   ]
  },
  {
   "cell_type": "markdown",
   "metadata": {},
   "source": [
    "もし同じ解答が多い(False の数が多い)場合は、言語モデルの設定で温度パラメータを上げて調整してください。\n",
    "\n",
    "ここまでの処理をまとめて、質問の jsonl ファイルを読み込んで、2個の解答を生成して、jsonl ファイルに書き込む関数を作成します。"
   ]
  },
  {
   "cell_type": "code",
   "execution_count": 15,
   "metadata": {},
   "outputs": [],
   "source": [
    "def run_generate_answers(llm: LanguageModel, input_jsonl: str = \"questions.jsonl\", output_jsonl: str = \"answers.jsonl\", batch_size: int = 8) -> None:\n",
    "    dataset = load_dataset(\"json\", data_files=input_jsonl, name=\"default\", split=\"train\", cache_dir=\"cache\")\n",
    "    end = len(dataset)\n",
    "    start = 0\n",
    "    with open(output_jsonl, \"w\", encoding=\"utf-8\") as f:\n",
    "        for i in tqdm(range(start, end, batch_size)):\n",
    "            batch_start = i\n",
    "            batch_end = min(i + batch_size, end)\n",
    "            data = dataset[batch_start:batch_end]\n",
    "            batch = pd.DataFrame(data).to_dict(orient=\"records\")  # convert column-wise to row-wise\n",
    "            if len(batch) == 0:\n",
    "                break\n",
    "            questions = [b[\"messages\"][0][\"content\"] for b in batch]\n",
    "            answers = generate_answers(llm, questions)\n",
    "            for answer in answers:\n",
    "                f.write(json.dumps(answer, ensure_ascii=False) + \"\\n\")\n",
    "                # print(pp.pformat(answer))"
   ]
  },
  {
   "cell_type": "code",
   "execution_count": 16,
   "metadata": {},
   "outputs": [
    {
     "name": "stderr",
     "output_type": "stream",
     "text": [
      "100%|██████████| 2/2 [00:10<00:00,  5.23s/it]\n"
     ]
    }
   ],
   "source": [
    "run_generate_answers(target_llm, \"basic_math_mt.jsonl\", \"answers.jsonl\", 8)"
   ]
  },
  {
   "cell_type": "markdown",
   "metadata": {},
   "source": [
    "`answers.jsonl` ファイルを確認してみます。"
   ]
  },
  {
   "cell_type": "code",
   "execution_count": 17,
   "metadata": {},
   "outputs": [
    {
     "name": "stderr",
     "output_type": "stream",
     "text": [
      "Generating train split: 10 examples [00:00, 2134.40 examples/s]\n"
     ]
    },
    {
     "data": {
      "text/plain": [
       "{'question': 'ニュー・ジャージー・パインバレンズの生態系を研究している植物研究者がいます。彼は、特定の植物のサンプルを集めるために、5つの異なる地点を訪れました。各地点で、彼は次のように植物を収集しました：地点Aで12本、地点Bで15本、地点Cで8本、地点Dで10本、地点Eで9本です。彼が集めた植物の総数はいくつですか？',\n",
       " 'answer_a': '植物研究者が集めた植物の総数を計算するために、各地点での植物の本数を足します。\\n\\n地点A: 12本  \\n地点B: 15本  \\n地点C: 8本  \\n地点D: 10本  \\n地点E: 9本  \\n\\nこれらを合計すると、\\n\\n12 + 15 + 8 + 10 + 9 = 54\\n\\nしたがって、彼が集めた植物の総数は54本です。',\n",
       " 'answer_b': '植物研究者が集めた植物の総数を求めるために、各地点で収集した植物の本数を足し合わせます。\\n\\n地点A: 12本  \\n地点B: 15本  \\n地点C: 8本  \\n地点D: 10本  \\n地点E: 9本  \\n\\nこれらを合計すると、\\n\\n12 + 15 + 8 + 10 + 9 = 54\\n\\nしたがって、彼が集めた植物の総数は54本です。'}"
      ]
     },
     "execution_count": 17,
     "metadata": {},
     "output_type": "execute_result"
    }
   ],
   "source": [
    "dataset = load_dataset(\"json\", data_files=\"answers.jsonl\", name=\"default\", split=\"train\", cache_dir=\"cache\")\n",
    "dataset[0]"
   ]
  },
  {
   "cell_type": "markdown",
   "metadata": {},
   "source": [
    "問題なければ、これ以降 target_llm は使いませんので、削除しておきます。"
   ]
  },
  {
   "cell_type": "code",
   "execution_count": 18,
   "metadata": {},
   "outputs": [],
   "source": [
    "del target_llm"
   ]
  },
  {
   "cell_type": "markdown",
   "metadata": {},
   "source": [
    "Note: Colab で GPU を使っている場合は、ここで一度インスタンスをを再起動して GPU メモリを開放してください。再起動後は `言語モデルの設定` までのセルを再度実行しておいてください。"
   ]
  },
  {
   "cell_type": "markdown",
   "metadata": {},
   "source": [
    "## LLM-as-a-Judge でどちらの解答が優れているか判定"
   ]
  },
  {
   "cell_type": "markdown",
   "metadata": {},
   "source": [
    "ここからは、生成された2個の解答を LLM-as-a-Judge 手法でどちらの解答が優れているか判決を下します。\n",
    "\n",
    "今回は [LLM-as-a-Judge 論文](https://proceedings.neurips.cc/paper_files/paper/2023/hash/91f18a1287b398d378ef22505bf41832-Abstract-Datasets_and_Benchmarks.html)の [GitHub リポジトリにあるプロンプト](https://github.com/lm-sys/FastChat/blob/main/fastchat/llm_judge/data/judge_prompts.jsonl)の `pair-v2` というバージョンを使用して、2つの解答を比較します。\n",
    "\n",
    "<img src=\"https://github.com/user-attachments/assets/12111a26-50c8-439c-a23a-ae7240c259bc\" width=\"800\">"
   ]
  },
  {
   "cell_type": "code",
   "execution_count": 19,
   "metadata": {},
   "outputs": [],
   "source": [
    "# copy from https://github.com/lm-sys/FastChat/blob/main/fastchat/llm_judge/data/judge_prompts.jsonl\n",
    "\n",
    "JUDGE_PROMPT = {\n",
    "    \"name\": \"pair-v2\",\n",
    "    \"type\": \"pairwise\",\n",
    "    \"system_prompt\": \"Please act as an impartial judge and evaluate the quality of the responses provided by two AI assistants to the user question displayed below. You should choose the assistant that follows the user's instructions and answers the user's question better. Your evaluation should consider factors such as the helpfulness, relevance, accuracy, depth, creativity, and level of detail of their responses. Begin your evaluation by comparing the two responses and provide a short explanation. Avoid any position biases and ensure that the order in which the responses were presented does not influence your decision. Do not allow the length of the responses to influence your evaluation. Do not favor certain names of the assistants. Be as objective as possible. After providing your explanation, output your final verdict by strictly following this format: \\\"[[A]]\\\" if assistant A is better, \\\"[[B]]\\\" if assistant B is better, and \\\"[[C]]\\\" for a tie.\",\n",
    "    \"prompt_template\": \"[User Question]\\n{question}\\n\\n[The Start of Assistant A's Answer]\\n{answer_a}\\n[The End of Assistant A's Answer]\\n\\n[The Start of Assistant B's Answer]\\n{answer_b}\\n[The End of Assistant B's Answer]\",\n",
    "    \"description\": \"Prompt for general questions\",\n",
    "    \"category\": \"general\",\n",
    "    \"output_format\": \"[[A]]\"\n",
    "}"
   ]
  },
  {
   "cell_type": "markdown",
   "metadata": {},
   "source": [
    "上記の `system_prompt` と `prompt_template` を使用します。\n",
    "\n",
    "システムプロンプトの日本語訳は以下の通りです。\n",
    "\n",
    "> 公平な裁判官として、以下に表示されたユーザーの質問に対して2人のAIアシスタントが提供した回答の質を評価してください。あなたは、ユーザーの指示に従い、ユーザーの質問によりよく答えるアシスタントを選ぶべきです。あなたの評価は、回答の有用性、関連性、正確性、深さ、創造性、詳細レベルなどの要素を考慮する必要があります。2つの回答を比較し、簡単な説明をすることから評価を始めてください。立場が偏らないようにし、回答の提示順があなたの判断に影響しないようにしてください。回答の長さが評価に影響しないようにしてください。特定のアシスタントの名前を好まないこと。できるだけ客観的であること。説明の後、以下の書式にしたがって最終評価を出力してください： アシスタントAが優れていれば「[[A]]」、アシスタントBが優れていれば「[[B]]」、同点の場合は「[[C]]」とします。\n",
    "\n",
    "判決文を生成する関数を定義します。"
   ]
  },
  {
   "cell_type": "code",
   "execution_count": 20,
   "metadata": {},
   "outputs": [],
   "source": [
    "def generate_decision_texts(llm: LanguageModel, answers: list[dict[str, str]]) -> list[str]:\n",
    "    return [texts[0] for texts in llm([[\n",
    "        {\"role\": \"system\", \"content\": JUDGE_PROMPT[\"system_prompt\"]},\n",
    "        {\"role\": \"user\", \"content\": JUDGE_PROMPT[\"prompt_template\"].format(**answer)}\n",
    "    ] for answer in answers])]"
   ]
  },
  {
   "cell_type": "markdown",
   "metadata": {},
   "source": [
    "裁判官の役割をする言語モデルを作成します。温度パラメータ `temperature` が `0.0` であることに注意してください。`0.0` の場合はサンプリングせずにグリーディに最も確率の高いトークンを選択します。また、`n` は指定しませんがデフォルト値は `1` です。\n",
    "\n",
    "Note: 裁判官のタスクは難易度が高いので、高度な言語モデルを使用する必要があります。10B 程度の言語モデルでは難しいかもしれません(タスクを理解できない可能性があります)。\n",
    "\n",
    "Note: Colab T4 で実行する場合、GPU メモリがギリギリですので、`target_llm` で使用していた GPU メモリをインスタンス再起動で開放しておいてください。"
   ]
  },
  {
   "cell_type": "code",
   "execution_count": 21,
   "metadata": {},
   "outputs": [
    {
     "name": "stderr",
     "output_type": "stream",
     "text": [
      "model: gpt-4o-mini, temperature: 0.0, max_tokens: 512, seed: 0, n: None\n"
     ]
    },
    {
     "data": {
      "text/plain": [
       "<__main__.LiteLLMModel at 0x118fe0ad0>"
      ]
     },
     "execution_count": 21,
     "metadata": {},
     "output_type": "execute_result"
    }
   ],
   "source": [
    "judge_llm = LiteLLMModel(\"gpt-4o-mini\", temperature=0.0, max_tokens=512, seed=0)  # OPENAI_API_KEY\n",
    "# judge_llm = LiteLLMModel(\"nvidia_nim/nvidia/nemotron-4-340b-instruct\", temperature=0.0, max_tokens=512, seed=None)  # NVIDIA_NIM_API_KEY\n",
    "# judge_llm = VLLMModel(\"team-hatakeyama-phase2/Tanuki-8B-dpo-v1.0-GPTQ-8bit\", temperature=0.0, max_tokens=512, seed=0)  # for Colab T4\n",
    "# judge_llm = VLLMModel(\"marcsun13/gemma-2-9b-it-GPTQ\", temperature=0.0, max_tokens=512, seed=0)  # for Colab T4\n",
    "# judge_llm = VLLMModel(\"cyberagent/calm3-22b-chat\", temperature=0.0, max_tokens=512, seed=0)  # for A100?\n",
    "\n",
    "judge_llm"
   ]
  },
  {
   "cell_type": "markdown",
   "metadata": {},
   "source": [
    "動作確認しておきます。"
   ]
  },
  {
   "cell_type": "code",
   "execution_count": 22,
   "metadata": {},
   "outputs": [
    {
     "data": {
      "text/plain": [
       "[['Hello! How can I assist you today?']]"
      ]
     },
     "execution_count": 22,
     "metadata": {},
     "output_type": "execute_result"
    }
   ],
   "source": [
    "judge_llm([[{\"role\": \"user\", \"content\": \"Hello?\"}]])"
   ]
  },
  {
   "cell_type": "markdown",
   "metadata": {},
   "source": [
    "先ほど保存した `answers.jsonl` ファイルを読み込み、`answers` 変数に格納します。"
   ]
  },
  {
   "cell_type": "code",
   "execution_count": 23,
   "metadata": {},
   "outputs": [
    {
     "data": {
      "text/plain": [
       "[{'question': 'ニュー・ジャージー・パインバレンズの生態系を研究している植物研究者がいます。彼は、特定の植物のサンプルを集めるために、5つの異なる地点を訪れました。各地点で、彼は次のように植物を収集しました：地点Aで12本、地点Bで15本、地点Cで8本、地点Dで10本、地点Eで9本です。彼が集めた植物の総数はいくつですか？',\n",
       "  'answer_a': '植物研究者が集めた植物の総数を計算するために、各地点での植物の本数を足します。\\n\\n地点A: 12本  \\n地点B: 15本  \\n地点C: 8本  \\n地点D: 10本  \\n地点E: 9本  \\n\\nこれらを合計すると、\\n\\n12 + 15 + 8 + 10 + 9 = 54\\n\\nしたがって、彼が集めた植物の総数は54本です。',\n",
       "  'answer_b': '植物研究者が集めた植物の総数を求めるために、各地点で収集した植物の本数を足し合わせます。\\n\\n地点A: 12本  \\n地点B: 15本  \\n地点C: 8本  \\n地点D: 10本  \\n地点E: 9本  \\n\\nこれらを合計すると、\\n\\n12 + 15 + 8 + 10 + 9 = 54\\n\\nしたがって、彼が集めた植物の総数は54本です。'},\n",
       " {'question': 'ある博物館で、古代の節足動物の化石が展示されています。展示されている化石は、クモが10体、サソリが15体、エビが20体です。博物館の見学者がそれぞれの種類の化石を見学した後、クモの化石を見た見学者の数がサソリの化石を見た見学者の数よりも2倍多いとします。クモの化石を見た見学者が20人だった場合、サソリの化石を見た見学者は何人ですか？',\n",
       "  'answer_a': 'クモの化石を見た見学者の数が20人であるとします。問題文によれば、クモの化石を見た見学者の数はサソリの化石を見た見学者の数よりも2倍多いとされています。これを数式で表すと以下のようになります。\\n\\nクモの化石を見た見学者の数 = 2 × サソリの化石を見た見学者の数\\n\\nしたがって、\\n\\n20 = 2 × サソリの化石を見た見学者の数\\n\\nこの式をサソリの見学者の数について解くと、\\n\\nサソリの化石を見た見学者の数 = 20 / 2 = 10\\n\\nつまり、サソリの化石を見た見学者は10人です。',\n",
       "  'answer_b': 'クモの化石を見た見学者の数が20人で、これがサソリの化石を見た見学者の数の2倍多いとします。\\n\\nクモを見た見学者の数を \\\\( C = 20 \\\\) 人とし、サソリを見た見学者の数を \\\\( S \\\\) 人とします。\\n\\n問題の条件によると、\\n\\\\[\\nC = 2S + S\\n\\\\]\\nすなわち\\n\\\\[\\nC = 3S\\n\\\\]\\nとなります。\\n\\nここに \\\\( C = 20 \\\\) を代入すると、\\n\\\\[\\n20 = 3S\\n\\\\]\\n両辺を3で割ると、\\n\\\\[\\nS = \\\\frac{20}{3} \\\\approx 6.67\\n\\\\]\\nとなり、サソリの化石を見た見学者の数は整数でなければなりません。\\n\\nしたがって、条件に矛盾があるか、または解釈を見直す必要があります。正確には、クモの化石を見た人数がサソリの化石を見た人数の2倍多いというのは、以下のように解釈すべきです：\\n\\n\\\\[\\nC = 2S\\n\\\\]\\n\\nこれにより、\\n\\\\[\\n20 = 2S\\n\\\\]\\nとし、両辺を2で割ると、\\n\\\\[\\nS = 10\\n\\\\]\\n\\nしたがって、サソリの化石を見た見学者の数は **10人** です。'},\n",
       " {'question': 'あるプログラミング言語の研究者が、数値計算のアルゴリズムをテストするために、10個の異なる入力データセットを用意しました。彼は各データセットに対して3つの異なるアルゴリズムを試すことにしました。全てのデータセットとアルゴリズムの組み合わせを考えると、彼は合計で何回テストを実施することになりますか？',\n",
       "  'answer_a': '研究者は10個の異なる入力データセットに対して、3つの異なるアルゴリズムを試すことになっています。これを考慮すると、テストの総数は以下のように計算できます。\\n\\nテストの総数 = データセットの数 × アルゴリズムの数\\n\\n具体的には、\\n\\nテストの総数 = 10 × 3 = 30\\n\\nしたがって、彼は合計で30回テストを実施することになります。',\n",
       "  'answer_b': '研究者は10個の異なる入力データセットに対して3つの異なるアルゴリズムを試すことにしています。全てのデータセットとアルゴリズムの組み合わせを考えると、テストの総回数は次のように計算できます。\\n\\nテストの総回数 = データセットの数 × アルゴリズムの数\\n\\n具体的には、\\n\\nテストの総回数 = 10（データセットの数） × 3（アルゴリズムの数） = 30\\n\\nしたがって、彼は合計で30回のテストを実施することになります。'},\n",
       " {'question': 'ある流体力学のエンジニアは、水槽の自由表面の面積を計算しています。水槽の形は長方形で、長さが6メートル、幅が4メートルです。この水槽が満水のとき、水面の面積は何平方メートルですか？',\n",
       "  'answer_a': '水槽の自由表面の面積は、長方形の面積を計算することで求められます。長方形の面積は、長さと幅を掛け合わせることで計算できます。\\n\\n与えられた情報は以下の通りです：\\n- 長さ = 6 メートル\\n- 幅 = 4 メートル\\n\\n面積の計算式は次の通りです：\\n\\\\[ \\\\text{面積} = \\\\text{長さ} \\\\times \\\\text{幅} \\\\]\\n\\nこれに数値を代入します：\\n\\\\[ \\\\text{面積} = 6 \\\\, \\\\text{メートル} \\\\times 4 \\\\, \\\\text{メートル} = 24 \\\\, \\\\text{平方メートル} \\\\]\\n\\nしたがって、水槽が満水のときの水面の面積は **24平方メートル** です。',\n",
       "  'answer_b': '水槽の形が長方形で、長さが6メートル、幅が4メートルの場合、水面の面積は以下のように計算できます。\\n\\n面積 = 長さ × 幅\\n\\nこれを代入すると、\\n\\n面積 = 6メートル × 4メートル = 24平方メートル\\n\\nしたがって、この水槽が満水のとき、水面の面積は24平方メートルです。'},\n",
       " {'question': 'ある年、サーモンが川を遡上するために、1日あたり30キロメートル進みました。サーモンが川を上り始めてから、合計で6日間進みました。サーモンは合計で何キロメートル上ったでしょうか？',\n",
       "  'answer_a': 'サーモンが1日あたり30キロメートル進み、6日間進んだ場合の合計距離は以下のように計算できます。\\n\\n1日の距離: 30キロメートル  \\n日数: 6日\\n\\n合計距離 = 1日の距離 × 日数  \\n合計距離 = 30キロメートル × 6日 = 180キロメートル\\n\\nしたがって、サーモンは合計で180キロメートル上ったことになります。',\n",
       "  'answer_b': 'サーモンが1日あたり30キロメートル進み、6日間進んだ場合、合計の距離は次のように計算できます。\\n\\n1日の進む距離 × 日数 = 合計距離\\n\\n30キロメートル × 6日 = 180キロメートル\\n\\nしたがって、サーモンは合計で180キロメートル上ったことになります。'},\n",
       " {'question': 'ある宇宙ロボット工学者が、火星探査のために新しいロボットを設計しています。このロボットは、1時間で10キロメートルの速度で移動します。もしロボットが火星の表面を30時間移動し続けた場合、ロボットは合計で何キロメートル移動することになりますか？',\n",
       "  'answer_a': 'ロボットの移動速度は1時間で10キロメートルです。もしロボットが30時間移動し続けた場合、移動する距離は次のように計算できます。\\n\\n移動距離 = 移動速度 × 時間\\n\\nしたがって、\\n\\n移動距離 = 10キロメートル/時間 × 30時間 = 300キロメートル\\n\\nロボットは合計で300キロメートル移動することになります。',\n",
       "  'answer_b': 'ロボットの移動速度は1時間で10キロメートルです。もしロボットが30時間移動し続けた場合、移動する距離は以下のように計算できます。\\n\\n移動距離 = 移動速度 × 移動時間\\n移動距離 = 10キロメートル/時間 × 30時間\\n移動距離 = 300キロメートル\\n\\nしたがって、ロボットは合計で300キロメートル移動することになります。'},\n",
       " {'question': '環境ジャーナリストであるあなたは、オーガニック農法で作物を育てる農家を取材しています。農家は、1エーカーの土地で年間に2000ポンドのオーガニック野菜を収穫します。また、1エーカーの土地に蜂の巣箱を5つ設置すると、収穫量が10％増加します。あなたは、蜂の巣箱を3つ設置した場合の収穫量を計算したいと思っています。蜂の巣箱を3つ設置したときの収穫量は何ポンドになりますか？',\n",
       "  'answer_a': 'オーガニック農法で作物を育てる農家が1エーカーの土地で年間に2000ポンドのオーガニック野菜を収穫する場合、蜂の巣箱を設置することで収穫量が増加します。\\n\\n1エーカーに蜂の巣箱を5つ設置すると収穫量が10%増加します。したがって、蜂の巣箱1つあたりの増加率は次のように計算できます。\\n\\n10% / 5 = 2%\\n\\nこれにより、蜂の巣箱1つを設置した場合、収穫量が2%増加します。\\n\\n蜂の巣箱を3つ設置した場合の収穫量の増加は、\\n\\n2% × 3 = 6%\\n\\nとなります。\\n\\n元の収穫量2000ポンドに対して6%の増加を計算します。\\n\\n2000ポンド × 0.06 = 120ポンド\\n\\nしたがって、蜂の巣箱3つを設置した場合の収穫量は、\\n\\n2000ポンド + 120ポンド = 2120ポンド\\n\\nしたがって、蜂の巣箱を3つ設置したときの収穫量は2120ポンドになります。',\n",
       "  'answer_b': 'まず、基本の収穫量を確認します。1エーカーの土地で年間に2000ポンドのオーガニック野菜が収穫されます。\\n\\n次に、蜂の巣箱を1エーカーあたり5つ設置した場合、収穫量が10％増加することがわかっています。したがって、蜂の巣箱1つあたりの増加分は以下のように計算できます。\\n\\n1. 5つの蜂の巣箱での増加量は：\\n   \\\\[\\n   2000 \\\\times 0.10 = 200 \\\\text{ポンド}\\n   \\\\]\\n   \\n2. つまり、5つの蜂の巣箱を設置した場合、収穫量は：\\n   \\\\[\\n   2000 + 200 = 2200 \\\\text{ポンド}\\n   \\\\]\\n\\n3. したがって、1つの蜂の巣箱あたりの収穫量の増加は：\\n   \\\\[\\n   \\\\frac{200 \\\\text{ポンド}}{5} = 40 \\\\text{ポンド}\\n   \\\\]\\n\\n4. 3つの蜂の巣箱を設置した場合の増加量は：\\n   \\\\[\\n   3 \\\\times 40 = 120 \\\\text{ポンド}\\n   \\\\]\\n\\n5. したがって、3つの蜂の巣箱を設置したときの総収穫量は：\\n   \\\\[\\n   2000 + 120 = 2120 \\\\text{ポンド}\\n   \\\\]\\n\\n結論として、蜂の巣箱を3つ設置した場合の収穫量は2120ポンドになります。'},\n",
       " {'question': 'ある小学校の先生が、デジタルメディアとアニメーションの授業を行っています。クラスには30人の生徒がいます。先生は、生徒たちにそれぞれ自分のアニメーション作品を作成させるために、必要なタブレットを10台用意しました。もし全ての生徒がタブレットを使うために、1台のタブレットを3人で共有する場合、何人の生徒が1台のタブレットを使うことになりますか？',\n",
       "  'answer_a': '全ての生徒がタブレットを使うために、1台のタブレットを3人で共有する場合、タブレットの台数は10台です。\\n\\n1台のタブレットを3人で共有する場合、10台のタブレットで使える生徒の人数は次のように計算できます。\\n\\n10台 × 3人/台 = 30人\\n\\nしたがって、全ての生徒が1台のタブレットを使うことになります。つまり、30人の生徒全員がタブレットを使うことになります。',\n",
       "  'answer_b': '全ての生徒がタブレットを使うために、1台のタブレットを3人で共有する場合、まずは生徒数をタブレットの台数で割って、共有する生徒数を求めます。\\n\\n生徒数は30人、タブレットの台数は10台です。\\n\\n1台のタブレットを3人で共有する場合、タブレットの台数に3を掛けると、何人分の生徒が利用可能かがわかります。\\n\\n10台のタブレット × 3人 = 30人\\n\\nしたがって、全ての生徒がタブレットを使うために、1台のタブレットを3人で共有する場合、30人の生徒全員が1台のタブレットを使うことになります。つまり、30人の生徒がそれぞれタブレットを使うことができます。'},\n",
       " {'question': 'ある数学の生徒が、長方形の庭を作りたいと考えています。この庭の周囲の長さは40メートルです。生徒は庭の面積を最大化したいと思っています。長方形の庭の幅をxメートルとした場合、長さはどのように表せますか？また、この庭の面積を表す式を作成してください。',\n",
       "  'answer_a': '長方形の庭の周囲の長さが40メートルとすると、周囲の長さは次の式で表されます。\\n\\n\\\\[\\n周囲 = 2 \\\\times (長さ + 幅)\\n\\\\]\\n\\nしたがって、周囲が40メートルであることから、次のような式が成り立ちます。\\n\\n\\\\[\\n40 = 2 \\\\times (長さ + x)\\n\\\\]\\n\\nこの式を解くと、長さを次のように表せます。\\n\\n\\\\[\\n20 = 長さ + x\\n\\\\]\\n\\\\[\\n長さ = 20 - x\\n\\\\]\\n\\n次に、庭の面積 \\\\( A \\\\) を求めます。面積は長さと幅の積で表されるので、\\n\\n\\\\[\\nA = 長さ \\\\times 幅 = (20 - x) \\\\times x\\n\\\\]\\n\\nこの式を展開すると、\\n\\n\\\\[\\nA = 20x - x^2\\n\\\\]\\n\\n以上から、庭の面積を表す式は次のようになります。\\n\\n\\\\[\\nA = 20x - x^2\\n\\\\]\\n\\nここで、\\\\( x \\\\) は幅を表し、長さは \\\\( 20 - x \\\\) で表されます。',\n",
       "  'answer_b': '長方形の庭の周囲の長さが40メートルである場合、周の公式を使って長さと幅の関係を求めます。周の公式は以下のようになります。\\n\\n\\\\[\\n周 = 2 \\\\times (長さ + 幅)\\n\\\\]\\n\\nここで、幅を\\\\( x \\\\)メートルとすると、長さを \\\\( y \\\\)メートルと表せます。周の長さが40メートルなので、次のような式が成り立ちます。\\n\\n\\\\[\\n2 \\\\times (y + x) = 40\\n\\\\]\\n\\nこの式を簡単にすると、\\n\\n\\\\[\\ny + x = 20\\n\\\\]\\n\\nしたがって、長さ \\\\( y \\\\) は次のように表せます。\\n\\n\\\\[\\ny = 20 - x\\n\\\\]\\n\\n次に、庭の面積 \\\\( A \\\\) を求めます。面積は長さと幅の積ですので、次のように表せます。\\n\\n\\\\[\\nA = 幅 \\\\times 長さ = x \\\\times y\\n\\\\]\\n\\nここで、先ほど求めた \\\\( y = 20 - x \\\\) を代入すると、\\n\\n\\\\[\\nA = x \\\\times (20 - x)\\n\\\\]\\n\\nこの式は、\\n\\n\\\\[\\nA = 20x - x^2\\n\\\\]\\n\\nとなります。これが、幅 \\\\( x \\\\) に対する庭の面積を表す式です。面積を最大化するためには、この式の最大値を求めます。'},\n",
       " {'question': 'ある小学校の先生が、科学の授業で使うために色とりどりの風船を用意しました。赤い風船が6個、青い風船が4個、緑の風船が3個あります。先生は、全ての風船をクラスの子供たちに配ることにしました。風船の合計はいくつありますか？',\n",
       "  'answer_a': '赤い風船が6個、青い風船が4個、緑の風船が3個ありますので、合計の風船の数を計算します。\\n\\n6 (赤い風船) + 4 (青い風船) + 3 (緑の風船) = 13\\n\\nしたがって、風船の合計は13個です。',\n",
       "  'answer_b': '赤い風船が6個、青い風船が4個、緑の風船が3個ありますので、風船の合計は次のように計算します。\\n\\n6個（赤） + 4個（青） + 3個（緑） = 13個\\n\\nしたがって、風船の合計は13個です。'}]"
      ]
     },
     "execution_count": 23,
     "metadata": {},
     "output_type": "execute_result"
    }
   ],
   "source": [
    "dataset = load_dataset(\"json\", data_files=\"answers.jsonl\", name=\"default\", split=\"train\", cache_dir=\"cache\")\n",
    "answers = [b for b in pd.DataFrame(dataset).to_dict(orient=\"records\")]\n",
    "answers"
   ]
  },
  {
   "cell_type": "markdown",
   "metadata": {},
   "source": [
    "実際に判定をしてみます。判決文(`decision_texts`)の末尾に `[[A]]`, `[[B]]`, `[[C]]` のいずれかが含まれているかを確認してください。\n",
    "\n",
    "Note: このタスクは難易度が高いので、`judge_llm` は高度な言語モデルを使用する必要があります。"
   ]
  },
  {
   "cell_type": "code",
   "execution_count": 24,
   "metadata": {},
   "outputs": [
    {
     "data": {
      "text/plain": [
       "[\"Both Assistant A and Assistant B provided identical responses to the user's question regarding the total number of plants collected by the researcher. They both correctly listed the number of plants collected at each location, performed the addition accurately, and arrived at the same total of 54 plants.\\n\\nIn terms of helpfulness, relevance, accuracy, depth, creativity, and level of detail, both responses are equal. They both clearly outline the calculation process and provide the correct answer without any additional unnecessary information.\\n\\nSince there is no distinction in the quality of the responses, the evaluation results in a tie.\\n\\n[[C]]\",\n",
       " '両方のアシスタントの回答を比較すると、どちらも問題の条件を正確に理解し、適切な数式を用いて解答を導き出しています。しかし、アシスタントBは最初に誤った解釈を示し、その後に正しい解釈に修正しています。この過程は、問題の理解において混乱を招く可能性があります。一方、アシスタントAは最初から正しい解釈を用いており、解答に至る過程が明確で簡潔です。\\n\\nアシスタントBは最初の誤解釈を修正する過程を示しているため、より深い思考過程を提供していますが、最初の誤りがあるため、全体的な明瞭さに欠けます。アシスタントAは、問題に対する直接的で明確なアプローチを提供しており、最終的な答えも正確です。\\n\\nしたがって、アシスタントAの方がユーザーの質問に対してより良い回答を提供していると評価できます。\\n\\n最終的な判定は、[[A]]です。',\n",
       " '両方のアシスタントの回答は、ユーザーの質問に対して正確で明確な計算を提供しています。どちらも、10個のデータセットと3つのアルゴリズムの組み合わせを考慮し、テストの総数を30回と正しく導き出しています。\\n\\nアシスタントAは、計算の過程を簡潔に説明し、結果を明確に示しています。アシスタントBも同様に、計算の過程を示し、結果を明確に述べていますが、特に目立った違いはありません。\\n\\n両者の回答はほぼ同等であり、内容や構成において大きな差異は見られません。したがって、どちらのアシスタントも同じレベルの質を持っていると評価できます。\\n\\n最終的な評価としては、両者の回答は同等であるため、以下のように結論付けます。\\n\\n[[C]]',\n",
       " '両方のアシスタントの回答を比較すると、どちらも水槽の自由表面の面積を正確に計算し、結果を明確に示しています。しかし、いくつかの点で違いがあります。\\n\\nアシスタントAは、計算の過程を詳細に説明しており、面積の計算式を明示的に示しています。また、与えられた情報を整理して提示しているため、ユーザーにとって理解しやすい構成になっています。\\n\\n一方、アシスタントBも正確な計算を行っていますが、説明がやや簡潔で、計算の過程や与えられた情報の整理が不足しています。結果は同じですが、アシスタントAの方がより詳細で教育的なアプローチを取っています。\\n\\nしたがって、アシスタントAの方がユーザーの質問に対してより良い回答を提供していると評価できます。\\n\\n最終的な判断は、[[A]]です。',\n",
       " \"Both Assistant A and Assistant B provided accurate and relevant answers to the user's question regarding the distance a salmon traveled while swimming upstream. They both correctly calculated the total distance by multiplying the daily distance (30 kilometers) by the number of days (6 days), resulting in a total of 180 kilometers.\\n\\nIn terms of helpfulness and clarity, both responses are quite similar. They both present the calculation clearly and arrive at the same conclusion. However, Assistant A provides a slightly more structured format by explicitly stating the daily distance and the number of days before performing the calculation, which may enhance clarity for some users. Assistant B, while also clear, is slightly more concise and straightforward.\\n\\nOverall, both responses are effective, but Assistant A's additional structure may make it marginally more helpful for users who appreciate a more detailed breakdown of the calculation process.\\n\\nFinal verdict: [[A]]\",\n",
       " '両方のアシスタントの回答は、ユーザーの質問に対して正確で明確な計算を提供しています。どちらもロボットの移動速度と時間を用いて移動距離を計算し、最終的な答えである300キロメートルを示しています。\\n\\nアシスタントAは、計算の過程を簡潔に説明し、結果を明確に示しています。アシスタントBも同様に計算過程を示し、結果を明確にしていますが、表現がやや冗長である印象を受けます。\\n\\n全体的に、両者の回答はほぼ同等の質ですが、アシスタントAの方が少しだけ簡潔で明瞭な表現をしているため、わかりやすさの点で優れています。\\n\\nしたがって、最終的な評価は以下の通りです。\\n\\n[[A]]',\n",
       " '両方のアシスタントの回答を比較すると、どちらも正確に計算を行い、蜂の巣箱を3つ設置した場合の収穫量を2120ポンドと導き出しています。しかし、アシスタントBの回答は、計算過程をより詳細に示しており、各ステップを明確に説明しています。特に、収穫量の増加を計算する際に、5つの蜂の巣箱による増加量を最初に示し、その後に1つあたりの増加量を計算している点が、理解を助ける要素となっています。\\n\\n一方、アシスタントAも正しい計算を行っていますが、説明がやや簡潔で、計算の流れがBに比べて少し分かりにくい印象を与えます。特に、増加率の計算において、Bのように具体的な数値を用いた説明が不足しています。\\n\\nしたがって、アシスタントBの方が、計算の過程をより明確に示し、ユーザーにとって理解しやすい回答を提供していると評価できます。\\n\\n最終的な判断としては、アシスタントBがより優れた回答を提供していると考えます。\\n\\n[[B]]',\n",
       " '両方のアシスタントの回答を比較すると、どちらも正確に計算を行い、同じ結論に達していますが、アシスタントBの方が若干詳細で明確な説明を提供しています。\\n\\nアシスタントAは、計算の過程を簡潔に示していますが、説明が少し単調で、計算の意図や手順が明確に伝わりません。一方、アシスタントBは、計算の手順をより詳しく説明し、タブレットの台数に生徒数をどのように関連付けているかを明示しています。このため、アシスタントBの方がユーザーにとって理解しやすい回答となっています。\\n\\nしたがって、アシスタントBの方がユーザーの質問に対してより良い回答を提供していると評価できます。\\n\\n[[B]]',\n",
       " \"Both Assistant A and Assistant B provide clear and accurate responses to the user's question about maximizing the area of a rectangular garden with a given perimeter. \\n\\n**Comparison:**\\n\\n1. **Clarity and Structure**: Both assistants start by stating the formula for the perimeter of a rectangle and correctly derive the relationship between length and width. They both express the length in terms of the width \\\\( x \\\\) and arrive at the same equation \\\\( y = 20 - x \\\\).\\n\\n2. **Area Calculation**: Both assistants correctly calculate the area \\\\( A \\\\) of the rectangle as \\\\( A = 20x - x^2 \\\\). They both show the substitution of the length in terms of width and arrive at the same final expression for the area.\\n\\n3. **Depth and Additional Information**: Assistant B goes a step further by mentioning that the area can be maximized and hints at finding the maximum value of the area function, which adds a layer of depth to the response. Assistant A, while accurate, does not mention the maximization aspect, which is relevant to the user's goal of maximizing the area.\\n\\n4. **Relevance and Helpfulness**: Both responses are relevant and helpful, but Assistant B's mention of maximizing the area makes it slightly more aligned with the user's intent.\\n\\n**Final Verdict**: Given that Assistant B provides a more comprehensive response by hinting at the maximization of the area, I conclude that Assistant B's response is superior.\\n\\n[[B]]\",\n",
       " 'Both Assistant A and Assistant B provide accurate calculations and arrive at the same conclusion regarding the total number of balloons. They both clearly state the number of each color of balloon and perform the addition correctly. \\n\\nHowever, the responses are nearly identical in structure and content, with only slight variations in wording. Assistant A uses \"合計の風船の数を計算します\" while Assistant B uses \"風船の合計は次のように計算します,\" which are both clear but do not significantly differ in helpfulness or clarity. \\n\\nBoth responses are equally relevant, accurate, and detailed, providing the same level of depth and clarity. Therefore, there is no clear distinction in quality between the two responses.\\n\\nFinal verdict: [[C]]']"
      ]
     },
     "execution_count": 24,
     "metadata": {},
     "output_type": "execute_result"
    }
   ],
   "source": [
    "decision_texts = generate_decision_texts(judge_llm, answers)\n",
    "decision_texts"
   ]
  },
  {
   "cell_type": "markdown",
   "metadata": {},
   "source": [
    "解答と判決文を表示して中身を確認します。"
   ]
  },
  {
   "cell_type": "code",
   "execution_count": 25,
   "metadata": {},
   "outputs": [
    {
     "name": "stdout",
     "output_type": "stream",
     "text": [
      "[({'answer_a': '植物研究者が集めた植物の総数を計算するために、各地点での植物の本数を足します。\\n'\n",
      "               '\\n'\n",
      "               '地点A: 12本  \\n'\n",
      "               '地点B: 15本  \\n'\n",
      "               '地点C: 8本  \\n'\n",
      "               '地点D: 10本  \\n'\n",
      "               '地点E: 9本  \\n'\n",
      "               '\\n'\n",
      "               'これらを合計すると、\\n'\n",
      "               '\\n'\n",
      "               '12 + 15 + 8 + 10 + 9 = 54\\n'\n",
      "               '\\n'\n",
      "               'したがって、彼が集めた植物の総数は54本です。',\n",
      "   'answer_b': '植物研究者が集めた植物の総数を求めるために、各地点で収集した植物の本数を足し合わせます。\\n'\n",
      "               '\\n'\n",
      "               '地点A: 12本  \\n'\n",
      "               '地点B: 15本  \\n'\n",
      "               '地点C: 8本  \\n'\n",
      "               '地点D: 10本  \\n'\n",
      "               '地点E: 9本  \\n'\n",
      "               '\\n'\n",
      "               'これらを合計すると、\\n'\n",
      "               '\\n'\n",
      "               '12 + 15 + 8 + 10 + 9 = 54\\n'\n",
      "               '\\n'\n",
      "               'したがって、彼が集めた植物の総数は54本です。',\n",
      "   'question': 'ニュー・ジャージー・パインバレンズの生態系を研究している植物研究者がいます。彼は、特定の植物のサンプルを集めるために、5つの異なる地点を訪れました。各地点で、彼は次のように植物を収集しました：地点Aで12本、地点Bで15本、地点Cで8本、地点Dで10本、地点Eで9本です。彼が集めた植物の総数はいくつですか？'},\n",
      "  \"Both Assistant A and Assistant B provided identical responses to the user's question regarding \"\n",
      "  'the total number of plants collected by the researcher. They both correctly listed the number '\n",
      "  'of plants collected at each location, performed the addition accurately, and arrived at the '\n",
      "  'same total of 54 plants.\\n'\n",
      "  '\\n'\n",
      "  'In terms of helpfulness, relevance, accuracy, depth, creativity, and level of detail, both '\n",
      "  'responses are equal. They both clearly outline the calculation process and provide the correct '\n",
      "  'answer without any additional unnecessary information.\\n'\n",
      "  '\\n'\n",
      "  'Since there is no distinction in the quality of the responses, the evaluation results in a '\n",
      "  'tie.\\n'\n",
      "  '\\n'\n",
      "  '[[C]]'),\n",
      " ({'answer_a': 'クモの化石を見た見学者の数が20人であるとします。問題文によれば、クモの化石を見た見学者の数はサソリの化石を見た見学者の数よりも2倍多いとされています。これを数式で表すと以下のようになります。\\n'\n",
      "               '\\n'\n",
      "               'クモの化石を見た見学者の数 = 2 × サソリの化石を見た見学者の数\\n'\n",
      "               '\\n'\n",
      "               'したがって、\\n'\n",
      "               '\\n'\n",
      "               '20 = 2 × サソリの化石を見た見学者の数\\n'\n",
      "               '\\n'\n",
      "               'この式をサソリの見学者の数について解くと、\\n'\n",
      "               '\\n'\n",
      "               'サソリの化石を見た見学者の数 = 20 / 2 = 10\\n'\n",
      "               '\\n'\n",
      "               'つまり、サソリの化石を見た見学者は10人です。',\n",
      "   'answer_b': 'クモの化石を見た見学者の数が20人で、これがサソリの化石を見た見学者の数の2倍多いとします。\\n'\n",
      "               '\\n'\n",
      "               'クモを見た見学者の数を \\\\( C = 20 \\\\) 人とし、サソリを見た見学者の数を \\\\( S \\\\) 人とします。\\n'\n",
      "               '\\n'\n",
      "               '問題の条件によると、\\n'\n",
      "               '\\\\[\\n'\n",
      "               'C = 2S + S\\n'\n",
      "               '\\\\]\\n'\n",
      "               'すなわち\\n'\n",
      "               '\\\\[\\n'\n",
      "               'C = 3S\\n'\n",
      "               '\\\\]\\n'\n",
      "               'となります。\\n'\n",
      "               '\\n'\n",
      "               'ここに \\\\( C = 20 \\\\) を代入すると、\\n'\n",
      "               '\\\\[\\n'\n",
      "               '20 = 3S\\n'\n",
      "               '\\\\]\\n'\n",
      "               '両辺を3で割ると、\\n'\n",
      "               '\\\\[\\n'\n",
      "               'S = \\\\frac{20}{3} \\\\approx 6.67\\n'\n",
      "               '\\\\]\\n'\n",
      "               'となり、サソリの化石を見た見学者の数は整数でなければなりません。\\n'\n",
      "               '\\n'\n",
      "               'したがって、条件に矛盾があるか、または解釈を見直す必要があります。正確には、クモの化石を見た人数がサソリの化石を見た人数の2倍多いというのは、以下のように解釈すべきです：\\n'\n",
      "               '\\n'\n",
      "               '\\\\[\\n'\n",
      "               'C = 2S\\n'\n",
      "               '\\\\]\\n'\n",
      "               '\\n'\n",
      "               'これにより、\\n'\n",
      "               '\\\\[\\n'\n",
      "               '20 = 2S\\n'\n",
      "               '\\\\]\\n'\n",
      "               'とし、両辺を2で割ると、\\n'\n",
      "               '\\\\[\\n'\n",
      "               'S = 10\\n'\n",
      "               '\\\\]\\n'\n",
      "               '\\n'\n",
      "               'したがって、サソリの化石を見た見学者の数は **10人** です。',\n",
      "   'question': 'ある博物館で、古代の節足動物の化石が展示されています。展示されている化石は、クモが10体、サソリが15体、エビが20体です。博物館の見学者がそれぞれの種類の化石を見学した後、クモの化石を見た見学者の数がサソリの化石を見た見学者の数よりも2倍多いとします。クモの化石を見た見学者が20人だった場合、サソリの化石を見た見学者は何人ですか？'},\n",
      "  '両方のアシスタントの回答を比較すると、どちらも問題の条件を正確に理解し、適切な数式を用いて解答を導き出しています。しかし、アシスタントBは最初に誤った解釈を示し、その後に正しい解釈に修正しています。この過程は、問題の理解において混乱を招く可能性があります。一方、アシスタントAは最初から正しい解釈を用いており、解答に至る過程が明確で簡潔です。\\n'\n",
      "  '\\n'\n",
      "  'アシスタントBは最初の誤解釈を修正する過程を示しているため、より深い思考過程を提供していますが、最初の誤りがあるため、全体的な明瞭さに欠けます。アシスタントAは、問題に対する直接的で明確なアプローチを提供しており、最終的な答えも正確です。\\n'\n",
      "  '\\n'\n",
      "  'したがって、アシスタントAの方がユーザーの質問に対してより良い回答を提供していると評価できます。\\n'\n",
      "  '\\n'\n",
      "  '最終的な判定は、[[A]]です。'),\n",
      " ({'answer_a': '研究者は10個の異なる入力データセットに対して、3つの異なるアルゴリズムを試すことになっています。これを考慮すると、テストの総数は以下のように計算できます。\\n'\n",
      "               '\\n'\n",
      "               'テストの総数 = データセットの数 × アルゴリズムの数\\n'\n",
      "               '\\n'\n",
      "               '具体的には、\\n'\n",
      "               '\\n'\n",
      "               'テストの総数 = 10 × 3 = 30\\n'\n",
      "               '\\n'\n",
      "               'したがって、彼は合計で30回テストを実施することになります。',\n",
      "   'answer_b': '研究者は10個の異なる入力データセットに対して3つの異なるアルゴリズムを試すことにしています。全てのデータセットとアルゴリズムの組み合わせを考えると、テストの総回数は次のように計算できます。\\n'\n",
      "               '\\n'\n",
      "               'テストの総回数 = データセットの数 × アルゴリズムの数\\n'\n",
      "               '\\n'\n",
      "               '具体的には、\\n'\n",
      "               '\\n'\n",
      "               'テストの総回数 = 10（データセットの数） × 3（アルゴリズムの数） = 30\\n'\n",
      "               '\\n'\n",
      "               'したがって、彼は合計で30回のテストを実施することになります。',\n",
      "   'question': 'あるプログラミング言語の研究者が、数値計算のアルゴリズムをテストするために、10個の異なる入力データセットを用意しました。彼は各データセットに対して3つの異なるアルゴリズムを試すことにしました。全てのデータセットとアルゴリズムの組み合わせを考えると、彼は合計で何回テストを実施することになりますか？'},\n",
      "  '両方のアシスタントの回答は、ユーザーの質問に対して正確で明確な計算を提供しています。どちらも、10個のデータセットと3つのアルゴリズムの組み合わせを考慮し、テストの総数を30回と正しく導き出しています。\\n'\n",
      "  '\\n'\n",
      "  'アシスタントAは、計算の過程を簡潔に説明し、結果を明確に示しています。アシスタントBも同様に、計算の過程を示し、結果を明確に述べていますが、特に目立った違いはありません。\\n'\n",
      "  '\\n'\n",
      "  '両者の回答はほぼ同等であり、内容や構成において大きな差異は見られません。したがって、どちらのアシスタントも同じレベルの質を持っていると評価できます。\\n'\n",
      "  '\\n'\n",
      "  '最終的な評価としては、両者の回答は同等であるため、以下のように結論付けます。\\n'\n",
      "  '\\n'\n",
      "  '[[C]]'),\n",
      " ({'answer_a': '水槽の自由表面の面積は、長方形の面積を計算することで求められます。長方形の面積は、長さと幅を掛け合わせることで計算できます。\\n'\n",
      "               '\\n'\n",
      "               '与えられた情報は以下の通りです：\\n'\n",
      "               '- 長さ = 6 メートル\\n'\n",
      "               '- 幅 = 4 メートル\\n'\n",
      "               '\\n'\n",
      "               '面積の計算式は次の通りです：\\n'\n",
      "               '\\\\[ \\\\text{面積} = \\\\text{長さ} \\\\times \\\\text{幅} \\\\]\\n'\n",
      "               '\\n'\n",
      "               'これに数値を代入します：\\n'\n",
      "               '\\\\[ \\\\text{面積} = 6 \\\\, \\\\text{メートル} \\\\times 4 \\\\, \\\\text{メートル} = 24 \\\\, '\n",
      "               '\\\\text{平方メートル} \\\\]\\n'\n",
      "               '\\n'\n",
      "               'したがって、水槽が満水のときの水面の面積は **24平方メートル** です。',\n",
      "   'answer_b': '水槽の形が長方形で、長さが6メートル、幅が4メートルの場合、水面の面積は以下のように計算できます。\\n'\n",
      "               '\\n'\n",
      "               '面積 = 長さ × 幅\\n'\n",
      "               '\\n'\n",
      "               'これを代入すると、\\n'\n",
      "               '\\n'\n",
      "               '面積 = 6メートル × 4メートル = 24平方メートル\\n'\n",
      "               '\\n'\n",
      "               'したがって、この水槽が満水のとき、水面の面積は24平方メートルです。',\n",
      "   'question': 'ある流体力学のエンジニアは、水槽の自由表面の面積を計算しています。水槽の形は長方形で、長さが6メートル、幅が4メートルです。この水槽が満水のとき、水面の面積は何平方メートルですか？'},\n",
      "  '両方のアシスタントの回答を比較すると、どちらも水槽の自由表面の面積を正確に計算し、結果を明確に示しています。しかし、いくつかの点で違いがあります。\\n'\n",
      "  '\\n'\n",
      "  'アシスタントAは、計算の過程を詳細に説明しており、面積の計算式を明示的に示しています。また、与えられた情報を整理して提示しているため、ユーザーにとって理解しやすい構成になっています。\\n'\n",
      "  '\\n'\n",
      "  '一方、アシスタントBも正確な計算を行っていますが、説明がやや簡潔で、計算の過程や与えられた情報の整理が不足しています。結果は同じですが、アシスタントAの方がより詳細で教育的なアプローチを取っています。\\n'\n",
      "  '\\n'\n",
      "  'したがって、アシスタントAの方がユーザーの質問に対してより良い回答を提供していると評価できます。\\n'\n",
      "  '\\n'\n",
      "  '最終的な判断は、[[A]]です。'),\n",
      " ({'answer_a': 'サーモンが1日あたり30キロメートル進み、6日間進んだ場合の合計距離は以下のように計算できます。\\n'\n",
      "               '\\n'\n",
      "               '1日の距離: 30キロメートル  \\n'\n",
      "               '日数: 6日\\n'\n",
      "               '\\n'\n",
      "               '合計距離 = 1日の距離 × 日数  \\n'\n",
      "               '合計距離 = 30キロメートル × 6日 = 180キロメートル\\n'\n",
      "               '\\n'\n",
      "               'したがって、サーモンは合計で180キロメートル上ったことになります。',\n",
      "   'answer_b': 'サーモンが1日あたり30キロメートル進み、6日間進んだ場合、合計の距離は次のように計算できます。\\n'\n",
      "               '\\n'\n",
      "               '1日の進む距離 × 日数 = 合計距離\\n'\n",
      "               '\\n'\n",
      "               '30キロメートル × 6日 = 180キロメートル\\n'\n",
      "               '\\n'\n",
      "               'したがって、サーモンは合計で180キロメートル上ったことになります。',\n",
      "   'question': 'ある年、サーモンが川を遡上するために、1日あたり30キロメートル進みました。サーモンが川を上り始めてから、合計で6日間進みました。サーモンは合計で何キロメートル上ったでしょうか？'},\n",
      "  \"Both Assistant A and Assistant B provided accurate and relevant answers to the user's question \"\n",
      "  'regarding the distance a salmon traveled while swimming upstream. They both correctly '\n",
      "  'calculated the total distance by multiplying the daily distance (30 kilometers) by the number '\n",
      "  'of days (6 days), resulting in a total of 180 kilometers.\\n'\n",
      "  '\\n'\n",
      "  'In terms of helpfulness and clarity, both responses are quite similar. They both present the '\n",
      "  'calculation clearly and arrive at the same conclusion. However, Assistant A provides a slightly '\n",
      "  'more structured format by explicitly stating the daily distance and the number of days before '\n",
      "  'performing the calculation, which may enhance clarity for some users. Assistant B, while also '\n",
      "  'clear, is slightly more concise and straightforward.\\n'\n",
      "  '\\n'\n",
      "  \"Overall, both responses are effective, but Assistant A's additional structure may make it \"\n",
      "  'marginally more helpful for users who appreciate a more detailed breakdown of the calculation '\n",
      "  'process.\\n'\n",
      "  '\\n'\n",
      "  'Final verdict: [[A]]'),\n",
      " ({'answer_a': 'ロボットの移動速度は1時間で10キロメートルです。もしロボットが30時間移動し続けた場合、移動する距離は次のように計算できます。\\n'\n",
      "               '\\n'\n",
      "               '移動距離 = 移動速度 × 時間\\n'\n",
      "               '\\n'\n",
      "               'したがって、\\n'\n",
      "               '\\n'\n",
      "               '移動距離 = 10キロメートル/時間 × 30時間 = 300キロメートル\\n'\n",
      "               '\\n'\n",
      "               'ロボットは合計で300キロメートル移動することになります。',\n",
      "   'answer_b': 'ロボットの移動速度は1時間で10キロメートルです。もしロボットが30時間移動し続けた場合、移動する距離は以下のように計算できます。\\n'\n",
      "               '\\n'\n",
      "               '移動距離 = 移動速度 × 移動時間\\n'\n",
      "               '移動距離 = 10キロメートル/時間 × 30時間\\n'\n",
      "               '移動距離 = 300キロメートル\\n'\n",
      "               '\\n'\n",
      "               'したがって、ロボットは合計で300キロメートル移動することになります。',\n",
      "   'question': 'ある宇宙ロボット工学者が、火星探査のために新しいロボットを設計しています。このロボットは、1時間で10キロメートルの速度で移動します。もしロボットが火星の表面を30時間移動し続けた場合、ロボットは合計で何キロメートル移動することになりますか？'},\n",
      "  '両方のアシスタントの回答は、ユーザーの質問に対して正確で明確な計算を提供しています。どちらもロボットの移動速度と時間を用いて移動距離を計算し、最終的な答えである300キロメートルを示しています。\\n'\n",
      "  '\\n'\n",
      "  'アシスタントAは、計算の過程を簡潔に説明し、結果を明確に示しています。アシスタントBも同様に計算過程を示し、結果を明確にしていますが、表現がやや冗長である印象を受けます。\\n'\n",
      "  '\\n'\n",
      "  '全体的に、両者の回答はほぼ同等の質ですが、アシスタントAの方が少しだけ簡潔で明瞭な表現をしているため、わかりやすさの点で優れています。\\n'\n",
      "  '\\n'\n",
      "  'したがって、最終的な評価は以下の通りです。\\n'\n",
      "  '\\n'\n",
      "  '[[A]]'),\n",
      " ({'answer_a': 'オーガニック農法で作物を育てる農家が1エーカーの土地で年間に2000ポンドのオーガニック野菜を収穫する場合、蜂の巣箱を設置することで収穫量が増加します。\\n'\n",
      "               '\\n'\n",
      "               '1エーカーに蜂の巣箱を5つ設置すると収穫量が10%増加します。したがって、蜂の巣箱1つあたりの増加率は次のように計算できます。\\n'\n",
      "               '\\n'\n",
      "               '10% / 5 = 2%\\n'\n",
      "               '\\n'\n",
      "               'これにより、蜂の巣箱1つを設置した場合、収穫量が2%増加します。\\n'\n",
      "               '\\n'\n",
      "               '蜂の巣箱を3つ設置した場合の収穫量の増加は、\\n'\n",
      "               '\\n'\n",
      "               '2% × 3 = 6%\\n'\n",
      "               '\\n'\n",
      "               'となります。\\n'\n",
      "               '\\n'\n",
      "               '元の収穫量2000ポンドに対して6%の増加を計算します。\\n'\n",
      "               '\\n'\n",
      "               '2000ポンド × 0.06 = 120ポンド\\n'\n",
      "               '\\n'\n",
      "               'したがって、蜂の巣箱3つを設置した場合の収穫量は、\\n'\n",
      "               '\\n'\n",
      "               '2000ポンド + 120ポンド = 2120ポンド\\n'\n",
      "               '\\n'\n",
      "               'したがって、蜂の巣箱を3つ設置したときの収穫量は2120ポンドになります。',\n",
      "   'answer_b': 'まず、基本の収穫量を確認します。1エーカーの土地で年間に2000ポンドのオーガニック野菜が収穫されます。\\n'\n",
      "               '\\n'\n",
      "               '次に、蜂の巣箱を1エーカーあたり5つ設置した場合、収穫量が10％増加することがわかっています。したがって、蜂の巣箱1つあたりの増加分は以下のように計算できます。\\n'\n",
      "               '\\n'\n",
      "               '1. 5つの蜂の巣箱での増加量は：\\n'\n",
      "               '   \\\\[\\n'\n",
      "               '   2000 \\\\times 0.10 = 200 \\\\text{ポンド}\\n'\n",
      "               '   \\\\]\\n'\n",
      "               '   \\n'\n",
      "               '2. つまり、5つの蜂の巣箱を設置した場合、収穫量は：\\n'\n",
      "               '   \\\\[\\n'\n",
      "               '   2000 + 200 = 2200 \\\\text{ポンド}\\n'\n",
      "               '   \\\\]\\n'\n",
      "               '\\n'\n",
      "               '3. したがって、1つの蜂の巣箱あたりの収穫量の増加は：\\n'\n",
      "               '   \\\\[\\n'\n",
      "               '   \\\\frac{200 \\\\text{ポンド}}{5} = 40 \\\\text{ポンド}\\n'\n",
      "               '   \\\\]\\n'\n",
      "               '\\n'\n",
      "               '4. 3つの蜂の巣箱を設置した場合の増加量は：\\n'\n",
      "               '   \\\\[\\n'\n",
      "               '   3 \\\\times 40 = 120 \\\\text{ポンド}\\n'\n",
      "               '   \\\\]\\n'\n",
      "               '\\n'\n",
      "               '5. したがって、3つの蜂の巣箱を設置したときの総収穫量は：\\n'\n",
      "               '   \\\\[\\n'\n",
      "               '   2000 + 120 = 2120 \\\\text{ポンド}\\n'\n",
      "               '   \\\\]\\n'\n",
      "               '\\n'\n",
      "               '結論として、蜂の巣箱を3つ設置した場合の収穫量は2120ポンドになります。',\n",
      "   'question': '環境ジャーナリストであるあなたは、オーガニック農法で作物を育てる農家を取材しています。農家は、1エーカーの土地で年間に2000ポンドのオーガニック野菜を収穫します。また、1エーカーの土地に蜂の巣箱を5つ設置すると、収穫量が10％増加します。あなたは、蜂の巣箱を3つ設置した場合の収穫量を計算したいと思っています。蜂の巣箱を3つ設置したときの収穫量は何ポンドになりますか？'},\n",
      "  '両方のアシスタントの回答を比較すると、どちらも正確に計算を行い、蜂の巣箱を3つ設置した場合の収穫量を2120ポンドと導き出しています。しかし、アシスタントBの回答は、計算過程をより詳細に示しており、各ステップを明確に説明しています。特に、収穫量の増加を計算する際に、5つの蜂の巣箱による増加量を最初に示し、その後に1つあたりの増加量を計算している点が、理解を助ける要素となっています。\\n'\n",
      "  '\\n'\n",
      "  '一方、アシスタントAも正しい計算を行っていますが、説明がやや簡潔で、計算の流れがBに比べて少し分かりにくい印象を与えます。特に、増加率の計算において、Bのように具体的な数値を用いた説明が不足しています。\\n'\n",
      "  '\\n'\n",
      "  'したがって、アシスタントBの方が、計算の過程をより明確に示し、ユーザーにとって理解しやすい回答を提供していると評価できます。\\n'\n",
      "  '\\n'\n",
      "  '最終的な判断としては、アシスタントBがより優れた回答を提供していると考えます。\\n'\n",
      "  '\\n'\n",
      "  '[[B]]'),\n",
      " ({'answer_a': '全ての生徒がタブレットを使うために、1台のタブレットを3人で共有する場合、タブレットの台数は10台です。\\n'\n",
      "               '\\n'\n",
      "               '1台のタブレットを3人で共有する場合、10台のタブレットで使える生徒の人数は次のように計算できます。\\n'\n",
      "               '\\n'\n",
      "               '10台 × 3人/台 = 30人\\n'\n",
      "               '\\n'\n",
      "               'したがって、全ての生徒が1台のタブレットを使うことになります。つまり、30人の生徒全員がタブレットを使うことになります。',\n",
      "   'answer_b': '全ての生徒がタブレットを使うために、1台のタブレットを3人で共有する場合、まずは生徒数をタブレットの台数で割って、共有する生徒数を求めます。\\n'\n",
      "               '\\n'\n",
      "               '生徒数は30人、タブレットの台数は10台です。\\n'\n",
      "               '\\n'\n",
      "               '1台のタブレットを3人で共有する場合、タブレットの台数に3を掛けると、何人分の生徒が利用可能かがわかります。\\n'\n",
      "               '\\n'\n",
      "               '10台のタブレット × 3人 = 30人\\n'\n",
      "               '\\n'\n",
      "               'したがって、全ての生徒がタブレットを使うために、1台のタブレットを3人で共有する場合、30人の生徒全員が1台のタブレットを使うことになります。つまり、30人の生徒がそれぞれタブレットを使うことができます。',\n",
      "   'question': 'ある小学校の先生が、デジタルメディアとアニメーションの授業を行っています。クラスには30人の生徒がいます。先生は、生徒たちにそれぞれ自分のアニメーション作品を作成させるために、必要なタブレットを10台用意しました。もし全ての生徒がタブレットを使うために、1台のタブレットを3人で共有する場合、何人の生徒が1台のタブレットを使うことになりますか？'},\n",
      "  '両方のアシスタントの回答を比較すると、どちらも正確に計算を行い、同じ結論に達していますが、アシスタントBの方が若干詳細で明確な説明を提供しています。\\n'\n",
      "  '\\n'\n",
      "  'アシスタントAは、計算の過程を簡潔に示していますが、説明が少し単調で、計算の意図や手順が明確に伝わりません。一方、アシスタントBは、計算の手順をより詳しく説明し、タブレットの台数に生徒数をどのように関連付けているかを明示しています。このため、アシスタントBの方がユーザーにとって理解しやすい回答となっています。\\n'\n",
      "  '\\n'\n",
      "  'したがって、アシスタントBの方がユーザーの質問に対してより良い回答を提供していると評価できます。\\n'\n",
      "  '\\n'\n",
      "  '[[B]]'),\n",
      " ({'answer_a': '長方形の庭の周囲の長さが40メートルとすると、周囲の長さは次の式で表されます。\\n'\n",
      "               '\\n'\n",
      "               '\\\\[\\n'\n",
      "               '周囲 = 2 \\\\times (長さ + 幅)\\n'\n",
      "               '\\\\]\\n'\n",
      "               '\\n'\n",
      "               'したがって、周囲が40メートルであることから、次のような式が成り立ちます。\\n'\n",
      "               '\\n'\n",
      "               '\\\\[\\n'\n",
      "               '40 = 2 \\\\times (長さ + x)\\n'\n",
      "               '\\\\]\\n'\n",
      "               '\\n'\n",
      "               'この式を解くと、長さを次のように表せます。\\n'\n",
      "               '\\n'\n",
      "               '\\\\[\\n'\n",
      "               '20 = 長さ + x\\n'\n",
      "               '\\\\]\\n'\n",
      "               '\\\\[\\n'\n",
      "               '長さ = 20 - x\\n'\n",
      "               '\\\\]\\n'\n",
      "               '\\n'\n",
      "               '次に、庭の面積 \\\\( A \\\\) を求めます。面積は長さと幅の積で表されるので、\\n'\n",
      "               '\\n'\n",
      "               '\\\\[\\n'\n",
      "               'A = 長さ \\\\times 幅 = (20 - x) \\\\times x\\n'\n",
      "               '\\\\]\\n'\n",
      "               '\\n'\n",
      "               'この式を展開すると、\\n'\n",
      "               '\\n'\n",
      "               '\\\\[\\n'\n",
      "               'A = 20x - x^2\\n'\n",
      "               '\\\\]\\n'\n",
      "               '\\n'\n",
      "               '以上から、庭の面積を表す式は次のようになります。\\n'\n",
      "               '\\n'\n",
      "               '\\\\[\\n'\n",
      "               'A = 20x - x^2\\n'\n",
      "               '\\\\]\\n'\n",
      "               '\\n'\n",
      "               'ここで、\\\\( x \\\\) は幅を表し、長さは \\\\( 20 - x \\\\) で表されます。',\n",
      "   'answer_b': '長方形の庭の周囲の長さが40メートルである場合、周の公式を使って長さと幅の関係を求めます。周の公式は以下のようになります。\\n'\n",
      "               '\\n'\n",
      "               '\\\\[\\n'\n",
      "               '周 = 2 \\\\times (長さ + 幅)\\n'\n",
      "               '\\\\]\\n'\n",
      "               '\\n'\n",
      "               'ここで、幅を\\\\( x \\\\)メートルとすると、長さを \\\\( y \\\\)メートルと表せます。周の長さが40メートルなので、次のような式が成り立ちます。\\n'\n",
      "               '\\n'\n",
      "               '\\\\[\\n'\n",
      "               '2 \\\\times (y + x) = 40\\n'\n",
      "               '\\\\]\\n'\n",
      "               '\\n'\n",
      "               'この式を簡単にすると、\\n'\n",
      "               '\\n'\n",
      "               '\\\\[\\n'\n",
      "               'y + x = 20\\n'\n",
      "               '\\\\]\\n'\n",
      "               '\\n'\n",
      "               'したがって、長さ \\\\( y \\\\) は次のように表せます。\\n'\n",
      "               '\\n'\n",
      "               '\\\\[\\n'\n",
      "               'y = 20 - x\\n'\n",
      "               '\\\\]\\n'\n",
      "               '\\n'\n",
      "               '次に、庭の面積 \\\\( A \\\\) を求めます。面積は長さと幅の積ですので、次のように表せます。\\n'\n",
      "               '\\n'\n",
      "               '\\\\[\\n'\n",
      "               'A = 幅 \\\\times 長さ = x \\\\times y\\n'\n",
      "               '\\\\]\\n'\n",
      "               '\\n'\n",
      "               'ここで、先ほど求めた \\\\( y = 20 - x \\\\) を代入すると、\\n'\n",
      "               '\\n'\n",
      "               '\\\\[\\n'\n",
      "               'A = x \\\\times (20 - x)\\n'\n",
      "               '\\\\]\\n'\n",
      "               '\\n'\n",
      "               'この式は、\\n'\n",
      "               '\\n'\n",
      "               '\\\\[\\n'\n",
      "               'A = 20x - x^2\\n'\n",
      "               '\\\\]\\n'\n",
      "               '\\n'\n",
      "               'となります。これが、幅 \\\\( x \\\\) に対する庭の面積を表す式です。面積を最大化するためには、この式の最大値を求めます。',\n",
      "   'question': 'ある数学の生徒が、長方形の庭を作りたいと考えています。この庭の周囲の長さは40メートルです。生徒は庭の面積を最大化したいと思っています。長方形の庭の幅をxメートルとした場合、長さはどのように表せますか？また、この庭の面積を表す式を作成してください。'},\n",
      "  \"Both Assistant A and Assistant B provide clear and accurate responses to the user's question \"\n",
      "  'about maximizing the area of a rectangular garden with a given perimeter. \\n'\n",
      "  '\\n'\n",
      "  '**Comparison:**\\n'\n",
      "  '\\n'\n",
      "  '1. **Clarity and Structure**: Both assistants start by stating the formula for the perimeter of '\n",
      "  'a rectangle and correctly derive the relationship between length and width. They both express '\n",
      "  'the length in terms of the width \\\\( x \\\\) and arrive at the same equation \\\\( y = 20 - x \\\\).\\n'\n",
      "  '\\n'\n",
      "  '2. **Area Calculation**: Both assistants correctly calculate the area \\\\( A \\\\) of the '\n",
      "  'rectangle as \\\\( A = 20x - x^2 \\\\). They both show the substitution of the length in terms of '\n",
      "  'width and arrive at the same final expression for the area.\\n'\n",
      "  '\\n'\n",
      "  '3. **Depth and Additional Information**: Assistant B goes a step further by mentioning that the '\n",
      "  'area can be maximized and hints at finding the maximum value of the area function, which adds a '\n",
      "  'layer of depth to the response. Assistant A, while accurate, does not mention the maximization '\n",
      "  \"aspect, which is relevant to the user's goal of maximizing the area.\\n\"\n",
      "  '\\n'\n",
      "  \"4. **Relevance and Helpfulness**: Both responses are relevant and helpful, but Assistant B's \"\n",
      "  \"mention of maximizing the area makes it slightly more aligned with the user's intent.\\n\"\n",
      "  '\\n'\n",
      "  '**Final Verdict**: Given that Assistant B provides a more comprehensive response by hinting at '\n",
      "  \"the maximization of the area, I conclude that Assistant B's response is superior.\\n\"\n",
      "  '\\n'\n",
      "  '[[B]]'),\n",
      " ({'answer_a': '赤い風船が6個、青い風船が4個、緑の風船が3個ありますので、合計の風船の数を計算します。\\n'\n",
      "               '\\n'\n",
      "               '6 (赤い風船) + 4 (青い風船) + 3 (緑の風船) = 13\\n'\n",
      "               '\\n'\n",
      "               'したがって、風船の合計は13個です。',\n",
      "   'answer_b': '赤い風船が6個、青い風船が4個、緑の風船が3個ありますので、風船の合計は次のように計算します。\\n'\n",
      "               '\\n'\n",
      "               '6個（赤） + 4個（青） + 3個（緑） = 13個\\n'\n",
      "               '\\n'\n",
      "               'したがって、風船の合計は13個です。',\n",
      "   'question': 'ある小学校の先生が、科学の授業で使うために色とりどりの風船を用意しました。赤い風船が6個、青い風船が4個、緑の風船が3個あります。先生は、全ての風船をクラスの子供たちに配ることにしました。風船の合計はいくつありますか？'},\n",
      "  'Both Assistant A and Assistant B provide accurate calculations and arrive at the same '\n",
      "  'conclusion regarding the total number of balloons. They both clearly state the number of each '\n",
      "  'color of balloon and perform the addition correctly. \\n'\n",
      "  '\\n'\n",
      "  'However, the responses are nearly identical in structure and content, with only slight '\n",
      "  'variations in wording. Assistant A uses \"合計の風船の数を計算します\" while Assistant B uses '\n",
      "  '\"風船の合計は次のように計算します,\" which are both clear but do not significantly differ in helpfulness or '\n",
      "  'clarity. \\n'\n",
      "  '\\n'\n",
      "  'Both responses are equally relevant, accurate, and detailed, providing the same level of depth '\n",
      "  'and clarity. Therefore, there is no clear distinction in quality between the two responses.\\n'\n",
      "  '\\n'\n",
      "  'Final verdict: [[C]]')]\n"
     ]
    }
   ],
   "source": [
    "pp.pprint(list(zip(answers, decision_texts)))"
   ]
  },
  {
   "cell_type": "markdown",
   "metadata": {},
   "source": [
    "判決文をパースして、`A`, `B`, `C` のいずれかを返す関数を定義します。明確に決められないケースは `C` とします。"
   ]
  },
  {
   "cell_type": "code",
   "execution_count": 26,
   "metadata": {},
   "outputs": [],
   "source": [
    "def parse_decision_text(decision_text):\n",
    "    is_a = is_b = is_c = False\n",
    "    if \"[[A]]\" in decision_text:\n",
    "        is_a = True\n",
    "    if \"[[B]]\" in decision_text:\n",
    "        is_b = True\n",
    "    if \"[[C]]\" in decision_text:\n",
    "        is_c = True\n",
    "    decision = \"C\"\n",
    "    if is_a and is_b:\n",
    "        # raise ValueError(f\"Both A and B are chosen: {decision_text}\")\n",
    "        logger.debug(f\"Both A and B are chosen: {decision_text}\")\n",
    "        decision = \"C\"\n",
    "    elif is_a:\n",
    "        decision = \"A\"\n",
    "    elif is_b:\n",
    "        decision = \"B\"\n",
    "    elif is_c:\n",
    "        decision = \"C\"\n",
    "    else:\n",
    "        # raise ValueError(f\"Unknown decision: {decision_text}\")\n",
    "        logger.debug(f\"Unknown decision: {decision_text}\")\n",
    "        decision = \"C\"\n",
    "    # logger.debug(f\"decision: {decision}\")\n",
    "    return decision"
   ]
  },
  {
   "cell_type": "markdown",
   "metadata": {},
   "source": [
    "解答をジャッジして判決を返す関数にまとめます。"
   ]
  },
  {
   "cell_type": "code",
   "execution_count": 27,
   "metadata": {},
   "outputs": [],
   "source": [
    "def judge_answers(llm: LanguageModel, answers: list[dict[str, str]]) -> list[str]:\n",
    "    return [parse_decision_text(decision_text) for decision_text in generate_decision_texts(llm, answers)]"
   ]
  },
  {
   "cell_type": "markdown",
   "metadata": {},
   "source": [
    "実行して、解答に対する判定を確認します。"
   ]
  },
  {
   "cell_type": "code",
   "execution_count": 28,
   "metadata": {},
   "outputs": [
    {
     "data": {
      "text/plain": [
       "['C', 'B', 'A', 'A', 'C', 'C', 'B', 'B', 'B', 'C']"
      ]
     },
     "execution_count": 28,
     "metadata": {},
     "output_type": "execute_result"
    }
   ],
   "source": [
    "decisions = judge_answers(judge_llm, answers)\n",
    "decisions"
   ]
  },
  {
   "cell_type": "markdown",
   "metadata": {},
   "source": [
    "ここまでで、1個の質問に対して2個の解答を生成し、それらの解答を LLM-as-a-Judge で判定することができました。\n",
    "\n",
    "この判定結果から、引き分け `C` 判定を取り除いて `A` と `B` の判決をした解答のみからプリファレンスデータを生成することになりますが、その前に位置バイアスの影響を取り除く処理を行います。"
   ]
  },
  {
   "cell_type": "markdown",
   "metadata": {},
   "source": [
    "## 位置バイアスの軽減\n",
    "\n",
    "位置バイアス (position bias) とは、言語モデルがある特定の位置を他の位置よりも好む傾向を示すことです。このバイアスは言語モデル特有というわけではなく、人間の意思決定や他の機械学習領域でも見られます([LLM-as-a-Judgeの論文](https://arxiv.org/abs/2306.05685)より)。\n",
    "\n",
    "例えば、最初に提示された解答が後に提示された解答よりも高い評価を受ける傾向がある、という位置バイアスが存在することが知られています。\n",
    "\n",
    "<img src=\"https://github.com/user-attachments/assets/3f3d8c4b-0efe-47a7-8d63-1cd8f672e50c\" width=\"600\"><br />\n",
    "\n",
    "以下のテーブルの `Consistency` が位置バイアスを受けずに一貫した判決を下すことの出来る割合です。最も良い結果でも 65% 前後ですので、位置バイアスの影響が大きいことがわかります。また、全体としては、最初の選択肢を選ぶバイアスが大きいこともわかります。\n",
    "\n",
    "<img src=\"https://github.com/user-attachments/assets/4b4c4441-8ea6-4e06-9154-a69d49767eed\" width=\"600\"><br />\n",
    "\n",
    "位置バイアスの影響を減らすための簡単な解決策として、解答の順番をスワップして再度ジャッジして、判決に一貫性がある場合のみ勝利とするという方法があります。スワップした後で結果が一致しない場合は、引き分けとします。\n",
    "\n",
    "今回はこの方法を使って位置バイアスの影響を軽減します。\n",
    "\n",
    "まず、解答の順番を入れ替える関数を定義します。"
   ]
  },
  {
   "cell_type": "code",
   "execution_count": 29,
   "metadata": {},
   "outputs": [],
   "source": [
    "def swap_answers(answers: list[dict[str, str]]) -> list[dict[str, str]]:\n",
    "    return [{\"question\": a[\"question\"], \"answer_a\": a[\"answer_b\"], \"answer_b\": a[\"answer_a\"]} for a in answers]"
   ]
  },
  {
   "cell_type": "markdown",
   "metadata": {},
   "source": [
    "スワップしてから判定した結果は A と B の順番が変わっていますので、比較する際は A と B を入れ替えて比較します。判決を入れ替える関数を定義します。"
   ]
  },
  {
   "cell_type": "code",
   "execution_count": 30,
   "metadata": {},
   "outputs": [],
   "source": [
    "def swap_decisions(decisions: list[str]) -> list[str]:\n",
    "    return [\"A\" if d == \"B\" else \"B\" if d == \"A\" else \"C\" for d in decisions]"
   ]
  },
  {
   "cell_type": "markdown",
   "metadata": {},
   "source": [
    "実際にスワップして判定してみます。"
   ]
  },
  {
   "cell_type": "code",
   "execution_count": 31,
   "metadata": {},
   "outputs": [
    {
     "data": {
      "text/plain": [
       "['C', 'A', 'C', 'A', 'A', 'B', 'B', 'B', 'B', 'B']"
      ]
     },
     "execution_count": 31,
     "metadata": {},
     "output_type": "execute_result"
    }
   ],
   "source": [
    "swapped_decisions = swap_decisions(judge_answers(judge_llm, swap_answers(answers)))\n",
    "swapped_decisions"
   ]
  },
  {
   "cell_type": "markdown",
   "metadata": {},
   "source": [
    "元の判定とスワップした判定を比較して、判決が一致していて、かつ、`C` が含まれていない場合をプリファレンスデータとして採用します。"
   ]
  },
  {
   "cell_type": "code",
   "execution_count": 32,
   "metadata": {},
   "outputs": [],
   "source": [
    "def verify_decisions(decisions: list[str], swapped_decisions: list[str]) -> list[list[str]]:\n",
    "    return [d1 == d2 and d1 != \"C\" for d1, d2 in zip(decisions, swapped_decisions)]"
   ]
  },
  {
   "cell_type": "code",
   "execution_count": 33,
   "metadata": {},
   "outputs": [
    {
     "data": {
      "text/plain": [
       "[(False, 'C', 'C'),\n",
       " (False, 'B', 'A'),\n",
       " (False, 'A', 'C'),\n",
       " (True, 'A', 'A'),\n",
       " (False, 'C', 'A'),\n",
       " (False, 'C', 'B'),\n",
       " (True, 'B', 'B'),\n",
       " (True, 'B', 'B'),\n",
       " (True, 'B', 'B'),\n",
       " (False, 'C', 'B')]"
      ]
     },
     "execution_count": 33,
     "metadata": {},
     "output_type": "execute_result"
    }
   ],
   "source": [
    "verifications = verify_decisions(decisions, swapped_decisions)\n",
    "list(zip(verifications, decisions, swapped_decisions))"
   ]
  },
  {
   "cell_type": "markdown",
   "metadata": {},
   "source": [
    "True が位置を入れ替えても判決がゆるがない(バイアスを受けていない)という結果です、False が位置を入れ替えると判決が覆ってしまう(位置バイアス)場合と引き分けの場合です。\n",
    "\n",
    "裁判官の言語モデルにもよりますが、位置をスワップしても判決が変わらなかったのは約半数ということになりました。\n",
    "\n",
    "ここでの検討事項は、\n",
    "\n",
    "- 判決が入れ替わった数がどの程度あるか (バイアスあるいはタスクの理解ができていない)\n",
    "- A (あるいは B)を選ぶ傾向が明確にあるか (バイアスがあるかどうか)\n",
    "\n",
    "となります。\n",
    "\n",
    "今回は、引き分け C を含むケースを全て除外した上で、バイアスを受けなかったデータをプリファレンスデータとして採用します (`verified` が `True` のデータ)。今までの処理を関数にまとめます。"
   ]
  },
  {
   "cell_type": "code",
   "execution_count": 34,
   "metadata": {},
   "outputs": [],
   "source": [
    "def generate_preferences(judge_llm: LanguageModel, answers: list[dict[str, str]]) -> list[dict[str, str]]:\n",
    "    decisions = judge_answers(judge_llm, answers)\n",
    "    logger.debug(f\"decisions: {decisions}\")\n",
    "    swapped_decisions = swap_decisions(judge_answers(judge_llm, swap_answers(answers)))\n",
    "    logger.debug(f\"swapped_decisions: {swapped_decisions}\")\n",
    "    verifications = verify_decisions(decisions, swapped_decisions)\n",
    "    logger.debug(f\"verifications: {verifications}\")\n",
    "    return [\n",
    "        {\n",
    "            \"prompt\": answer[\"question\"],\n",
    "            \"chosen\": answer[\"answer_a\"] if decision == \"A\" else answer[\"answer_b\"],\n",
    "            \"rejected\": answer[\"answer_b\"] if decision == \"A\" else answer[\"answer_a\"],\n",
    "            \"decision\": decision,\n",
    "            \"swapped_decision\": swapped_decision,\n",
    "            \"verification\": verification,\n",
    "        }\n",
    "        for answer, decision, swapped_decision, verification in zip(answers, decisions, swapped_decisions, verifications)\n",
    "    ]"
   ]
  },
  {
   "cell_type": "code",
   "execution_count": 35,
   "metadata": {},
   "outputs": [
    {
     "name": "stderr",
     "output_type": "stream",
     "text": [
      "decisions: ['C', 'A', 'C', 'A', 'A', 'C', 'B', 'B', 'B', 'C']\n",
      "swapped_decisions: ['C', 'A', 'C', 'A', 'A', 'B', 'B', 'B', 'B', 'B']\n",
      "verifications: [False, True, False, True, True, False, True, True, True, False]\n"
     ]
    },
    {
     "data": {
      "text/plain": [
       "[{'prompt': 'ニュー・ジャージー・パインバレンズの生態系を研究している植物研究者がいます。彼は、特定の植物のサンプルを集めるために、5つの異なる地点を訪れました。各地点で、彼は次のように植物を収集しました：地点Aで12本、地点Bで15本、地点Cで8本、地点Dで10本、地点Eで9本です。彼が集めた植物の総数はいくつですか？',\n",
       "  'chosen': '植物研究者が集めた植物の総数を求めるために、各地点で収集した植物の本数を足し合わせます。\\n\\n地点A: 12本  \\n地点B: 15本  \\n地点C: 8本  \\n地点D: 10本  \\n地点E: 9本  \\n\\nこれらを合計すると、\\n\\n12 + 15 + 8 + 10 + 9 = 54\\n\\nしたがって、彼が集めた植物の総数は54本です。',\n",
       "  'rejected': '植物研究者が集めた植物の総数を計算するために、各地点での植物の本数を足します。\\n\\n地点A: 12本  \\n地点B: 15本  \\n地点C: 8本  \\n地点D: 10本  \\n地点E: 9本  \\n\\nこれらを合計すると、\\n\\n12 + 15 + 8 + 10 + 9 = 54\\n\\nしたがって、彼が集めた植物の総数は54本です。',\n",
       "  'decision': 'C',\n",
       "  'swapped_decision': 'C',\n",
       "  'verification': False},\n",
       " {'prompt': 'ある博物館で、古代の節足動物の化石が展示されています。展示されている化石は、クモが10体、サソリが15体、エビが20体です。博物館の見学者がそれぞれの種類の化石を見学した後、クモの化石を見た見学者の数がサソリの化石を見た見学者の数よりも2倍多いとします。クモの化石を見た見学者が20人だった場合、サソリの化石を見た見学者は何人ですか？',\n",
       "  'chosen': 'クモの化石を見た見学者の数が20人であるとします。問題文によれば、クモの化石を見た見学者の数はサソリの化石を見た見学者の数よりも2倍多いとされています。これを数式で表すと以下のようになります。\\n\\nクモの化石を見た見学者の数 = 2 × サソリの化石を見た見学者の数\\n\\nしたがって、\\n\\n20 = 2 × サソリの化石を見た見学者の数\\n\\nこの式をサソリの見学者の数について解くと、\\n\\nサソリの化石を見た見学者の数 = 20 / 2 = 10\\n\\nつまり、サソリの化石を見た見学者は10人です。',\n",
       "  'rejected': 'クモの化石を見た見学者の数が20人で、これがサソリの化石を見た見学者の数の2倍多いとします。\\n\\nクモを見た見学者の数を \\\\( C = 20 \\\\) 人とし、サソリを見た見学者の数を \\\\( S \\\\) 人とします。\\n\\n問題の条件によると、\\n\\\\[\\nC = 2S + S\\n\\\\]\\nすなわち\\n\\\\[\\nC = 3S\\n\\\\]\\nとなります。\\n\\nここに \\\\( C = 20 \\\\) を代入すると、\\n\\\\[\\n20 = 3S\\n\\\\]\\n両辺を3で割ると、\\n\\\\[\\nS = \\\\frac{20}{3} \\\\approx 6.67\\n\\\\]\\nとなり、サソリの化石を見た見学者の数は整数でなければなりません。\\n\\nしたがって、条件に矛盾があるか、または解釈を見直す必要があります。正確には、クモの化石を見た人数がサソリの化石を見た人数の2倍多いというのは、以下のように解釈すべきです：\\n\\n\\\\[\\nC = 2S\\n\\\\]\\n\\nこれにより、\\n\\\\[\\n20 = 2S\\n\\\\]\\nとし、両辺を2で割ると、\\n\\\\[\\nS = 10\\n\\\\]\\n\\nしたがって、サソリの化石を見た見学者の数は **10人** です。',\n",
       "  'decision': 'A',\n",
       "  'swapped_decision': 'A',\n",
       "  'verification': True},\n",
       " {'prompt': 'あるプログラミング言語の研究者が、数値計算のアルゴリズムをテストするために、10個の異なる入力データセットを用意しました。彼は各データセットに対して3つの異なるアルゴリズムを試すことにしました。全てのデータセットとアルゴリズムの組み合わせを考えると、彼は合計で何回テストを実施することになりますか？',\n",
       "  'chosen': '研究者は10個の異なる入力データセットに対して3つの異なるアルゴリズムを試すことにしています。全てのデータセットとアルゴリズムの組み合わせを考えると、テストの総回数は次のように計算できます。\\n\\nテストの総回数 = データセットの数 × アルゴリズムの数\\n\\n具体的には、\\n\\nテストの総回数 = 10（データセットの数） × 3（アルゴリズムの数） = 30\\n\\nしたがって、彼は合計で30回のテストを実施することになります。',\n",
       "  'rejected': '研究者は10個の異なる入力データセットに対して、3つの異なるアルゴリズムを試すことになっています。これを考慮すると、テストの総数は以下のように計算できます。\\n\\nテストの総数 = データセットの数 × アルゴリズムの数\\n\\n具体的には、\\n\\nテストの総数 = 10 × 3 = 30\\n\\nしたがって、彼は合計で30回テストを実施することになります。',\n",
       "  'decision': 'C',\n",
       "  'swapped_decision': 'C',\n",
       "  'verification': False},\n",
       " {'prompt': 'ある流体力学のエンジニアは、水槽の自由表面の面積を計算しています。水槽の形は長方形で、長さが6メートル、幅が4メートルです。この水槽が満水のとき、水面の面積は何平方メートルですか？',\n",
       "  'chosen': '水槽の自由表面の面積は、長方形の面積を計算することで求められます。長方形の面積は、長さと幅を掛け合わせることで計算できます。\\n\\n与えられた情報は以下の通りです：\\n- 長さ = 6 メートル\\n- 幅 = 4 メートル\\n\\n面積の計算式は次の通りです：\\n\\\\[ \\\\text{面積} = \\\\text{長さ} \\\\times \\\\text{幅} \\\\]\\n\\nこれに数値を代入します：\\n\\\\[ \\\\text{面積} = 6 \\\\, \\\\text{メートル} \\\\times 4 \\\\, \\\\text{メートル} = 24 \\\\, \\\\text{平方メートル} \\\\]\\n\\nしたがって、水槽が満水のときの水面の面積は **24平方メートル** です。',\n",
       "  'rejected': '水槽の形が長方形で、長さが6メートル、幅が4メートルの場合、水面の面積は以下のように計算できます。\\n\\n面積 = 長さ × 幅\\n\\nこれを代入すると、\\n\\n面積 = 6メートル × 4メートル = 24平方メートル\\n\\nしたがって、この水槽が満水のとき、水面の面積は24平方メートルです。',\n",
       "  'decision': 'A',\n",
       "  'swapped_decision': 'A',\n",
       "  'verification': True},\n",
       " {'prompt': 'ある年、サーモンが川を遡上するために、1日あたり30キロメートル進みました。サーモンが川を上り始めてから、合計で6日間進みました。サーモンは合計で何キロメートル上ったでしょうか？',\n",
       "  'chosen': 'サーモンが1日あたり30キロメートル進み、6日間進んだ場合の合計距離は以下のように計算できます。\\n\\n1日の距離: 30キロメートル  \\n日数: 6日\\n\\n合計距離 = 1日の距離 × 日数  \\n合計距離 = 30キロメートル × 6日 = 180キロメートル\\n\\nしたがって、サーモンは合計で180キロメートル上ったことになります。',\n",
       "  'rejected': 'サーモンが1日あたり30キロメートル進み、6日間進んだ場合、合計の距離は次のように計算できます。\\n\\n1日の進む距離 × 日数 = 合計距離\\n\\n30キロメートル × 6日 = 180キロメートル\\n\\nしたがって、サーモンは合計で180キロメートル上ったことになります。',\n",
       "  'decision': 'A',\n",
       "  'swapped_decision': 'A',\n",
       "  'verification': True},\n",
       " {'prompt': 'ある宇宙ロボット工学者が、火星探査のために新しいロボットを設計しています。このロボットは、1時間で10キロメートルの速度で移動します。もしロボットが火星の表面を30時間移動し続けた場合、ロボットは合計で何キロメートル移動することになりますか？',\n",
       "  'chosen': 'ロボットの移動速度は1時間で10キロメートルです。もしロボットが30時間移動し続けた場合、移動する距離は以下のように計算できます。\\n\\n移動距離 = 移動速度 × 移動時間\\n移動距離 = 10キロメートル/時間 × 30時間\\n移動距離 = 300キロメートル\\n\\nしたがって、ロボットは合計で300キロメートル移動することになります。',\n",
       "  'rejected': 'ロボットの移動速度は1時間で10キロメートルです。もしロボットが30時間移動し続けた場合、移動する距離は次のように計算できます。\\n\\n移動距離 = 移動速度 × 時間\\n\\nしたがって、\\n\\n移動距離 = 10キロメートル/時間 × 30時間 = 300キロメートル\\n\\nロボットは合計で300キロメートル移動することになります。',\n",
       "  'decision': 'C',\n",
       "  'swapped_decision': 'B',\n",
       "  'verification': False},\n",
       " {'prompt': '環境ジャーナリストであるあなたは、オーガニック農法で作物を育てる農家を取材しています。農家は、1エーカーの土地で年間に2000ポンドのオーガニック野菜を収穫します。また、1エーカーの土地に蜂の巣箱を5つ設置すると、収穫量が10％増加します。あなたは、蜂の巣箱を3つ設置した場合の収穫量を計算したいと思っています。蜂の巣箱を3つ設置したときの収穫量は何ポンドになりますか？',\n",
       "  'chosen': 'まず、基本の収穫量を確認します。1エーカーの土地で年間に2000ポンドのオーガニック野菜が収穫されます。\\n\\n次に、蜂の巣箱を1エーカーあたり5つ設置した場合、収穫量が10％増加することがわかっています。したがって、蜂の巣箱1つあたりの増加分は以下のように計算できます。\\n\\n1. 5つの蜂の巣箱での増加量は：\\n   \\\\[\\n   2000 \\\\times 0.10 = 200 \\\\text{ポンド}\\n   \\\\]\\n   \\n2. つまり、5つの蜂の巣箱を設置した場合、収穫量は：\\n   \\\\[\\n   2000 + 200 = 2200 \\\\text{ポンド}\\n   \\\\]\\n\\n3. したがって、1つの蜂の巣箱あたりの収穫量の増加は：\\n   \\\\[\\n   \\\\frac{200 \\\\text{ポンド}}{5} = 40 \\\\text{ポンド}\\n   \\\\]\\n\\n4. 3つの蜂の巣箱を設置した場合の増加量は：\\n   \\\\[\\n   3 \\\\times 40 = 120 \\\\text{ポンド}\\n   \\\\]\\n\\n5. したがって、3つの蜂の巣箱を設置したときの総収穫量は：\\n   \\\\[\\n   2000 + 120 = 2120 \\\\text{ポンド}\\n   \\\\]\\n\\n結論として、蜂の巣箱を3つ設置した場合の収穫量は2120ポンドになります。',\n",
       "  'rejected': 'オーガニック農法で作物を育てる農家が1エーカーの土地で年間に2000ポンドのオーガニック野菜を収穫する場合、蜂の巣箱を設置することで収穫量が増加します。\\n\\n1エーカーに蜂の巣箱を5つ設置すると収穫量が10%増加します。したがって、蜂の巣箱1つあたりの増加率は次のように計算できます。\\n\\n10% / 5 = 2%\\n\\nこれにより、蜂の巣箱1つを設置した場合、収穫量が2%増加します。\\n\\n蜂の巣箱を3つ設置した場合の収穫量の増加は、\\n\\n2% × 3 = 6%\\n\\nとなります。\\n\\n元の収穫量2000ポンドに対して6%の増加を計算します。\\n\\n2000ポンド × 0.06 = 120ポンド\\n\\nしたがって、蜂の巣箱3つを設置した場合の収穫量は、\\n\\n2000ポンド + 120ポンド = 2120ポンド\\n\\nしたがって、蜂の巣箱を3つ設置したときの収穫量は2120ポンドになります。',\n",
       "  'decision': 'B',\n",
       "  'swapped_decision': 'B',\n",
       "  'verification': True},\n",
       " {'prompt': 'ある小学校の先生が、デジタルメディアとアニメーションの授業を行っています。クラスには30人の生徒がいます。先生は、生徒たちにそれぞれ自分のアニメーション作品を作成させるために、必要なタブレットを10台用意しました。もし全ての生徒がタブレットを使うために、1台のタブレットを3人で共有する場合、何人の生徒が1台のタブレットを使うことになりますか？',\n",
       "  'chosen': '全ての生徒がタブレットを使うために、1台のタブレットを3人で共有する場合、まずは生徒数をタブレットの台数で割って、共有する生徒数を求めます。\\n\\n生徒数は30人、タブレットの台数は10台です。\\n\\n1台のタブレットを3人で共有する場合、タブレットの台数に3を掛けると、何人分の生徒が利用可能かがわかります。\\n\\n10台のタブレット × 3人 = 30人\\n\\nしたがって、全ての生徒がタブレットを使うために、1台のタブレットを3人で共有する場合、30人の生徒全員が1台のタブレットを使うことになります。つまり、30人の生徒がそれぞれタブレットを使うことができます。',\n",
       "  'rejected': '全ての生徒がタブレットを使うために、1台のタブレットを3人で共有する場合、タブレットの台数は10台です。\\n\\n1台のタブレットを3人で共有する場合、10台のタブレットで使える生徒の人数は次のように計算できます。\\n\\n10台 × 3人/台 = 30人\\n\\nしたがって、全ての生徒が1台のタブレットを使うことになります。つまり、30人の生徒全員がタブレットを使うことになります。',\n",
       "  'decision': 'B',\n",
       "  'swapped_decision': 'B',\n",
       "  'verification': True},\n",
       " {'prompt': 'ある数学の生徒が、長方形の庭を作りたいと考えています。この庭の周囲の長さは40メートルです。生徒は庭の面積を最大化したいと思っています。長方形の庭の幅をxメートルとした場合、長さはどのように表せますか？また、この庭の面積を表す式を作成してください。',\n",
       "  'chosen': '長方形の庭の周囲の長さが40メートルである場合、周の公式を使って長さと幅の関係を求めます。周の公式は以下のようになります。\\n\\n\\\\[\\n周 = 2 \\\\times (長さ + 幅)\\n\\\\]\\n\\nここで、幅を\\\\( x \\\\)メートルとすると、長さを \\\\( y \\\\)メートルと表せます。周の長さが40メートルなので、次のような式が成り立ちます。\\n\\n\\\\[\\n2 \\\\times (y + x) = 40\\n\\\\]\\n\\nこの式を簡単にすると、\\n\\n\\\\[\\ny + x = 20\\n\\\\]\\n\\nしたがって、長さ \\\\( y \\\\) は次のように表せます。\\n\\n\\\\[\\ny = 20 - x\\n\\\\]\\n\\n次に、庭の面積 \\\\( A \\\\) を求めます。面積は長さと幅の積ですので、次のように表せます。\\n\\n\\\\[\\nA = 幅 \\\\times 長さ = x \\\\times y\\n\\\\]\\n\\nここで、先ほど求めた \\\\( y = 20 - x \\\\) を代入すると、\\n\\n\\\\[\\nA = x \\\\times (20 - x)\\n\\\\]\\n\\nこの式は、\\n\\n\\\\[\\nA = 20x - x^2\\n\\\\]\\n\\nとなります。これが、幅 \\\\( x \\\\) に対する庭の面積を表す式です。面積を最大化するためには、この式の最大値を求めます。',\n",
       "  'rejected': '長方形の庭の周囲の長さが40メートルとすると、周囲の長さは次の式で表されます。\\n\\n\\\\[\\n周囲 = 2 \\\\times (長さ + 幅)\\n\\\\]\\n\\nしたがって、周囲が40メートルであることから、次のような式が成り立ちます。\\n\\n\\\\[\\n40 = 2 \\\\times (長さ + x)\\n\\\\]\\n\\nこの式を解くと、長さを次のように表せます。\\n\\n\\\\[\\n20 = 長さ + x\\n\\\\]\\n\\\\[\\n長さ = 20 - x\\n\\\\]\\n\\n次に、庭の面積 \\\\( A \\\\) を求めます。面積は長さと幅の積で表されるので、\\n\\n\\\\[\\nA = 長さ \\\\times 幅 = (20 - x) \\\\times x\\n\\\\]\\n\\nこの式を展開すると、\\n\\n\\\\[\\nA = 20x - x^2\\n\\\\]\\n\\n以上から、庭の面積を表す式は次のようになります。\\n\\n\\\\[\\nA = 20x - x^2\\n\\\\]\\n\\nここで、\\\\( x \\\\) は幅を表し、長さは \\\\( 20 - x \\\\) で表されます。',\n",
       "  'decision': 'B',\n",
       "  'swapped_decision': 'B',\n",
       "  'verification': True},\n",
       " {'prompt': 'ある小学校の先生が、科学の授業で使うために色とりどりの風船を用意しました。赤い風船が6個、青い風船が4個、緑の風船が3個あります。先生は、全ての風船をクラスの子供たちに配ることにしました。風船の合計はいくつありますか？',\n",
       "  'chosen': '赤い風船が6個、青い風船が4個、緑の風船が3個ありますので、風船の合計は次のように計算します。\\n\\n6個（赤） + 4個（青） + 3個（緑） = 13個\\n\\nしたがって、風船の合計は13個です。',\n",
       "  'rejected': '赤い風船が6個、青い風船が4個、緑の風船が3個ありますので、合計の風船の数を計算します。\\n\\n6 (赤い風船) + 4 (青い風船) + 3 (緑の風船) = 13\\n\\nしたがって、風船の合計は13個です。',\n",
       "  'decision': 'C',\n",
       "  'swapped_decision': 'B',\n",
       "  'verification': False}]"
      ]
     },
     "execution_count": 35,
     "metadata": {},
     "output_type": "execute_result"
    }
   ],
   "source": [
    "preferences = generate_preferences(judge_llm, answers)\n",
    "preferences"
   ]
  },
  {
   "cell_type": "markdown",
   "metadata": {},
   "source": [
    "JSONL 形式で解答のデータを読み込み、プリファレンスデータを JSONL 形式で保存する関数を作成します。除外したデータは `skip_jsonl` ファイルに保存します。"
   ]
  },
  {
   "cell_type": "code",
   "execution_count": 36,
   "metadata": {},
   "outputs": [],
   "source": [
    "def run_generate_preferences(judge_llm: LanguageModel, input_jsonl: str = \"answers.jsonl\", output_jsonl: str = \"verified_preference.jsonl\", skip_jsonl: str = \"skipped_preference.jsonl\", batch_size: int = 8) -> None:\n",
    "    dataset = load_dataset(\"json\", data_files=input_jsonl, name=\"default\", split=\"train\", cache_dir=\"cache\")\n",
    "    end = len(dataset)\n",
    "    start = 0\n",
    "    with open(output_jsonl, \"w\", encoding=\"utf-8\") as f_output, open(skip_jsonl, \"w\", encoding=\"utf-8\") as f_skip:\n",
    "        for i in tqdm(range(start, end, batch_size)):\n",
    "            batch_start = i\n",
    "            batch_end = min(i + batch_size, end)\n",
    "            data = dataset[batch_start:batch_end]\n",
    "            answers = pd.DataFrame(data).to_dict(orient=\"records\")  # convert column-wise to row-wise\n",
    "            if len(answers) == 0:\n",
    "                break\n",
    "            preferences = generate_preferences(judge_llm, answers)\n",
    "            for preference in preferences:\n",
    "                f = f_output if preference[\"verification\"] else f_skip\n",
    "                f.write(json.dumps(preference, ensure_ascii=False) + \"\\n\")\n",
    "                # print(pp.pformat(preference))"
   ]
  },
  {
   "cell_type": "code",
   "execution_count": 37,
   "metadata": {},
   "outputs": [
    {
     "name": "stderr",
     "output_type": "stream",
     "text": [
      "  0%|          | 0/2 [00:00<?, ?it/s]decisions: ['C', 'B', 'C', 'A', 'A', 'A', 'B', 'B']\n",
      "swapped_decisions: ['C', 'A', 'C', 'A', 'A', 'C', 'B', 'B']\n",
      "verifications: [False, False, False, True, True, False, True, True]\n",
      " 50%|█████     | 1/2 [00:11<00:11, 11.55s/it]decisions: ['B', 'C']\n",
      "swapped_decisions: ['B', 'B']\n",
      "verifications: [True, False]\n",
      "100%|██████████| 2/2 [00:19<00:00,  9.98s/it]\n"
     ]
    }
   ],
   "source": [
    "run_generate_preferences(judge_llm, \"answers.jsonl\", \"verified_preference.jsonl\", \"skipped_preference.jsonl\")"
   ]
  },
  {
   "cell_type": "markdown",
   "metadata": {},
   "source": [
    "位置バイアスを取り除いたプリファレンスデータが `verified_preference.jsonl` に保存され、除外したデータが `skipped_preference.jsonl` に保存されます。\n",
    "\n",
    "この後、`verified_preference.jsonl` を使って、DPO を実行し、言語モデルの性能を向上させることができます。\n",
    "\n",
    "さらに、DPO で学習した言語モデルを使って、再度新たなプリファレンスデータを合成して DPO を行うことで、反復的に性能を向上させることが可能と報告されています ([Iterative Direct Preference Learning (Iterative DPO)](https://arxiv.org/abs/2405.07863)より)。\n",
    "\n",
    "<img src=\"https://github.com/user-attachments/assets/12018455-2823-4f03-ac05-9562091b2b5b\" width=\"800\"><br />\n",
    "\n",
    "本ハンズオンは上記の図のうち、以下のステップを実行したことになります。\n",
    "\n",
    "- ターゲットとなる言語モデルにプロンプトを入力し、2個の応答をサンプリング\n",
    "- LLM-as-a-Judge でサンプリングした応答を評価 (+ 位置バイアスの軽減)\n",
    "- 高評価のものを chosen、低評価のものを rejected としてプリファレンスデータを合成"
   ]
  },
  {
   "cell_type": "markdown",
   "metadata": {},
   "source": [
    "## まとめ\n",
    "\n",
    "\n",
    "本ハンズオンでは、言語モデルを使ってプリファレンスデータ(preference data, 選好データ)を合成する方法を紹介しました。以下、本ハンズオンで紹介した内容をまとめます。\n",
    "\n",
    "- [Direct Preference Optimization (DPO)](https://papers.nips.cc/paper_files/paper/2023/hash/a85b405ed65c6477a4fe8302b5e06ce7-Abstract-Conference.html) と [Iterative Direct Preference Learning (Iterative DPO)](https://arxiv.org/abs/2405.07863) の紹介\n",
    "- [LLM-as-a-Judge](https://proceedings.neurips.cc/paper_files/paper/2023/hash/91f18a1287b398d378ef22505bf41832-Abstract-Datasets_and_Benchmarks.html) 手法の解説\n",
    "- [Iterative DPO](https://arxiv.org/abs/2405.07863) 手法によるプリファレンスデータ合成\n",
    "  - サンプリングで 1個の質問から2個の異なる解答を生成\n",
    "  - LLM-as-a-Judge でどちらの解答が優れているか判定\n",
    "  - 位置バイアスの軽減のために解答の順番をスワップして再度判定\n",
    "  - 一貫性のある判決を下したデータをプリファレンスデータとして採用\n"
   ]
  },
  {
   "cell_type": "markdown",
   "metadata": {},
   "source": [
    "## 参考文献\n",
    "\n",
    "- Lianmin Zheng et al., \"Judging LLM-as-a-Judge with MT-Bench and Chatbot Arena\", NeurIPS 2023, 2023. https://proceedings.neurips.cc/paper_files/paper/2023/hash/91f18a1287b398d378ef22505bf41832-Abstract-Datasets_and_Benchmarks.html\n",
    "- Jiawei Gu et al., \"A Survey on LLM-as-a-Judge\", arXiv preprint arXiv:2411.15594v3, 2024. https://arxiv.org/abs/2411.15594\n",
    "- Rafael Rafailov et al., \"Direct Preference Optimization: Your Language Model is Secretly a Reward Model\", NeurIPS 2023, 2023. https://papers.nips.cc/paper_files/paper/2023/hash/a85b405ed65c6477a4fe8302b5e06ce7-Abstract-Conference.html\n",
    "- Hanze Dong et al., \"RLHF Workflow: From Reward Modeling to Online RLHF\", arXiv preprint arXiv:2405.07863v3, 2024. https://arxiv.org/abs/2405.07863\n",
    "- Kan Hatakeyama, \"大規模言語モデルを開発するにあたっての事前・事後学習の戦略メモー特に合成データについてー\", https://zenn.dev/matsuolab/articles/34036f017fae9e, アクセス日: 2025-02-01\n",
    "- Someya, \"Tanuki-8B, 8x8B - 事後学習の軌跡\", https://zenn.dev/matsuolab/articles/62c75674190a41, アクセス日: 2025-02-01\n",
    "- Arata, \"TanukiモデルのAWQ、GPTQ、GGUF量子化について\", https://zenn.dev/matsuolab/articles/2857bf0feeeb5d, アクセス日: 2025-02-01\n",
    "- Arata, \"Tanuki-8BにMagpieを適用して日本語の合成対話データセットを作成する\", https://zenn.dev/aratako_lm/articles/a5ae43fb2bfbb3, アクセス日: 2025-02-01\n",
    "- knishimae, \"Tanuki-8B, 8x8B - Direct Preference Optimization (DPO)実行(11/24日勉強会公開用)\", https://zenn.dev/matsuolab/articles/62d99af24ff89a, アクセス日: 2025-02-01\n",
    "- Mitsuhashi, \"プロンプト進化を用いた日本語選好データセットの構築\", https://zenn.dev/matsuolab/articles/10a1aa9d43e4fe, アクセス日: 2025-02-01\n",
    "- Mさん, \"Tanuki8Bに対するMT-Benchを用いた評価を体験してみる\", https://zenn.dev/matsuolab/articles/2aafa8a7ba7482, アクセス日: 2025-02-01\n",
    "- Kan Hatakeyama, \"大規模言語モデル Tanuki-8x8B の紹介と開発経緯など\", 9/10 松尾研 LLM 開発プロジェクト \"Tanuki-8x8B\" 開発成果報告会 Vol.1, https://www.docswell.com/s/matsuo-lab_llm/51R2L4-2024-9-10-Tanuki%E9%96%8B%E7%99%BA%E5%A0%B1%E5%91%8A%E4%BC%9A-vol1, https://www.youtube.com/watch?v=IcpXpX-r6ZY, アクセス日: 2025-01-28\n",
    "- Susumu Ota, \"Persona-Hub による合成データ生成\", 9/24 松尾研 LLM 開発プロジェクト \"Tanuki-8x8B\" 開発成果報告会 Vol. 3, https://www.docswell.com/s/matsuo-lab_llm/ZDNGR4-2024-9-24-Tanuki%E9%96%8B%E7%99%BA%E5%A0%B1%E5%91%8A%E4%BC%9A-vol3, https://www.youtube.com/watch?v=XAdc-OgLeOw, アクセス日: 2025-01-28\n",
    "- 松尾研LLMコミュニティメンバー, \"「小型LlamaモデルのTRLライブラリを用いた事後学習」松尾研 LLM コミュニティ 勉強会シリーズ#3 (2024-11-24)\", https://www.youtube.com/watch?v=ezNx6tB8jac, アクセス日: 2025-02-01\n",
    "- [NEDO 採択プロジェクト] 多様な日本語能力の向上を目指した公開の基盤モデル開発, コードレポジトリ \"iterative-dpo\",アクセス日: 2025-01-28, https://github.com/matsuolab/nedo_project_code/tree/team_hatakeyama_phase2/team_hatakeyama_phase2/ota/iterative-dpo"
   ]
  },
  {
   "cell_type": "markdown",
   "metadata": {},
   "source": [
    "以上"
   ]
  }
 ],
 "metadata": {
  "kernelspec": {
   "display_name": ".venv",
   "language": "python",
   "name": "python3"
  },
  "language_info": {
   "codemirror_mode": {
    "name": "ipython",
    "version": 3
   },
   "file_extension": ".py",
   "mimetype": "text/x-python",
   "name": "python",
   "nbconvert_exporter": "python",
   "pygments_lexer": "ipython3",
   "version": "3.11.11"
  }
 },
 "nbformat": 4,
 "nbformat_minor": 2
}
