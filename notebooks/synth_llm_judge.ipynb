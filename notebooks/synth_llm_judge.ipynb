{
 "cells": [
  {
   "cell_type": "markdown",
   "metadata": {},
   "source": [
    "# LLM-as-a-Judge による選好データ合成\n",
    "\n",
    "Susumu Ota  2025-02-02"
   ]
  },
  {
   "cell_type": "markdown",
   "metadata": {},
   "source": [
    "本ハンズオンでは、言語モデルを使って選好データ(preference data)を合成する方法を紹介します。\n",
    "\n",
    "まず、簡単に [Direct Preference Optimization (DPO)](https://arxiv.org/abs/2305.18290) について説明します。次に、[LLM-as-a-Judge](https://arxiv.org/abs/2306.05685) 手法の解説、そして実際に選好データを合成する方法を紹介します。作成した選好データは DPO などの事後学習に利用することができます。"
   ]
  },
  {
   "cell_type": "markdown",
   "metadata": {},
   "source": [
    "## Direct Preference Optimization (DPO) とは\n",
    "\n",
    "TODO\n",
    "\n",
    "<img src=\"https://github.com/user-attachments/assets/bba0a5d1-b6ba-4c21-aaf7-697169b85db8\" width=\"800\">\n"
   ]
  },
  {
   "cell_type": "markdown",
   "metadata": {},
   "source": [
    "## LLM-as-a-Judge 手法の概要\n",
    "\n",
    "TODO\n",
    "\n",
    "\n",
    "<img src=\"https://github.com/user-attachments/assets/853e351d-f35b-41f3-be28-29426feede89\" width=\"800\">\n",
    "<br />\n",
    "<img src=\"https://github.com/user-attachments/assets/12111a26-50c8-439c-a23a-ae7240c259bc\" width=\"800\">\n",
    "<br />"
   ]
  },
  {
   "cell_type": "markdown",
   "metadata": {},
   "source": [
    "## 準備\n",
    "\n",
    "準備については、`Persona-Hub による事後学習データ合成` ハンズオンの内容とほぼ同じですのでそちらの資料を参照してください。"
   ]
  },
  {
   "cell_type": "markdown",
   "metadata": {},
   "source": [
    "### トークンと API キーの設定"
   ]
  },
  {
   "cell_type": "code",
   "execution_count": 1,
   "metadata": {},
   "outputs": [],
   "source": [
    "if str(get_ipython()).startswith(\"<google.colab\"):  # if this notebook is running in Google Colab  # type: ignore\n",
    "    import os\n",
    "    from google.colab import userdata  # type: ignore\n",
    "\n",
    "    os.environ[\"HF_TOKEN\"] = userdata.get(\"HF_TOKEN\")\n",
    "    # os.environ[\"OPENAI_API_KEY\"] = userdata.get(\"OPENAI_API_KEY\")\n",
    "    # os.environ[\"NVIDIA_NIM_API_KEY\"] = userdata.get(\"NVIDIA_NIM_API_KEY\")"
   ]
  },
  {
   "cell_type": "markdown",
   "metadata": {},
   "source": [
    "### モジュールのインストール"
   ]
  },
  {
   "cell_type": "code",
   "execution_count": 2,
   "metadata": {},
   "outputs": [],
   "source": [
    "# %pip install litellm\n",
    "# %pip install datasets\n",
    "# %pip install pandas\n",
    "\n",
    "# %pip install vllm"
   ]
  },
  {
   "cell_type": "markdown",
   "metadata": {},
   "source": [
    "### モジュールのインポート"
   ]
  },
  {
   "cell_type": "code",
   "execution_count": 3,
   "metadata": {},
   "outputs": [
    {
     "name": "stderr",
     "output_type": "stream",
     "text": [
      "/Users/ota/Documents/python/synthetic-data-hands-on/.venv/lib/python3.11/site-packages/tqdm/auto.py:21: TqdmWarning: IProgress not found. Please update jupyter and ipywidgets. See https://ipywidgets.readthedocs.io/en/stable/user_install.html\n",
      "  from .autonotebook import tqdm as notebook_tqdm\n",
      "/Users/ota/Documents/python/synthetic-data-hands-on/.venv/lib/python3.11/site-packages/pydantic/_internal/_config.py:345: UserWarning: Valid config keys have changed in V2:\n",
      "* 'fields' has been removed\n",
      "  warnings.warn(message, UserWarning)\n"
     ]
    },
    {
     "name": "stdout",
     "output_type": "stream",
     "text": [
      "No vllm module found. You can only use the LiteLLM.\n"
     ]
    }
   ],
   "source": [
    "from abc import ABC, abstractmethod\n",
    "import json\n",
    "from logging import DEBUG, INFO, StreamHandler, getLogger  # noqa: F401\n",
    "import pprint\n",
    "\n",
    "\n",
    "from datasets import load_dataset\n",
    "from litellm import batch_completion\n",
    "import pandas as pd\n",
    "\n",
    "\n",
    "try:\n",
    "    from vllm import LLM, SamplingParams  # type: ignore\n",
    "except ImportError:\n",
    "    print(\"No vllm module found. You can only use the LiteLLM.\")"
   ]
  },
  {
   "cell_type": "markdown",
   "metadata": {},
   "source": [
    "### ログの設定"
   ]
  },
  {
   "cell_type": "code",
   "execution_count": 4,
   "metadata": {},
   "outputs": [],
   "source": [
    "logging_level = DEBUG\n",
    "# logging_level = INFO  # uncomment if you want to see less output\n",
    "logger = getLogger(__name__)\n",
    "logger.setLevel(logging_level)\n",
    "handler = StreamHandler()\n",
    "handler.setLevel(logging_level)\n",
    "logger.addHandler(handler)\n",
    "\n",
    "pp = pprint.PrettyPrinter(width=100)"
   ]
  },
  {
   "cell_type": "markdown",
   "metadata": {},
   "source": [
    "### 言語モデルの設定\n",
    "\n",
    "`n` というパラメータを追加して、一つのプロンプトに対して複数の結果を生成するよう変更しました。結果出力もリストのリストに変更となります。 `# changed` というコメントがある行が変更された行です。"
   ]
  },
  {
   "cell_type": "code",
   "execution_count": 5,
   "metadata": {},
   "outputs": [],
   "source": [
    "class LanguageModel(ABC):\n",
    "    def __init__(self, model: str, temperature=1.0, max_tokens=16, seed=None, n=None):  # changed\n",
    "        self.model = model\n",
    "        self.temperature = temperature\n",
    "        self.max_tokens = max_tokens\n",
    "        self.seed = seed\n",
    "        self.n = n  # changed\n",
    "        logger.debug(f\"model: {model}, temperature: {temperature}, max_tokens: {max_tokens}, seed: {seed}, n: {n}\")  # changed\n",
    "\n",
    "    @abstractmethod\n",
    "    def __call__(self, messages_batch: list[list[dict[str, str]]]) -> list[list[str]]:  # changed\n",
    "        pass\n",
    "\n",
    "\n",
    "class LiteLLMModel(LanguageModel):\n",
    "    def __init__(self, model: str, temperature=1.0, max_tokens=16, seed=None, n=None):  # changed\n",
    "        super().__init__(model, temperature, max_tokens, seed, n)  # changed\n",
    "\n",
    "    def __call__(self, messages_batch: list[list[dict[str, str]]]) -> list[list[str]]:  # changed\n",
    "        contents = [\n",
    "            [choice.message.content for choice in response.choices]  # changed\n",
    "            for response in batch_completion(\n",
    "                model=self.model,\n",
    "                messages=messages_batch,\n",
    "                temperature=self.temperature,\n",
    "                max_tokens=self.max_tokens,\n",
    "                seed=self.seed,\n",
    "                n=self.n,  # changed\n",
    "            )\n",
    "        ]\n",
    "        assert len(contents) == len(messages_batch)\n",
    "        return contents\n",
    "\n",
    "\n",
    "class VLLMModel(LanguageModel):\n",
    "    def __init__(self, model: str, temperature=1.0, max_tokens=16, seed=None, n=None, dtype=\"auto\", stop=None):  # changed\n",
    "        super().__init__(model, temperature, max_tokens, seed, n)  # changed\n",
    "        self.dtype = dtype\n",
    "        self.stop = stop\n",
    "        self.vllm = LLM(model, dtype=dtype)  # dtype must be \"half\" to run on Colab T4\n",
    "        self.tokenizer = self.vllm.get_tokenizer()\n",
    "\n",
    "    def __call__(self, messages_batch: list[list[dict[str, str]]]) -> list[list[str]]:  # changed\n",
    "        sampling_params = SamplingParams(\n",
    "            temperature=self.temperature, max_tokens=self.max_tokens, seed=self.seed, n=self.n, stop=self.stop  # changed\n",
    "        )\n",
    "        prompts = [\n",
    "            self.tokenizer.apply_chat_template(messages, tokenize=False, add_generation_prompt=True)\n",
    "            for messages in messages_batch\n",
    "        ]\n",
    "        outputs = self.vllm.generate(prompts, sampling_params=sampling_params, use_tqdm=False)\n",
    "        contents = [\n",
    "            [oo.text for oo in o.outputs]  # changed\n",
    "            for o in outputs\n",
    "        ]\n",
    "        assert len(contents) == len(messages_batch)\n",
    "        return contents"
   ]
  },
  {
   "cell_type": "markdown",
   "metadata": {},
   "source": [
    "### 言語モデルの作成\n",
    "\n",
    "裁判官の役割をする言語モデルを作成します。温度パラメータ `temperature` が `0.0` であることに注意してください。\n",
    "\n",
    "Note: 裁判官のタスクは難易度が高いので、高度な言語モデルを使用する必要があります。10B 程度の言語モデルでは難しいかもしれません(タスクを理解できない可能性があります)。"
   ]
  },
  {
   "cell_type": "code",
   "execution_count": 6,
   "metadata": {},
   "outputs": [
    {
     "name": "stderr",
     "output_type": "stream",
     "text": [
      "model: gpt-4o-mini, temperature: 0.0, max_tokens: 512, seed: 0, n: None\n"
     ]
    },
    {
     "data": {
      "text/plain": [
       "<__main__.LiteLLMModel at 0x1107f5910>"
      ]
     },
     "execution_count": 6,
     "metadata": {},
     "output_type": "execute_result"
    }
   ],
   "source": [
    "judge_llm = LiteLLMModel(\"gpt-4o-mini\", temperature=0.0, max_tokens=512, seed=0)  # OPENAI_API_KEY\n",
    "# judge_llm = LiteLLMModel(\"nvidia_nim/nvidia/nemotron-4-340b-instruct\", temperature=0.0, max_tokens=512, seed=None)  # NVIDIA_NIM_API_KEY\n",
    "# judge_llm = LiteLLMModel(\"nvidia_nim/nvidia/llama-3.1-nemotron-70b-instruct\", temperature=0.0, max_tokens=512, seed=None)  # NVIDIA_NIM_API_KEY\n",
    "# judge_llm = LiteLLMModel(\"deepinfra/nvidia/Llama-3.1-Nemotron-70B-Instruct\", temperature=0.0, max_tokens=512, seed=0)  # DEEPINFRA_API_KEY\n",
    "# judge_llm = VLLMModel(\"hpprc/gemma-2-2b-jpn-it\", temperature=0.0, max_tokens=512, seed=0, stop=[\"<end_of_turn>\"], dtype=\"half\")  # for Colab T4\n",
    "# judge_llm = VLLMModel(\"marcsun13/gemma-2-9b-it-GPTQ\", temperature=0.0, max_tokens=512, seed=0)  # for Colab T4\n",
    "# judge_llm = VLLMModel(\"cyberagent/calm3-22b-chat\", temperature=0.0, max_tokens=512, seed=0)  # for A100?\n",
    "\n",
    "judge_llm"
   ]
  },
  {
   "cell_type": "code",
   "execution_count": 7,
   "metadata": {},
   "outputs": [
    {
     "data": {
      "text/plain": [
       "[['Hello! How can I assist you today?']]"
      ]
     },
     "execution_count": 7,
     "metadata": {},
     "output_type": "execute_result"
    }
   ],
   "source": [
    "judge_llm([[{\"role\": \"user\", \"content\": \"Hello?\"}]])"
   ]
  },
  {
   "cell_type": "markdown",
   "metadata": {},
   "source": [
    "## プロンプトの読み込み\n",
    "\n",
    "プロンプトは事前に用意したものを利用します。"
   ]
  },
  {
   "cell_type": "code",
   "execution_count": 8,
   "metadata": {},
   "outputs": [
    {
     "name": "stdout",
     "output_type": "stream",
     "text": [
      "--2025-01-31 06:13:43--  https://raw.githubusercontent.com/susumuota/synthetic-data-hands-on/refs/heads/main/notebooks/basic_math_mt.jsonl\n",
      "raw.githubusercontent.com (raw.githubusercontent.com) をDNSに問いあわせています... 185.199.108.133, 185.199.109.133, 185.199.110.133, ...\n",
      "raw.githubusercontent.com (raw.githubusercontent.com)|185.199.108.133|:443 に接続しています... 接続しました。\n",
      "HTTP による接続要求を送信しました、応答を待っています... 200 OK\n",
      "長さ: 12635 (12K) [text/plain]\n",
      "`basic_math_mt.jsonl.1' に保存中\n",
      "\n",
      "basic_math_mt.jsonl 100%[===================>]  12.34K  --.-KB/s 時間 0s         \n",
      "\n",
      "2025-01-31 06:13:43 (25.5 MB/s) - `basic_math_mt.jsonl.1' へ保存完了 [12635/12635]\n",
      "\n"
     ]
    }
   ],
   "source": [
    "!wget https://raw.githubusercontent.com/susumuota/synthetic-data-hands-on/refs/heads/main/notebooks/basic_math_mt.jsonl"
   ]
  },
  {
   "cell_type": "markdown",
   "metadata": {},
   "source": [
    "ここでは Persona-Hub で生成したマルチターンの対話データから最初の質問だけを取り出しプロンプトとします。"
   ]
  },
  {
   "cell_type": "code",
   "execution_count": 9,
   "metadata": {},
   "outputs": [],
   "source": [
    "def load_questions(input_jsonl: str) -> list[str]:\n",
    "    dataset = load_dataset(\"json\", data_files=input_jsonl, name=\"default\", split=\"train\", cache_dir=\"cache\")\n",
    "    batch = pd.DataFrame(dataset).to_dict(orient=\"records\")  # convert column-wise to row-wise\n",
    "    return [b[\"messages\"][0][\"content\"] for b in batch]"
   ]
  },
  {
   "cell_type": "code",
   "execution_count": 10,
   "metadata": {},
   "outputs": [
    {
     "name": "stderr",
     "output_type": "stream",
     "text": [
      "Generating train split: 10 examples [00:00, 1628.41 examples/s]\n"
     ]
    },
    {
     "data": {
      "text/plain": [
       "['ニュー・ジャージー・パインバレンズの生態系を研究している植物研究者がいます。彼は、特定の植物のサンプルを集めるために、5つの異なる地点を訪れました。各地点で、彼は次のように植物を収集しました：地点Aで12本、地点Bで15本、地点Cで8本、地点Dで10本、地点Eで9本です。彼が集めた植物の総数はいくつですか？',\n",
       " 'ある博物館で、古代の節足動物の化石が展示されています。展示されている化石は、クモが10体、サソリが15体、エビが20体です。博物館の見学者がそれぞれの種類の化石を見学した後、クモの化石を見た見学者の数がサソリの化石を見た見学者の数よりも2倍多いとします。クモの化石を見た見学者が20人だった場合、サソリの化石を見た見学者は何人ですか？',\n",
       " 'あるプログラミング言語の研究者が、数値計算のアルゴリズムをテストするために、10個の異なる入力データセットを用意しました。彼は各データセットに対して3つの異なるアルゴリズムを試すことにしました。全てのデータセットとアルゴリズムの組み合わせを考えると、彼は合計で何回テストを実施することになりますか？',\n",
       " 'ある流体力学のエンジニアは、水槽の自由表面の面積を計算しています。水槽の形は長方形で、長さが6メートル、幅が4メートルです。この水槽が満水のとき、水面の面積は何平方メートルですか？',\n",
       " 'ある年、サーモンが川を遡上するために、1日あたり30キロメートル進みました。サーモンが川を上り始めてから、合計で6日間進みました。サーモンは合計で何キロメートル上ったでしょうか？',\n",
       " 'ある宇宙ロボット工学者が、火星探査のために新しいロボットを設計しています。このロボットは、1時間で10キロメートルの速度で移動します。もしロボットが火星の表面を30時間移動し続けた場合、ロボットは合計で何キロメートル移動することになりますか？',\n",
       " '環境ジャーナリストであるあなたは、オーガニック農法で作物を育てる農家を取材しています。農家は、1エーカーの土地で年間に2000ポンドのオーガニック野菜を収穫します。また、1エーカーの土地に蜂の巣箱を5つ設置すると、収穫量が10％増加します。あなたは、蜂の巣箱を3つ設置した場合の収穫量を計算したいと思っています。蜂の巣箱を3つ設置したときの収穫量は何ポンドになりますか？',\n",
       " 'ある小学校の先生が、デジタルメディアとアニメーションの授業を行っています。クラスには30人の生徒がいます。先生は、生徒たちにそれぞれ自分のアニメーション作品を作成させるために、必要なタブレットを10台用意しました。もし全ての生徒がタブレットを使うために、1台のタブレットを3人で共有する場合、何人の生徒が1台のタブレットを使うことになりますか？',\n",
       " 'ある数学の生徒が、長方形の庭を作りたいと考えています。この庭の周囲の長さは40メートルです。生徒は庭の面積を最大化したいと思っています。長方形の庭の幅をxメートルとした場合、長さはどのように表せますか？また、この庭の面積を表す式を作成してください。',\n",
       " 'ある小学校の先生が、科学の授業で使うために色とりどりの風船を用意しました。赤い風船が6個、青い風船が4個、緑の風船が3個あります。先生は、全ての風船をクラスの子供たちに配ることにしました。風船の合計はいくつありますか？']"
      ]
     },
     "execution_count": 10,
     "metadata": {},
     "output_type": "execute_result"
    }
   ],
   "source": [
    "questions = load_questions(\"basic_math_mt.jsonl\")\n",
    "questions"
   ]
  },
  {
   "cell_type": "markdown",
   "metadata": {},
   "source": [
    "## サンプリングで 1個の質問から2個の異なる解答を生成"
   ]
  },
  {
   "cell_type": "markdown",
   "metadata": {},
   "source": [
    "### 温度パラメータの探索\n",
    "\n",
    "サンプリングで1個の質問に対して2個の異なる解答を生成します。ただし、解答が同じにならないように温度パラメータを調整します。以下のような方針で探索を行います。\n",
    "\n",
    "- 1個の質問から2個の解答を生成\n",
    "- 生成された2個の解答を比較\n",
    "- 2個の解答が異なっていたらOK\n",
    "- もし一致していたらNG、温度を少し上げて再度解答を生成"
   ]
  },
  {
   "cell_type": "markdown",
   "metadata": {},
   "source": [
    "現在学習しようとしている言語モデル(`target_llm`)を初期化します(裁判官言語モデルとは別)。必ず `n=2` としてください。\n",
    "\n",
    "`target_llm` は現在学習をしようとしているモデルですので、必ずしも高度な言語モデルである必要はありません。"
   ]
  },
  {
   "cell_type": "code",
   "execution_count": 11,
   "metadata": {},
   "outputs": [
    {
     "name": "stderr",
     "output_type": "stream",
     "text": [
      "model: gpt-4o-mini, temperature: 0.0, max_tokens: 512, seed: 0, n: 2\n"
     ]
    }
   ],
   "source": [
    "target_llm = LiteLLMModel(\"gpt-4o-mini\", temperature=0.0, max_tokens=512, seed=0, n=2)  # OPENAI_API_KEY"
   ]
  },
  {
   "cell_type": "markdown",
   "metadata": {},
   "source": [
    "下のセルの `target_llm.temperature = 0.7` の部分を低い温度から始めて、全ての解答が異なるまで温度を徐々に上げて最適な `temperature` を探してください。上げすぎるとハルシネーションを起こしたり、文が破綻するので注意してください。\n",
    "\n",
    "以下のセルを何度か手動で実行してみて、`differences` の要素全て True になることを確認してください。多少 False が出力されても問題ありませんが、False が多い場合は温度を調整してください。"
   ]
  },
  {
   "cell_type": "code",
   "execution_count": 12,
   "metadata": {},
   "outputs": [
    {
     "data": {
      "text/plain": [
       "(True, [True, True, True, True, True, True, True, True, True, True])"
      ]
     },
     "execution_count": 12,
     "metadata": {},
     "output_type": "execute_result"
    }
   ],
   "source": [
    "target_llm.temperature = 0.7\n",
    "target_llm.n = 2\n",
    "\n",
    "answers = target_llm([[{\"role\": \"user\", \"content\": question}] for question in questions])\n",
    "\n",
    "differences = [answer[0] != answer[1] for answer in answers]\n",
    "all(differences), differences"
   ]
  },
  {
   "cell_type": "markdown",
   "metadata": {},
   "source": [
    "ここでは `temperature` を `0.7` 程度に設定していますが、最適な `temperature` は言語モデルによって異なります。"
   ]
  },
  {
   "cell_type": "markdown",
   "metadata": {},
   "source": [
    "### 解答を２個生成\n",
    "\n",
    "以下のような関数で解答を2個生成します。"
   ]
  },
  {
   "cell_type": "code",
   "execution_count": 13,
   "metadata": {},
   "outputs": [],
   "source": [
    "def generate_answers(llm: LanguageModel, questions: list[str]) -> list[str]:\n",
    "    llm.n = 2\n",
    "    answers = llm([[{\"role\": \"user\", \"content\": question}] for question in questions])\n",
    "    return [\n",
    "        {\"question\": question, \"answer_a\": answer[0], \"answer_b\": answer[1]}\n",
    "        for question, answer in zip(questions, answers)\n",
    "    ]"
   ]
  },
  {
   "cell_type": "markdown",
   "metadata": {},
   "source": [
    "実行して確認します。"
   ]
  },
  {
   "cell_type": "code",
   "execution_count": 14,
   "metadata": {},
   "outputs": [
    {
     "data": {
      "text/plain": [
       "[{'question': 'ニュー・ジャージー・パインバレンズの生態系を研究している植物研究者がいます。彼は、特定の植物のサンプルを集めるために、5つの異なる地点を訪れました。各地点で、彼は次のように植物を収集しました：地点Aで12本、地点Bで15本、地点Cで8本、地点Dで10本、地点Eで9本です。彼が集めた植物の総数はいくつですか？',\n",
       "  'answer_a': '植物研究者が集めた植物の総数を計算するために、各地点での植物の本数を足します。\\n\\n地点A: 12本  \\n地点B: 15本  \\n地点C: 8本  \\n地点D: 10本  \\n地点E: 9本  \\n\\nこれらを合計すると、\\n\\n12 + 15 + 8 + 10 + 9 = 54\\n\\nしたがって、彼が集めた植物の総数は54本です。',\n",
       "  'answer_b': '植物研究者が集めた植物の総数を求めるために、各地点で収集した植物の本数を足し合わせます。\\n\\n地点A: 12本  \\n地点B: 15本  \\n地点C: 8本  \\n地点D: 10本  \\n地点E: 9本  \\n\\nこれらを合計すると、\\n\\n12 + 15 + 8 + 10 + 9 = 54\\n\\nしたがって、彼が集めた植物の総数は54本です。'},\n",
       " {'question': 'ある博物館で、古代の節足動物の化石が展示されています。展示されている化石は、クモが10体、サソリが15体、エビが20体です。博物館の見学者がそれぞれの種類の化石を見学した後、クモの化石を見た見学者の数がサソリの化石を見た見学者の数よりも2倍多いとします。クモの化石を見た見学者が20人だった場合、サソリの化石を見た見学者は何人ですか？',\n",
       "  'answer_a': 'クモの化石を見た見学者の数を \\\\( C \\\\)、サソリの化石を見た見学者の数を \\\\( S \\\\) とします。\\n\\n問題文から、クモの化石を見た見学者の数 \\\\( C \\\\) は20人であり、また、「クモの化石を見た見学者の数がサソリの化石を見た見学者の数よりも2倍多い」とあるので、次の式が成り立ちます。\\n\\n\\\\[\\nC = 2S\\n\\\\]\\n\\nこれに \\\\( C = 20 \\\\) を代入すると、\\n\\n\\\\[\\n20 = 2S\\n\\\\]\\n\\nこの方程式を \\\\( S \\\\) について解くと、\\n\\n\\\\[\\nS = \\\\frac{20}{2} = 10\\n\\\\]\\n\\nしたがって、サソリの化石を見た見学者の数は10人です。',\n",
       "  'answer_b': 'クモの化石を見た見学者の数が20人で、サソリの化石を見た見学者の数を \\\\( x \\\\) とします。\\n\\n問題文によると、クモの化石を見た見学者の数がサソリの化石を見た見学者の数よりも2倍多いということです。したがって、\\n\\n\\\\[\\n20 = 2x\\n\\\\]\\n\\nこの方程式を解くと、両辺を2で割ります。\\n\\n\\\\[\\nx = \\\\frac{20}{2} = 10\\n\\\\]\\n\\nしたがって、サソリの化石を見た見学者の数は **10人** です。'},\n",
       " {'question': 'あるプログラミング言語の研究者が、数値計算のアルゴリズムをテストするために、10個の異なる入力データセットを用意しました。彼は各データセットに対して3つの異なるアルゴリズムを試すことにしました。全てのデータセットとアルゴリズムの組み合わせを考えると、彼は合計で何回テストを実施することになりますか？',\n",
       "  'answer_a': '研究者は10個の異なる入力データセットと3つの異なるアルゴリズムを用意しています。全てのデータセットとアルゴリズムの組み合わせを考えると、テストの総回数は次のように計算できます。\\n\\nテストの総回数 = データセットの数 × アルゴリズムの数\\n\\nこれを具体的に計算すると、\\n\\nテストの総回数 = 10 × 3 = 30\\n\\nしたがって、彼は合計で30回のテストを実施することになります。',\n",
       "  'answer_b': '研究者は10個の異なる入力データセットに対して3つの異なるアルゴリズムを試すことにしています。全てのデータセットとアルゴリズムの組み合わせを考えると、テストの総回数は次のように計算できます。\\n\\nテストの総回数 = データセットの数 × アルゴリズムの数\\n\\n具体的には、\\n\\nテストの総回数 = 10（データセットの数） × 3（アルゴリズムの数） = 30\\n\\nしたがって、彼は合計で30回のテストを実施することになります。'},\n",
       " {'question': 'ある流体力学のエンジニアは、水槽の自由表面の面積を計算しています。水槽の形は長方形で、長さが6メートル、幅が4メートルです。この水槽が満水のとき、水面の面積は何平方メートルですか？',\n",
       "  'answer_a': '水槽の自由表面の面積は、長方形の面積を計算することで求められます。長方形の面積は、長さと幅を掛け合わせることで計算できます。\\n\\n与えられた情報は以下の通りです：\\n- 長さ = 6 メートル\\n- 幅 = 4 メートル\\n\\n面積の計算式は次の通りです：\\n\\\\[ \\\\text{面積} = \\\\text{長さ} \\\\times \\\\text{幅} \\\\]\\n\\nこれに数値を代入します：\\n\\\\[ \\\\text{面積} = 6 \\\\, \\\\text{m} \\\\times 4 \\\\, \\\\text{m} = 24 \\\\, \\\\text{m}^2 \\\\]\\n\\nしたがって、水槽が満水のとき、水面の面積は **24 平方メートル**です。',\n",
       "  'answer_b': '水槽の形が長方形である場合、水面の面積は長さと幅を掛け合わせて計算します。\\n\\n水槽の長さは6メートル、幅は4メートルですので、\\n\\n面積 = 長さ × 幅 = 6メートル × 4メートル = 24平方メートル\\n\\nしたがって、水槽が満水のとき、水面の面積は24平方メートルです。'},\n",
       " {'question': 'ある年、サーモンが川を遡上するために、1日あたり30キロメートル進みました。サーモンが川を上り始めてから、合計で6日間進みました。サーモンは合計で何キロメートル上ったでしょうか？',\n",
       "  'answer_a': 'サーモンが1日あたり30キロメートル進み、6日間進んだ場合の合計距離は以下のように計算できます。\\n\\n1日の距離: 30キロメートル  \\n日数: 6日\\n\\n合計距離 = 1日の距離 × 日数  \\n合計距離 = 30キロメートル × 6日 = 180キロメートル\\n\\nしたがって、サーモンは合計で180キロメートル上りました。',\n",
       "  'answer_b': 'サーモンが1日あたり30キロメートル進み、6日間進んだ場合、合計の距離は次のように計算できます。\\n\\n1日の進む距離 × 日数 = 合計距離\\n\\n30キロメートル × 6日 = 180キロメートル\\n\\nしたがって、サーモンは合計で180キロメートル上ったことになります。'},\n",
       " {'question': 'ある宇宙ロボット工学者が、火星探査のために新しいロボットを設計しています。このロボットは、1時間で10キロメートルの速度で移動します。もしロボットが火星の表面を30時間移動し続けた場合、ロボットは合計で何キロメートル移動することになりますか？',\n",
       "  'answer_a': 'ロボットの移動速度は1時間で10キロメートルです。もしロボットが30時間移動し続けた場合、移動距離は次のように計算できます。\\n\\n移動距離 = 移動速度 × 移動時間\\n\\n移動距離 = 10キロメートル/時間 × 30時間 = 300キロメートル\\n\\nしたがって、ロボットは合計で300キロメートル移動することになります。',\n",
       "  'answer_b': 'ロボットの移動速度は1時間で10キロメートルです。もしロボットが30時間移動し続けた場合、移動距離は次のように計算できます。\\n\\n移動距離 = 移動速度 × 移動時間\\n\\nここで、移動速度は10キロメートル/時間、移動時間は30時間です。\\n\\n移動距離 = 10キロメートル/時間 × 30時間 = 300キロメートル\\n\\nしたがって、ロボットは合計で300キロメートル移動することになります。'},\n",
       " {'question': '環境ジャーナリストであるあなたは、オーガニック農法で作物を育てる農家を取材しています。農家は、1エーカーの土地で年間に2000ポンドのオーガニック野菜を収穫します。また、1エーカーの土地に蜂の巣箱を5つ設置すると、収穫量が10％増加します。あなたは、蜂の巣箱を3つ設置した場合の収穫量を計算したいと思っています。蜂の巣箱を3つ設置したときの収穫量は何ポンドになりますか？',\n",
       "  'answer_a': 'オーガニック農法で作物を育てる農家が1エーカーの土地で年間に2000ポンドのオーガニック野菜を収穫する場合、蜂の巣箱を設置することで収穫量が増加します。\\n\\n1エーカーに蜂の巣箱を5つ設置すると、収穫量が10％増加するということですので、以下のように計算します。\\n\\n1. 収穫量の10％を計算します：\\n   \\\\[\\n   2000 \\\\text{ポンド} \\\\times 0.10 = 200 \\\\text{ポンド}\\n   \\\\]\\n\\n2. 5つの蜂の巣箱を設置した場合の収穫量は：\\n   \\\\[\\n   2000 \\\\text{ポンド} + 200 \\\\text{ポンド} = 2200 \\\\text{ポンド}\\n   \\\\]\\n\\n3. 3つの蜂の巣箱を設置した場合、収穫量の増加率を計算するために、5つの蜂の巣箱での増加を3つに換算します。増加率は5つの蜂の巣箱で10％なので、3つの場合は次のように計算します：\\n   \\\\[\\n   \\\\frac{3}{5} \\\\times 10\\\\% = 6\\\\%\\n   \\\\]\\n\\n4. したがって、3つの蜂の巣箱を設置した場合の収穫量の増加は：\\n   \\\\[\\n   2000 \\\\text{ポンド} \\\\times 0.06 = 120 \\\\text{ポンド}\\n   \\\\]\\n\\n5. 最終的な収穫量は：\\n   \\\\[\\n   2000 \\\\text{ポンド} + 120 \\\\text{ポンド} = 2120 \\\\text{ポンド}\\n   \\\\]\\n\\n結論として、蜂の巣箱を3つ設置した場合の収穫量は2120ポンドになります。',\n",
       "  'answer_b': 'まず、基本の収穫量を確認します。1エーカーの土地で年間に2000ポンドのオーガニック野菜が収穫されます。\\n\\n次に、蜂の巣箱を5つ設置した場合の収穫量の増加を考えます。5つの蜂の巣箱で収穫量が10%増加するため、まずその増加量を計算します。\\n\\n1. 収穫量の10%を計算します：\\n   \\\\[\\n   2000 \\\\text{ポンド} \\\\times 0.10 = 200 \\\\text{ポンド}\\n   \\\\]\\n\\n2. 5つの蜂の巣箱を設置したときの収穫量は次のようになります：\\n   \\\\[\\n   2000 \\\\text{ポンド} + 200 \\\\text{ポンド} = 2200 \\\\text{ポンド}\\n   \\\\]\\n\\n次に、蜂の巣箱を3つ設置した場合の収穫量の増加を求めます。5つの蜂の巣箱で10%の増加があるので、3つの場合の増加率は次のように計算できます。\\n\\n3. 増加率を計算します：\\n   \\\\[\\n   \\\\text{増加率} = \\\\frac{3}{5} \\\\times 10\\\\% = 6\\\\%\\n   \\\\]\\n\\n4. 6%の増加量を計算します：\\n   \\\\[\\n   2000 \\\\text{ポンド} \\\\times 0.06 = 120 \\\\text{ポンド}\\n   \\\\]\\n\\n5. 3つの蜂の巣箱を設置したときの収穫量は次のようになります：\\n   \\\\[\\n   2000 \\\\text{ポンド} + 120 \\\\text{ポンド} = 2120 \\\\text{ポンド}\\n   \\\\]\\n\\nしたがって、蜂の巣箱を3つ設置した場合の収穫量は **2120ポンド** になります。'},\n",
       " {'question': 'ある小学校の先生が、デジタルメディアとアニメーションの授業を行っています。クラスには30人の生徒がいます。先生は、生徒たちにそれぞれ自分のアニメーション作品を作成させるために、必要なタブレットを10台用意しました。もし全ての生徒がタブレットを使うために、1台のタブレットを3人で共有する場合、何人の生徒が1台のタブレットを使うことになりますか？',\n",
       "  'answer_a': '全ての生徒がタブレットを使うために、1台のタブレットを3人で共有する場合、タブレットの台数は10台です。\\n\\n1台のタブレットを3人で共有する場合、10台のタブレットで使える生徒の人数は次のように計算できます。\\n\\n10台 × 3人/台 = 30人\\n\\nしたがって、全ての生徒が1台のタブレットを使うことができます。この場合、30人の生徒全員が1台のタブレットを使うことになります。',\n",
       "  'answer_b': '全ての生徒がタブレットを使うために、1台のタブレットを3人で共有する場合、まずは生徒の人数をタブレットの台数で割ります。\\n\\n生徒の人数は30人で、1台のタブレットを3人で共有するので、必要なタブレットの台数は以下のように計算できます。\\n\\n必要なタブレットの台数 = 生徒の人数 ÷ 1台のタブレットを使う人数\\n必要なタブレットの台数 = 30 ÷ 3 = 10台\\n\\nしたがって、10台のタブレットで全ての生徒が1台のタブレットを3人で共有することができます。\\n\\n質問に対する答えとしては、1台のタブレットを使うのは3人の生徒になります。'},\n",
       " {'question': 'ある数学の生徒が、長方形の庭を作りたいと考えています。この庭の周囲の長さは40メートルです。生徒は庭の面積を最大化したいと思っています。長方形の庭の幅をxメートルとした場合、長さはどのように表せますか？また、この庭の面積を表す式を作成してください。',\n",
       "  'answer_a': '長方形の庭の周囲の長さが40メートルであるという条件から、周囲の長さの公式を使って長さを求めることができます。\\n\\n長方形の周囲の長さは次のように表されます：\\n\\\\[\\nP = 2 \\\\times (長さ + 幅)\\n\\\\]\\nここで、周囲の長さ \\\\(P\\\\) は40メートルです。したがって、\\n\\\\[\\n40 = 2 \\\\times (長さ + 幅)\\n\\\\]\\nこの式を簡単にすると、\\n\\\\[\\n20 = 長さ + 幅\\n\\\\]\\n\\n幅を \\\\(x\\\\) メートルとした場合、長さ \\\\(L\\\\) は次のように表せます：\\n\\\\[\\nL = 20 - x\\n\\\\]\\n\\n次に、庭の面積 \\\\(A\\\\) を求める式を作成します。面積は長さと幅の積で表されますので、\\n\\\\[\\nA = 長さ \\\\times 幅 = L \\\\times x = (20 - x) \\\\times x\\n\\\\]\\n\\nこれを展開すると：\\n\\\\[\\nA = 20x - x^2\\n\\\\]\\n\\nしたがって、長方形の庭の面積を表す式は次のようになります：\\n\\\\[\\nA = 20x - x^2\\n\\\\]',\n",
       "  'answer_b': '長方形の庭の周囲の長さは、長さ \\\\( l \\\\) と幅 \\\\( x \\\\) を使って次のように表されます。\\n\\n\\\\[\\n周囲 = 2l + 2x = 40\\n\\\\]\\n\\nこの式を解くと、次のようになります。\\n\\n\\\\[\\nl + x = 20 \\\\quad \\\\text{(両辺を2で割ります)}\\n\\\\]\\n\\\\[\\nl = 20 - x\\n\\\\]\\n\\nしたがって、長さ \\\\( l \\\\) は幅 \\\\( x \\\\) に依存して次のように表せます。\\n\\n\\\\[\\nl = 20 - x\\n\\\\]\\n\\n次に、この庭の面積 \\\\( A \\\\) を表す式を作成します。面積は長さと幅の積で表されるので、\\n\\n\\\\[\\nA = l \\\\times x\\n\\\\]\\n\\nここで、\\\\( l \\\\) を先ほど求めた式で置き換えると、\\n\\n\\\\[\\nA = (20 - x) \\\\times x\\n\\\\]\\n\\nこの式を展開すると、\\n\\n\\\\[\\nA = 20x - x^2\\n\\\\]\\n\\nしたがって、庭の面積を表す式は次のようになります。\\n\\n\\\\[\\nA = 20x - x^2\\n\\\\]'},\n",
       " {'question': 'ある小学校の先生が、科学の授業で使うために色とりどりの風船を用意しました。赤い風船が6個、青い風船が4個、緑の風船が3個あります。先生は、全ての風船をクラスの子供たちに配ることにしました。風船の合計はいくつありますか？',\n",
       "  'answer_a': '赤い風船が6個、青い風船が4個、緑の風船が3個ありますので、合計の風船の数を計算します。\\n\\n6 (赤い風船) + 4 (青い風船) + 3 (緑の風船) = 13\\n\\nしたがって、風船の合計は13個です。',\n",
       "  'answer_b': '赤い風船が6個、青い風船が4個、緑の風船が3個ありますので、風船の合計は次のように計算できます。\\n\\n赤い風船の数 + 青い風船の数 + 緑の風船の数 = 6 + 4 + 3 = 13\\n\\nしたがって、風船の合計は13個です。'}]"
      ]
     },
     "execution_count": 14,
     "metadata": {},
     "output_type": "execute_result"
    }
   ],
   "source": [
    "answers = generate_answers(target_llm, questions)\n",
    "answers"
   ]
  },
  {
   "cell_type": "markdown",
   "metadata": {},
   "source": [
    "2個の解答が異なるかどうかチェックします。"
   ]
  },
  {
   "cell_type": "code",
   "execution_count": 15,
   "metadata": {},
   "outputs": [],
   "source": [
    "def check_answers(answers: list[dict[str, str]]) -> list[bool]:\n",
    "    return [a[\"answer_a\"] != a[\"answer_b\"] for a in answers]"
   ]
  },
  {
   "cell_type": "code",
   "execution_count": 16,
   "metadata": {},
   "outputs": [
    {
     "data": {
      "text/plain": [
       "(True, [True, True, True, True, True, True, True, True, True, True])"
      ]
     },
     "execution_count": 16,
     "metadata": {},
     "output_type": "execute_result"
    }
   ],
   "source": [
    "results = check_answers(answers)\n",
    "all(results), results"
   ]
  },
  {
   "cell_type": "markdown",
   "metadata": {},
   "source": [
    "もし同じ解答が多い(False の数が多い)場合は、言語モデルの設定で温度パラメータを上げて調整してください。"
   ]
  },
  {
   "cell_type": "markdown",
   "metadata": {},
   "source": [
    "## LLM-as-a-Judge でどちらの解答が優れているか判定"
   ]
  },
  {
   "cell_type": "markdown",
   "metadata": {},
   "source": [
    "ここからは、生成された2個の解答を LLM-as-a-Judge 手法でどちらの解答が優れているか判決を下します。\n",
    "\n",
    "今回は [LLM-as-a-Judge 論文](https://arxiv.org/abs/2306.05685)の [プロンプト](https://github.com/lm-sys/FastChat/blob/main/fastchat/llm_judge/data/judge_prompts.jsonl)の `pair-v2` というバージョンを使用して、2つの解答を比較します。\n",
    "\n",
    "<img src=\"https://github.com/user-attachments/assets/12111a26-50c8-439c-a23a-ae7240c259bc\" width=\"800\">"
   ]
  },
  {
   "cell_type": "code",
   "execution_count": 17,
   "metadata": {},
   "outputs": [],
   "source": [
    "# copy from https://github.com/lm-sys/FastChat/blob/main/fastchat/llm_judge/data/judge_prompts.jsonl\n",
    "\n",
    "JUDGE_PROMPT = {\n",
    "    \"name\": \"pair-v2\",\n",
    "    \"type\": \"pairwise\",\n",
    "    \"system_prompt\": \"Please act as an impartial judge and evaluate the quality of the responses provided by two AI assistants to the user question displayed below. You should choose the assistant that follows the user's instructions and answers the user's question better. Your evaluation should consider factors such as the helpfulness, relevance, accuracy, depth, creativity, and level of detail of their responses. Begin your evaluation by comparing the two responses and provide a short explanation. Avoid any position biases and ensure that the order in which the responses were presented does not influence your decision. Do not allow the length of the responses to influence your evaluation. Do not favor certain names of the assistants. Be as objective as possible. After providing your explanation, output your final verdict by strictly following this format: \\\"[[A]]\\\" if assistant A is better, \\\"[[B]]\\\" if assistant B is better, and \\\"[[C]]\\\" for a tie.\",\n",
    "    \"prompt_template\": \"[User Question]\\n{question}\\n\\n[The Start of Assistant A's Answer]\\n{answer_a}\\n[The End of Assistant A's Answer]\\n\\n[The Start of Assistant B's Answer]\\n{answer_b}\\n[The End of Assistant B's Answer]\",\n",
    "    \"description\": \"Prompt for general questions\",\n",
    "    \"category\": \"general\",\n",
    "    \"output_format\": \"[[A]]\"\n",
    "}"
   ]
  },
  {
   "cell_type": "markdown",
   "metadata": {},
   "source": [
    "上記の `system_prompt` と `prompt_template` を使用します。\n",
    "\n",
    "システムプロンプトの日本語訳は以下の通りです。\n",
    "\n",
    "> 公平な裁判官として、以下に表示されたユーザーの質問に対して2人のAIアシスタントが提供した回答の質を評価してください。あなたは、ユーザーの指示に従い、ユーザーの質問によりよく答えるアシスタントを選ぶべきです。あなたの評価は、回答の有用性、関連性、正確性、深さ、創造性、詳細レベルなどの要素を考慮する必要があります。2つの回答を比較し、簡単な説明をすることから評価を始めてください。立場が偏らないようにし、回答の提示順があなたの判断に影響しないようにしてください。回答の長さが評価に影響しないようにしてください。特定のアシスタントの名前を好まないこと。できるだけ客観的であること。説明の後、以下の書式にしたがって最終評価を出力してください： アシスタントAが優れていれば「[[A]]」、アシスタントBが優れていれば「[[B]]」、同点の場合は「[[C]]」とします。\n",
    "\n",
    "判決文を生成する関数を定義します。"
   ]
  },
  {
   "cell_type": "code",
   "execution_count": 18,
   "metadata": {},
   "outputs": [],
   "source": [
    "def generate_decision_texts(llm: LanguageModel, answers: list[dict[str, str]]) -> list[str]:\n",
    "    return [texts[0] for texts in llm([[\n",
    "        {\"role\": \"system\", \"content\": JUDGE_PROMPT[\"system_prompt\"]},\n",
    "        {\"role\": \"user\", \"content\": JUDGE_PROMPT[\"prompt_template\"].format(**answer)}\n",
    "    ] for answer in answers])]"
   ]
  },
  {
   "cell_type": "markdown",
   "metadata": {},
   "source": [
    "実際に判定をしてみます。判決文(`decision_texts`)の末尾に `[[A]]`, `[[B]]`, `[[C]]` のいずれかが含まれているかを確認してください。\n",
    "\n",
    "Note: このタスクは難易度が高いので、`judge_llm` は高度な言語モデルを使用する必要があります。"
   ]
  },
  {
   "cell_type": "code",
   "execution_count": 19,
   "metadata": {},
   "outputs": [
    {
     "data": {
      "text/plain": [
       "[\"Both Assistant A and Assistant B provided identical responses to the user's question, calculating the total number of plants collected by the researcher. They both listed the number of plants collected at each location, performed the addition correctly, and arrived at the same conclusion of 54 plants.\\n\\nIn terms of helpfulness, relevance, accuracy, depth, creativity, and level of detail, both responses are equal. They both clearly outline the steps taken to arrive at the answer and provide the correct total.\\n\\nSince there is no distinction in the quality of the responses, the evaluation results in a tie.\\n\\nFinal verdict: [[C]]\",\n",
       " \"Both Assistant A and Assistant B provide clear and accurate solutions to the problem presented by the user. They both correctly identify the relationship between the number of visitors who saw the spider fossils and the scorpion fossils, and they both arrive at the same conclusion that 10 visitors saw the scorpion fossils.\\n\\n**Comparison:**\\n- **Clarity and Structure:** Both responses are well-structured and easy to follow. They both define variables and set up the equation based on the information given in the problem.\\n- **Mathematical Accuracy:** Both assistants correctly set up the equation \\\\( C = 2S \\\\) and solve it accurately, leading to the correct answer of 10 visitors for the scorpion fossils.\\n- **Detail and Explanation:** Assistant A provides a slightly more detailed explanation by explicitly stating the variable definitions at the beginning. Assistant B, while also clear, is a bit more concise but still effectively communicates the solution.\\n\\nOverall, both responses are equally helpful, relevant, accurate, and detailed. They both provide the same correct answer and follow the user's instructions effectively.\\n\\nGiven that both responses are of equal quality, the final verdict is:\\n\\n[[C]]\",\n",
       " '両方のアシスタントの回答は、ユーザーの質問に対して正確で明確な計算を提供しています。どちらも、10個のデータセットと3つのアルゴリズムの組み合わせを考慮し、テストの総回数を30回と正しく導き出しています。\\n\\nアシスタントAは、計算の過程を簡潔に示し、結果を明確に述べています。アシスタントBも同様に、計算の過程を示し、結果を明確に述べていますが、アシスタントAの方が少しだけ簡潔です。\\n\\n両者の回答はほぼ同等の質ですが、アシスタントAの方がわずかに簡潔で、ユーザーにとって読みやすい印象を与えます。\\n\\nしたがって、アシスタントAの方がわずかに優れていると評価します。\\n\\n[[A]]',\n",
       " '両方のアシスタントの回答を比較すると、どちらも水槽の自由表面の面積を計算するための正しい手順を示しており、計算結果も一致しています。しかし、いくつかの点で違いがあります。\\n\\nアシスタントAは、計算の過程を詳細に説明しており、面積の計算式を明示的に示しています。これにより、ユーザーは計算の根拠を理解しやすくなっています。また、数値を代入する過程も明確に示されており、教育的な要素が強いです。\\n\\n一方、アシスタントBも正確な計算を行っていますが、説明がやや簡潔で、計算の過程が少し省略されています。結果として、アシスタントAの方がより詳細で教育的なアプローチを取っていると言えます。\\n\\nしたがって、アシスタントAの方がユーザーの質問に対してより良い回答を提供していると評価できます。\\n\\n[[A]]',\n",
       " \"Both Assistant A and Assistant B provided accurate calculations and reached the same conclusion regarding the total distance the salmon traveled. They both clearly outlined the formula used to arrive at the answer, which is helpful for understanding the process.\\n\\nHowever, Assistant A's response includes a slightly more structured approach by explicitly stating the components of the calculation (1日の距離 and 日数) before performing the multiplication. This adds a bit of clarity and depth to the explanation. Assistant B's response is also clear but is slightly more concise and less detailed in its breakdown.\\n\\nIn terms of helpfulness and clarity, Assistant A edges out slightly due to its more detailed presentation of the information, which may be beneficial for users who appreciate a step-by-step approach.\\n\\nFinal verdict: [[A]]\",\n",
       " \"Both Assistant A and Assistant B provided accurate calculations and reached the same conclusion regarding the distance the robot would travel. They both clearly stated the formula used for the calculation and substituted the values correctly. \\n\\nHowever, there are slight differences in the presentation of the responses. Assistant A's response is slightly more concise, while Assistant B includes a reiteration of the values for speed and time before performing the calculation. This repetition does not add significant value and could be seen as unnecessary.\\n\\nIn terms of helpfulness and clarity, both responses are equally effective, as they both provide the correct answer and the reasoning behind it. Therefore, there is no clear advantage to either assistant.\\n\\nGiven that both responses are equally valid and fulfill the user's request without any notable differences in quality, the final verdict is a tie.\\n\\n[[C]]\",\n",
       " \"Both Assistant A and Assistant B provided accurate calculations and reached the same conclusion regarding the yield when three beehives are installed. They both followed a logical structure in their responses, detailing the steps taken to arrive at the final answer.\\n\\nHowever, there are some differences in the presentation and clarity of the responses:\\n\\n1. **Clarity and Structure**: Both assistants structured their responses well, but Assistant B's response is slightly clearer in its flow. It explicitly states the basic yield before moving on to the calculations, which may help the reader follow along more easily.\\n\\n2. **Detail and Depth**: Both assistants provided the same level of detail in their calculations. They both calculated the increase in yield from the beehives and showed the final calculation clearly.\\n\\n3. **Relevance and Helpfulness**: Both responses are relevant and helpful, directly addressing the user's question. They both arrive at the same conclusion, which is the correct answer.\\n\\nIn summary, while both responses are accurate and well-structured, Assistant B's response is slightly clearer and more organized, making it easier for the user to follow the calculations. Therefore, I would conclude that Assistant B provided a better response.\\n\\nFinal verdict: [[B]]\",\n",
       " '両方のアシスタントの回答を比較すると、どちらも質問に対して正しい計算を行っていますが、アシスタントBの方がより明確に問題を解決しています。\\n\\nアシスタントAは、全ての生徒がタブレットを使えることを示していますが、具体的に「何人の生徒が1台のタブレットを使うか」という質問に対して、直接的な答えを提供していません。最終的に30人全員がタブレットを使えると述べていますが、質問の焦点は「1台のタブレットを使うのは何人か」という点にあります。\\n\\n一方、アシスタントBは、必要なタブレットの台数を計算し、1台のタブレットを3人で共有することを明確に示しています。具体的に「1台のタブレットを使うのは3人の生徒」と答えており、質問に対する答えを直接的に提供しています。\\n\\nしたがって、アシスタントBの方が質問に対してより適切で明確な回答を提供していると評価できます。\\n\\n最終的な判断は以下の通りです。\\n[[B]]',\n",
       " \"Both Assistant A and Assistant B provide clear and accurate responses to the user's question regarding the dimensions and area of a rectangular garden with a given perimeter. \\n\\n**Comparison:**\\n\\n1. **Clarity and Structure**: Both assistants present their answers in a structured manner, starting with the perimeter equation and then deriving the length and area formulas. However, Assistant A explicitly states the formula for the perimeter before solving it, which may enhance clarity for some users.\\n\\n2. **Mathematical Accuracy**: Both assistants correctly derive the length \\\\( l \\\\) as \\\\( 20 - x \\\\) and the area \\\\( A \\\\) as \\\\( 20x - x^2 \\\\). There are no errors in the mathematical reasoning or calculations in either response.\\n\\n3. **Detail and Depth**: Both responses provide the same level of detail, including the steps taken to arrive at the final formulas. They both explain the relationship between the length and width and how to calculate the area.\\n\\n4. **Relevance**: Both responses are relevant to the user's question and directly address the requirements of expressing the length in terms of width and formulating the area.\\n\\nIn conclusion, both responses are equally effective in answering the user's question. They both provide the necessary information in a clear and accurate manner without any significant differences in quality.\\n\\nFinal verdict: [[C]]\",\n",
       " \"Both Assistant A and Assistant B provide accurate calculations and arrive at the correct total of 13 balloons. They both clearly state the number of each color of balloon and show the addition process step-by-step. \\n\\nHowever, Assistant A's response is slightly more concise, while Assistant B's response includes a more explicit breakdown of the calculation process. Both responses are relevant and helpful, but neither offers additional depth or creativity beyond the basic arithmetic required by the question.\\n\\nIn terms of clarity and structure, both responses are similar, but Assistant B's explicit breakdown may be slightly more helpful for a user who prefers a detailed explanation. \\n\\nOverall, both assistants performed well, but Assistant B's approach to presenting the calculation is marginally more thorough.\\n\\nFinal verdict: [[B]]\"]"
      ]
     },
     "execution_count": 19,
     "metadata": {},
     "output_type": "execute_result"
    }
   ],
   "source": [
    "decision_texts = generate_decision_texts(judge_llm, answers)\n",
    "decision_texts"
   ]
  },
  {
   "cell_type": "markdown",
   "metadata": {},
   "source": [
    "解答と判決文を表示して中身を確認します。"
   ]
  },
  {
   "cell_type": "code",
   "execution_count": 20,
   "metadata": {},
   "outputs": [
    {
     "name": "stdout",
     "output_type": "stream",
     "text": [
      "[({'answer_a': '植物研究者が集めた植物の総数を計算するために、各地点での植物の本数を足します。\\n'\n",
      "               '\\n'\n",
      "               '地点A: 12本  \\n'\n",
      "               '地点B: 15本  \\n'\n",
      "               '地点C: 8本  \\n'\n",
      "               '地点D: 10本  \\n'\n",
      "               '地点E: 9本  \\n'\n",
      "               '\\n'\n",
      "               'これらを合計すると、\\n'\n",
      "               '\\n'\n",
      "               '12 + 15 + 8 + 10 + 9 = 54\\n'\n",
      "               '\\n'\n",
      "               'したがって、彼が集めた植物の総数は54本です。',\n",
      "   'answer_b': '植物研究者が集めた植物の総数を求めるために、各地点で収集した植物の本数を足し合わせます。\\n'\n",
      "               '\\n'\n",
      "               '地点A: 12本  \\n'\n",
      "               '地点B: 15本  \\n'\n",
      "               '地点C: 8本  \\n'\n",
      "               '地点D: 10本  \\n'\n",
      "               '地点E: 9本  \\n'\n",
      "               '\\n'\n",
      "               'これらを合計すると、\\n'\n",
      "               '\\n'\n",
      "               '12 + 15 + 8 + 10 + 9 = 54\\n'\n",
      "               '\\n'\n",
      "               'したがって、彼が集めた植物の総数は54本です。',\n",
      "   'question': 'ニュー・ジャージー・パインバレンズの生態系を研究している植物研究者がいます。彼は、特定の植物のサンプルを集めるために、5つの異なる地点を訪れました。各地点で、彼は次のように植物を収集しました：地点Aで12本、地点Bで15本、地点Cで8本、地点Dで10本、地点Eで9本です。彼が集めた植物の総数はいくつですか？'},\n",
      "  \"Both Assistant A and Assistant B provided identical responses to the user's question, \"\n",
      "  'calculating the total number of plants collected by the researcher. They both listed the number '\n",
      "  'of plants collected at each location, performed the addition correctly, and arrived at the same '\n",
      "  'conclusion of 54 plants.\\n'\n",
      "  '\\n'\n",
      "  'In terms of helpfulness, relevance, accuracy, depth, creativity, and level of detail, both '\n",
      "  'responses are equal. They both clearly outline the steps taken to arrive at the answer and '\n",
      "  'provide the correct total.\\n'\n",
      "  '\\n'\n",
      "  'Since there is no distinction in the quality of the responses, the evaluation results in a '\n",
      "  'tie.\\n'\n",
      "  '\\n'\n",
      "  'Final verdict: [[C]]'),\n",
      " ({'answer_a': 'クモの化石を見た見学者の数を \\\\( C \\\\)、サソリの化石を見た見学者の数を \\\\( S \\\\) とします。\\n'\n",
      "               '\\n'\n",
      "               '問題文から、クモの化石を見た見学者の数 \\\\( C \\\\) '\n",
      "               'は20人であり、また、「クモの化石を見た見学者の数がサソリの化石を見た見学者の数よりも2倍多い」とあるので、次の式が成り立ちます。\\n'\n",
      "               '\\n'\n",
      "               '\\\\[\\n'\n",
      "               'C = 2S\\n'\n",
      "               '\\\\]\\n'\n",
      "               '\\n'\n",
      "               'これに \\\\( C = 20 \\\\) を代入すると、\\n'\n",
      "               '\\n'\n",
      "               '\\\\[\\n'\n",
      "               '20 = 2S\\n'\n",
      "               '\\\\]\\n'\n",
      "               '\\n'\n",
      "               'この方程式を \\\\( S \\\\) について解くと、\\n'\n",
      "               '\\n'\n",
      "               '\\\\[\\n'\n",
      "               'S = \\\\frac{20}{2} = 10\\n'\n",
      "               '\\\\]\\n'\n",
      "               '\\n'\n",
      "               'したがって、サソリの化石を見た見学者の数は10人です。',\n",
      "   'answer_b': 'クモの化石を見た見学者の数が20人で、サソリの化石を見た見学者の数を \\\\( x \\\\) とします。\\n'\n",
      "               '\\n'\n",
      "               '問題文によると、クモの化石を見た見学者の数がサソリの化石を見た見学者の数よりも2倍多いということです。したがって、\\n'\n",
      "               '\\n'\n",
      "               '\\\\[\\n'\n",
      "               '20 = 2x\\n'\n",
      "               '\\\\]\\n'\n",
      "               '\\n'\n",
      "               'この方程式を解くと、両辺を2で割ります。\\n'\n",
      "               '\\n'\n",
      "               '\\\\[\\n'\n",
      "               'x = \\\\frac{20}{2} = 10\\n'\n",
      "               '\\\\]\\n'\n",
      "               '\\n'\n",
      "               'したがって、サソリの化石を見た見学者の数は **10人** です。',\n",
      "   'question': 'ある博物館で、古代の節足動物の化石が展示されています。展示されている化石は、クモが10体、サソリが15体、エビが20体です。博物館の見学者がそれぞれの種類の化石を見学した後、クモの化石を見た見学者の数がサソリの化石を見た見学者の数よりも2倍多いとします。クモの化石を見た見学者が20人だった場合、サソリの化石を見た見学者は何人ですか？'},\n",
      "  'Both Assistant A and Assistant B provide clear and accurate solutions to the problem presented '\n",
      "  'by the user. They both correctly identify the relationship between the number of visitors who '\n",
      "  'saw the spider fossils and the scorpion fossils, and they both arrive at the same conclusion '\n",
      "  'that 10 visitors saw the scorpion fossils.\\n'\n",
      "  '\\n'\n",
      "  '**Comparison:**\\n'\n",
      "  '- **Clarity and Structure:** Both responses are well-structured and easy to follow. They both '\n",
      "  'define variables and set up the equation based on the information given in the problem.\\n'\n",
      "  '- **Mathematical Accuracy:** Both assistants correctly set up the equation \\\\( C = 2S \\\\) and '\n",
      "  'solve it accurately, leading to the correct answer of 10 visitors for the scorpion fossils.\\n'\n",
      "  '- **Detail and Explanation:** Assistant A provides a slightly more detailed explanation by '\n",
      "  'explicitly stating the variable definitions at the beginning. Assistant B, while also clear, is '\n",
      "  'a bit more concise but still effectively communicates the solution.\\n'\n",
      "  '\\n'\n",
      "  'Overall, both responses are equally helpful, relevant, accurate, and detailed. They both '\n",
      "  \"provide the same correct answer and follow the user's instructions effectively.\\n\"\n",
      "  '\\n'\n",
      "  'Given that both responses are of equal quality, the final verdict is:\\n'\n",
      "  '\\n'\n",
      "  '[[C]]'),\n",
      " ({'answer_a': '研究者は10個の異なる入力データセットと3つの異なるアルゴリズムを用意しています。全てのデータセットとアルゴリズムの組み合わせを考えると、テストの総回数は次のように計算できます。\\n'\n",
      "               '\\n'\n",
      "               'テストの総回数 = データセットの数 × アルゴリズムの数\\n'\n",
      "               '\\n'\n",
      "               'これを具体的に計算すると、\\n'\n",
      "               '\\n'\n",
      "               'テストの総回数 = 10 × 3 = 30\\n'\n",
      "               '\\n'\n",
      "               'したがって、彼は合計で30回のテストを実施することになります。',\n",
      "   'answer_b': '研究者は10個の異なる入力データセットに対して3つの異なるアルゴリズムを試すことにしています。全てのデータセットとアルゴリズムの組み合わせを考えると、テストの総回数は次のように計算できます。\\n'\n",
      "               '\\n'\n",
      "               'テストの総回数 = データセットの数 × アルゴリズムの数\\n'\n",
      "               '\\n'\n",
      "               '具体的には、\\n'\n",
      "               '\\n'\n",
      "               'テストの総回数 = 10（データセットの数） × 3（アルゴリズムの数） = 30\\n'\n",
      "               '\\n'\n",
      "               'したがって、彼は合計で30回のテストを実施することになります。',\n",
      "   'question': 'あるプログラミング言語の研究者が、数値計算のアルゴリズムをテストするために、10個の異なる入力データセットを用意しました。彼は各データセットに対して3つの異なるアルゴリズムを試すことにしました。全てのデータセットとアルゴリズムの組み合わせを考えると、彼は合計で何回テストを実施することになりますか？'},\n",
      "  '両方のアシスタントの回答は、ユーザーの質問に対して正確で明確な計算を提供しています。どちらも、10個のデータセットと3つのアルゴリズムの組み合わせを考慮し、テストの総回数を30回と正しく導き出しています。\\n'\n",
      "  '\\n'\n",
      "  'アシスタントAは、計算の過程を簡潔に示し、結果を明確に述べています。アシスタントBも同様に、計算の過程を示し、結果を明確に述べていますが、アシスタントAの方が少しだけ簡潔です。\\n'\n",
      "  '\\n'\n",
      "  '両者の回答はほぼ同等の質ですが、アシスタントAの方がわずかに簡潔で、ユーザーにとって読みやすい印象を与えます。\\n'\n",
      "  '\\n'\n",
      "  'したがって、アシスタントAの方がわずかに優れていると評価します。\\n'\n",
      "  '\\n'\n",
      "  '[[A]]'),\n",
      " ({'answer_a': '水槽の自由表面の面積は、長方形の面積を計算することで求められます。長方形の面積は、長さと幅を掛け合わせることで計算できます。\\n'\n",
      "               '\\n'\n",
      "               '与えられた情報は以下の通りです：\\n'\n",
      "               '- 長さ = 6 メートル\\n'\n",
      "               '- 幅 = 4 メートル\\n'\n",
      "               '\\n'\n",
      "               '面積の計算式は次の通りです：\\n'\n",
      "               '\\\\[ \\\\text{面積} = \\\\text{長さ} \\\\times \\\\text{幅} \\\\]\\n'\n",
      "               '\\n'\n",
      "               'これに数値を代入します：\\n'\n",
      "               '\\\\[ \\\\text{面積} = 6 \\\\, \\\\text{m} \\\\times 4 \\\\, \\\\text{m} = 24 \\\\, \\\\text{m}^2 \\\\]\\n'\n",
      "               '\\n'\n",
      "               'したがって、水槽が満水のとき、水面の面積は **24 平方メートル**です。',\n",
      "   'answer_b': '水槽の形が長方形である場合、水面の面積は長さと幅を掛け合わせて計算します。\\n'\n",
      "               '\\n'\n",
      "               '水槽の長さは6メートル、幅は4メートルですので、\\n'\n",
      "               '\\n'\n",
      "               '面積 = 長さ × 幅 = 6メートル × 4メートル = 24平方メートル\\n'\n",
      "               '\\n'\n",
      "               'したがって、水槽が満水のとき、水面の面積は24平方メートルです。',\n",
      "   'question': 'ある流体力学のエンジニアは、水槽の自由表面の面積を計算しています。水槽の形は長方形で、長さが6メートル、幅が4メートルです。この水槽が満水のとき、水面の面積は何平方メートルですか？'},\n",
      "  '両方のアシスタントの回答を比較すると、どちらも水槽の自由表面の面積を計算するための正しい手順を示しており、計算結果も一致しています。しかし、いくつかの点で違いがあります。\\n'\n",
      "  '\\n'\n",
      "  'アシスタントAは、計算の過程を詳細に説明しており、面積の計算式を明示的に示しています。これにより、ユーザーは計算の根拠を理解しやすくなっています。また、数値を代入する過程も明確に示されており、教育的な要素が強いです。\\n'\n",
      "  '\\n'\n",
      "  '一方、アシスタントBも正確な計算を行っていますが、説明がやや簡潔で、計算の過程が少し省略されています。結果として、アシスタントAの方がより詳細で教育的なアプローチを取っていると言えます。\\n'\n",
      "  '\\n'\n",
      "  'したがって、アシスタントAの方がユーザーの質問に対してより良い回答を提供していると評価できます。\\n'\n",
      "  '\\n'\n",
      "  '[[A]]'),\n",
      " ({'answer_a': 'サーモンが1日あたり30キロメートル進み、6日間進んだ場合の合計距離は以下のように計算できます。\\n'\n",
      "               '\\n'\n",
      "               '1日の距離: 30キロメートル  \\n'\n",
      "               '日数: 6日\\n'\n",
      "               '\\n'\n",
      "               '合計距離 = 1日の距離 × 日数  \\n'\n",
      "               '合計距離 = 30キロメートル × 6日 = 180キロメートル\\n'\n",
      "               '\\n'\n",
      "               'したがって、サーモンは合計で180キロメートル上りました。',\n",
      "   'answer_b': 'サーモンが1日あたり30キロメートル進み、6日間進んだ場合、合計の距離は次のように計算できます。\\n'\n",
      "               '\\n'\n",
      "               '1日の進む距離 × 日数 = 合計距離\\n'\n",
      "               '\\n'\n",
      "               '30キロメートル × 6日 = 180キロメートル\\n'\n",
      "               '\\n'\n",
      "               'したがって、サーモンは合計で180キロメートル上ったことになります。',\n",
      "   'question': 'ある年、サーモンが川を遡上するために、1日あたり30キロメートル進みました。サーモンが川を上り始めてから、合計で6日間進みました。サーモンは合計で何キロメートル上ったでしょうか？'},\n",
      "  'Both Assistant A and Assistant B provided accurate calculations and reached the same conclusion '\n",
      "  'regarding the total distance the salmon traveled. They both clearly outlined the formula used '\n",
      "  'to arrive at the answer, which is helpful for understanding the process.\\n'\n",
      "  '\\n'\n",
      "  \"However, Assistant A's response includes a slightly more structured approach by explicitly \"\n",
      "  'stating the components of the calculation (1日の距離 and 日数) before performing the multiplication. '\n",
      "  \"This adds a bit of clarity and depth to the explanation. Assistant B's response is also clear \"\n",
      "  'but is slightly more concise and less detailed in its breakdown.\\n'\n",
      "  '\\n'\n",
      "  'In terms of helpfulness and clarity, Assistant A edges out slightly due to its more detailed '\n",
      "  'presentation of the information, which may be beneficial for users who appreciate a '\n",
      "  'step-by-step approach.\\n'\n",
      "  '\\n'\n",
      "  'Final verdict: [[A]]'),\n",
      " ({'answer_a': 'ロボットの移動速度は1時間で10キロメートルです。もしロボットが30時間移動し続けた場合、移動距離は次のように計算できます。\\n'\n",
      "               '\\n'\n",
      "               '移動距離 = 移動速度 × 移動時間\\n'\n",
      "               '\\n'\n",
      "               '移動距離 = 10キロメートル/時間 × 30時間 = 300キロメートル\\n'\n",
      "               '\\n'\n",
      "               'したがって、ロボットは合計で300キロメートル移動することになります。',\n",
      "   'answer_b': 'ロボットの移動速度は1時間で10キロメートルです。もしロボットが30時間移動し続けた場合、移動距離は次のように計算できます。\\n'\n",
      "               '\\n'\n",
      "               '移動距離 = 移動速度 × 移動時間\\n'\n",
      "               '\\n'\n",
      "               'ここで、移動速度は10キロメートル/時間、移動時間は30時間です。\\n'\n",
      "               '\\n'\n",
      "               '移動距離 = 10キロメートル/時間 × 30時間 = 300キロメートル\\n'\n",
      "               '\\n'\n",
      "               'したがって、ロボットは合計で300キロメートル移動することになります。',\n",
      "   'question': 'ある宇宙ロボット工学者が、火星探査のために新しいロボットを設計しています。このロボットは、1時間で10キロメートルの速度で移動します。もしロボットが火星の表面を30時間移動し続けた場合、ロボットは合計で何キロメートル移動することになりますか？'},\n",
      "  'Both Assistant A and Assistant B provided accurate calculations and reached the same conclusion '\n",
      "  'regarding the distance the robot would travel. They both clearly stated the formula used for '\n",
      "  'the calculation and substituted the values correctly. \\n'\n",
      "  '\\n'\n",
      "  \"However, there are slight differences in the presentation of the responses. Assistant A's \"\n",
      "  'response is slightly more concise, while Assistant B includes a reiteration of the values for '\n",
      "  'speed and time before performing the calculation. This repetition does not add significant '\n",
      "  'value and could be seen as unnecessary.\\n'\n",
      "  '\\n'\n",
      "  'In terms of helpfulness and clarity, both responses are equally effective, as they both provide '\n",
      "  'the correct answer and the reasoning behind it. Therefore, there is no clear advantage to '\n",
      "  'either assistant.\\n'\n",
      "  '\\n'\n",
      "  \"Given that both responses are equally valid and fulfill the user's request without any notable \"\n",
      "  'differences in quality, the final verdict is a tie.\\n'\n",
      "  '\\n'\n",
      "  '[[C]]'),\n",
      " ({'answer_a': 'オーガニック農法で作物を育てる農家が1エーカーの土地で年間に2000ポンドのオーガニック野菜を収穫する場合、蜂の巣箱を設置することで収穫量が増加します。\\n'\n",
      "               '\\n'\n",
      "               '1エーカーに蜂の巣箱を5つ設置すると、収穫量が10％増加するということですので、以下のように計算します。\\n'\n",
      "               '\\n'\n",
      "               '1. 収穫量の10％を計算します：\\n'\n",
      "               '   \\\\[\\n'\n",
      "               '   2000 \\\\text{ポンド} \\\\times 0.10 = 200 \\\\text{ポンド}\\n'\n",
      "               '   \\\\]\\n'\n",
      "               '\\n'\n",
      "               '2. 5つの蜂の巣箱を設置した場合の収穫量は：\\n'\n",
      "               '   \\\\[\\n'\n",
      "               '   2000 \\\\text{ポンド} + 200 \\\\text{ポンド} = 2200 \\\\text{ポンド}\\n'\n",
      "               '   \\\\]\\n'\n",
      "               '\\n'\n",
      "               '3. '\n",
      "               '3つの蜂の巣箱を設置した場合、収穫量の増加率を計算するために、5つの蜂の巣箱での増加を3つに換算します。増加率は5つの蜂の巣箱で10％なので、3つの場合は次のように計算します：\\n'\n",
      "               '   \\\\[\\n'\n",
      "               '   \\\\frac{3}{5} \\\\times 10\\\\% = 6\\\\%\\n'\n",
      "               '   \\\\]\\n'\n",
      "               '\\n'\n",
      "               '4. したがって、3つの蜂の巣箱を設置した場合の収穫量の増加は：\\n'\n",
      "               '   \\\\[\\n'\n",
      "               '   2000 \\\\text{ポンド} \\\\times 0.06 = 120 \\\\text{ポンド}\\n'\n",
      "               '   \\\\]\\n'\n",
      "               '\\n'\n",
      "               '5. 最終的な収穫量は：\\n'\n",
      "               '   \\\\[\\n'\n",
      "               '   2000 \\\\text{ポンド} + 120 \\\\text{ポンド} = 2120 \\\\text{ポンド}\\n'\n",
      "               '   \\\\]\\n'\n",
      "               '\\n'\n",
      "               '結論として、蜂の巣箱を3つ設置した場合の収穫量は2120ポンドになります。',\n",
      "   'answer_b': 'まず、基本の収穫量を確認します。1エーカーの土地で年間に2000ポンドのオーガニック野菜が収穫されます。\\n'\n",
      "               '\\n'\n",
      "               '次に、蜂の巣箱を5つ設置した場合の収穫量の増加を考えます。5つの蜂の巣箱で収穫量が10%増加するため、まずその増加量を計算します。\\n'\n",
      "               '\\n'\n",
      "               '1. 収穫量の10%を計算します：\\n'\n",
      "               '   \\\\[\\n'\n",
      "               '   2000 \\\\text{ポンド} \\\\times 0.10 = 200 \\\\text{ポンド}\\n'\n",
      "               '   \\\\]\\n'\n",
      "               '\\n'\n",
      "               '2. 5つの蜂の巣箱を設置したときの収穫量は次のようになります：\\n'\n",
      "               '   \\\\[\\n'\n",
      "               '   2000 \\\\text{ポンド} + 200 \\\\text{ポンド} = 2200 \\\\text{ポンド}\\n'\n",
      "               '   \\\\]\\n'\n",
      "               '\\n'\n",
      "               '次に、蜂の巣箱を3つ設置した場合の収穫量の増加を求めます。5つの蜂の巣箱で10%の増加があるので、3つの場合の増加率は次のように計算できます。\\n'\n",
      "               '\\n'\n",
      "               '3. 増加率を計算します：\\n'\n",
      "               '   \\\\[\\n'\n",
      "               '   \\\\text{増加率} = \\\\frac{3}{5} \\\\times 10\\\\% = 6\\\\%\\n'\n",
      "               '   \\\\]\\n'\n",
      "               '\\n'\n",
      "               '4. 6%の増加量を計算します：\\n'\n",
      "               '   \\\\[\\n'\n",
      "               '   2000 \\\\text{ポンド} \\\\times 0.06 = 120 \\\\text{ポンド}\\n'\n",
      "               '   \\\\]\\n'\n",
      "               '\\n'\n",
      "               '5. 3つの蜂の巣箱を設置したときの収穫量は次のようになります：\\n'\n",
      "               '   \\\\[\\n'\n",
      "               '   2000 \\\\text{ポンド} + 120 \\\\text{ポンド} = 2120 \\\\text{ポンド}\\n'\n",
      "               '   \\\\]\\n'\n",
      "               '\\n'\n",
      "               'したがって、蜂の巣箱を3つ設置した場合の収穫量は **2120ポンド** になります。',\n",
      "   'question': '環境ジャーナリストであるあなたは、オーガニック農法で作物を育てる農家を取材しています。農家は、1エーカーの土地で年間に2000ポンドのオーガニック野菜を収穫します。また、1エーカーの土地に蜂の巣箱を5つ設置すると、収穫量が10％増加します。あなたは、蜂の巣箱を3つ設置した場合の収穫量を計算したいと思っています。蜂の巣箱を3つ設置したときの収穫量は何ポンドになりますか？'},\n",
      "  'Both Assistant A and Assistant B provided accurate calculations and reached the same conclusion '\n",
      "  'regarding the yield when three beehives are installed. They both followed a logical structure '\n",
      "  'in their responses, detailing the steps taken to arrive at the final answer.\\n'\n",
      "  '\\n'\n",
      "  'However, there are some differences in the presentation and clarity of the responses:\\n'\n",
      "  '\\n'\n",
      "  '1. **Clarity and Structure**: Both assistants structured their responses well, but Assistant '\n",
      "  \"B's response is slightly clearer in its flow. It explicitly states the basic yield before \"\n",
      "  'moving on to the calculations, which may help the reader follow along more easily.\\n'\n",
      "  '\\n'\n",
      "  '2. **Detail and Depth**: Both assistants provided the same level of detail in their '\n",
      "  'calculations. They both calculated the increase in yield from the beehives and showed the final '\n",
      "  'calculation clearly.\\n'\n",
      "  '\\n'\n",
      "  '3. **Relevance and Helpfulness**: Both responses are relevant and helpful, directly addressing '\n",
      "  \"the user's question. They both arrive at the same conclusion, which is the correct answer.\\n\"\n",
      "  '\\n'\n",
      "  \"In summary, while both responses are accurate and well-structured, Assistant B's response is \"\n",
      "  'slightly clearer and more organized, making it easier for the user to follow the calculations. '\n",
      "  'Therefore, I would conclude that Assistant B provided a better response.\\n'\n",
      "  '\\n'\n",
      "  'Final verdict: [[B]]'),\n",
      " ({'answer_a': '全ての生徒がタブレットを使うために、1台のタブレットを3人で共有する場合、タブレットの台数は10台です。\\n'\n",
      "               '\\n'\n",
      "               '1台のタブレットを3人で共有する場合、10台のタブレットで使える生徒の人数は次のように計算できます。\\n'\n",
      "               '\\n'\n",
      "               '10台 × 3人/台 = 30人\\n'\n",
      "               '\\n'\n",
      "               'したがって、全ての生徒が1台のタブレットを使うことができます。この場合、30人の生徒全員が1台のタブレットを使うことになります。',\n",
      "   'answer_b': '全ての生徒がタブレットを使うために、1台のタブレットを3人で共有する場合、まずは生徒の人数をタブレットの台数で割ります。\\n'\n",
      "               '\\n'\n",
      "               '生徒の人数は30人で、1台のタブレットを3人で共有するので、必要なタブレットの台数は以下のように計算できます。\\n'\n",
      "               '\\n'\n",
      "               '必要なタブレットの台数 = 生徒の人数 ÷ 1台のタブレットを使う人数\\n'\n",
      "               '必要なタブレットの台数 = 30 ÷ 3 = 10台\\n'\n",
      "               '\\n'\n",
      "               'したがって、10台のタブレットで全ての生徒が1台のタブレットを3人で共有することができます。\\n'\n",
      "               '\\n'\n",
      "               '質問に対する答えとしては、1台のタブレットを使うのは3人の生徒になります。',\n",
      "   'question': 'ある小学校の先生が、デジタルメディアとアニメーションの授業を行っています。クラスには30人の生徒がいます。先生は、生徒たちにそれぞれ自分のアニメーション作品を作成させるために、必要なタブレットを10台用意しました。もし全ての生徒がタブレットを使うために、1台のタブレットを3人で共有する場合、何人の生徒が1台のタブレットを使うことになりますか？'},\n",
      "  '両方のアシスタントの回答を比較すると、どちらも質問に対して正しい計算を行っていますが、アシスタントBの方がより明確に問題を解決しています。\\n'\n",
      "  '\\n'\n",
      "  'アシスタントAは、全ての生徒がタブレットを使えることを示していますが、具体的に「何人の生徒が1台のタブレットを使うか」という質問に対して、直接的な答えを提供していません。最終的に30人全員がタブレットを使えると述べていますが、質問の焦点は「1台のタブレットを使うのは何人か」という点にあります。\\n'\n",
      "  '\\n'\n",
      "  '一方、アシスタントBは、必要なタブレットの台数を計算し、1台のタブレットを3人で共有することを明確に示しています。具体的に「1台のタブレットを使うのは3人の生徒」と答えており、質問に対する答えを直接的に提供しています。\\n'\n",
      "  '\\n'\n",
      "  'したがって、アシスタントBの方が質問に対してより適切で明確な回答を提供していると評価できます。\\n'\n",
      "  '\\n'\n",
      "  '最終的な判断は以下の通りです。\\n'\n",
      "  '[[B]]'),\n",
      " ({'answer_a': '長方形の庭の周囲の長さが40メートルであるという条件から、周囲の長さの公式を使って長さを求めることができます。\\n'\n",
      "               '\\n'\n",
      "               '長方形の周囲の長さは次のように表されます：\\n'\n",
      "               '\\\\[\\n'\n",
      "               'P = 2 \\\\times (長さ + 幅)\\n'\n",
      "               '\\\\]\\n'\n",
      "               'ここで、周囲の長さ \\\\(P\\\\) は40メートルです。したがって、\\n'\n",
      "               '\\\\[\\n'\n",
      "               '40 = 2 \\\\times (長さ + 幅)\\n'\n",
      "               '\\\\]\\n'\n",
      "               'この式を簡単にすると、\\n'\n",
      "               '\\\\[\\n'\n",
      "               '20 = 長さ + 幅\\n'\n",
      "               '\\\\]\\n'\n",
      "               '\\n'\n",
      "               '幅を \\\\(x\\\\) メートルとした場合、長さ \\\\(L\\\\) は次のように表せます：\\n'\n",
      "               '\\\\[\\n'\n",
      "               'L = 20 - x\\n'\n",
      "               '\\\\]\\n'\n",
      "               '\\n'\n",
      "               '次に、庭の面積 \\\\(A\\\\) を求める式を作成します。面積は長さと幅の積で表されますので、\\n'\n",
      "               '\\\\[\\n'\n",
      "               'A = 長さ \\\\times 幅 = L \\\\times x = (20 - x) \\\\times x\\n'\n",
      "               '\\\\]\\n'\n",
      "               '\\n'\n",
      "               'これを展開すると：\\n'\n",
      "               '\\\\[\\n'\n",
      "               'A = 20x - x^2\\n'\n",
      "               '\\\\]\\n'\n",
      "               '\\n'\n",
      "               'したがって、長方形の庭の面積を表す式は次のようになります：\\n'\n",
      "               '\\\\[\\n'\n",
      "               'A = 20x - x^2\\n'\n",
      "               '\\\\]',\n",
      "   'answer_b': '長方形の庭の周囲の長さは、長さ \\\\( l \\\\) と幅 \\\\( x \\\\) を使って次のように表されます。\\n'\n",
      "               '\\n'\n",
      "               '\\\\[\\n'\n",
      "               '周囲 = 2l + 2x = 40\\n'\n",
      "               '\\\\]\\n'\n",
      "               '\\n'\n",
      "               'この式を解くと、次のようになります。\\n'\n",
      "               '\\n'\n",
      "               '\\\\[\\n'\n",
      "               'l + x = 20 \\\\quad \\\\text{(両辺を2で割ります)}\\n'\n",
      "               '\\\\]\\n'\n",
      "               '\\\\[\\n'\n",
      "               'l = 20 - x\\n'\n",
      "               '\\\\]\\n'\n",
      "               '\\n'\n",
      "               'したがって、長さ \\\\( l \\\\) は幅 \\\\( x \\\\) に依存して次のように表せます。\\n'\n",
      "               '\\n'\n",
      "               '\\\\[\\n'\n",
      "               'l = 20 - x\\n'\n",
      "               '\\\\]\\n'\n",
      "               '\\n'\n",
      "               '次に、この庭の面積 \\\\( A \\\\) を表す式を作成します。面積は長さと幅の積で表されるので、\\n'\n",
      "               '\\n'\n",
      "               '\\\\[\\n'\n",
      "               'A = l \\\\times x\\n'\n",
      "               '\\\\]\\n'\n",
      "               '\\n'\n",
      "               'ここで、\\\\( l \\\\) を先ほど求めた式で置き換えると、\\n'\n",
      "               '\\n'\n",
      "               '\\\\[\\n'\n",
      "               'A = (20 - x) \\\\times x\\n'\n",
      "               '\\\\]\\n'\n",
      "               '\\n'\n",
      "               'この式を展開すると、\\n'\n",
      "               '\\n'\n",
      "               '\\\\[\\n'\n",
      "               'A = 20x - x^2\\n'\n",
      "               '\\\\]\\n'\n",
      "               '\\n'\n",
      "               'したがって、庭の面積を表す式は次のようになります。\\n'\n",
      "               '\\n'\n",
      "               '\\\\[\\n'\n",
      "               'A = 20x - x^2\\n'\n",
      "               '\\\\]',\n",
      "   'question': 'ある数学の生徒が、長方形の庭を作りたいと考えています。この庭の周囲の長さは40メートルです。生徒は庭の面積を最大化したいと思っています。長方形の庭の幅をxメートルとした場合、長さはどのように表せますか？また、この庭の面積を表す式を作成してください。'},\n",
      "  \"Both Assistant A and Assistant B provide clear and accurate responses to the user's question \"\n",
      "  'regarding the dimensions and area of a rectangular garden with a given perimeter. \\n'\n",
      "  '\\n'\n",
      "  '**Comparison:**\\n'\n",
      "  '\\n'\n",
      "  '1. **Clarity and Structure**: Both assistants present their answers in a structured manner, '\n",
      "  'starting with the perimeter equation and then deriving the length and area formulas. However, '\n",
      "  'Assistant A explicitly states the formula for the perimeter before solving it, which may '\n",
      "  'enhance clarity for some users.\\n'\n",
      "  '\\n'\n",
      "  '2. **Mathematical Accuracy**: Both assistants correctly derive the length \\\\( l \\\\) as \\\\( 20 - '\n",
      "  'x \\\\) and the area \\\\( A \\\\) as \\\\( 20x - x^2 \\\\). There are no errors in the mathematical '\n",
      "  'reasoning or calculations in either response.\\n'\n",
      "  '\\n'\n",
      "  '3. **Detail and Depth**: Both responses provide the same level of detail, including the steps '\n",
      "  'taken to arrive at the final formulas. They both explain the relationship between the length '\n",
      "  'and width and how to calculate the area.\\n'\n",
      "  '\\n'\n",
      "  \"4. **Relevance**: Both responses are relevant to the user's question and directly address the \"\n",
      "  'requirements of expressing the length in terms of width and formulating the area.\\n'\n",
      "  '\\n'\n",
      "  \"In conclusion, both responses are equally effective in answering the user's question. They both \"\n",
      "  'provide the necessary information in a clear and accurate manner without any significant '\n",
      "  'differences in quality.\\n'\n",
      "  '\\n'\n",
      "  'Final verdict: [[C]]'),\n",
      " ({'answer_a': '赤い風船が6個、青い風船が4個、緑の風船が3個ありますので、合計の風船の数を計算します。\\n'\n",
      "               '\\n'\n",
      "               '6 (赤い風船) + 4 (青い風船) + 3 (緑の風船) = 13\\n'\n",
      "               '\\n'\n",
      "               'したがって、風船の合計は13個です。',\n",
      "   'answer_b': '赤い風船が6個、青い風船が4個、緑の風船が3個ありますので、風船の合計は次のように計算できます。\\n'\n",
      "               '\\n'\n",
      "               '赤い風船の数 + 青い風船の数 + 緑の風船の数 = 6 + 4 + 3 = 13\\n'\n",
      "               '\\n'\n",
      "               'したがって、風船の合計は13個です。',\n",
      "   'question': 'ある小学校の先生が、科学の授業で使うために色とりどりの風船を用意しました。赤い風船が6個、青い風船が4個、緑の風船が3個あります。先生は、全ての風船をクラスの子供たちに配ることにしました。風船の合計はいくつありますか？'},\n",
      "  'Both Assistant A and Assistant B provide accurate calculations and arrive at the correct total '\n",
      "  'of 13 balloons. They both clearly state the number of each color of balloon and show the '\n",
      "  'addition process step-by-step. \\n'\n",
      "  '\\n'\n",
      "  \"However, Assistant A's response is slightly more concise, while Assistant B's response includes \"\n",
      "  'a more explicit breakdown of the calculation process. Both responses are relevant and helpful, '\n",
      "  'but neither offers additional depth or creativity beyond the basic arithmetic required by the '\n",
      "  'question.\\n'\n",
      "  '\\n'\n",
      "  \"In terms of clarity and structure, both responses are similar, but Assistant B's explicit \"\n",
      "  'breakdown may be slightly more helpful for a user who prefers a detailed explanation. \\n'\n",
      "  '\\n'\n",
      "  \"Overall, both assistants performed well, but Assistant B's approach to presenting the \"\n",
      "  'calculation is marginally more thorough.\\n'\n",
      "  '\\n'\n",
      "  'Final verdict: [[B]]')]\n"
     ]
    }
   ],
   "source": [
    "pp.pprint(list(zip(answers, decision_texts)))"
   ]
  },
  {
   "cell_type": "markdown",
   "metadata": {},
   "source": [
    "判決文をパースして、`A`, `B`, `C` のいずれかを返す関数を定義します。明確に決められないケースは `C` とします。"
   ]
  },
  {
   "cell_type": "code",
   "execution_count": 21,
   "metadata": {},
   "outputs": [],
   "source": [
    "def parse_decision_text(decision_text):\n",
    "    is_a = is_b = is_c = False\n",
    "    if \"[[A]]\" in decision_text:\n",
    "        is_a = True\n",
    "    if \"[[B]]\" in decision_text:\n",
    "        is_b = True\n",
    "    if \"[[C]]\" in decision_text:\n",
    "        is_c = True\n",
    "    decision = \"C\"\n",
    "    if is_a and is_b:\n",
    "        # raise ValueError(f\"Both A and B are chosen: {decision_text}\")\n",
    "        logger.debug(f\"Both A and B are chosen: {decision_text}\")\n",
    "        decision = \"C\"\n",
    "    elif is_a:\n",
    "        decision = \"A\"\n",
    "    elif is_b:\n",
    "        decision = \"B\"\n",
    "    elif is_c:\n",
    "        decision = \"C\"\n",
    "    else:\n",
    "        # raise ValueError(f\"Unknown decision: {decision_text}\")\n",
    "        logger.debug(f\"Unknown decision: {decision_text}\")\n",
    "        decision = \"C\"\n",
    "    # logger.debug(f\"decision: {decision}\")\n",
    "    return decision"
   ]
  },
  {
   "cell_type": "markdown",
   "metadata": {},
   "source": [
    "解答をジャッジして判決を返す関数にまとめます。"
   ]
  },
  {
   "cell_type": "code",
   "execution_count": 22,
   "metadata": {},
   "outputs": [],
   "source": [
    "def judge_answers(llm: LanguageModel, answers: list[dict[str, str]]) -> list[str]:\n",
    "    return [parse_decision_text(decision_text) for decision_text in generate_decision_texts(llm, answers)]"
   ]
  },
  {
   "cell_type": "markdown",
   "metadata": {},
   "source": [
    "実行して、解答に対する判定を確認します。"
   ]
  },
  {
   "cell_type": "code",
   "execution_count": 23,
   "metadata": {},
   "outputs": [
    {
     "data": {
      "text/plain": [
       "['C', 'C', 'A', 'A', 'A', 'A', 'B', 'B', 'C', 'B']"
      ]
     },
     "execution_count": 23,
     "metadata": {},
     "output_type": "execute_result"
    }
   ],
   "source": [
    "decisions = judge_answers(judge_llm, answers)\n",
    "decisions"
   ]
  },
  {
   "cell_type": "markdown",
   "metadata": {},
   "source": [
    "ここまでで、1個の質問に対して2個の解答を生成し、それらの解答を LLM-as-a-Judge で判定することができました。\n",
    "\n",
    "この判定結果から、引き分け `C` 判定を取り除いて `A` と `B` の判決をした解答のみから選好データを生成することになりますが、その前に位置バイアスの影響を取り除く処理を行います。"
   ]
  },
  {
   "cell_type": "markdown",
   "metadata": {},
   "source": [
    "## 位置バイアスの軽減\n",
    "\n",
    "位置バイアスとは、言語モデルがある特定の位置を他の位置よりも好む傾向を示すことです。このバイアスは言語モデル特有というわけではなく、人間の意思決定や他の機械学習領域でも見られます([LLM-as-a-Judgeの論文](https://arxiv.org/abs/2306.05685)より)。\n",
    "\n",
    "例えば、最初に提示された解答が後に提示された解答よりも高い評価を受ける可能性が高い、というバイアスが存在することが知られています。\n",
    "\n",
    "<img src=\"https://github.com/user-attachments/assets/3f3d8c4b-0efe-47a7-8d63-1cd8f672e50c\" width=\"600\">\n",
    "\n",
    "<br />\n",
    "\n",
    "<img src=\"https://github.com/user-attachments/assets/4b4c4441-8ea6-4e06-9154-a69d49767eed\" width=\"600\">\n",
    "\n",
    "<br />\n",
    "\n",
    "位置バイアスの影響を減らすための簡単な解決策として、解答の順番をスワップして再度ジャッジして、判決に一貫性がある場合のみ勝利とするという方法があります。スワップした後で結果が一致しない場合は、引き分けとします。\n",
    "\n",
    "今回はこの方法を使って位置バイアスの影響を軽減します。\n",
    "\n",
    "まず、解答の順番を入れ替える関数を定義します。"
   ]
  },
  {
   "cell_type": "code",
   "execution_count": 24,
   "metadata": {},
   "outputs": [],
   "source": [
    "def swap_answers(answers: list[dict[str, str]]) -> list[dict[str, str]]:\n",
    "    return [{\"question\": a[\"question\"], \"answer_a\": a[\"answer_b\"], \"answer_b\": a[\"answer_a\"]} for a in answers]"
   ]
  },
  {
   "cell_type": "markdown",
   "metadata": {},
   "source": [
    "スワップしてから判定した結果は A と B の順番が変わっていますので、比較する際は A と B を入れ替えて比較します。判決を入れ替える関数を定義します。"
   ]
  },
  {
   "cell_type": "code",
   "execution_count": 25,
   "metadata": {},
   "outputs": [],
   "source": [
    "def swap_decisions(decisions: list[str]) -> list[str]:\n",
    "    return [\"A\" if d == \"B\" else \"B\" if d == \"A\" else \"C\" for d in decisions]"
   ]
  },
  {
   "cell_type": "markdown",
   "metadata": {},
   "source": [
    "実際にスワップして判定してみます。"
   ]
  },
  {
   "cell_type": "code",
   "execution_count": 26,
   "metadata": {},
   "outputs": [
    {
     "data": {
      "text/plain": [
       "['C', 'A', 'B', 'A', 'A', 'C', 'A', 'A', 'C', 'B']"
      ]
     },
     "execution_count": 26,
     "metadata": {},
     "output_type": "execute_result"
    }
   ],
   "source": [
    "swapped_decisions = swap_decisions(judge_answers(judge_llm, swap_answers(answers)))\n",
    "swapped_decisions"
   ]
  },
  {
   "cell_type": "markdown",
   "metadata": {},
   "source": [
    "元の判定とスワップした判定を比較して、判決が一致していて、かつ、`C` が含まれていない場合を選好データとして採用します。"
   ]
  },
  {
   "cell_type": "code",
   "execution_count": 27,
   "metadata": {},
   "outputs": [],
   "source": [
    "def verify_decisions(decisions: list[str], swapped_decisions: list[str]) -> list[list[str]]:\n",
    "    return [d1 == d2 and d1 != \"C\" for d1, d2 in zip(decisions, swapped_decisions)]"
   ]
  },
  {
   "cell_type": "code",
   "execution_count": 28,
   "metadata": {},
   "outputs": [
    {
     "data": {
      "text/plain": [
       "[(False, 'C', 'C'),\n",
       " (False, 'C', 'A'),\n",
       " (False, 'A', 'B'),\n",
       " (True, 'A', 'A'),\n",
       " (True, 'A', 'A'),\n",
       " (False, 'A', 'C'),\n",
       " (False, 'B', 'A'),\n",
       " (False, 'B', 'A'),\n",
       " (False, 'C', 'C'),\n",
       " (True, 'B', 'B')]"
      ]
     },
     "execution_count": 28,
     "metadata": {},
     "output_type": "execute_result"
    }
   ],
   "source": [
    "verifications = verify_decisions(decisions, swapped_decisions)\n",
    "list(zip(verifications, decisions, swapped_decisions))"
   ]
  },
  {
   "cell_type": "markdown",
   "metadata": {},
   "source": [
    "True が位置を入れ替えても判決がゆるがない(バイアスを受けていない)という結果です、False が位置を入れ替えると判決が覆ってしまう(位置バイアス)場合と引き分けの場合です。\n",
    "\n",
    "位置をスワップしても判決が変わらなかったのは約半数ということになりました。\n",
    "\n",
    "ここでの検討事項は、\n",
    "\n",
    "- 判決が入れ替わった数がどの程度あるか (バイアスあるいはタスクの理解ができていない)\n",
    "- A (あるいは B)を選ぶ傾向が明確にあるか (バイアスがあるかどうか)\n",
    "- C を含むケースを選好データから除外するかどうか (例えば `(False, B, C)` のようなケースをBの勝ちとするか、あるいは除外するか)\n",
    "\n",
    "となります。\n",
    "\n",
    "今回は、引き分け C を含むケースを全て除外した上で、バイアスを受けなかったデータを選好データとして採用します (`verified` が `True` のデータ)。今までの処理を関数にまとめます。"
   ]
  },
  {
   "cell_type": "code",
   "execution_count": 29,
   "metadata": {},
   "outputs": [],
   "source": [
    "def generate_preferences(judge_llm: LanguageModel, target_llm: LanguageModel, questions: list[str]) -> list[dict[str, str | bool]]:\n",
    "    answers = generate_answers(target_llm, questions)\n",
    "    logger.debug(f\"len(answers): {len(answers)}\")\n",
    "    decisions = judge_answers(judge_llm, answers)\n",
    "    logger.debug(f\"decisions: {decisions}\")\n",
    "    swapped_decisions = swap_decisions(judge_answers(judge_llm, swap_answers(answers)))\n",
    "    logger.debug(f\"swapped_decisions: {swapped_decisions}\")\n",
    "    verifications = verify_decisions(decisions, swapped_decisions)\n",
    "    logger.debug(f\"verifications: {verifications}\")\n",
    "    return [\n",
    "        {\n",
    "            \"prompt\": answer[\"question\"],\n",
    "            \"chosen\": answer[\"answer_a\"] if decision == \"A\" else answer[\"answer_b\"],\n",
    "            \"rejected\": answer[\"answer_b\"] if decision == \"A\" else answer[\"answer_a\"],\n",
    "            \"decision\": decision,\n",
    "            \"swapped_decision\": swapped_decision,\n",
    "            \"verification\": verification,\n",
    "        }\n",
    "        for answer, decision, swapped_decision, verification in zip(answers, decisions, swapped_decisions, verifications)\n",
    "    ]"
   ]
  },
  {
   "cell_type": "code",
   "execution_count": 30,
   "metadata": {},
   "outputs": [
    {
     "name": "stderr",
     "output_type": "stream",
     "text": [
      "len(answers): 10\n",
      "decisions: ['C', 'B', 'B', 'A', 'A', 'A', 'A', 'B', 'A', 'C']\n",
      "swapped_decisions: ['C', 'A', 'C', 'A', 'A', 'B', 'B', 'A', 'C', 'B']\n",
      "verifications: [False, False, False, True, True, False, False, False, False, False]\n"
     ]
    },
    {
     "data": {
      "text/plain": [
       "[{'prompt': 'ニュー・ジャージー・パインバレンズの生態系を研究している植物研究者がいます。彼は、特定の植物のサンプルを集めるために、5つの異なる地点を訪れました。各地点で、彼は次のように植物を収集しました：地点Aで12本、地点Bで15本、地点Cで8本、地点Dで10本、地点Eで9本です。彼が集めた植物の総数はいくつですか？',\n",
       "  'chosen': '植物研究者が集めた植物の総数を求めるために、各地点で収集した植物の本数を足し合わせます。\\n\\n地点A: 12本  \\n地点B: 15本  \\n地点C: 8本  \\n地点D: 10本  \\n地点E: 9本  \\n\\nこれらを合計すると、\\n\\n12 + 15 + 8 + 10 + 9 = 54\\n\\nしたがって、彼が集めた植物の総数は54本です。',\n",
       "  'rejected': '植物研究者が集めた植物の総数を計算するために、各地点での植物の本数を足します。\\n\\n地点A: 12本  \\n地点B: 15本  \\n地点C: 8本  \\n地点D: 10本  \\n地点E: 9本  \\n\\nこれらを合計すると、\\n\\n12 + 15 + 8 + 10 + 9 = 54\\n\\nしたがって、彼が集めた植物の総数は54本です。',\n",
       "  'decision': 'C',\n",
       "  'swapped_decision': 'C',\n",
       "  'verification': False},\n",
       " {'prompt': 'ある博物館で、古代の節足動物の化石が展示されています。展示されている化石は、クモが10体、サソリが15体、エビが20体です。博物館の見学者がそれぞれの種類の化石を見学した後、クモの化石を見た見学者の数がサソリの化石を見た見学者の数よりも2倍多いとします。クモの化石を見た見学者が20人だった場合、サソリの化石を見た見学者は何人ですか？',\n",
       "  'chosen': 'クモの化石を見た見学者の数が20人で、これがサソリの化石を見た見学者の数よりも2倍多いとします。\\n\\nサソリの化石を見た見学者の数を \\\\( x \\\\) とすると、以下の関係が成り立ちます：\\n\\n\\\\[\\n20 = 2x\\n\\\\]\\n\\nこの式を解くと、\\n\\n\\\\[\\nx = \\\\frac{20}{2} = 10\\n\\\\]\\n\\nしたがって、サソリの化石を見た見学者は10人です。',\n",
       "  'rejected': 'クモの化石を見た見学者の数が20人であるとします。問題によれば、クモの化石を見た見学者の数はサソリの化石を見た見学者の数よりも2倍多いとされています。\\n\\nこれを式で表すと、サソリの化石を見た見学者の数を \\\\( x \\\\) とすると、以下の関係が成り立ちます。\\n\\n\\\\[\\n20 = 2x\\n\\\\]\\n\\nこの式を解くと、サソリの化石を見た見学者の数 \\\\( x \\\\) を求めることができます。\\n\\n両辺を2で割ると、\\n\\n\\\\[\\nx = 10\\n\\\\]\\n\\nしたがって、サソリの化石を見た見学者の数は10人です。',\n",
       "  'decision': 'B',\n",
       "  'swapped_decision': 'A',\n",
       "  'verification': False},\n",
       " {'prompt': 'あるプログラミング言語の研究者が、数値計算のアルゴリズムをテストするために、10個の異なる入力データセットを用意しました。彼は各データセットに対して3つの異なるアルゴリズムを試すことにしました。全てのデータセットとアルゴリズムの組み合わせを考えると、彼は合計で何回テストを実施することになりますか？',\n",
       "  'chosen': '研究者は10個の異なる入力データセットに対して3つの異なるアルゴリズムを試すことにしています。全てのデータセットとアルゴリズムの組み合わせを考えると、テストの総回数は次のように計算できます。\\n\\nテストの総回数 = データセットの数 × アルゴリズムの数\\n\\n具体的には、\\n\\nテストの総回数 = 10（データセットの数） × 3（アルゴリズムの数） = 30\\n\\nしたがって、彼は合計で30回のテストを実施することになります。',\n",
       "  'rejected': '研究者は10個の異なる入力データセットに対して3つの異なるアルゴリズムを試すので、テストの総回数は次のように計算できます。\\n\\nテストの総回数 = データセットの数 × アルゴリズムの数\\n\\nここで、データセットの数は10、アルゴリズムの数は3です。\\n\\nしたがって、\\n\\nテストの総回数 = 10 × 3 = 30\\n\\nよって、研究者は合計で30回テストを実施することになります。',\n",
       "  'decision': 'B',\n",
       "  'swapped_decision': 'C',\n",
       "  'verification': False},\n",
       " {'prompt': 'ある流体力学のエンジニアは、水槽の自由表面の面積を計算しています。水槽の形は長方形で、長さが6メートル、幅が4メートルです。この水槽が満水のとき、水面の面積は何平方メートルですか？',\n",
       "  'chosen': '水槽の自由表面の面積は、長方形の面積を計算することで求めることができます。長方形の面積は以下の式で計算されます。\\n\\n\\\\[\\n面積 = 長さ \\\\times 幅\\n\\\\]\\n\\nこの水槽の場合、長さは6メートル、幅は4メートルですので、計算します。\\n\\n\\\\[\\n面積 = 6 \\\\, \\\\text{m} \\\\times 4 \\\\, \\\\text{m} = 24 \\\\, \\\\text{m}^2\\n\\\\]\\n\\nしたがって、水槽が満水のときの水面の面積は **24平方メートル** です。',\n",
       "  'rejected': '水槽の形が長方形である場合、水面の面積は長さと幅を掛け合わせて計算します。\\n\\n水槽の長さは6メートル、幅は4メートルですので、\\n\\n面積 = 長さ × 幅 = 6メートル × 4メートル = 24平方メートル\\n\\nしたがって、水槽が満水のとき、水面の面積は24平方メートルです。',\n",
       "  'decision': 'A',\n",
       "  'swapped_decision': 'A',\n",
       "  'verification': True},\n",
       " {'prompt': 'ある年、サーモンが川を遡上するために、1日あたり30キロメートル進みました。サーモンが川を上り始めてから、合計で6日間進みました。サーモンは合計で何キロメートル上ったでしょうか？',\n",
       "  'chosen': 'サーモンが1日あたり30キロメートル進み、6日間進んだ場合の合計距離は以下のように計算できます。\\n\\n1日の距離: 30キロメートル  \\n進んだ日数: 6日  \\n\\n合計距離 = 1日の距離 × 進んだ日数  \\n合計距離 = 30キロメートル × 6日 = 180キロメートル\\n\\nしたがって、サーモンは合計で180キロメートル上ったことになります。',\n",
       "  'rejected': 'サーモンが1日あたり30キロメートル進み、6日間進んだ場合、合計の距離は次のように計算できます。\\n\\n1日の進む距離 × 日数 = 合計距離\\n\\n30キロメートル × 6日 = 180キロメートル\\n\\nしたがって、サーモンは合計で180キロメートル上ったことになります。',\n",
       "  'decision': 'A',\n",
       "  'swapped_decision': 'A',\n",
       "  'verification': True},\n",
       " {'prompt': 'ある宇宙ロボット工学者が、火星探査のために新しいロボットを設計しています。このロボットは、1時間で10キロメートルの速度で移動します。もしロボットが火星の表面を30時間移動し続けた場合、ロボットは合計で何キロメートル移動することになりますか？',\n",
       "  'chosen': 'ロボットの移動速度は1時間で10キロメートルです。もしロボットが30時間移動し続けた場合、移動する距離は次のように計算できます。\\n\\n移動距離 = 移動速度 × 移動時間\\n\\nここで、移動速度は10キロメートル/時間、移動時間は30時間です。\\n\\n移動距離 = 10キロメートル/時間 × 30時間 = 300キロメートル\\n\\nしたがって、ロボットは合計で300キロメートル移動することになります。',\n",
       "  'rejected': 'ロボットの移動速度は1時間で10キロメートルです。もしロボットが30時間移動し続けた場合、移動する距離は以下のように計算できます。\\n\\n移動距離 = 移動速度 × 移動時間\\n移動距離 = 10キロメートル/時間 × 30時間\\n移動距離 = 300キロメートル\\n\\nしたがって、ロボットは合計で300キロメートル移動することになります。',\n",
       "  'decision': 'A',\n",
       "  'swapped_decision': 'B',\n",
       "  'verification': False},\n",
       " {'prompt': '環境ジャーナリストであるあなたは、オーガニック農法で作物を育てる農家を取材しています。農家は、1エーカーの土地で年間に2000ポンドのオーガニック野菜を収穫します。また、1エーカーの土地に蜂の巣箱を5つ設置すると、収穫量が10％増加します。あなたは、蜂の巣箱を3つ設置した場合の収穫量を計算したいと思っています。蜂の巣箱を3つ設置したときの収穫量は何ポンドになりますか？',\n",
       "  'chosen': 'オーガニック農法で作物を育てる農家が1エーカーの土地で年間に2000ポンドのオーガニック野菜を収穫する場合、蜂の巣箱を設置することで収穫量が増加します。\\n\\n1エーカーに蜂の巣箱を5つ設置すると、収穫量が10％増加するということですので、以下の計算を行います。\\n\\n1. 収穫量の10％を計算します：\\n   \\\\[\\n   2000 \\\\text{ポンド} \\\\times 0.10 = 200 \\\\text{ポンド}\\n   \\\\]\\n\\n2. 5つの蜂の巣箱を設置した場合の収穫量は：\\n   \\\\[\\n   2000 \\\\text{ポンド} + 200 \\\\text{ポンド} = 2200 \\\\text{ポンド}\\n   \\\\]\\n\\n3. 3つの蜂の巣箱を設置した場合、収穫量の増加率を計算するために、5つの蜂の巣箱での増加を基準にします。3つの蜂の巣箱は5つの60％（3/5）ですので、収穫量の増加も60％になります。\\n\\n   3つの蜂の巣箱による収穫量の増加は：\\n   \\\\[\\n   200 \\\\text{ポンド} \\\\times 0.60 = 120 \\\\text{ポンド}\\n   \\\\]\\n\\n4. したがって、3つの蜂の巣箱を設置した場合の収穫量は：\\n   \\\\[\\n   2000 \\\\text{ポンド} + 120 \\\\text{ポンド} = 2120 \\\\text{ポンド}\\n   \\\\]\\n\\n結論として、蜂の巣箱を3つ設置したときの収穫量は2120ポンドになります。',\n",
       "  'rejected': 'まず、基本の収穫量を確認します。1エーカーの土地で年間に2000ポンドのオーガニック野菜が収穫されます。\\n\\n次に、蜂の巣箱を5つ設置した場合の収穫量の増加を考えます。5つの蜂の巣箱で収穫量が10%増加するため、まずその増加量を計算します。\\n\\n1. 収穫量の10%を計算します：\\n   \\\\[\\n   2000 \\\\text{ポンド} \\\\times 0.10 = 200 \\\\text{ポンド}\\n   \\\\]\\n\\n2. 5つの蜂の巣箱を設置したときの収穫量は次のようになります：\\n   \\\\[\\n   2000 \\\\text{ポンド} + 200 \\\\text{ポンド} = 2200 \\\\text{ポンド}\\n   \\\\]\\n\\n次に、蜂の巣箱を3つ設置した場合の収穫量の増加を求めます。5つの蜂の巣箱の増加が10%なので、3つの蜂の巣箱の場合の増加率は比例計算で求めます。\\n\\n3つの蜂の巣箱の場合の増加率は次のように計算します：\\n\\\\[\\n\\\\text{増加率} = \\\\left( \\\\frac{3}{5} \\\\right) \\\\times 10\\\\% = 6\\\\%\\n\\\\]\\n\\nこの6%を元の収穫量に加えます。\\n\\n3. 収穫量の6%を計算します：\\n   \\\\[\\n   2000 \\\\text{ポンド} \\\\times 0.06 = 120 \\\\text{ポンド}\\n   \\\\]\\n\\n4. 3つの蜂の巣箱を設置したときの収穫量は次のようになります：\\n   \\\\[\\n   2000 \\\\text{ポンド} + 120 \\\\text{ポンド} = 2120 \\\\text{ポンド}\\n   \\\\]\\n\\nしたがって、蜂の巣箱を3つ設置したときの収穫量は**2120ポンド**になります。',\n",
       "  'decision': 'A',\n",
       "  'swapped_decision': 'B',\n",
       "  'verification': False},\n",
       " {'prompt': 'ある小学校の先生が、デジタルメディアとアニメーションの授業を行っています。クラスには30人の生徒がいます。先生は、生徒たちにそれぞれ自分のアニメーション作品を作成させるために、必要なタブレットを10台用意しました。もし全ての生徒がタブレットを使うために、1台のタブレットを3人で共有する場合、何人の生徒が1台のタブレットを使うことになりますか？',\n",
       "  'chosen': '全ての生徒がタブレットを使うために、1台のタブレットを3人で共有する場合、まずは生徒数をタブレットの台数で割って、共有する生徒数を求めます。\\n\\n生徒数は30人、タブレットの台数は10台です。\\n\\n1台のタブレットを3人で共有する場合、タブレット1台に対して3人が使いますので、使用するタブレットの数は次のように計算できます。\\n\\n30人 ÷ 3人/台 = 10台\\n\\nつまり、30人の生徒が全てタブレットを使うためには、10台のタブレットが必要であり、1台のタブレットを3人で共有することになります。\\n\\nしたがって、全員が1台のタブレットを使うことができるため、全ての生徒が1台のタブレットを使用することになります。',\n",
       "  'rejected': '全ての生徒がタブレットを使うために、1台のタブレットを3人で共有する場合、タブレットの台数は10台です。\\n\\n1台のタブレットを3人で共有する場合、10台のタブレットで使える生徒の人数は次のように計算できます。\\n\\n10台 × 3人/台 = 30人\\n\\nしたがって、全ての生徒が1台のタブレットを使うことになります。つまり、30人の生徒全員がタブレットを使うことになります。',\n",
       "  'decision': 'B',\n",
       "  'swapped_decision': 'A',\n",
       "  'verification': False},\n",
       " {'prompt': 'ある数学の生徒が、長方形の庭を作りたいと考えています。この庭の周囲の長さは40メートルです。生徒は庭の面積を最大化したいと思っています。長方形の庭の幅をxメートルとした場合、長さはどのように表せますか？また、この庭の面積を表す式を作成してください。',\n",
       "  'chosen': '長方形の庭の周囲の長さが40メートルであるという条件から、周囲の長さの公式を使って長さを求めることができます。\\n\\n長方形の周囲の長さは次のように表されます：\\n\\\\[\\nP = 2 \\\\times (長さ + 幅)\\n\\\\]\\nここで、周囲の長さ \\\\(P\\\\) は40メートルです。したがって、\\n\\\\[\\n40 = 2 \\\\times (長さ + 幅)\\n\\\\]\\nこの式を簡単にすると、\\n\\\\[\\n20 = 長さ + 幅\\n\\\\]\\n\\n幅を \\\\(x\\\\) メートルとした場合、長さ \\\\(L\\\\) は次のように表せます：\\n\\\\[\\nL = 20 - x\\n\\\\]\\n\\n次に、庭の面積 \\\\(A\\\\) を求める式を作成します。面積は長さと幅の積で表されますので、\\n\\\\[\\nA = 長さ \\\\times 幅 = L \\\\times x = (20 - x) \\\\times x\\n\\\\]\\n\\nこれを展開すると：\\n\\\\[\\nA = 20x - x^2\\n\\\\]\\n\\nしたがって、長方形の庭の面積を表す式は次のようになります：\\n\\\\[\\nA = 20x - x^2\\n\\\\]',\n",
       "  'rejected': '長方形の庭の周囲の長さが40メートルである場合、周の公式を使って長さと幅の関係を求めます。周の公式は以下のようになります。\\n\\n\\\\[\\n周 = 2 \\\\times (長さ + 幅)\\n\\\\]\\n\\nここで、周が40メートルなので、\\n\\n\\\\[\\n40 = 2 \\\\times (長さ + 幅)\\n\\\\]\\n\\nこの式を整理すると、\\n\\n\\\\[\\n20 = 長さ + 幅\\n\\\\]\\n\\n幅を \\\\( x \\\\) メートルとした場合、長さは次のように表せます。\\n\\n\\\\[\\n長さ = 20 - x\\n\\\\]\\n\\n次に、庭の面積 \\\\( A \\\\) を求める式を作成します。面積は長さと幅の積で表されるので、\\n\\n\\\\[\\nA = 長さ \\\\times 幅 = (20 - x) \\\\times x\\n\\\\]\\n\\nこの式を展開すると、\\n\\n\\\\[\\nA = 20x - x^2\\n\\\\]\\n\\nしたがって、面積を表す式は次のようになります。\\n\\n\\\\[\\nA = 20x - x^2\\n\\\\] \\n\\nこの式を使って、面積を最大化することができます。',\n",
       "  'decision': 'A',\n",
       "  'swapped_decision': 'C',\n",
       "  'verification': False},\n",
       " {'prompt': 'ある小学校の先生が、科学の授業で使うために色とりどりの風船を用意しました。赤い風船が6個、青い風船が4個、緑の風船が3個あります。先生は、全ての風船をクラスの子供たちに配ることにしました。風船の合計はいくつありますか？',\n",
       "  'chosen': '赤い風船が6個、青い風船が4個、緑の風船が3個ありますので、風船の合計は次のように計算します。\\n\\n6個（赤） + 4個（青） + 3個（緑） = 13個\\n\\nしたがって、風船の合計は13個です。',\n",
       "  'rejected': '赤い風船が6個、青い風船が4個、緑の風船が3個ありますので、合計の風船の数を計算します。\\n\\n6 (赤い風船) + 4 (青い風船) + 3 (緑の風船) = 13\\n\\nしたがって、風船の合計は13個です。',\n",
       "  'decision': 'C',\n",
       "  'swapped_decision': 'B',\n",
       "  'verification': False}]"
      ]
     },
     "execution_count": 30,
     "metadata": {},
     "output_type": "execute_result"
    }
   ],
   "source": [
    "preferences = generate_preferences(judge_llm, target_llm, questions)\n",
    "preferences"
   ]
  },
  {
   "cell_type": "markdown",
   "metadata": {},
   "source": [
    "jsonl 形式でデータを読み込み、結果を jsonl 形式で保存する関数を作成します。除外したデータは `skip_jsonl` ファイルに保存します。"
   ]
  },
  {
   "cell_type": "code",
   "execution_count": 31,
   "metadata": {},
   "outputs": [],
   "source": [
    "def run_generate_preferences(judge_llm: LanguageModel, target_llm: LanguageModel, input_jsonl: str = \"input.jsonl\", output_jsonl: str = \"output.jsonl\", skip_jsonl: str = \"skip.jsonl\") -> None:\n",
    "    questions = load_questions(input_jsonl)\n",
    "    logger.debug(f\"len(questions): {len(questions)}\")\n",
    "    preferences = generate_preferences(judge_llm, target_llm, questions)\n",
    "    logger.debug(f\"len(preferences): {len(preferences)}\")\n",
    "    with open(output_jsonl, \"w\", encoding=\"utf-8\") as f_output, open(skip_jsonl, \"w\", encoding=\"utf-8\") as f_skip:\n",
    "        for preference in preferences:\n",
    "            f = f_output if preference[\"verification\"] else f_skip\n",
    "            f.write(json.dumps(preference, ensure_ascii=False) + \"\\n\")\n",
    "            print(pp.pformat(preference)) if preference[\"verification\"] else None"
   ]
  },
  {
   "cell_type": "code",
   "execution_count": 32,
   "metadata": {},
   "outputs": [
    {
     "name": "stderr",
     "output_type": "stream",
     "text": [
      "len(questions): 10\n",
      "len(answers): 10\n",
      "decisions: ['C', 'A', 'B', 'A', 'A', 'B', 'B', 'B', 'A', 'B']\n",
      "swapped_decisions: ['C', 'C', 'C', 'A', 'C', 'B', 'B', 'B', 'C', 'B']\n",
      "verifications: [False, False, False, True, False, True, True, True, False, True]\n",
      "len(preferences): 10\n"
     ]
    },
    {
     "name": "stdout",
     "output_type": "stream",
     "text": [
      "{'chosen': '水槽の自由表面の面積は、長方形の面積を計算することで求められます。長方形の面積は、長さと幅を掛け合わせることで計算できます。\\n'\n",
      "           '\\n'\n",
      "           '与えられた情報は以下の通りです：\\n'\n",
      "           '- 長さ = 6 メートル\\n'\n",
      "           '- 幅 = 4 メートル\\n'\n",
      "           '\\n'\n",
      "           '面積 \\\\( A \\\\) は次のように計算されます：\\n'\n",
      "           '\\n'\n",
      "           '\\\\[\\n'\n",
      "           'A = \\\\text{長さ} \\\\times \\\\text{幅} = 6 \\\\, \\\\text{m} \\\\times 4 \\\\, \\\\text{m} = 24 \\\\, '\n",
      "           '\\\\text{m}^2\\n'\n",
      "           '\\\\]\\n'\n",
      "           '\\n'\n",
      "           'したがって、水槽が満水のときの水面の面積は \\\\( 24 \\\\, \\\\text{平方メートル} \\\\) です。',\n",
      " 'decision': 'A',\n",
      " 'prompt': 'ある流体力学のエンジニアは、水槽の自由表面の面積を計算しています。水槽の形は長方形で、長さが6メートル、幅が4メートルです。この水槽が満水のとき、水面の面積は何平方メートルですか？',\n",
      " 'rejected': '水槽の形が長方形である場合、水面の面積は長さと幅を掛け合わせて計算します。\\n'\n",
      "             '\\n'\n",
      "             '水槽の長さは6メートル、幅は4メートルですので、\\n'\n",
      "             '\\n'\n",
      "             '面積 = 長さ × 幅 = 6メートル × 4メートル = 24平方メートル\\n'\n",
      "             '\\n'\n",
      "             'したがって、水槽が満水のとき、水面の面積は24平方メートルです。',\n",
      " 'swapped_decision': 'A',\n",
      " 'verification': True}\n",
      "{'chosen': 'ロボットの移動速度は1時間で10キロメートルです。もしロボットが30時間移動し続けた場合、移動する距離は以下のように計算できます。\\n'\n",
      "           '\\n'\n",
      "           '移動距離 = 移動速度 × 移動時間\\n'\n",
      "           '移動距離 = 10キロメートル/時間 × 30時間\\n'\n",
      "           '移動距離 = 300キロメートル\\n'\n",
      "           '\\n'\n",
      "           'したがって、ロボットは合計で300キロメートル移動することになります。',\n",
      " 'decision': 'B',\n",
      " 'prompt': 'ある宇宙ロボット工学者が、火星探査のために新しいロボットを設計しています。このロボットは、1時間で10キロメートルの速度で移動します。もしロボットが火星の表面を30時間移動し続けた場合、ロボットは合計で何キロメートル移動することになりますか？',\n",
      " 'rejected': 'ロボットの移動速度は1時間で10キロメートルです。もしロボットが30時間移動し続けた場合、移動する距離は次のように計算できます。\\n'\n",
      "             '\\n'\n",
      "             '移動距離 = 移動速度 × 時間\\n'\n",
      "             '\\n'\n",
      "             'したがって、\\n'\n",
      "             '\\n'\n",
      "             '移動距離 = 10キロメートル/時間 × 30時間 = 300キロメートル\\n'\n",
      "             '\\n'\n",
      "             'ロボットは合計で300キロメートル移動することになります。',\n",
      " 'swapped_decision': 'B',\n",
      " 'verification': True}\n",
      "{'chosen': 'まず、基本の収穫量を確認します。1エーカーの土地で年間に2000ポンドのオーガニック野菜が収穫されます。\\n'\n",
      "           '\\n'\n",
      "           '次に、蜂の巣箱を5つ設置した場合の収穫量の増加を考えます。5つの蜂の巣箱で収穫量が10%増加するため、まずその増加量を計算します。\\n'\n",
      "           '\\n'\n",
      "           '1. 収穫量の10%を計算します。\\n'\n",
      "           '   \\\\[\\n'\n",
      "           '   2000 \\\\text{ポンド} \\\\times 0.10 = 200 \\\\text{ポンド}\\n'\n",
      "           '   \\\\]\\n'\n",
      "           '\\n'\n",
      "           '2. 5つの蜂の巣箱を設置したときの収穫量は次のようになります。\\n'\n",
      "           '   \\\\[\\n'\n",
      "           '   2000 \\\\text{ポンド} + 200 \\\\text{ポンド} = 2200 \\\\text{ポンド}\\n'\n",
      "           '   \\\\]\\n'\n",
      "           '\\n'\n",
      "           '次に、蜂の巣箱を3つ設置した場合の収穫量の増加を求めます。5つの蜂の巣箱での増加が10%であるので、3つの蜂の巣箱では比例計算を使います。\\n'\n",
      "           '\\n'\n",
      "           '3. 3つの蜂の巣箱の場合の増加率を計算します。\\n'\n",
      "           '   \\\\[\\n'\n",
      "           '   \\\\text{増加率} = \\\\left( \\\\frac{3}{5} \\\\right) \\\\times 10\\\\% = 6\\\\%\\n'\n",
      "           '   \\\\]\\n'\n",
      "           '\\n'\n",
      "           '4. 6%の増加量を計算します。\\n'\n",
      "           '   \\\\[\\n'\n",
      "           '   2000 \\\\text{ポンド} \\\\times 0.06 = 120 \\\\text{ポンド}\\n'\n",
      "           '   \\\\]\\n'\n",
      "           '\\n'\n",
      "           '5. 最終的な収穫量を計算します。\\n'\n",
      "           '   \\\\[\\n'\n",
      "           '   2000 \\\\text{ポンド} + 120 \\\\text{ポンド} = 2120 \\\\text{ポンド}\\n'\n",
      "           '   \\\\]\\n'\n",
      "           '\\n'\n",
      "           'したがって、蜂の巣箱を3つ設置した場合の収穫量は **2120ポンド** になります。',\n",
      " 'decision': 'B',\n",
      " 'prompt': '環境ジャーナリストであるあなたは、オーガニック農法で作物を育てる農家を取材しています。農家は、1エーカーの土地で年間に2000ポンドのオーガニック野菜を収穫します。また、1エーカーの土地に蜂の巣箱を5つ設置すると、収穫量が10％増加します。あなたは、蜂の巣箱を3つ設置した場合の収穫量を計算したいと思っています。蜂の巣箱を3つ設置したときの収穫量は何ポンドになりますか？',\n",
      " 'rejected': 'オーガニック農法で作物を育てる農家が1エーカーの土地で年間に2000ポンドのオーガニック野菜を収穫する場合、蜂の巣箱を設置することで収穫量が増加します。\\n'\n",
      "             '\\n'\n",
      "             '1エーカーに蜂の巣箱を5つ設置すると収穫量が10%増加します。したがって、蜂の巣箱1つあたりの増加率は次のように計算できます。\\n'\n",
      "             '\\n'\n",
      "             '10% / 5 = 2%\\n'\n",
      "             '\\n'\n",
      "             'これにより、蜂の巣箱1つを設置した場合、収穫量が2%増加します。\\n'\n",
      "             '\\n'\n",
      "             '蜂の巣箱を3つ設置した場合の収穫量の増加は、\\n'\n",
      "             '\\n'\n",
      "             '2% × 3 = 6%\\n'\n",
      "             '\\n'\n",
      "             'となります。\\n'\n",
      "             '\\n'\n",
      "             '元の収穫量2000ポンドに対して6%の増加を計算します。\\n'\n",
      "             '\\n'\n",
      "             '2000ポンド × 0.06 = 120ポンド\\n'\n",
      "             '\\n'\n",
      "             'したがって、蜂の巣箱3つを設置した場合の収穫量は、\\n'\n",
      "             '\\n'\n",
      "             '2000ポンド + 120ポンド = 2120ポンド\\n'\n",
      "             '\\n'\n",
      "             'したがって、蜂の巣箱を3つ設置したときの収穫量は2120ポンドになります。',\n",
      " 'swapped_decision': 'B',\n",
      " 'verification': True}\n",
      "{'chosen': '全ての生徒がタブレットを使うために、1台のタブレットを3人で共有する場合、まずは生徒の人数をタブレットの台数で割ります。\\n'\n",
      "           '\\n'\n",
      "           '生徒の人数は30人で、1台のタブレットを3人で共有するので、必要なタブレットの台数は次のように計算できます。\\n'\n",
      "           '\\n'\n",
      "           '必要なタブレットの台数 = 生徒の人数 ÷ 1台のタブレットを使う人数\\n'\n",
      "           '必要なタブレットの台数 = 30 ÷ 3 = 10台\\n'\n",
      "           '\\n'\n",
      "           'したがって、10台のタブレットで全ての生徒が1台のタブレットを3人で共有することができます。\\n'\n",
      "           '\\n'\n",
      "           '質問に対する答えとしては、1台のタブレットを使うのは3人の生徒になります。',\n",
      " 'decision': 'B',\n",
      " 'prompt': 'ある小学校の先生が、デジタルメディアとアニメーションの授業を行っています。クラスには30人の生徒がいます。先生は、生徒たちにそれぞれ自分のアニメーション作品を作成させるために、必要なタブレットを10台用意しました。もし全ての生徒がタブレットを使うために、1台のタブレットを3人で共有する場合、何人の生徒が1台のタブレットを使うことになりますか？',\n",
      " 'rejected': '全ての生徒がタブレットを使うために、1台のタブレットを3人で共有する場合、タブレットの台数は10台です。\\n'\n",
      "             '\\n'\n",
      "             '1台のタブレットを3人で共有する場合、10台のタブレットで使える生徒の人数は次のように計算できます。\\n'\n",
      "             '\\n'\n",
      "             '10台 × 3人/台 = 30人\\n'\n",
      "             '\\n'\n",
      "             'したがって、全ての生徒がタブレットを使うためには、30人の生徒がいて、1台のタブレットを3人が共有するので、各生徒は自分のアニメーション作品を作成するために1台のタブレットを使うことになります。すなわち、30人の生徒が1台のタブレットを使うことになります。',\n",
      " 'swapped_decision': 'B',\n",
      " 'verification': True}\n",
      "{'chosen': '赤い風船が6個、青い風船が4個、緑の風船が3個ありますので、風船の合計は次のように計算できます。\\n'\n",
      "           '\\n'\n",
      "           '赤い風船の数 + 青い風船の数 + 緑の風船の数 = 6 + 4 + 3\\n'\n",
      "           '\\n'\n",
      "           'これを計算すると、\\n'\n",
      "           '\\n'\n",
      "           '6 + 4 = 10\\n'\n",
      "           '10 + 3 = 13\\n'\n",
      "           '\\n'\n",
      "           'したがって、風船の合計は13個です。',\n",
      " 'decision': 'B',\n",
      " 'prompt': 'ある小学校の先生が、科学の授業で使うために色とりどりの風船を用意しました。赤い風船が6個、青い風船が4個、緑の風船が3個あります。先生は、全ての風船をクラスの子供たちに配ることにしました。風船の合計はいくつありますか？',\n",
      " 'rejected': '赤い風船が6個、青い風船が4個、緑の風船が3個ありますので、合計の風船の数を計算します。\\n'\n",
      "             '\\n'\n",
      "             '6 (赤い風船) + 4 (青い風船) + 3 (緑の風船) = 13\\n'\n",
      "             '\\n'\n",
      "             'したがって、風船の合計は13個です。',\n",
      " 'swapped_decision': 'B',\n",
      " 'verification': True}\n"
     ]
    }
   ],
   "source": [
    "run_generate_preferences(judge_llm, target_llm, \"basic_math_mt.jsonl\", \"verified_preference.jsonl\", \"skipped_preference.jsonl\")"
   ]
  },
  {
   "cell_type": "markdown",
   "metadata": {},
   "source": [
    "位置バイアスを取り除いた選好データが `verified_preference.jsonl` に保存され、除外したデータが `skipped_preference.jsonl` に保存されます。\n",
    "\n",
    "この `verified_preference.jsonl` を使って、DPO を行い、言語モデルの性能を向上させることができます。\n",
    "\n",
    "さらに DPO で学習したモデルを使って、再度新たな選好データを合成して学習を行うことで、反復的に性能を向上させる [Iterative RLHF (Iterative DPO)](https://arxiv.org/abs/2405.07863) という手法もあります。\n"
   ]
  },
  {
   "cell_type": "markdown",
   "metadata": {},
   "source": [
    "## まとめ\n",
    "\n",
    "TODO"
   ]
  },
  {
   "cell_type": "markdown",
   "metadata": {},
   "source": [
    "## 参考文献\n",
    "\n",
    "TODO"
   ]
  }
 ],
 "metadata": {
  "kernelspec": {
   "display_name": ".venv",
   "language": "python",
   "name": "python3"
  },
  "language_info": {
   "codemirror_mode": {
    "name": "ipython",
    "version": 3
   },
   "file_extension": ".py",
   "mimetype": "text/x-python",
   "name": "python",
   "nbconvert_exporter": "python",
   "pygments_lexer": "ipython3",
   "version": "3.11.11"
  }
 },
 "nbformat": 4,
 "nbformat_minor": 2
}
